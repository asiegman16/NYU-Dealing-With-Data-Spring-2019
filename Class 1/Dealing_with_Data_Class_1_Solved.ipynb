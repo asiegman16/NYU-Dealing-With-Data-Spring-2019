{
 "cells": [
  {
   "cell_type": "markdown",
   "metadata": {
    "colab_type": "text",
    "id": "Oj-vStskfksv"
   },
   "source": [
    "# Dealing with Data Spring 2020 – Class 1\n",
    "\n",
    "## February 13th, 2020"
   ]
  },
  {
   "cell_type": "markdown",
   "metadata": {
    "colab_type": "text",
    "id": "8bSBbn0mfksx"
   },
   "source": [
    "---"
   ]
  },
  {
   "cell_type": "markdown",
   "metadata": {
    "colab_type": "text",
    "id": "H_0g-6refksy"
   },
   "source": [
    "## Agenda:\n",
    "\n",
    "1. Introductions\n",
    "2. Laptop Setup\n",
    "3. Break\n",
    "4. First Steps\n",
    "5. Group Project Overview & Group Formation"
   ]
  },
  {
   "cell_type": "code",
   "execution_count": null,
   "metadata": {
    "colab": {},
    "colab_type": "code",
    "id": "uDtGRTnhfksz"
   },
   "outputs": [],
   "source": []
  },
  {
   "cell_type": "markdown",
   "metadata": {
    "colab_type": "text",
    "id": "zSI4B_gVfks2"
   },
   "source": [
    "## Course Goals: \n",
    "\n",
    "- Empower you with hands-on knowledge of `Python` and `SQL`,\n",
    "- Enable you to implement (basic) Databases and (small) Data Pipelines,\n",
    "- Enrich your resume with a practical data application project, and, \n",
    "- Expose you to Big Data concepts and technologies. "
   ]
  },
  {
   "cell_type": "markdown",
   "metadata": {
    "colab_type": "text",
    "id": "FkPw9MaHfks2"
   },
   "source": [
    "## We Will _Not_ Cover:\n",
    "\n",
    "- R,\n",
    "- Pyton's 'Pandas' library, \n",
    "- Data analysis techniques, \n",
    "- Data visualization techniques, \n",
    "- Data science / machine learning algorithms, \n",
    "- Statistics"
   ]
  },
  {
   "cell_type": "markdown",
   "metadata": {
    "colab_type": "text",
    "id": "kektY_6Tfks3"
   },
   "source": [
    "## You're Best Suited for this Class if: \n",
    "\n",
    "1. You have the time to invest in practicing your programming at home, \n",
    "2. You don't have any prior experience with a programming language. "
   ]
  },
  {
   "cell_type": "code",
   "execution_count": null,
   "metadata": {
    "colab": {},
    "colab_type": "code",
    "id": "AE-EvXsefks4"
   },
   "outputs": [],
   "source": []
  },
  {
   "cell_type": "markdown",
   "metadata": {
    "colab_type": "text",
    "id": "jq3EXNuFfks6"
   },
   "source": [
    "## Grading\n",
    "\n",
    "- 50% individual homework assignments\n",
    "- 10% in-class participation \n",
    "- 10% team-member ratings for your group project\n",
    "- 30% group project "
   ]
  },
  {
   "cell_type": "markdown",
   "metadata": {
    "colab_type": "text",
    "id": "QNTHxeZEfks7"
   },
   "source": [
    "## Homework\n",
    "\n",
    "- 7 assignments over the course's duration (mix of coding and short essays) \n",
    "- Your 5 best *completed* assignments will count towards your final grade\n",
    "- Late assignments are subject to a 3% penalty each day; After 1 week you will receive a 0"
   ]
  },
  {
   "cell_type": "markdown",
   "metadata": {
    "colab_type": "text",
    "id": "18XDtEWQfks7"
   },
   "source": [
    "---"
   ]
  },
  {
   "cell_type": "markdown",
   "metadata": {
    "colab_type": "text",
    "id": "s4DqfsmVfks8"
   },
   "source": [
    "---"
   ]
  },
  {
   "cell_type": "markdown",
   "metadata": {
    "colab_type": "text",
    "id": "P-wZPmAHfks9"
   },
   "source": [
    "# Laptop Setup\n",
    "\n",
    "## NYU Classes\n",
    "\n",
    "Make sure you are able to access our course page on NYU Classes. This is where I will be posting all of our course content (notebooks, datasets, et. cetera). This is also where all of your assignments will be posted, graded, and returned. \n",
    "\n",
    "## Colab\n",
    "\n",
    "In order to standardize the way we all use Jupyter Notebook (described below) we are going to use Google's Colab (https://colab.research.google.com/notebooks/welcome.ipynb) \n",
    "\n",
    "Think of using Colab as renting a computer via your web browser (I recommend Chrome) that you can use. This is important because that means that in order to save your work, you need to download it from Colab onto your computer (machine) and re-upload it next time you'd like to work with it. \n",
    "\n",
    "For instance, if I want to open today's class notebook in Colab, I: \n",
    "\n",
    "<br>\n",
    "\n",
    "1. **Will go to https://colab.research.google.com/notebooks/welcome.ipynb**\n",
    "\n",
    "<br> \n",
    "\n",
    "2. **Will click \"file\" > \"upload notebook\"** \n",
    "\n",
    "<div> \n",
    "    <img src=\"attachment:Screen%20Shot%202019-10-23%20at%201.54.00%20PM.png\" width=600  />\n",
    "</div>\n",
    "\n",
    "3. **Note that a Jupyter Notebook will always have a .ipynb extension. In Colab I can click \"Upload\" then \"Choose File\" and upload the notebook (that I have downloaded from NYU Classes) to Colab.**\n",
    "\n",
    "<div> \n",
    "    <img src=\"attachment:Screen%20Shot%202019-10-23%20at%201.54.49%20PM.png\" width=600  />\n",
    "</div>\n",
    "\n",
    "4. **Once I click \"Open\" ...**\n",
    "\n",
    "<div> \n",
    "    <img src=\"attachment:Screen%20Shot%202019-10-23%20at%201.55.06%20PM.png\" width=600  />\n",
    "</div>\n",
    "\n",
    "5. **Colab should open the notebook, and voila!**\n",
    "\n",
    "<div> \n",
    "    <img src=\"attachment:Screen%20Shot%202019-10-23%20at%201.55.27%20PM.png\" width=600  />\n",
    "</div>"
   ]
  },
  {
   "cell_type": "markdown",
   "metadata": {
    "colab_type": "text",
    "id": "ueeVnMndfks9"
   },
   "source": [
    "---"
   ]
  },
  {
   "cell_type": "markdown",
   "metadata": {
    "colab_type": "text",
    "id": "nFWPISb2fks-"
   },
   "source": [
    "---"
   ]
  },
  {
   "cell_type": "markdown",
   "metadata": {
    "colab_type": "text",
    "id": "G3XVb3G4fks-"
   },
   "source": [
    "# So, What is Programming? \n",
    "\n",
    "- Simple, written instructions that tell computers what to do, \n",
    "- These instructions (building blocks) can be used to build something more complex, useful, and beautiful. "
   ]
  },
  {
   "cell_type": "markdown",
   "metadata": {
    "colab_type": "text",
    "id": "OI5Uxsdwfks_"
   },
   "source": [
    "---"
   ]
  },
  {
   "cell_type": "markdown",
   "metadata": {
    "colab_type": "text",
    "id": "EX0khkBgfktA"
   },
   "source": [
    "---"
   ]
  },
  {
   "cell_type": "markdown",
   "metadata": {
    "colab_type": "text",
    "id": "6APZn_U_fktA"
   },
   "source": [
    "# A few basics regarding Jupyter Notebooks (formerly iPython Notebooks)\n",
    "\n",
    "<br>\n",
    "\n",
    "1. To execute a cell, hit Shift+Enter <br><br>\n",
    "\n",
    "2. If you want to execute a cell, and add an aditional, blank cell below it, hit Option+Enter <br><br>\n",
    "\n",
    "3. On the top of the window you will see this cell says 'Markdown' - this means you can type as if you would in any word processor. To execute any code in Python, you must ensure the cel is in 'Code' (you can ignore the other two options for now). \n",
    "\n",
    "    NB: You can use this cheat sheet in order to do things in Markdown like make headers or use bold/italics: https://guides.github.com/pdfs/markdown-cheatsheet-online.pdf <br><br>\n",
    "\n",
    "4. If you make a mistake and, for instance, start a 'while' loop with no ending and your computer gets stuck, you can click the square next to the 'Code/Markdown' dropdown menu above, which will stop the kernel (aka, the cell). <br><br>\n",
    "\n",
    "5. When a cell is running, there will be a little '*' to its left. This means it's working on executing the code in the cell (the more complex the code, the longer it will take to execute). Once it is done, it will display a number. The numbers are really just there to show you the order in which you executed your cells, and nothing more. They can largely be ignored.\n",
    "\n",
    "<br>"
   ]
  },
  {
   "cell_type": "markdown",
   "metadata": {
    "colab_type": "text",
    "id": "ID89vgZMfktB"
   },
   "source": [
    "## Now, for a bit of background on Python! \n",
    "\n",
    "<br>\n",
    "\n",
    "Python is one of many programming languages, and just like other languages, it has its pros and cons. \n",
    "\n",
    "For more on Python, they have a handy site: https://www.python.org/about/gettingstarted/, but for now just know that it is what's called an object-oriented, high-level programming language (read as: versatile and fairly basic). \n",
    "\n",
    "<br>\n",
    "\n",
    "Python was released more than 25 years ago, in 1991, by a Guido van Rossum. In his own words:\n",
    "\n",
    "_\"...In December 1989, I was looking for a \"hobby\" programming project that would keep me occupied during the week around Christmas. My office ... would be closed, but I had a home computer, and not much else on my hands. I decided to write an interpreter for the new scripting language I had been thinking about lately: a descendant of ABC that would appeal to Unix/C hackers. I chose Python as a working title for the project, being in a slightly irreverent mood (and a big fan of Monty Python's Flying Circus)._\n",
    "\n",
    "<br>\n",
    "\n",
    "\n",
    "Finally, and perhaps most importantly, if you ever have any questions, you can ask me, or, visit https://stackoverflow.com/, quite possibly the most useful tool on the internet. Consider it the Google of coding questions. Input your search query (I.e., 'Convert string to integer') and you'll get hundreds if not thousands of answers!\n",
    "\n",
    "<br>\n",
    "\n",
    "P.S. You are most likely running Python 3.6.4, which is the latest vertsion (to check which version you are running, open your terminal and simply type \"python\"). Unfortunately, with each new update to Python there are some quirky changes. For instance, in previous Python versions, to print something you would say: \n",
    "\n",
    "    print \"Hello, my name is Alex\" \n",
    "\n",
    "Whereas in the latest version, you say: \n",
    "\n",
    "    print(\"Hello, my name is Alex\") \n",
    "\n",
    "It may seem trivial, but it's anything but when you can't figure out why the code you've spent all night writing won't execute. \n",
    "\n",
    "P.P.S. Perhaps most important of all, if you are in a 'Code' cell and want to type something non-code, just put a '#' before it (demonstrated below). "
   ]
  },
  {
   "cell_type": "code",
   "execution_count": null,
   "metadata": {
    "colab": {},
    "colab_type": "code",
    "id": "d-OAviE5fktC"
   },
   "outputs": [],
   "source": [
    "print(\"Hello World\")"
   ]
  },
  {
   "cell_type": "markdown",
   "metadata": {
    "colab_type": "text",
    "id": "uWTdL637fktE"
   },
   "source": [
    "---"
   ]
  },
  {
   "cell_type": "markdown",
   "metadata": {
    "colab_type": "text",
    "id": "vOSI1lwifktE"
   },
   "source": [
    "# Exercise 1: Print your own message below:"
   ]
  },
  {
   "cell_type": "code",
   "execution_count": null,
   "metadata": {
    "colab": {},
    "colab_type": "code",
    "id": "7ZFRYa0wfktF"
   },
   "outputs": [],
   "source": [
    "# print your own message here"
   ]
  },
  {
   "cell_type": "markdown",
   "metadata": {
    "colab_type": "text",
    "id": "lBOAa72UfktH"
   },
   "source": [
    "---"
   ]
  },
  {
   "cell_type": "markdown",
   "metadata": {
    "colab_type": "text",
    "id": "wufR7oDnfktH"
   },
   "source": [
    "# Comments\n",
    "\n",
    "You will have noticed in the cell above the line \n",
    "`# your code here` \n",
    "\n",
    "This is a _comment in the code_\n",
    "\n",
    "Comments are notes in your source code that aren't exectued when your code is run. These are useful for reminding yourself what your code does, and for notifying others to your intentions. "
   ]
  },
  {
   "cell_type": "code",
   "execution_count": null,
   "metadata": {
    "colab": {},
    "colab_type": "code",
    "id": "TH68njmmfktI"
   },
   "outputs": [],
   "source": [
    "# a comment\n",
    "\n",
    "# we use comments to write down things that we want to rememember\n",
    "# or instructions for other users that will read/use our code\n",
    "\n",
    "# anything after the # is ignored by python.\n",
    "\n",
    "print(\"I could have written code like this.\")  # the comment after is ignored"
   ]
  },
  {
   "cell_type": "markdown",
   "metadata": {
    "colab_type": "text",
    "id": "q9HqICrIfktK"
   },
   "source": [
    "You can also use a comment to \"disable\" or \"comment out\" a piece of code"
   ]
  },
  {
   "cell_type": "code",
   "execution_count": null,
   "metadata": {
    "colab": {},
    "colab_type": "code",
    "id": "_ZzNUnvOfktK"
   },
   "outputs": [],
   "source": [
    "# print(\"This won't run.\")"
   ]
  },
  {
   "cell_type": "markdown",
   "metadata": {
    "colab_type": "text",
    "id": "9CfaA1oQfktM"
   },
   "source": [
    "# Multiline comments \n",
    "\n",
    "Python has single line and multiline comments. These multiline comments are also called _docstrings_ because they are often used to write documentation for the code. "
   ]
  },
  {
   "cell_type": "code",
   "execution_count": null,
   "metadata": {
    "colab": {},
    "colab_type": "code",
    "id": "hq_4iqZffktN"
   },
   "outputs": [],
   "source": [
    "# this is a single line comment\n",
    "# this a second single line comment\n",
    "\n",
    "print(\"trying out some comments\")\n",
    "\n",
    "\"\"\"This code is used to print \n",
    "a message of your choice. Notice that \n",
    "this message that is included in the triple double\n",
    "quotes will not execute.\"\"\"\n",
    "\n",
    "print(\"let's see if that worked...\")"
   ]
  },
  {
   "cell_type": "markdown",
   "metadata": {
    "colab_type": "text",
    "id": "ATPTVfWkfktP"
   },
   "source": [
    "---"
   ]
  },
  {
   "cell_type": "markdown",
   "metadata": {
    "colab_type": "text",
    "id": "oOP66WzffktP"
   },
   "source": [
    "# Markdown \n",
    "\n",
    "In notebooks, you can simply double click on a piece of text and then edit it. To restore it back, from edit mode, press \"Run\". Markdown is a very simple language for formatting text, and you can read further instructions by going to \"Help : Markdown\" from the menu, or checking the [online examples](http://jupyter-notebook.readthedocs.io/en/stable/examples/Notebook/Working%20With%20Markdown%20Cells.html)\n",
    "\n",
    "Below, we will see a few examples. (Double click on each cell below to see how it looks in Markdown)."
   ]
  },
  {
   "cell_type": "markdown",
   "metadata": {
    "colab_type": "text",
    "id": "jk-ClBMPfktQ"
   },
   "source": [
    "# Big Header \n",
    "## Smaller Header\n",
    "### A little smaller header\n",
    "#### Getting smaller and smaller\n",
    "##### Very very small header\n",
    "###### I do not even know if this is a header anymore"
   ]
  },
  {
   "cell_type": "code",
   "execution_count": null,
   "metadata": {
    "colab": {},
    "colab_type": "code",
    "id": "_ZOhDZQVfktR"
   },
   "outputs": [],
   "source": []
  },
  {
   "cell_type": "markdown",
   "metadata": {
    "colab_type": "text",
    "id": "En3FebQ_fktT"
   },
   "source": [
    "If you want to write code, you can use the backtick characters: `print(\"Hello World\")`\n",
    "\n",
    "Or you can use triple backticks, and can get color coding by specifying the language that you use.\n",
    "```python\n",
    "print(\"Hello World\")\n",
    "```\n",
    "\n",
    "```html\n",
    "<html>\n",
    "    <body>Hello World!</body>\n",
    "</html>\n",
    "```"
   ]
  },
  {
   "cell_type": "markdown",
   "metadata": {
    "colab_type": "text",
    "id": "8NLhD6lJfktT"
   },
   "source": []
  },
  {
   "cell_type": "markdown",
   "metadata": {
    "colab_type": "text",
    "id": "su7rWArgfktU"
   },
   "source": [
    "* You can also create bulleted lists: \n",
    "* ...\n",
    "* Learn Python\n",
    "* ...\n",
    "* Millions!"
   ]
  },
  {
   "cell_type": "code",
   "execution_count": null,
   "metadata": {
    "colab": {},
    "colab_type": "code",
    "id": "ft2wk6JJfktU"
   },
   "outputs": [],
   "source": []
  },
  {
   "cell_type": "markdown",
   "metadata": {
    "colab_type": "text",
    "id": "nT3lM6JsfktW"
   },
   "source": [
    "And ordered lists:\n",
    "1. Learn Python\n",
    "2. Learn SQL\n",
    "3. ....\n",
    "4. Millions!"
   ]
  },
  {
   "cell_type": "markdown",
   "metadata": {
    "colab_type": "text",
    "id": "E74EsgxpfktW"
   },
   "source": [
    "---"
   ]
  },
  {
   "cell_type": "markdown",
   "metadata": {
    "colab_type": "text",
    "id": "HN18YRiQfktX"
   },
   "source": [
    "# Expressions, Data Types, and Variables"
   ]
  },
  {
   "cell_type": "code",
   "execution_count": null,
   "metadata": {
    "colab": {},
    "colab_type": "code",
    "id": "sr6ZnyxnfktY"
   },
   "outputs": [],
   "source": []
  },
  {
   "cell_type": "markdown",
   "metadata": {
    "colab_type": "text",
    "hidden": true,
    "id": "dDUHOXjRfktb"
   },
   "source": [
    "We will start first by dealing with numbers and see how we can do various math and logical operations with Python. Here are a few operators that we will be using:\n",
    "\n",
    "* `+` addition, add two numbers\n",
    "* `-` subtraction and negation\n",
    "* `*` multiplication, multiply two numbers\n",
    "* `/` divide first  with the outcome being decimal outcome\n",
    "* `//` division with the outcome being integer (return only the integer part of the outcome)\n",
    "* `%` modulo/division remainder, what is the remainder when the first number is divided by the second?\n",
    "* `**` power, raise the first number into a power given by the second number"
   ]
  },
  {
   "cell_type": "code",
   "execution_count": null,
   "metadata": {
    "colab": {},
    "colab_type": "code",
    "id": "dRrCwbwifktb"
   },
   "outputs": [],
   "source": [
    "print(\"addition:\")\n",
    "print(1 + 1)\n",
    "print(1.5 + 1)"
   ]
  },
  {
   "cell_type": "code",
   "execution_count": null,
   "metadata": {
    "colab": {},
    "colab_type": "code",
    "id": "GXot6g4Ofkte"
   },
   "outputs": [],
   "source": [
    "print(\"subtraction:\")\n",
    "print(1 - 1)\n",
    "print(1 - 1.0)"
   ]
  },
  {
   "cell_type": "code",
   "execution_count": null,
   "metadata": {
    "colab": {},
    "colab_type": "code",
    "id": "OgY54yqRfkth"
   },
   "outputs": [],
   "source": [
    "print(\"negation:\")\n",
    "print(-5)"
   ]
  },
  {
   "cell_type": "code",
   "execution_count": null,
   "metadata": {
    "colab": {},
    "colab_type": "code",
    "id": "avUzmvtQfktm"
   },
   "outputs": [],
   "source": [
    "print(\"multiplication:\")\n",
    "print(3 * 3)  # integer\n",
    "print(3 * 3.0)  # floating point"
   ]
  },
  {
   "cell_type": "code",
   "execution_count": null,
   "metadata": {
    "colab": {},
    "colab_type": "code",
    "id": "0KumDBmhfkto"
   },
   "outputs": [],
   "source": [
    "print(\"division:\")\n",
    "print(4 / 2)\n",
    "print(5 / 2)"
   ]
  },
  {
   "cell_type": "code",
   "execution_count": null,
   "metadata": {
    "colab": {},
    "colab_type": "code",
    "id": "z2FyY3Smfktq"
   },
   "outputs": [],
   "source": [
    "print(\"integer division:\")\n",
    "print(4 // 2)\n",
    "print(5 // 2)"
   ]
  },
  {
   "cell_type": "code",
   "execution_count": null,
   "metadata": {
    "colab": {},
    "colab_type": "code",
    "id": "LfHNm0bafkts"
   },
   "outputs": [],
   "source": [
    "print(\"modulo:\")  # modulo is a fancy term for remainder of a division\n",
    "print(4 % 2)\n",
    "print(5 % 2)\n",
    "print(5.5 % 2)\n",
    "print(75 % 4)\n",
    "print(10 % 3)"
   ]
  },
  {
   "cell_type": "code",
   "execution_count": null,
   "metadata": {
    "colab": {},
    "colab_type": "code",
    "id": "NxPjmXREfktu"
   },
   "outputs": [],
   "source": [
    "print(\"power:\")\n",
    "print(10**3)\n",
    "print(2**5)"
   ]
  },
  {
   "cell_type": "markdown",
   "metadata": {
    "colab_type": "text",
    "id": "lCn22PrWfktv"
   },
   "source": [
    "---"
   ]
  },
  {
   "cell_type": "markdown",
   "metadata": {
    "colab_type": "text",
    "heading_collapsed": true,
    "id": "zfW4nX1Cfktw"
   },
   "source": [
    "# Exercise 2"
   ]
  },
  {
   "cell_type": "markdown",
   "metadata": {
    "colab_type": "text",
    "hidden": true,
    "id": "AIR8-CAyfktx"
   },
   "source": [
    "Assume that you go to a restaurant, and you order $50 worth of food. Then you need to add the NY Sales Tax (8.875%) and add a tip (say, 20%). Write down the calculation that will print the total cost of the food."
   ]
  },
  {
   "cell_type": "code",
   "execution_count": null,
   "metadata": {
    "colab": {},
    "colab_type": "code",
    "id": "71FCFAAdfktx"
   },
   "outputs": [],
   "source": [
    "# tip calculated on the pre-tax amount"
   ]
  },
  {
   "cell_type": "code",
   "execution_count": null,
   "metadata": {
    "colab": {},
    "colab_type": "code",
    "id": "6P_9wIedfktz"
   },
   "outputs": [],
   "source": [
    "# tip calculated on the after-tax amount"
   ]
  },
  {
   "cell_type": "markdown",
   "metadata": {
    "colab_type": "text",
    "id": "L5jcZzkBfkt3"
   },
   "source": [
    "# Solution"
   ]
  },
  {
   "cell_type": "code",
   "execution_count": null,
   "metadata": {
    "colab": {},
    "colab_type": "code",
    "hidden": true,
    "id": "o6nzStcQfkt3",
    "solution2": "hidden"
   },
   "outputs": [],
   "source": [
    "print(\"The total cost of the meal, with tip on the pre-tax amount is:\")\n",
    "print(50 + 50 * 8.875 / 100 + 50 * 20 / 100)"
   ]
  },
  {
   "cell_type": "code",
   "execution_count": null,
   "metadata": {
    "colab": {},
    "colab_type": "code",
    "hidden": true,
    "id": "YgQ96Lb8fkt5",
    "solution2": "hidden"
   },
   "outputs": [],
   "source": [
    "print(\"The total cost of the meal, with tip on the post-tax amount is:\")\n",
    "print(50 + 50 * 8.875 / 100 + (50 + 50 * 8.875 / 100) * 20 / 100)"
   ]
  },
  {
   "cell_type": "markdown",
   "metadata": {
    "colab_type": "text",
    "id": "8wlEBH-Efkt7"
   },
   "source": [
    "---"
   ]
  },
  {
   "cell_type": "markdown",
   "metadata": {
    "colab_type": "text",
    "heading_collapsed": true,
    "id": "nmpovwU-fkt7"
   },
   "source": [
    "# Exercise 3"
   ]
  },
  {
   "cell_type": "markdown",
   "metadata": {
    "colab_type": "text",
    "hidden": true,
    "id": "MlJKeM9cfkt8"
   },
   "source": [
    "\n",
    "You have a stock that closed at \\$550 on Monday, and then closed at \\$560 on Tuesday. Calculate its daily return: the daily return is defined as the difference in the closing prices, divided by the closing price the day before."
   ]
  },
  {
   "cell_type": "code",
   "execution_count": null,
   "metadata": {
    "colab": {},
    "colab_type": "code",
    "id": "U0dlhy8kfkt8"
   },
   "outputs": [],
   "source": [
    "# solution here"
   ]
  },
  {
   "cell_type": "markdown",
   "metadata": {
    "colab_type": "text",
    "heading_collapsed": true,
    "hidden": true,
    "id": "MTqry_ZBfkt-",
    "solution2": "hidden",
    "solution2_first": true
   },
   "source": [
    "# Solution"
   ]
  },
  {
   "cell_type": "code",
   "execution_count": null,
   "metadata": {
    "colab": {},
    "colab_type": "code",
    "id": "_zIBJ8Uifkt_"
   },
   "outputs": [],
   "source": [
    "print(\"The daily return is:\")\n",
    "print((560 - 550) / 550)"
   ]
  },
  {
   "cell_type": "code",
   "execution_count": null,
   "metadata": {
    "colab": {},
    "colab_type": "code",
    "id": "C9R2YSJ0fkuB"
   },
   "outputs": [],
   "source": [
    "# if we want to show percentages, we can modify our code and add a multiplication with 100 in front:\n",
    "print(\"The daily return is:\")\n",
    "print(100 * (560 - 550) / 550)"
   ]
  },
  {
   "cell_type": "markdown",
   "metadata": {
    "colab_type": "text",
    "id": "yfWD2ddhfkuD"
   },
   "source": [
    "---"
   ]
  },
  {
   "cell_type": "markdown",
   "metadata": {
    "colab_type": "text",
    "heading_collapsed": true,
    "id": "7w_w86pCfkuE"
   },
   "source": [
    "# Exercise 4\n"
   ]
  },
  {
   "cell_type": "markdown",
   "metadata": {
    "colab_type": "text",
    "hidden": true,
    "id": "Dx6Cz0OTfkuE"
   },
   "source": [
    "\n",
    "Assume that someone's height is 5 ft and 9 inches. Conver that to centimeters. Remember that one foot is 30.48 centimeters, and one inch is 2.54 centimeters."
   ]
  },
  {
   "cell_type": "code",
   "execution_count": null,
   "metadata": {
    "colab": {},
    "colab_type": "code",
    "id": "oYTH8BpEfkuF"
   },
   "outputs": [],
   "source": [
    "# solution here"
   ]
  },
  {
   "cell_type": "markdown",
   "metadata": {
    "colab_type": "text",
    "id": "gAIYVen9fkuG"
   },
   "source": [
    "# Solution"
   ]
  },
  {
   "cell_type": "code",
   "execution_count": null,
   "metadata": {
    "colab": {},
    "colab_type": "code",
    "id": "cweyZWxIfkuH"
   },
   "outputs": [],
   "source": [
    "print(\"The height in centimeters is:\")\n",
    "print(5 * 30.48 + 9 * 2.54)"
   ]
  },
  {
   "cell_type": "markdown",
   "metadata": {
    "colab_type": "text",
    "id": "Zc5gwj8vfkuI"
   },
   "source": [
    "---"
   ]
  },
  {
   "cell_type": "markdown",
   "metadata": {
    "colab_type": "text",
    "heading_collapsed": true,
    "id": "OVC5yK7YfkuJ"
   },
   "source": [
    "# Exercise 5\n"
   ]
  },
  {
   "cell_type": "markdown",
   "metadata": {
    "colab_type": "text",
    "hidden": true,
    "id": "zleOUy6gfkuJ"
   },
   "source": [
    "\n",
    "Write a Python program to compute the future value of a deposit with a a principal amount of \\$10,000, rate of interest 3%, and after 5 years. Remember that the value is: $ Principal * (1+interest)^{years}$ and you will need to use the power operator  (**) for this calculation."
   ]
  },
  {
   "cell_type": "code",
   "execution_count": null,
   "metadata": {
    "colab": {},
    "colab_type": "code",
    "id": "MZZxjAL2fkuK"
   },
   "outputs": [],
   "source": [
    "# solution here"
   ]
  },
  {
   "cell_type": "markdown",
   "metadata": {
    "colab_type": "text",
    "heading_collapsed": true,
    "hidden": true,
    "id": "Cld4eFDCfkuM",
    "solution2": "hidden",
    "solution2_first": true
   },
   "source": [
    "# Solution"
   ]
  },
  {
   "cell_type": "code",
   "execution_count": null,
   "metadata": {
    "colab": {},
    "colab_type": "code",
    "id": "4VaoMAHbfkuO"
   },
   "outputs": [],
   "source": [
    "print(\"The value of the deposit will be:\")\n",
    "print(10000 * (1 + 3 / 100)**5)"
   ]
  },
  {
   "cell_type": "markdown",
   "metadata": {
    "colab_type": "text",
    "id": "jBgrRB2OfkuT"
   },
   "source": [
    "---"
   ]
  },
  {
   "cell_type": "markdown",
   "metadata": {
    "colab_type": "text",
    "heading_collapsed": true,
    "id": "KiBLjRCffkuT"
   },
   "source": [
    "# Exercise 6"
   ]
  },
  {
   "cell_type": "markdown",
   "metadata": {
    "colab_type": "text",
    "hidden": true,
    "id": "TYLu0KZ5fkuU"
   },
   "source": [
    "Assume that someone's height is 180 centimeters. Convert that height into feet and inches. Remember that one foot is 30.48 centimeters, and one inch is 2.54 centimeters. You will need to use the modulo operator (%) for this conversion. Also use the `int(...)` function to get the integer part of a division. Optionally, you can also use the `round(...)` function to get the rounded integer number from a decimal."
   ]
  },
  {
   "cell_type": "code",
   "execution_count": null,
   "metadata": {
    "colab": {},
    "colab_type": "code",
    "id": "GIzbol2XfkuU"
   },
   "outputs": [],
   "source": [
    "# solution here"
   ]
  },
  {
   "cell_type": "markdown",
   "metadata": {
    "colab_type": "text",
    "heading_collapsed": true,
    "hidden": true,
    "id": "Fn1KAXObfkuW",
    "solution2": "hidden",
    "solution2_first": true
   },
   "source": [
    "# Solution"
   ]
  },
  {
   "cell_type": "code",
   "execution_count": null,
   "metadata": {
    "colab": {},
    "colab_type": "code",
    "id": "Zi2hvWD6fkuX"
   },
   "outputs": [],
   "source": [
    "print(\"180 cm is\")\n",
    "print(180 // 30.48)\n",
    "print(\"feet and \")\n",
    "print(180 % 30.48 / 2.54)\n",
    "print(\"inches\")"
   ]
  },
  {
   "cell_type": "code",
   "execution_count": null,
   "metadata": {
    "colab": {},
    "colab_type": "code",
    "id": "zyIIoAqlfkuZ"
   },
   "outputs": [],
   "source": [
    "# let’s see how we can print the message in one line\n",
    "print(\"180 cm is\", 180 // 30.48, \"feet and \", 180 % 30.48 / 2.54, \"inches\")"
   ]
  },
  {
   "cell_type": "code",
   "execution_count": null,
   "metadata": {
    "colab": {},
    "colab_type": "code",
    "id": "lH86kkW6fkua"
   },
   "outputs": [],
   "source": [
    "# Let's use int() function to make the output look a bit nicer.\n",
    "print(\"180 cm is\", int(180 / 30.48), \"feet and\", int(180 % 30.48 / 2.54), \"inches\")"
   ]
  },
  {
   "cell_type": "code",
   "execution_count": null,
   "metadata": {
    "colab": {},
    "colab_type": "code",
    "id": "c1RcJHWEfkuc"
   },
   "outputs": [],
   "source": [
    "# Let's use the functions int() and round()\n",
    "print(\"180 cm is\", int(180 / 30.48), \"feet and\", round(180 % 30.48 / 2.54, 1), \"inches\")"
   ]
  },
  {
   "cell_type": "markdown",
   "metadata": {
    "colab_type": "text",
    "id": "PlTzU7hhfkug"
   },
   "source": [
    "---"
   ]
  },
  {
   "cell_type": "markdown",
   "metadata": {
    "colab_type": "text",
    "id": "6kxwgEA6fkui"
   },
   "source": [
    "# Data Types"
   ]
  },
  {
   "cell_type": "markdown",
   "metadata": {
    "colab_type": "text",
    "id": "Ku_GRImofkuj"
   },
   "source": [
    "Notice in the examples below, the different operations result in different types of outcomes."
   ]
  },
  {
   "cell_type": "code",
   "execution_count": null,
   "metadata": {
    "colab": {},
    "colab_type": "code",
    "id": "RNTWi9Zjfkuj"
   },
   "outputs": [],
   "source": [
    "print(1 + 1) # this is an integer"
   ]
  },
  {
   "cell_type": "code",
   "execution_count": null,
   "metadata": {
    "colab": {},
    "colab_type": "code",
    "id": "W9LjkGr4fkul"
   },
   "outputs": [],
   "source": [
    "print(1.0 + 1) # this is an integer added to a decimal/floating point"
   ]
  },
  {
   "cell_type": "code",
   "execution_count": null,
   "metadata": {
    "colab": {},
    "colab_type": "code",
    "id": "QcOKM1_wfkun"
   },
   "outputs": [],
   "source": [
    "print(\"1\" + \"1\") # this a string/text "
   ]
  },
  {
   "cell_type": "code",
   "execution_count": null,
   "metadata": {
    "colab": {},
    "colab_type": "code",
    "id": "zZkDlQaCfkuo"
   },
   "outputs": [],
   "source": [
    "print(100 * 2)"
   ]
  },
  {
   "cell_type": "code",
   "execution_count": null,
   "metadata": {
    "colab": {},
    "colab_type": "code",
    "id": "0uuH-bnLfkup"
   },
   "outputs": [],
   "source": [
    "print(100 * \"2\")"
   ]
  },
  {
   "cell_type": "markdown",
   "metadata": {
    "colab_type": "text",
    "id": "k4AKqKmLfkus"
   },
   "source": [
    "We will learn more about the different types of variables later, but for now, remember that you can use the `type` command to find out the type of an expression:"
   ]
  },
  {
   "cell_type": "code",
   "execution_count": null,
   "metadata": {
    "colab": {},
    "colab_type": "code",
    "id": "cSahfP9lfkus"
   },
   "outputs": [],
   "source": [
    "type(1)"
   ]
  },
  {
   "cell_type": "code",
   "execution_count": null,
   "metadata": {
    "colab": {},
    "colab_type": "code",
    "id": "MgwrufJgfkut"
   },
   "outputs": [],
   "source": [
    "type(3.14)"
   ]
  },
  {
   "cell_type": "code",
   "execution_count": null,
   "metadata": {
    "colab": {},
    "colab_type": "code",
    "id": "n61GUVtVfkuv"
   },
   "outputs": [],
   "source": [
    "type(\"Hello\")"
   ]
  },
  {
   "cell_type": "code",
   "execution_count": null,
   "metadata": {
    "colab": {},
    "colab_type": "code",
    "id": "vVvXNJRGfkuw"
   },
   "outputs": [],
   "source": [
    "type(\"1\")"
   ]
  },
  {
   "cell_type": "code",
   "execution_count": null,
   "metadata": {
    "colab": {},
    "colab_type": "code",
    "id": "qrVwILnufkuy"
   },
   "outputs": [],
   "source": [
    "type(\"3.14\")"
   ]
  },
  {
   "cell_type": "code",
   "execution_count": null,
   "metadata": {
    "colab": {},
    "colab_type": "code",
    "id": "feejTWGCfkuz"
   },
   "outputs": [],
   "source": [
    "type(1+1)"
   ]
  },
  {
   "cell_type": "code",
   "execution_count": null,
   "metadata": {
    "colab": {},
    "colab_type": "code",
    "id": "4b4UuQpsfku3"
   },
   "outputs": [],
   "source": [
    "type(\"1\" + \"1\")"
   ]
  },
  {
   "cell_type": "code",
   "execution_count": null,
   "metadata": {
    "colab": {},
    "colab_type": "code",
    "id": "-6cTXLyRfku5"
   },
   "outputs": [],
   "source": [
    "type(10 * \"2\")"
   ]
  },
  {
   "cell_type": "markdown",
   "metadata": {
    "colab_type": "text",
    "id": "3w9B2Ghhfku6"
   },
   "source": [
    "**Lesson**: Notice the different data types above: `str` (string), `int` (integer), `float` (decimal numbers). One thing hat you will notice is that the outcome of the various operators (`+`, `*`, etc) can be different based on the data types involved."
   ]
  },
  {
   "cell_type": "markdown",
   "metadata": {
    "colab_type": "text",
    "id": "uoHLAEDIfku7"
   },
   "source": [
    "---"
   ]
  },
  {
   "cell_type": "markdown",
   "metadata": {
    "colab_type": "text",
    "id": "yGX1qZ3wfku8"
   },
   "source": [
    "## Exercise 7 \n",
    "\n",
    "What will the following program print out? Figure it our _before_ running the program."
   ]
  },
  {
   "cell_type": "code",
   "execution_count": null,
   "metadata": {
    "colab": {},
    "colab_type": "code",
    "id": "5V7SEjrmfku8"
   },
   "outputs": [],
   "source": [
    "x = 41\n",
    "x = x + 1\n",
    "print(x)"
   ]
  },
  {
   "cell_type": "code",
   "execution_count": null,
   "metadata": {
    "colab": {},
    "colab_type": "code",
    "id": "dGXbtTfFfku-"
   },
   "outputs": [],
   "source": [
    "x = \"41\"\n",
    "x = x + \"1\"\n",
    "print(x)"
   ]
  },
  {
   "cell_type": "markdown",
   "metadata": {
    "colab_type": "text",
    "id": "J7KYqBT4fkvA"
   },
   "source": [
    "---"
   ]
  },
  {
   "cell_type": "markdown",
   "metadata": {
    "colab_type": "text",
    "id": "jIYp4_aafkvB"
   },
   "source": [
    "# A Note About Stack Overflow \n",
    "\n",
    "Consider [Stack Overflow](https://stackoverflow.com/) your go-to (other than myself and your TA) for any questions you may have. It is a life-saver for even the most experienced programmer. To ask the best possible question on Stack Overflow: \n",
    "\n",
    "- Explain clearly what you're trying to do,\n",
    "- Identify the version of software you're using,\n",
    "- Provide an error message,\n",
    "- Explain what you've already tried to make it work"
   ]
  },
  {
   "cell_type": "markdown",
   "metadata": {
    "colab_type": "text",
    "id": "-KdvtLQ8fkvB"
   },
   "source": [
    "# Recommended Readings\n",
    "\n",
    "- [Paul Ford's \"What is Code\"](https://www.bloomberg.com/graphics/2015-paul-ford-what-is-code/)"
   ]
  },
  {
   "cell_type": "markdown",
   "metadata": {},
   "source": [
    "---"
   ]
  }
 ],
 "metadata": {
  "colab": {
   "collapsed_sections": [
    "oOP66WzffktP",
    "jk-ClBMPfktQ",
    "HN18YRiQfktX",
    "zfW4nX1Cfktw",
    "L5jcZzkBfkt3",
    "nmpovwU-fkt7",
    "MTqry_ZBfkt-",
    "7w_w86pCfkuE",
    "gAIYVen9fkuG",
    "OVC5yK7YfkuJ",
    "Cld4eFDCfkuM",
    "KiBLjRCffkuT",
    "Fn1KAXObfkuW",
    "6kxwgEA6fkui",
    "yGX1qZ3wfku8",
    "jIYp4_aafkvB",
    "-KdvtLQ8fkvB"
   ],
   "name": "Dealing_with_Data_Class_1_Solved.ipynb",
   "provenance": []
  },
  "kernelspec": {
   "display_name": "Python 3",
   "language": "python",
   "name": "python3"
  },
  "language_info": {
   "codemirror_mode": {
    "name": "ipython",
    "version": 3
   },
   "file_extension": ".py",
   "mimetype": "text/x-python",
   "name": "python",
   "nbconvert_exporter": "python",
   "pygments_lexer": "ipython3",
   "version": "3.7.3"
  }
 },
 "nbformat": 4,
 "nbformat_minor": 1
}
