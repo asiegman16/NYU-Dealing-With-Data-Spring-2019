{
 "cells": [
  {
   "cell_type": "markdown",
   "metadata": {},
   "source": [
    "### Problem One (4 points): \n",
    "Write a program that converts a Celsius temperature to Farhenheit and vice-versa. \n",
    "\n",
    "> 3 points: Your program must ask a user to input a temperature and a measurement system, and then tell the user the converted temperature. Your program must also handle situations when users enter incorrect information.\n",
    "\n",
    "> 1 point: Explain, step-by-step, what your solution for Problem \\#1 is doing by adding comments in your code above."
   ]
  },
  {
   "cell_type": "code",
   "execution_count": null,
   "metadata": {},
   "outputs": [],
   "source": [
    "print(\"What is the temperature?\") # ask our user what the temperature is\n",
    "user_temp = float(input()) # store their response as a float value (so that we can calculate the system change)\n",
    "\n",
    "print(\"Is that in Farenheit or Celsius?\") # ask our user if their temperature is in Farenheit or Celsius\n",
    "user_measure = input().lower() # store their response as a string value called 'user_measure' and make it lowercase\n",
    "\n",
    "if user_measure == \"farenheit\": # if the user says that they are using Farenheit\n",
    "    print(\"It is \" + str((user_temp - 32) * 1.8) + \" degrees Celsius\") # calculate the change to Celsius\n",
    "\n",
    "elif user_measure == \"celsius\": # if the use says they are using Celsius\n",
    "    print (\"It is \" + str((user_temp / 1.8) + 32) + \" degrees Farenheit\") # calculate the change to Farenheit\n",
    "\n",
    "else: # if the user doesn't say Farenheit or Celsius...\n",
    "    print(\"Please start over and enter a valid system response.\") # ask them to start over"
   ]
  },
  {
   "cell_type": "markdown",
   "metadata": {},
   "source": [
    "### Problem Two (2 points): \n",
    "\n",
    "Fix the errors in the code below to make the program work and add comments to the code to explain your fixes."
   ]
  },
  {
   "cell_type": "code",
   "execution_count": null,
   "metadata": {},
   "outputs": [],
   "source": [
    "print(\"user 1: what is your password?\")\n",
    "first_user_password = input() \n",
    "\n",
    "if first_user_password == \"cancel\":\n",
    "#answer should be \"==\" / cannot start var with a number / needs : at end ==> if first_user_password == \"cancel\":\n",
    "    print(\"user 2: what is your password?\") \n",
    "#answer needs closing \" ==> print(\"user 2: what is your password?\")\n",
    "    second_user_password = input() \n",
    "#answer should be \"=\" ==> second_user_password = input()\n",
    "\n",
    "    if second_user_password == \"confirm\":\n",
    "#answer should be \"==\" ==> if second_user_password == \"confirm\":\n",
    "        print(\"success! the bank transaction is cancelled!\")\n",
    "    else:\n",
    "#answer missing : ==> else:\n",
    "        print(\"wrong password! locking system.\") \n",
    "#answer either \"\" or '' but you can't mix! ==> \n",
    "#answer print('wrong password! locking system.') -OR- print(\"wrong password! locking system.\")\n",
    "else:\n",
    "    print(\"wrong password! locking system.\")"
   ]
  },
  {
   "cell_type": "markdown",
   "metadata": {},
   "source": [
    "### Problem Three (4 points): \n",
    "\n",
    "Identify a routine task that you perform for school or work that you could automate based on the Python you've learned so far. \n",
    "\n",
    "> 1 point: Describe the task, its inputs, its ouptuts, and the benefit/value automating the task could provide to you. \n",
    "\n"
   ]
  },
  {
   "cell_type": "markdown",
   "metadata": {},
   "source": [
    "> 3 points: Develop a Python script to simulate automating that task. Use what you know to supplement what you haven't learned already. For example, since we have not yet learned how to ouptut/save a file to your computer, \"fake\" the file output by using a print() statement.\n"
   ]
  },
  {
   "cell_type": "markdown",
   "metadata": {},
   "source": [
    "---"
   ]
  },
  {
   "cell_type": "markdown",
   "metadata": {},
   "source": [
    "\n"
   ]
  }
 ],
 "metadata": {
  "kernelspec": {
   "display_name": "Python 3",
   "language": "python",
   "name": "python3"
  },
  "language_info": {
   "codemirror_mode": {
    "name": "ipython",
    "version": 3
   },
   "file_extension": ".py",
   "mimetype": "text/x-python",
   "name": "python",
   "nbconvert_exporter": "python",
   "pygments_lexer": "ipython3",
   "version": "3.7.3"
  }
 },
 "nbformat": 4,
 "nbformat_minor": 2
}
