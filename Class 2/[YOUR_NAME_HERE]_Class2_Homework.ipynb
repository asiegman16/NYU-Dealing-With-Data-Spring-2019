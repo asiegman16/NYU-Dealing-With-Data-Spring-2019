{
 "cells": [
  {
   "cell_type": "markdown",
   "metadata": {},
   "source": [
    "## To submit this assignment, please solve the following problem. Then, save your notebook with the format [YOUR_NAME_HERE]\\_Class2_Homework and submit via NYU Classes. "
   ]
  },
  {
   "cell_type": "markdown",
   "metadata": {},
   "source": [
    "---"
   ]
  },
  {
   "cell_type": "markdown",
   "metadata": {},
   "source": [
    "### Problem One (4 points): \n",
    "Write a program that converts a Celsius temperature to Farhenheit and vice-versa. \n",
    "\n",
    "> 3 points: Your program must ask a user to input a temperature and a measurement system, and then tell the user the converted temperature. Your program must also handle situations when users enter incorrect information.\n",
    "\n",
    "> 1 point: Explain, step-by-step, what your solution for Problem \\#1 is doing by adding comments in your code above."
   ]
  },
  {
   "cell_type": "code",
   "execution_count": null,
   "metadata": {},
   "outputs": [],
   "source": [
    "# your code here"
   ]
  },
  {
   "cell_type": "markdown",
   "metadata": {},
   "source": [
    "---"
   ]
  },
  {
   "cell_type": "markdown",
   "metadata": {},
   "source": [
    "### Problem Two (2 points): \n",
    "\n",
    "Fix the errors in the code below to make the program work and add comments to the code to explain your fixes."
   ]
  },
  {
   "cell_type": "code",
   "execution_count": null,
   "metadata": {},
   "outputs": [],
   "source": [
    "# this program requires two users to enter their passwords to cancel a banking transaction\n",
    "\n",
    "print(\"user 1: what is your password?\")\n",
    "1st_user_password = input()\n",
    "\n",
    "if 1st_user_password = \"cancel\"\n",
    "    print(\"user 2: what is your password?)\n",
    "    second_user_password == input()\n",
    "\n",
    "    if second_user_password = \"confirm\":\n",
    "        print(\"success! the bank transaction is cancelled!\")\n",
    "    else\n",
    "        print(\"wrong password! locking system.')\n",
    "else:\n",
    "    print(\"wrong password! locking system.\")"
   ]
  },
  {
   "cell_type": "markdown",
   "metadata": {},
   "source": [
    "---"
   ]
  },
  {
   "cell_type": "markdown",
   "metadata": {},
   "source": [
    "### Problem Three (4 points): \n",
    "\n",
    "Identify a routine task that you perform for school or work that you could automate based on the Python you've learned so far. \n",
    "\n",
    "> 1 point: Describe the task, its inputs, its ouptuts, and the benefit/value automating the task could provide to you. \n",
    "\n"
   ]
  },
  {
   "cell_type": "code",
   "execution_count": null,
   "metadata": {},
   "outputs": [],
   "source": []
  },
  {
   "cell_type": "markdown",
   "metadata": {},
   "source": [
    "\\> (enter your description here)"
   ]
  },
  {
   "cell_type": "code",
   "execution_count": null,
   "metadata": {},
   "outputs": [],
   "source": []
  },
  {
   "cell_type": "markdown",
   "metadata": {},
   "source": [
    "> 3 points: Develop a Python script to simulate automating that task. Use what you know to supplement what you haven't learned already, for example: since we have not yet learned how to ouptut/save a file to your computer, \"fake\" the file output by using a print() statement.\n"
   ]
  },
  {
   "cell_type": "code",
   "execution_count": null,
   "metadata": {},
   "outputs": [],
   "source": [
    "# your code here"
   ]
  },
  {
   "cell_type": "markdown",
   "metadata": {},
   "source": [
    "\n"
   ]
  }
 ],
 "metadata": {
  "kernelspec": {
   "display_name": "Python 3",
   "language": "python",
   "name": "python3"
  },
  "language_info": {
   "codemirror_mode": {
    "name": "ipython",
    "version": 3
   },
   "file_extension": ".py",
   "mimetype": "text/x-python",
   "name": "python",
   "nbconvert_exporter": "python",
   "pygments_lexer": "ipython3",
   "version": "3.7.3"
  }
 },
 "nbformat": 4,
 "nbformat_minor": 2
}
