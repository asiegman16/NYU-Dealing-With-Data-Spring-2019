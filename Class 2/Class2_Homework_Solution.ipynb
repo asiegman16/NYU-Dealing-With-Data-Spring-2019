{
 "cells": [
  {
   "cell_type": "markdown",
   "metadata": {},
   "source": [
    "### Problem One (4 points): \n",
    "Write a program that converts a Celsius temperature to Farhenheit and vice-versa. \n",
    "\n",
    "> 3 points: Your program must ask a user to input a temperature and a measurement system, and then tell the user the converted temperature. Your program must also handle situations when users enter incorrect information.\n",
    "\n",
    "> 1 point: Explain, step-by-step, what your solution for Problem \\#1 is doing by adding comments in your code above."
   ]
  },
  {
   "cell_type": "code",
   "execution_count": null,
   "metadata": {},
   "outputs": [],
   "source": [
    "print(\"What is the temperature?\") # ask our user what the temperature is\n",
    "user_temp = float(input()) # store their response as a float value (so that we can calculate the system change)\n",
    "\n",
    "print(\"Is that in Farenheit or Celsius?\") # ask our user if their temperature is in Farenheit or Celsius\n",
    "user_measure = input().lower() # store their response as a string value called 'user_measure' and make it lowercase\n",
    "\n",
    "if user_measure == \"farenheit\": # if the user says that they are using Farenheit\n",
    "    print(\"It is \" + str((user_temp - 32) * 1.8) + \" degrees Celsius\") # calculate the change to Celsius\n",
    "\n",
    "elif user_measure == \"celsius\": # if the use says they are using Celsius\n",
    "    print (\"It is \" + str((user_temp / 1.8) + 32) + \" degrees Farenheit\") # calculate the change to Farenheit\n",
    "\n",
    "else: # if the user doesn't say Farenheit or Celsius...\n",
    "    print(\"Please start over and enter a valid system response.\") # ask them to start over"
   ]
  },
  {
   "cell_type": "markdown",
   "metadata": {},
   "source": [
    "### Problem Two (2 points): \n",
    "\n",
    "Fix the errors in the code below to make the program work and add comments to the code to explain your fixes."
   ]
  },
  {
   "cell_type": "code",
   "execution_count": null,
   "metadata": {},
   "outputs": [],
   "source": [
    "# this program requires two users to enter their passwords to cancel a banking transaction\n",
    "\n",
    "print(\"User 1: What is your password?\") # this works fine\n",
    "\n",
    "user_pass_1 = input() # change from '1st_user_password' to 'user_pass_1' \n",
    "\n",
    "if user_pass_1 == \"abc\": # add a second '=' symbol and add a ':' at the end of our if statement\n",
    "    print(\"User 2: What is your password?\") # this works fine\n",
    "\n",
    "else: # if the user_pass_1 is anything other than 'abc'\n",
    "    print(\"User 1 provided wrong password! Locking system.\") # we lock the system\n",
    "    \n",
    "user_pass_2 = input() # rename variable as user_pass_2 # otherwise, user 2 is prompted to provide their input\n",
    "\n",
    "if user_pass_2 == \"def\": # add a second '=' symbol again ; if their password is 'def'\n",
    "    print(\"Success! The bank transaction is cancelled!\") # cancel the transaction, both passwords are correct\n",
    "    \n",
    "else: # add a ':' ; otherwise\n",
    "    print(\"Wrong password! Locking system.\") # user 2 password is incorrect so we lock the system"
   ]
  },
  {
   "cell_type": "markdown",
   "metadata": {},
   "source": [
    "### Problem Three (4 points): \n",
    "\n",
    "Identify a routine task that you perform for school or work that you could automate based on the Python you've learned so far. \n",
    "\n",
    "> 1 point: Describe the task, its inputs, its ouptuts, and the benefit/value automating the task could provide to you. \n",
    "\n"
   ]
  },
  {
   "cell_type": "markdown",
   "metadata": {},
   "source": [
    "> 3 points: Develop a Python script to simulate automating that task. Use what you know to supplement what you haven't learned already, for example: since we have not yet learned how to ouptut/save a file to your computer, \"fake\" the file output by using a print() statement.\n"
   ]
  },
  {
   "cell_type": "markdown",
   "metadata": {},
   "source": [
    "---"
   ]
  },
  {
   "cell_type": "markdown",
   "metadata": {},
   "source": [
    "\n"
   ]
  }
 ],
 "metadata": {
  "kernelspec": {
   "display_name": "Python 3",
   "language": "python",
   "name": "python3"
  },
  "language_info": {
   "codemirror_mode": {
    "name": "ipython",
    "version": 3
   },
   "file_extension": ".py",
   "mimetype": "text/x-python",
   "name": "python",
   "nbconvert_exporter": "python",
   "pygments_lexer": "ipython3",
   "version": "3.7.3"
  }
 },
 "nbformat": 4,
 "nbformat_minor": 2
}
