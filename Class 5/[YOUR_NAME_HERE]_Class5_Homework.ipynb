{
 "cells": [
  {
   "cell_type": "markdown",
   "metadata": {},
   "source": [
    "## To submit this assignment, please solve the following problem. Then, save your notebook with the format [YOUR_NAME_HERE]\\_Class5_Homework and submit via NYU Classes. "
   ]
  },
  {
   "cell_type": "markdown",
   "metadata": {},
   "source": [
    "---"
   ]
  },
  {
   "cell_type": "markdown",
   "metadata": {},
   "source": [
    "OVERVIEW: Your task in the next set of homework problems are to continue our prep of the Census file for use in a databse. These problems MUST be solved by updating the \"clean_census.py\" file we created together in class, and submitting the updated file to NYU Classes. This file will need to execute correctly in performing all the actions to receive full credit."
   ]
  },
  {
   "cell_type": "markdown",
   "metadata": {},
   "source": [
    "### **Problem 1 (4 points)**\n",
    "\n",
    "> Create a User Defined Function that removes all other columns from the data set in the nested structure EXCEPT the following columns. The following 29 columns MUST remain in the dataset, and no others:\n",
    ">> 1. Id2\n",
    "2. Number-SEX_AND_AGE_Total_population\n",
    "3. Number-SEX_AND_AGE_Total_population_Under_5_years\n",
    "4. Number-SEX_AND_AGE_Total_population_5_to_9_years\n",
    "5. Number-SEX_AND_AGE_Total_population_10_to_14_years\n",
    "6. Number-SEX_AND_AGE_Total_population_15_to_19_years\n",
    "7. Number-SEX_AND_AGE_Total_population_20_to_24_years\n",
    "8. Number-SEX_AND_AGE_Total_population_25_to_29_years\n",
    "9. Number-SEX_AND_AGE_Total_population_30_to_34_years\n",
    "10. Number-SEX_AND_AGE_Total_population_35_to_39_years\n",
    "11. Number-SEX_AND_AGE_Total_population_40_to_44_years\n",
    "12. Number-SEX_AND_AGE_Total_population_45_to_49_years\n",
    "13. Number-SEX_AND_AGE_Total_population_50_to_54_years\n",
    "14. Number-SEX_AND_AGE_Total_population_55_to_59_years\n",
    "15. Number-SEX_AND_AGE_Total_population_60_to_64_years\n",
    "16. Number-SEX_AND_AGE_Total_population_65_to_69_years\n",
    "17. Number-SEX_AND_AGE_Total_population_70_to_74_years\n",
    "18. Number-SEX_AND_AGE_Total_population_75_to_79_years\n",
    "19. Number-SEX_AND_AGE_Total_population_80_to_84_years\n",
    "20. Number-SEX_AND_AGE_Total_population_85_years_and_over\n",
    "21. Number-SEX_AND_AGE_Male_population\n",
    "22. Number-SEX_AND_AGE_Female_population\n",
    "23. Number-RACE_Race_alone_or_in_combination_with_one_or_more_other_races-4-White\n",
    "24. Number-RACE_Race_alone_or_in_combination_with_one_or_more_other_races-4-Black_or_African_American\n",
    "25. Number-RACE_Race_alone_or_in_combination_with_one_or_more_other_races-4-American_Indian_and_Alaska_Native\n",
    "26. Number-RACE_Race_alone_or_in_combination_with_one_or_more_other_races-4-Asian\n",
    "27. Number-RACE_Race_alone_or_in_combination_with_one_or_more_other_races-4-Native_Hawaiian_and_Other_Pacific_Islander\n",
    "28. Number-RACE_Race_alone_or_in_combination_with_one_or_more_other_races-4-Some_Other_Race\n",
    "29. Number-HISPANIC_OR_LATINO_Total_population_Hispanic_or_Latino_of_any_race"
   ]
  },
  {
   "cell_type": "markdown",
   "metadata": {},
   "source": [
    "---"
   ]
  },
  {
   "cell_type": "markdown",
   "metadata": {},
   "source": [
    "### **Problem 2 (1 point)**\n",
    "\n",
    "> Create a User Defined Function that transforms your nested data structure back into a string so it can be written to a file as a Comma-Separated-Values or Tab-Separate-Values data file."
   ]
  },
  {
   "cell_type": "markdown",
   "metadata": {},
   "source": [
    "\n"
   ]
  }
 ],
 "metadata": {
  "kernelspec": {
   "display_name": "Python 3",
   "language": "python",
   "name": "python3"
  },
  "language_info": {
   "codemirror_mode": {
    "name": "ipython",
    "version": 3
   },
   "file_extension": ".py",
   "mimetype": "text/x-python",
   "name": "python",
   "nbconvert_exporter": "python",
   "pygments_lexer": "ipython3",
   "version": "3.7.3"
  }
 },
 "nbformat": 4,
 "nbformat_minor": 2
}
