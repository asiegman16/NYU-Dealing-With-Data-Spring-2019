{
 "cells": [
  {
   "cell_type": "markdown",
   "metadata": {},
   "source": [
    "# Dealing with Data Spring 2020 – Class 5"
   ]
  },
  {
   "cell_type": "markdown",
   "metadata": {},
   "source": [
    "---"
   ]
  },
  {
   "cell_type": "code",
   "execution_count": 1,
   "metadata": {},
   "outputs": [],
   "source": [
    "import sqlite3"
   ]
  },
  {
   "cell_type": "markdown",
   "metadata": {},
   "source": [
    "SQLite is a library that allows us to create, populate, and call upon a SQL Database. It's also serverless, meaning we don't need to access a separate server where we're storing our data – instead, we can directly access our databse. We can even store that database as a file on our local machine and call upon it."
   ]
  },
  {
   "cell_type": "code",
   "execution_count": 2,
   "metadata": {},
   "outputs": [],
   "source": [
    "con = sqlite3.connect('.db') # this is how we are going to create our database, \n",
    "                                         # calling it 'citibikeData.db'\n",
    "\n",
    "# \"con\" stands for \"connection\" – this is telling SQLite what database to use"
   ]
  },
  {
   "cell_type": "code",
   "execution_count": null,
   "metadata": {},
   "outputs": [],
   "source": [
    "sql = \"CREATE TABLE IF NOT EXISTS StationsData (station_id int, stationName varchar(250), availableDocks int, totalDocks int, latitude float, longitude float, statusValue varchar(250), statusKey int, availableBikes int, stAddress1 varchar(250), stAddress2 varchar(250), city varchar(250), postalCode varchar(250), location varchar(250), altitude varchar(250), testStation bool, lastCommunicationTime date, landMark varchar(250));\" \n",
    "\n",
    "con.execute(sql)\n",
    "con.commit()"
   ]
  },
  {
   "cell_type": "code",
   "execution_count": null,
   "metadata": {},
   "outputs": [],
   "source": [
    "query_template = \"\"\"INSERT OR IGNORE INTO StationsData(station_id, stationName, availableDocks, totalDocks, latitude, \\\n",
    "longitude, statusValue, statusKey, availableBikes, stAddress1, stAddress2, city, postalCode, location, altitude, \\\n",
    "testStation, lastCommunicationTime, landMark) VALUES (?, ?, ?, ?, ?, ?, ?, ?, ?, ?, ?, ?, ?, ?, ?, ?, ?, ?);\"\"\"\n",
    "\n",
    "for entry in stations: # for every station entry in the json \n",
    "    station_id = int(entry['id']) # find and set station_id\n",
    "    stationName = str(entry['stationName'])\n",
    "    availableDocks = int(entry['availableDocks'])\n",
    "    totalDocks = int(entry['totalDocks'])\n",
    "    latitude = str(entry['latitude'])\n",
    "    longitude = str(entry['longitude'])\n",
    "    statusValue = str(entry['statusValue'])\n",
    "    statusKey = int(entry['statusKey'])\n",
    "    availableBikes = int(entry['availableBikes'])\n",
    "    stAddress1 = str(entry['stAddress1'])\n",
    "    stAddress2 = str(entry['stAddress2'])\n",
    "    city = str(entry['city'])\n",
    "    postalCode = str(entry['postalCode'])\n",
    "    location = str(entry['location'])\n",
    "    altitude = str(entry['altitude'])\n",
    "    testStation = bool(entry['testStation'])\n",
    "    lastCommunicationTime = entry['lastCommunicationTime']\n",
    "    landMark = str(entry['landMark'])\n",
    "                           \n",
    "    print(\"Inserting Station:\", station_id, stationName, availableDocks, totalDocks, latitude, longitude, statusValue, statusKey, availableBikes, stAddress1, stAddress2, city, postalCode, location, altitude, testStation, lastCommunicationTime, landMark) \n",
    "    \n",
    "    query_parameters = (station_id, stationName, availableDocks, totalDocks, latitude, longitude, statusValue, statusKey, availableBikes, stAddress1, stAddress2, city, postalCode, location, altitude, testStation, lastCommunicationTime, landMark) \n",
    "    \n",
    "    con.execute(query_template, query_parameters)\n",
    "    \n",
    "con.commit()"
   ]
  },
  {
   "cell_type": "markdown",
   "metadata": {},
   "source": [
    "Now, we can use pd.read_sql to check that we are properly connected to our database, and the StationsData table within that database:"
   ]
  },
  {
   "cell_type": "code",
   "execution_count": null,
   "metadata": {},
   "outputs": [],
   "source": [
    "check = pd.read_sql(\"SELECT * FROM StationsData LIMIT 5\", con=con)\n",
    "check"
   ]
  },
  {
   "cell_type": "markdown",
   "metadata": {},
   "source": [
    "---"
   ]
  }
 ],
 "metadata": {
  "kernelspec": {
   "display_name": "Python 3",
   "language": "python",
   "name": "python3"
  },
  "language_info": {
   "codemirror_mode": {
    "name": "ipython",
    "version": 3
   },
   "file_extension": ".py",
   "mimetype": "text/x-python",
   "name": "python",
   "nbconvert_exporter": "python",
   "pygments_lexer": "ipython3",
   "version": "3.7.3"
  }
 },
 "nbformat": 4,
 "nbformat_minor": 2
}
