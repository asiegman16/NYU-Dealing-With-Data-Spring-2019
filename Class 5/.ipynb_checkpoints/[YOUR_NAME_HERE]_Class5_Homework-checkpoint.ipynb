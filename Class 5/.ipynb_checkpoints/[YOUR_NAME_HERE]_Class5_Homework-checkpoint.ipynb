{
 "cells": [
  {
   "cell_type": "markdown",
   "metadata": {},
   "source": [
    "# To submit this assignment, please solve the following problems. Then, save your notebook with the format [YOUR_NAME_HERE]\\_Class5_Homework and submit via NYU Classes. "
   ]
  },
  {
   "cell_type": "markdown",
   "metadata": {},
   "source": [
    "---"
   ]
  },
  {
   "cell_type": "markdown",
   "metadata": {},
   "source": [
    "OVERVIEW: Your task in this homework assingment is to continue building out our Class Project's database using the knowledge from class and files provided on NYU Classes.\n",
    " \n",
    "Problem 1 (4 points):\n",
    "\n",
    "> Find the 11 zip codes whose annual average tax returns are less than 7000 returns and also greater than 6000 returns. Submit your SQL code along with its resulting output."
   ]
  },
  {
   "cell_type": "code",
   "execution_count": 1,
   "metadata": {},
   "outputs": [],
   "source": [
    "# your code here"
   ]
  },
  {
   "cell_type": "markdown",
   "metadata": {},
   "source": [
    "---"
   ]
  },
  {
   "cell_type": "markdown",
   "metadata": {},
   "source": [
    "Problem 2 (4 points):\n",
    "\n",
    "> Create a summarized view of the demographic data available in the US census table by bucketing up the detailed columns into the following supergroups: male, female, age under 19, age over 70, age betw 20 – 70, european ethnicity, african ethincity, asian-pacific ethnicity, hispanic-latino descent, other ethnicities. Order the results by total population for the zip. Limit your result to just the top 5 zip codes. Submit your SQL code along with its resulting output."
   ]
  },
  {
   "cell_type": "code",
   "execution_count": 2,
   "metadata": {},
   "outputs": [],
   "source": [
    "# your code here"
   ]
  },
  {
   "cell_type": "markdown",
   "metadata": {},
   "source": [
    "---"
   ]
  },
  {
   "cell_type": "markdown",
   "metadata": {},
   "source": [
    "\n"
   ]
  }
 ],
 "metadata": {
  "kernelspec": {
   "display_name": "Python 3",
   "language": "python",
   "name": "python3"
  },
  "language_info": {
   "codemirror_mode": {
    "name": "ipython",
    "version": 3
   },
   "file_extension": ".py",
   "mimetype": "text/x-python",
   "name": "python",
   "nbconvert_exporter": "python",
   "pygments_lexer": "ipython3",
   "version": "3.7.3"
  }
 },
 "nbformat": 4,
 "nbformat_minor": 2
}
