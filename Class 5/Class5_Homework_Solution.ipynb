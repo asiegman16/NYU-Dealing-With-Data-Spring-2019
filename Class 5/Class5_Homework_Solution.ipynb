{
 "cells": [
  {
   "cell_type": "markdown",
   "metadata": {},
   "source": [
    "## To submit this assignment, please solve the following problem. Then, save your notebook with the format [YOUR_NAME_HERE]\\_Class5_Homework and submit via NYU Classes. "
   ]
  },
  {
   "cell_type": "markdown",
   "metadata": {},
   "source": [
    "---"
   ]
  },
  {
   "cell_type": "markdown",
   "metadata": {},
   "source": [
    "OVERVIEW: Your task in the next set of homework problems are to continue our prep of the Census file for use in a databse. These problems MUST be solved by updating the \"clean_census.py\" file we created together in class, and submitting the updated file to NYU Classes. This file will need to execute correctly in performing all the actions to receive full credit.\n",
    "\n",
    "### **Problem 1 (4 points)**\n",
    "\n",
    "> Create a User Defined Function that removes all other columns from the data set in the nested structure EXCEPT the following columns. The following 29 columns MUST remain in the dataset, and no others:\n",
    ">> 1. Id2\n",
    "2. Number-SEX_AND_AGE_Total_population\n",
    "3. Number-SEX_AND_AGE_Total_population_Under_5_years\n",
    "4. Number-SEX_AND_AGE_Total_population_5_to_9_years\n",
    "5. Number-SEX_AND_AGE_Total_population_10_to_14_years\n",
    "6. Number-SEX_AND_AGE_Total_population_15_to_19_years\n",
    "7. Number-SEX_AND_AGE_Total_population_20_to_24_years\n",
    "8. Number-SEX_AND_AGE_Total_population_25_to_29_years\n",
    "9. Number-SEX_AND_AGE_Total_population_30_to_34_years\n",
    "10. Number-SEX_AND_AGE_Total_population_35_to_39_years\n",
    "11. Number-SEX_AND_AGE_Total_population_40_to_44_years\n",
    "12. Number-SEX_AND_AGE_Total_population_45_to_49_years\n",
    "13. Number-SEX_AND_AGE_Total_population_50_to_54_years\n",
    "14. Number-SEX_AND_AGE_Total_population_55_to_59_years\n",
    "15. Number-SEX_AND_AGE_Total_population_60_to_64_years\n",
    "16. Number-SEX_AND_AGE_Total_population_65_to_69_years\n",
    "17. Number-SEX_AND_AGE_Total_population_70_to_74_years\n",
    "18. Number-SEX_AND_AGE_Total_population_75_to_79_years\n",
    "19. Number-SEX_AND_AGE_Total_population_80_to_84_years\n",
    "20. Number-SEX_AND_AGE_Total_population_85_years_and_over\n",
    "21. Number-SEX_AND_AGE_Male_population\n",
    "22. Number-SEX_AND_AGE_Female_population\n",
    "23. Number-RACE_Race_alone_or_in_combination_with_one_or_more_other_races-4-White\n",
    "24. Number-RACE_Race_alone_or_in_combination_with_one_or_more_other_races-4-Black_or_African_American\n",
    "25. Number-RACE_Race_alone_or_in_combination_with_one_or_more_other_races-4-American_Indian_and_Alaska_Native\n",
    "26. Number-RACE_Race_alone_or_in_combination_with_one_or_more_other_races-4-Asian\n",
    "27. Number-RACE_Race_alone_or_in_combination_with_one_or_more_other_races-4-Native_Hawaiian_and_Other_Pacific_Islander\n",
    "28. Number-RACE_Race_alone_or_in_combination_with_one_or_more_other_races-4-Some_Other_Race\n",
    "29. Number-HISPANIC_OR_LATINO_Total_population_Hispanic_or_Latino_of_any_race"
   ]
  },
  {
   "cell_type": "markdown",
   "metadata": {},
   "source": [
    "### **Solution:**"
   ]
  },
  {
   "cell_type": "code",
   "execution_count": null,
   "metadata": {},
   "outputs": [],
   "source": [
    "################################################################\n",
    "##### UNQUOTABLE #############################################\n",
    "################################################################\n",
    "\n",
    "def unquotable(input_string): # removes pesky , within \"\" values before changing , to \\t in program\n",
    "\n",
    "    # remove \" char by splitting the input string into a list using that char\n",
    "    tmp_list = input_string.split('\"')\n",
    "\n",
    "    # remove , char\n",
    "    for i in range(len(tmp_list)):\n",
    "        # skip items that start/end with commas as these aren't quoted items\n",
    "        if (tmp_list[i][0] == \",\") or (tmp_list[i][-1] == \",\"):\n",
    "            continue\n",
    "        # replace , with - in quoted items\n",
    "        else:\n",
    "            tmp_list[i] = tmp_list[i].replace(\",\",\"-\")\n",
    "\n",
    "    # rejoin items into a string\n",
    "    output = \",\".join(tmp_list)\n",
    "\n",
    "    # get rid of any \",,\" and \",,,\" as it will add extra columns\n",
    "    output = output.replace(\",,,\",\",\")\n",
    "    output = output.replace(\",,\",\",\")\n",
    "\n",
    "    # return string\n",
    "    return output\n",
    "\n",
    "################################################################\n",
    "##### NESTER #############################################\n",
    "################################################################\n",
    "\n",
    "def nester(input_string,input_row_delim,input_col_delim): # take a dataset string where each row is separated by input_row_delim and each column is separate by input_col_delim to create a nested object of lists\n",
    "\n",
    "    # create a list item for each row in the file using the row delimiter\n",
    "    row_list = input_string.split(input_row_delim)\n",
    "\n",
    "    #output var\n",
    "    nested_data = []\n",
    "\n",
    "    # created nested structure to store each column separately\n",
    "    # list of rows where each row is a list of columns)\n",
    "    for i in range(len(row_list)): \n",
    "        row = row_list[i]\n",
    "        col = row.split(input_col_delim)\n",
    "        nested_data.append(col)\n",
    "\n",
    "    # return the nested structure\n",
    "    return nested_data"
   ]
  },
  {
   "cell_type": "code",
   "execution_count": null,
   "metadata": {},
   "outputs": [],
   "source": [
    "f = open(\"/Users/siegmanA/Desktop/NYU-Dealing-With-Data-Spring-2020/Class 5/raw_census_2010_copy.csv\", \"r\")\n",
    "content = f.read() # read the full content of the file in memory, as a big string\n",
    "f.close()"
   ]
  },
  {
   "cell_type": "code",
   "execution_count": null,
   "metadata": {},
   "outputs": [],
   "source": [
    "unquotable_content = unquotable(content)"
   ]
  },
  {
   "cell_type": "code",
   "execution_count": null,
   "metadata": {},
   "outputs": [],
   "source": [
    "nested_content = nester(unquotable_content,'\\n',',')"
   ]
  },
  {
   "cell_type": "code",
   "execution_count": null,
   "metadata": {},
   "outputs": [],
   "source": [
    "nested_content[1]"
   ]
  },
  {
   "cell_type": "code",
   "execution_count": null,
   "metadata": {},
   "outputs": [],
   "source": []
  },
  {
   "cell_type": "code",
   "execution_count": null,
   "metadata": {},
   "outputs": [],
   "source": [
    "def remove_unwanted_columns(columns_to_keep,nested_content): # takes in a list and our data\n",
    "    column_position = [] # creating an empty list to keep positions of kept columns \n",
    "    for i in columns_to_keep: # for each colum in our input list...\n",
    "        column_position.append(nested_content[1].index(i)) # populate our list with corresponding column positions\n",
    "\n",
    "    for i in column_position:\n",
    "        nested_content.pop(i)\n",
    "    \n",
    "    del nested_content[0] # we delete the first row, since we want to use the second row as headers\n",
    "    del nested_content[-1] # the also delete the last row, as it appears to be erroneous\n",
    "\n",
    "    \n",
    "    return nested_content\n",
    "    \n",
    "    \n",
    "    \n",
    "    \n",
    "    \n",
    "    "
   ]
  },
  {
   "cell_type": "code",
   "execution_count": null,
   "metadata": {},
   "outputs": [],
   "source": [
    "wanted_content = remove_unwanted_columns([\"Id\"],nested_content)"
   ]
  },
  {
   "cell_type": "code",
   "execution_count": null,
   "metadata": {},
   "outputs": [],
   "source": [
    "wanted_content[1]"
   ]
  },
  {
   "cell_type": "markdown",
   "metadata": {},
   "source": [
    "---"
   ]
  },
  {
   "cell_type": "markdown",
   "metadata": {},
   "source": [
    "### **Problem 2 (1 point)**\n",
    "\n",
    "> Create a User Defined Function that transforms your nested data structure back into a string so it can be written to a file as a Comma-Separated-Values or Tab-Separate-Values data file."
   ]
  },
  {
   "cell_type": "markdown",
   "metadata": {},
   "source": [
    "### **Solution:**"
   ]
  },
  {
   "cell_type": "code",
   "execution_count": null,
   "metadata": {},
   "outputs": [],
   "source": [
    "# this UDF takes the cencus data with desirable columns (census_data_final),\n",
    "# the column delimiter (\",\") which will be used to join for each row\n",
    "# and row delimiter (\"\\n\") which will be used to join all rows\n",
    "\n",
    "def new_string(census_data_final,col_delimiter,row_delimiter):\n",
    "    census_data_rows_joined = []\n",
    "# iterating through census_data_final\n",
    "    for row_lists in census_data_final:\n",
    "# join columns of each row with \",\"\n",
    "        joined_rows = col_delimiter.join(row_lists)\n",
    "        census_data_rows_joined.append(joined_rows)\n",
    "# join rows with \"\\n\"\n",
    "    census_data_string = row_delimiter.join(census_data_rows_joined)\n",
    "    return census_data_string"
   ]
  },
  {
   "cell_type": "code",
   "execution_count": null,
   "metadata": {},
   "outputs": [],
   "source": []
  },
  {
   "cell_type": "markdown",
   "metadata": {},
   "source": [
    "### **ALL TOGETHER:**"
   ]
  },
  {
   "cell_type": "code",
   "execution_count": null,
   "metadata": {},
   "outputs": [],
   "source": [
    "################################################################\n",
    "##### UNQUOTABLE #############################################\n",
    "################################################################\n",
    "\n",
    "def unquotable(input_string): # removes pesky , within \"\" values before changing , to \\t in program\n",
    "\n",
    "    # remove \" char by splitting the input string into a list using that char\n",
    "    tmp_list = input_string.split('\"')\n",
    "\n",
    "    # remove , char\n",
    "    for i in range(len(tmp_list)):\n",
    "        # skip items that start/end with commas as these aren't quoted items\n",
    "        if (tmp_list[i][0] == \",\") or (tmp_list[i][-1] == \",\"):\n",
    "            continue\n",
    "        # replace , with - in quoted items\n",
    "        else:\n",
    "            tmp_list[i] = tmp_list[i].replace(\",\",\"-\")\n",
    "\n",
    "    # rejoin items into a string\n",
    "    output = \",\".join(tmp_list)\n",
    "\n",
    "    # get rid of any \",,\" and \",,,\" as it will add extra columns\n",
    "    output = output.replace(\",,,\",\",\")\n",
    "    output = output.replace(\",,\",\",\")\n",
    "\n",
    "    # return string\n",
    "    return output\n",
    "\n",
    "################################################################\n",
    "##### NESTER #############################################\n",
    "################################################################\n",
    "\n",
    "def nester(input_string,input_row_delim,input_col_delim): # take a dataset string where each row is separated by input_row_delim and each column is separate by input_col_delim to create a nested object of lists\n",
    "\n",
    "    # create a list item for each row in the file using the row delimiter\n",
    "    row_list = input_string.split(input_row_delim)\n",
    "\n",
    "    #output var\n",
    "    nested_data = []\n",
    "\n",
    "    # created nested structure to store each column separately\n",
    "    # list of rows where each row is a list of columns)\n",
    "    for i in range(len(row_list)): \n",
    "        row = row_list[i]\n",
    "        col = row.split(input_col_delim)\n",
    "        nested_data.append(col)\n",
    "\n",
    "    # return the nested structure\n",
    "    return nested_data\n",
    "\n",
    "################################################################\n",
    "#####              #############################################\n",
    "################################################################\n",
    "\n",
    "################################################################\n",
    "#####              #############################################\n",
    "################################################################\n",
    "\n",
    "\n",
    "################################################################\n",
    "##### MAIN PROGRAM #############################################\n",
    "################################################################\n",
    "\n",
    "# 1. read the census data file into a variable\n",
    "\n",
    "file_handle = open('/Users/siegmanA/Desktop/NYU-Dealing-With-Data-Spring-2020/Class 5/raw_census_2010.csv',\"r\")\n",
    "census_data = file_handle.read()\n",
    "file_handle.close()\n",
    "\n",
    "# 2. clean the data by removing the \"...,...\" problem using a UDF\n",
    "\n",
    "clean_census_data = unquotable(census_data)\n",
    "\n",
    "# 3. create a nested data structure with a UDF\n",
    "\n",
    "nested_census_data = nester(clean_census_data,\"\\n\",\",\")\n",
    "\n",
    "# 4. remove unwanted columns using a UDF\n",
    "\n",
    "# HOMEWORK\n",
    "\n",
    "# 5. create a new string from the nested structure using a UDF\n",
    "\n",
    "# HOMEWORK\n",
    "\n",
    "# 6. write the file to disk\n",
    "\n",
    "file_handle = open('/Users/siegmanA/Desktop/NYU-Dealing-With-Data-Spring-2020/Class 5/raw_census_2010.csv',\"w\")\n",
    "file_handle.write('final data var from step #5 goes here')\n",
    "file_handle.close()"
   ]
  }
 ],
 "metadata": {
  "kernelspec": {
   "display_name": "Python 3",
   "language": "python",
   "name": "python3"
  },
  "language_info": {
   "codemirror_mode": {
    "name": "ipython",
    "version": 3
   },
   "file_extension": ".py",
   "mimetype": "text/x-python",
   "name": "python",
   "nbconvert_exporter": "python",
   "pygments_lexer": "ipython3",
   "version": "3.7.3"
  }
 },
 "nbformat": 4,
 "nbformat_minor": 2
}
