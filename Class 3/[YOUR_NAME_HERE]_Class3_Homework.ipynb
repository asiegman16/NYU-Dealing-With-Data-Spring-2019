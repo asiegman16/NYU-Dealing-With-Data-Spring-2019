{
 "cells": [
  {
   "cell_type": "markdown",
   "metadata": {},
   "source": [
    "## To submit this assignment, please solve the following problem. Then, save your notebook with the format [YOUR_NAME_HERE]\\_Class3_Homework and submit via NYU Classes. "
   ]
  },
  {
   "cell_type": "markdown",
   "metadata": {},
   "source": [
    "---"
   ]
  },
  {
   "cell_type": "markdown",
   "metadata": {},
   "source": [
    "### Problem 1 (5 points): \n",
    "Write a program that creates a shopping list of at least 5 items using user input. \n",
    "\n",
    "> 2 points: The user must be able to add to the list and view the updated list as a comma-separated group of items after adding to it.\n",
    "\n",
    "> 2 points: the user must be able to remove items from the list and view the updated list as a comma-separated group of items after removing something from it\n",
    "\n",
    "> 1 point: the user must be able to tell the program to end"
   ]
  },
  {
   "cell_type": "code",
   "execution_count": null,
   "metadata": {},
   "outputs": [],
   "source": [
    "# your code here"
   ]
  },
  {
   "cell_type": "markdown",
   "metadata": {},
   "source": [
    "---"
   ]
  },
  {
   "cell_type": "markdown",
   "metadata": {},
   "source": [
    "### Problem 2 (2 points):\n",
    "\n",
    "#### Choose your own homework adventure - answer ONE of the following questions completely. \n",
    "\n",
    "(No additional points for extra answers.)\n",
    "\n",
    "> ##### Question 1: Explain the difference between a `list`, a `tuple` and a `set`. Provide a real-world example where it would be more appropriate to use a `list` to store data as compared to a `tuple` or a `set` (comparing to one is good enough).\n",
    "\n",
    "> ##### Question 2: Explain the different between a `dictionary` and a `list`. Provide an real-world example where it would be more appropriate to use a `dictionary` to store data as compared to a `list`. "
   ]
  },
  {
   "cell_type": "markdown",
   "metadata": {},
   "source": [
    "\\> (your answer here)"
   ]
  },
  {
   "cell_type": "markdown",
   "metadata": {},
   "source": [
    "---"
   ]
  },
  {
   "cell_type": "markdown",
   "metadata": {},
   "source": [
    "### Problem 3 (3 points): \n",
    "\n",
    "Create a nested data structure to store fake data for a real-world use case that is NOT an example we covered in class. \n",
    "\n",
    "It must have a minimum of one nested structure, such as our in-class phone number example where a `list` was nested within a `dictionary`. \n",
    "\n",
    "Print values from each part of the nested structure separately. Describe what each nested level is doing using comments."
   ]
  },
  {
   "cell_type": "code",
   "execution_count": null,
   "metadata": {},
   "outputs": [],
   "source": [
    "# your code here"
   ]
  }
 ],
 "metadata": {
  "kernelspec": {
   "display_name": "Python 3",
   "language": "python",
   "name": "python3"
  },
  "language_info": {
   "codemirror_mode": {
    "name": "ipython",
    "version": 3
   },
   "file_extension": ".py",
   "mimetype": "text/x-python",
   "name": "python",
   "nbconvert_exporter": "python",
   "pygments_lexer": "ipython3",
   "version": "3.7.3"
  }
 },
 "nbformat": 4,
 "nbformat_minor": 2
}
