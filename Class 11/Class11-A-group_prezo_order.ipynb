{
 "cells": [
  {
   "cell_type": "code",
   "execution_count": 3,
   "metadata": {},
   "outputs": [],
   "source": [
    "def rand_prezo_seq(int_attendance,dict_group_seeds):\n",
    "    \n",
    "    import random as rand\n",
    "    \n",
    "    groups = []\n",
    "    mod_groups = []\n",
    "    for group in dict_group_seeds.keys():\n",
    "        mod_groups.append(group)\n",
    "        groups.append(group)\n",
    "    \n",
    "    prezo_seq = []\n",
    "    \n",
    "    rand.seed(int_attendance)\n",
    "\n",
    "    print(\"randomly chosen seed is:\",\"\\n\", rand.choice(groups),\"==>\",dict_group_seeds[rand.choice(groups)])\n",
    "    print()\n",
    "    rand.seed(dict_group_seeds[rand.choice(groups)])\n",
    "    \n",
    "    for group in groups:\n",
    "        prezo_next = rand.choice(mod_groups)\n",
    "        prezo_seq.append(prezo_next)\n",
    "        mod_groups.pop(mod_groups.index(prezo_next))\n",
    "        \n",
    "    print(\"presentation order on May 9 is:\")\n",
    "    for group in prezo_seq:\n",
    "        print(prezo_seq.index(group)+1,\":\",group)\n",
    "        \n",
    "    return\n",
    "    \n"
   ]
  },
  {
   "cell_type": "code",
   "execution_count": 4,
   "metadata": {},
   "outputs": [
    {
     "name": "stdout",
     "output_type": "stream",
     "text": [
      "randomly chosen seed is: \n",
      " Team YMC ==> 882\n",
      "\n",
      "presentation order on May 9 is:\n",
      "1 : Team AMA\n",
      "2 : Team BREM\n",
      "3 : Team YAY\n",
      "4 : Team Anaconda\n",
      "5 : Team TEC\n",
      "6 : Team Back Row\n",
      "7 : Team A+\n",
      "8 : Team YMC\n",
      "9 : Team UNO\n",
      "10 : Team FTW\n",
      "11 : Team Linux\n"
     ]
    }
   ],
   "source": [
    "# create a list of seed integers chosen by each group of any integer up to 1024\n",
    "group_seeds = {'Team A+'        : 2,\n",
    "                'Team AMA'      : 224,\n",
    "                'Team Anaconda' : 98,\n",
    "                'Team Back Row' : 6,\n",
    "                'Team BREM'     : 2,\n",
    "                'Team FTW'      : 10,\n",
    "                'Team Linux'    : 176,\n",
    "                'Team TEC'      : 88,\n",
    "                'Team UNO'      : 7,\n",
    "                'Team YAY'      : 882,\n",
    "                'Team YMC'      : 123}\n",
    "\n",
    "# today's attendance count\n",
    "attendance =  37\n",
    "\n",
    "# use UDF to randomly generate order\n",
    "rand_prezo_seq(attendance,group_seeds)"
   ]
  },
  {
   "cell_type": "code",
   "execution_count": null,
   "metadata": {},
   "outputs": [],
   "source": []
  }
 ],
 "metadata": {
  "kernelspec": {
   "display_name": "Python 3",
   "language": "python",
   "name": "python3"
  },
  "language_info": {
   "codemirror_mode": {
    "name": "ipython",
    "version": 3
   },
   "file_extension": ".py",
   "mimetype": "text/x-python",
   "name": "python",
   "nbconvert_exporter": "python",
   "pygments_lexer": "ipython3",
   "version": "3.7.1"
  }
 },
 "nbformat": 4,
 "nbformat_minor": 2
}
