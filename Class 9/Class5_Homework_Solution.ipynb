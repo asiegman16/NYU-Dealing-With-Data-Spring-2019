{
 "cells": [
  {
   "cell_type": "markdown",
   "metadata": {},
   "source": [
    "## To submit this assignment, please solve the following problem. Then, save your notebook with the format [YOUR_NAME_HERE]\\_Class5_Homework and submit via NYU Classes. "
   ]
  },
  {
   "cell_type": "markdown",
   "metadata": {},
   "source": [
    "---"
   ]
  },
  {
   "cell_type": "markdown",
   "metadata": {},
   "source": [
    "OVERVIEW: Your task in this homework assingment is to continue building out our Class Project's database using the knowledge from class and files provided on NYU Classes.\n",
    " \n",
    "Problem 1 (4 points):\n",
    "\n",
    "> Find the 11 zip codes whose annual average tax returns are less than 7000 returns and also greater than 6000 returns. Submit your SQL code along with its resulting output."
   ]
  },
  {
   "cell_type": "markdown",
   "metadata": {},
   "source": [
    "```SQL \n",
    "SELECT\n",
    "    zipcode,\n",
    "    ROUND(AVG(return_count),0) as avg_returns \n",
    "FROM irs_nyc_tax_returns\n",
    "GROUP BY\n",
    "    zipcode\n",
    "HAVING\n",
    "    avg_returns < 7000 AND avg_returns > 6000\n",
    "ORDER BY\n",
    "    avg_returns DESC;\n",
    "```"
   ]
  },
  {
   "cell_type": "markdown",
   "metadata": {},
   "source": [
    "---"
   ]
  },
  {
   "cell_type": "markdown",
   "metadata": {},
   "source": [
    "Problem 2 (4 points):\n",
    "\n",
    "> Create a summarized view of the demographic data available in the US census table by bucketing up the detailed columns into the following supergroups: male, female, age under 19, age over 70, age betw 20 – 70, european ethnicity, african ethincity, asian-pacific ethnicity, hispanic-latino descent, other ethnicities. Order the results by total population for the zip. Limit your result to just the top 5 zip codes. Submit your SQL code along with its resulting output."
   ]
  },
  {
   "cell_type": "markdown",
   "metadata": {},
   "source": [
    "```SQL\n",
    "SELECT\n",
    "    cen.zipcode,\n",
    "/* Gender */\n",
    "    SUM(cen.Gender_Male) AS gen_male_cnt, SUM(cen.Gender_Female) AS gen_female_cnt,\n",
    "/* ages */\n",
    "    SUM(cen.Age_under5) + SUM(cen.Age_5to9) + SUM(cen.Age_10to14) + SUM(cen.Age_15to19) AS age_under19_cnt,\n",
    "    SUM(cen.Age_over84) + SUM(cen.Age_80to84) + SUM(cen.Age_75to79) + SUM(cen.Age_70to74) AS age_over70_cnt,\n",
    "    SUM(Age_all),\n",
    "--child count\n",
    "    SUM(cen.Age_under5) + SUM(cen.Age_5to9) + SUM(cen.Age_10to14) + SUM(cen.Age_15to19), \n",
    "  --senior citizen count\n",
    "    SUM(cen.Age_over84) + SUM(cen.Age_80to84) + SUM(cen.Age_75to79) + SUM(cen.Age_70to74) AS age_20to70_cnt,\n",
    "/* ethnicity */\n",
    "    SUM(cen.Ethnicity_White) AS eth_euro_cnt,\n",
    "    SUM(cen.Ethnicity_AfricanAmerican) AS eth_african_cnt,\n",
    "    SUM(cen.Ethnicity_Asian) + SUM(cen.Ethnicity_PacificIslander) AS eth_asiapac_cnt, \n",
    "    SUM(cen.Ethnicity_NativeAmerican) + SUM(cen.Ethnicity_Other) AS eth_other_cnt,\n",
    "    SUM(cen.Ethnicity_All_HispancLatino_Descent) AS eth_hislat_descent_cnt,\n",
    "/* total pop */\n",
    "    SUM(cen.Age_all) as total_pop_cnt\n",
    "FROM\n",
    "    nyc_census_data cen\n",
    "GROUP BY\n",
    "    cen.zipcode\n",
    "ORDER BY\n",
    "    total_pop_cnt DESC\n",
    "LIMIT 5;\n",
    "```"
   ]
  },
  {
   "cell_type": "markdown",
   "metadata": {},
   "source": [
    "---"
   ]
  }
 ],
 "metadata": {
  "kernelspec": {
   "display_name": "Python 3",
   "language": "python",
   "name": "python3"
  },
  "language_info": {
   "codemirror_mode": {
    "name": "ipython",
    "version": 3
   },
   "file_extension": ".py",
   "mimetype": "text/x-python",
   "name": "python",
   "nbconvert_exporter": "python",
   "pygments_lexer": "ipython3",
   "version": "3.7.3"
  }
 },
 "nbformat": 4,
 "nbformat_minor": 2
}
