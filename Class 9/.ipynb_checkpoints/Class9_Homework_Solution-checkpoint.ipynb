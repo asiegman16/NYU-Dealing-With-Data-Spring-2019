{
 "cells": [
  {
   "cell_type": "markdown",
   "metadata": {},
   "source": [
    "## To submit this assignment, please solve the following problem. Then, save your notebook with the format [YOUR_NAME_HERE]\\_Class9_Homework and submit via NYU Classes. "
   ]
  },
  {
   "cell_type": "markdown",
   "metadata": {},
   "source": [
    "---"
   ]
  },
  {
   "cell_type": "markdown",
   "metadata": {},
   "source": [
    "### **Problem 1 (2 points):**\n",
    "Use our Class Project SQLite3 database through Python to find the zip codes who each had at least 10,000 residents earning 100,000 USD or more annually during 2016. Print your results in ascending order by zipcode, for example: 10001, 10002."
   ]
  },
  {
   "cell_type": "markdown",
   "metadata": {},
   "source": [
    "### Solution"
   ]
  },
  {
   "cell_type": "markdown",
   "metadata": {},
   "source": [
    "```SQL\n",
    "SELECT \n",
    "    zipcode \n",
    "FROM irs_nyc_tax_returns \n",
    "WHERE \n",
    "    agi_map_id IN (5,6) AND year = \"2016\" \n",
    "GROUP BY \n",
    "    zipcode \n",
    "HAVING \n",
    "    SUM(return_count) > 10000\n",
    "ORDER BY \n",
    "    zipcode ASC;\n",
    "```"
   ]
  },
  {
   "cell_type": "markdown",
   "metadata": {},
   "source": [
    "---"
   ]
  },
  {
   "cell_type": "markdown",
   "metadata": {},
   "source": [
    "### Problem 2 (2 points):"
   ]
  },
  {
   "cell_type": "markdown",
   "metadata": {},
   "source": [
    "OVERVIEW: Your task in this homework assingment is to continue building out our Class Project's database using the knowledge from class and files provided on NYU Classes.\n",
    " \n",
    "Problem 1 (4 points):\n",
    "\n",
    "> Find the 11 zip codes whose annual average tax returns are less than 7000 returns and also greater than 6000 returns. Submit your SQL code along with its resulting output."
   ]
  },
  {
   "cell_type": "markdown",
   "metadata": {},
   "source": [
    "### Solution"
   ]
  },
  {
   "cell_type": "markdown",
   "metadata": {},
   "source": [
    "```SQL \n",
    "SELECT\n",
    "    zipcode,\n",
    "    ROUND(AVG(return_count),0) as avg_returns \n",
    "FROM irs_nyc_tax_returns\n",
    "GROUP BY\n",
    "    zipcode\n",
    "HAVING\n",
    "    avg_returns < 7000 AND avg_returns > 6000\n",
    "ORDER BY\n",
    "    avg_returns DESC;\n",
    "```"
   ]
  },
  {
   "cell_type": "markdown",
   "metadata": {},
   "source": [
    "---"
   ]
  },
  {
   "cell_type": "markdown",
   "metadata": {},
   "source": [
    "### **Problem 3 (6 points):**\n",
    "The NYC film permit's database stores datetime values as \"12/09/2018 07:00:00 AM\" and \"12/09/2018 07:00:00 PM\" but SQLite3 will NOT recognize this value as a date because it requires that datetime values are formatted as \"2018-12-09 07:00\" and \"2018-12-09 19:00\", respectively (note the use of a 24-hour time in the second example). Your assignment is to:\n",
    "* Create a UDF that will take the NYC film permit's datetime value input and user regular expressions to transform it into the SQLite3 compliant datetime value. \n",
    "* Prove it works by running the UDF against at least test_input_1 and test_input_2 below and comparing them both to their respective outputs. Full credit will be given for UDFs that handle all datetimes correctly beyond the provided test inputs."
   ]
  },
  {
   "cell_type": "code",
   "execution_count": null,
   "metadata": {},
   "outputs": [],
   "source": [
    "# here are test inputs and expected outputs to test your code\n",
    "test_input_1  = \"12/09/2018 07:00:00 AM\"\n",
    "expected_output_1 = \"2018-12-09 07:00\"\n",
    "\n",
    "test_input_2  = \"02/13/2015 07:00:00 PM\"\n",
    "expected_output_2 = \"2015-02-13 19:00\""
   ]
  },
  {
   "cell_type": "markdown",
   "metadata": {},
   "source": [
    "### Solution"
   ]
  },
  {
   "cell_type": "code",
   "execution_count": null,
   "metadata": {},
   "outputs": [],
   "source": [
    "def date_convert(input_date):\n",
    "    import re, sys\n",
    "    \n",
    "    # define regex\n",
    "    date_regex = re.compile(r'''\n",
    "        (\\d{2})/  #group 1# month\n",
    "        (\\d{2})/  #2# day\n",
    "        (\\d{4})   #3# year\n",
    "        \\s{1}     ## space delimiter\n",
    "        (\\d{2}):  #4# hours\n",
    "        (\\d{2}):  #5# minutes\n",
    "        (\\d{2})   #6# seconds\n",
    "        \\s{1}     ## space delimiter\n",
    "        (AM|PM)   #7# meridiem indicator\n",
    "   ''',re.VERBOSE) \n",
    "\n",
    "    # grab groups\n",
    "    match = date_regex.search(input_date)\n",
    "    \n",
    "    # if match is empty, return error\n",
    "    if match == None:\n",
    "        print(\"bad input!\")\n",
    "        sys.exit(1)\n",
    "    \n",
    "    # build new date, item by item\n",
    "    input_month = str(match.group(1))\n",
    "    input_day = str(match.group(2))\n",
    "    input_year = str(match.group(3))\n",
    "    input_hour = str(match.group(4))\n",
    "    input_minute = str(match.group(5))\n",
    "    input_seconds = str(match.group(6))\n",
    "    input_meridiem = str(match.group(7))\n",
    "    \n",
    "    # convert AM/PM hours to 24-hr format\n",
    "    if (input_meridiem.lower() == \"pm\" and int(input_hour) < 12):\n",
    "        input_hour = str(int(input_hour) + 12)\n",
    "    elif (input_meridiem.lower() == \"am\" and int(input_hour) == 12):\n",
    "        input_hour = \"00\"\n",
    "\n",
    "    \n",
    "    return input_year + \"-\" + input_month + \"-\" + input_day + \" \" + input_hour + \":\" + input_minute"
   ]
  },
  {
   "cell_type": "code",
   "execution_count": null,
   "metadata": {},
   "outputs": [],
   "source": [
    "# test provided inputs\n",
    "\n",
    "test_input_1  = \"12/09/2018 07:00:00 AM\"\n",
    "expected_output_1 = \"2018-12-09 07:00\"\n",
    "print(\"test 1 ==>\",expected_output_1 == date_convert(test_input_1))\n",
    "\n",
    "test_input_2  = \"02/13/2015 07:00:00 PM\"\n",
    "expected_output_2 = \"2015-02-13 19:00\"\n",
    "print(\"test 2 ==>\",expected_output_2 == date_convert(test_input_2))\n",
    "\n",
    "# test edge case of midnight\n",
    "\n",
    "print(\"converting 02/13/2015 12:00:00 AM ==>\",date_convert(\"02/13/2015 12:00:00 AM\"))"
   ]
  },
  {
   "cell_type": "markdown",
   "metadata": {},
   "source": [
    "\n"
   ]
  }
 ],
 "metadata": {
  "kernelspec": {
   "display_name": "Python 3",
   "language": "python",
   "name": "python3"
  },
  "language_info": {
   "codemirror_mode": {
    "name": "ipython",
    "version": 3
   },
   "file_extension": ".py",
   "mimetype": "text/x-python",
   "name": "python",
   "nbconvert_exporter": "python",
   "pygments_lexer": "ipython3",
   "version": "3.7.3"
  }
 },
 "nbformat": 4,
 "nbformat_minor": 2
}
