{
 "cells": [
  {
   "cell_type": "markdown",
   "metadata": {},
   "source": [
    "## To submit this assignment, please solve the following problem. Then, save your notebook with the format [YOUR_NAME_HERE]\\_Class6_Homework and submit via NYU Classes. "
   ]
  },
  {
   "cell_type": "markdown",
   "metadata": {},
   "source": [
    "---"
   ]
  },
  {
   "cell_type": "markdown",
   "metadata": {},
   "source": [
    "OVERVIEW: Your task in this homework assingment is to continue building out our Class Project's database using the knowledge from class and files provided on NYU Classes.\n",
    "\n",
    "Problem 1 (3 points):\n",
    "\n",
    "> Find the 11 zip codes whose annual average tax returns are less than 7000 returns and also greater than 6000 returns. Submit your SQL code along with its resulting output. (*This can be a png, jpg, pdf, screen-shot - whatever you would like*)\n",
    "\n",
    "Problem 2 (4 points):\n",
    "\n",
    "> Create a summarized view of the demographic data available in the US census table by bucketing up the detailed columns into the following supergroups: male, female, age under 19, age over 70, age betw 20 – 70, european ethnicity, african ethincity, asian-pacific ethnicity, hispanic-latino descent, other ethnicities. Order the results by total population for the zip. Limit your result to just the top 5 zip codes. Submit your SQL code along with its resulting output. (*This can be a png, jpg, pdf, screen-shot - whatever you would like*)\n",
    "\n",
    "Problem 3 (3 points):\n",
    "\n",
    "> Find the annual count of distinct filming permits for shooting versus setup/non-shooting event types. Display each permit type grouping as its own column in the result (HINT: you should have 3 columns: year, shooting permit counts, and setup/non-shooting permit counts). Submit your SQL code along with its resulting output. (*This can be a png, jpg, pdf, screen-shot - whatever you would like*)"
   ]
  },
  {
   "cell_type": "markdown",
   "metadata": {},
   "source": [
    "\n"
   ]
  }
 ],
 "metadata": {
  "kernelspec": {
   "display_name": "Python 3",
   "language": "python",
   "name": "python3"
  },
  "language_info": {
   "codemirror_mode": {
    "name": "ipython",
    "version": 3
   },
   "file_extension": ".py",
   "mimetype": "text/x-python",
   "name": "python",
   "nbconvert_exporter": "python",
   "pygments_lexer": "ipython3",
   "version": "3.7.3"
  }
 },
 "nbformat": 4,
 "nbformat_minor": 2
}
