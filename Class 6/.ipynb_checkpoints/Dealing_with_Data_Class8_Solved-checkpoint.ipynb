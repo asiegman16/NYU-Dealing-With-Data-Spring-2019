{
 "cells": [
  {
   "cell_type": "markdown",
   "metadata": {},
   "source": [
    "# **Putting our Python to Work: Using the** `sqlite3` **library to use SQL with Python**"
   ]
  },
  {
   "cell_type": "markdown",
   "metadata": {},
   "source": [
    "We can directly connect to our SQLite3 database using a special Python library for this purpose. This functionality gives us the ability to run SQL scripts outside SQLiteStudio and work with the results directly in Python, to provide for more advanced Python work such as plotting the results with code (to come in later classes)."
   ]
  },
  {
   "cell_type": "markdown",
   "metadata": {},
   "source": [
    "There are 7 main steps to using SQLite3 with Python:\n",
    "1. import the `sqlite3` library\n",
    "* connect to your database file\n",
    "* create a cursor - which is a database object that allows you to run queries\n",
    "* execute a SQL query\n",
    "* store the results and column names in separate variables \n",
    "* close your database cursor and connection\n",
    "* clean up column names and combine with results in a single variable for further work"
   ]
  },
  {
   "cell_type": "markdown",
   "metadata": {},
   "source": [
    "### Step 1: Import the library"
   ]
  },
  {
   "cell_type": "code",
   "execution_count": null,
   "metadata": {},
   "outputs": [],
   "source": [
    "# Import the SQLite3 library\n",
    "import sqlite3"
   ]
  },
  {
   "cell_type": "markdown",
   "metadata": {},
   "source": [
    "### Step 2: Connect to your database"
   ]
  },
  {
   "cell_type": "code",
   "execution_count": null,
   "metadata": {},
   "outputs": [],
   "source": [
    "# point to my local directory\n",
    "import os\n",
    "os.chdir(r'C:\\Users\\colling\\!dwd_spring2019\\classes\\class8')\n",
    "\n",
    "# setup location variables for the database\n",
    "db_location = r'nyc_film_db_final.db'\n",
    "\n",
    "# Create the connection\n",
    "db_connect = sqlite3.connect(db_location)"
   ]
  },
  {
   "cell_type": "markdown",
   "metadata": {},
   "source": [
    "### Step 3: Create a cursor execute the SQL script"
   ]
  },
  {
   "cell_type": "code",
   "execution_count": null,
   "metadata": {},
   "outputs": [],
   "source": [
    "# create cursor\n",
    "db_cursor = db_connect.cursor()"
   ]
  },
  {
   "cell_type": "markdown",
   "metadata": {},
   "source": [
    "### Steps 4 and 5: Execute a SQL query and Store Results - SQL statement as string"
   ]
  },
  {
   "cell_type": "code",
   "execution_count": null,
   "metadata": {},
   "outputs": [],
   "source": [
    "# execute query using cursor\n",
    "db_cursor.execute('SELECT * from irs_nyc_tax_returns WHERE year = \"2012\" and zipcode = \"10128\";')\n",
    "\n",
    "# retrieve results \n",
    "results_data = db_cursor.fetchall()\n",
    "\n",
    "# retrieve column headers\n",
    "results_headers = db_cursor.description \n",
    "\n",
    "# print both\n",
    "print(\"results column names ==>\",\"\\n\",results_headers,\"\\n\")\n",
    "print(\"results data ==>\",\"\\n\",results_data)"
   ]
  },
  {
   "cell_type": "markdown",
   "metadata": {},
   "source": [
    "### Steps 4 and 5: Execute a SQL query and Store Results - SQL script in files"
   ]
  },
  {
   "cell_type": "code",
   "execution_count": null,
   "metadata": {},
   "outputs": [],
   "source": [
    "# point to my local directory\n",
    "import os\n",
    "os.chdir(r'C:\\Users\\colling\\!dwd_spring2019\\classes\\class8')\n",
    "\n",
    "# retrieve the SQL script from a file\n",
    "script_location = 'analyze_data.sql'\n",
    "file_handle = open(script_location)\n",
    "sql_script = file_handle.read()\n",
    "file_handle.close()\n",
    "\n",
    "# execute query using cursor\n",
    "db_cursor.execute(sql_script)\n",
    "\n",
    "# retrieve results \n",
    "results_data = db_cursor.fetchall()\n",
    "\n",
    "# retrieve column headers\n",
    "results_headers = db_cursor.description \n",
    "\n",
    "# print both\n",
    "print(\"results column names ==>\",\"\\n\",results_headers,\"\\n\")\n",
    "print(\"results data ==>\",\"\\n\",results_data_1,\"\\n\")"
   ]
  },
  {
   "cell_type": "markdown",
   "metadata": {},
   "source": [
    "### Step 6: Close your cursor and database connections"
   ]
  },
  {
   "cell_type": "code",
   "execution_count": null,
   "metadata": {},
   "outputs": [],
   "source": [
    "db_cursor.close()\n",
    "db_connect.close()"
   ]
  },
  {
   "cell_type": "markdown",
   "metadata": {},
   "source": [
    "### Step 7: Clean up column headers and combine with results into single variable"
   ]
  },
  {
   "cell_type": "code",
   "execution_count": null,
   "metadata": {},
   "outputs": [],
   "source": [
    "# clean-up column headers\n",
    "column_names = []\n",
    "for header in results_headers:\n",
    "    column_names.append(header[0])\n",
    "results_headers = tuple(column_names)\n",
    "\n",
    "# add headers to result\n",
    "results_final = results_data\n",
    "results_final.insert(0,results_headers)\n",
    "\n",
    "#print each row\n",
    "for row in results_final:\n",
    "    print(row)"
   ]
  },
  {
   "cell_type": "markdown",
   "metadata": {},
   "source": [
    "---"
   ]
  },
  {
   "cell_type": "markdown",
   "metadata": {},
   "source": [
    "Regular Expressions\n",
    "-------------------\n",
    "\n",
    "Regular expressions (regexes or re’s) constitute an extremely powerful, flexible and concise language for matching elements in text ranging from a few characters to complex patterns. While mastering the syntax of the regular expression language does require climbing a learning curve, this learning curve is not particularly steep, and a newcomer can find herself performing useful tasks with regular expressions almost immediately. Efforts spent learning regular expressions quickly pay off--tasks that are well suited for regular expressions abound. Indeed, regular expressions are one of the most useful computer skills, and an absolutely critical tool for data scientists. "
   ]
  },
  {
   "cell_type": "markdown",
   "metadata": {},
   "source": [
    "This document will present basic regular expression syntax and cover common use cases for regular expressions: pattern matching, filtering, data extraction, and string replacement. We will present examples using grep - a Unix command to find lines of a text file with a given string in them. We create a Python version of grep to work with."
   ]
  },
  {
   "cell_type": "code",
   "execution_count": null,
   "metadata": {},
   "outputs": [],
   "source": [
    "import re # https://docs.python.org/3/library/re.html\n",
    "\n",
    "def printMatches(text, regex_expression):\n",
    "    BACKGROUND_YELLOW = '\\x1b[43m'\n",
    "    COLOR_RESET  = \"\\x1b[0m\"\n",
    "    regex= re.compile(regex_expression)\n",
    "    matches = regex.finditer(text)\n",
    "    for m in matches:\n",
    "        highlighted  = text[:m.start()] # the string before the regex match\n",
    "        highlighted += BACKGROUND_YELLOW + text[m.start():m.end()] + COLOR_RESET \n",
    "        highlighted += text[m.end():] # the string after the regex match\n",
    "        print(highlighted)\n",
    "        print('\\n')\n",
    "\n",
    "def grep(regex_expression, file_name):\n",
    "    f = open(file_name, \"r\")\n",
    "    content = f.read()\n",
    "    f.close()\n",
    "    for line in content.split(\"\\n\"):\n",
    "        printMatches(line, regex_expression)"
   ]
  },
  {
   "cell_type": "markdown",
   "metadata": {},
   "source": [
    "For today's class, we'll be taking a look at  the [\"Capital Project Tracker\" from NYC Open Data.](https://data.cityofnewyork.us/Recreation/Capital-Project-Tracker/qiwj-i2jk)\n",
    "\n",
    "One of the first things you may want to do is search for a literal – simply match the exact text in the document in question. For instance, if we want to find any mention of the word, \"Highway\"...\n",
    "\n",
    "_Note that we have uploaded our \"ParkProjects.txt\" file directly into our Colab instance so that we can search it._ "
   ]
  },
  {
   "cell_type": "code",
   "execution_count": null,
   "metadata": {},
   "outputs": [],
   "source": [
    "grep('Highway', './ParkProjects.txt')"
   ]
  },
  {
   "cell_type": "markdown",
   "metadata": {},
   "source": [
    "That's all fine and well, but the goal here is to leverage the power and flexibility of regular expressions. That's where atoms come into play. \n",
    "\n",
    "The simplest regular expressions are a sequence of \"atoms\"."
   ]
  },
  {
   "cell_type": "markdown",
   "metadata": {},
   "source": [
    "## The dot (.) atom \n",
    "\n",
    "Matches any single character other than \\n (newline) "
   ]
  },
  {
   "cell_type": "code",
   "execution_count": null,
   "metadata": {},
   "outputs": [],
   "source": [
    "grep('Avenue . and', './ParkProjects.txt')"
   ]
  },
  {
   "cell_type": "code",
   "execution_count": null,
   "metadata": {},
   "outputs": [],
   "source": [
    "grep('Avenue . and Avenue .', './ParkProjects.txt')"
   ]
  },
  {
   "cell_type": "markdown",
   "metadata": {},
   "source": [
    "## The bracket expression \n",
    "\n",
    "Defines a set of characters of which only one needs to be matched "
   ]
  },
  {
   "cell_type": "code",
   "execution_count": null,
   "metadata": {},
   "outputs": [],
   "source": [
    "grep('Avenue [FG]', './ParkProjects.txt')"
   ]
  },
  {
   "cell_type": "code",
   "execution_count": null,
   "metadata": {},
   "outputs": [],
   "source": [
    "grep('[Pp]layground', './ParkProjects.txt')"
   ]
  },
  {
   "cell_type": "markdown",
   "metadata": {},
   "source": [
    "You can also incorporate ranges into your brackets. For instance, we want the word \"East\" followed by any three numbers:"
   ]
  },
  {
   "cell_type": "code",
   "execution_count": null,
   "metadata": {},
   "outputs": [],
   "source": [
    "grep('East [0-9][0-9][0-9]', './ParkProjects.txt')"
   ]
  },
  {
   "cell_type": "code",
   "execution_count": null,
   "metadata": {
    "scrolled": true
   },
   "outputs": [],
   "source": [
    "grep('East [0-9][0-9][^0-9]', './ParkProjects.txt')"
   ]
  },
  {
   "cell_type": "markdown",
   "metadata": {},
   "source": [
    "## Anchors \n",
    "\n",
    "Are atoms used to define the location of a regex within a line :\n",
    "\n",
    "- the '^' anchor specifies the beginning of the line \n",
    "- the '$' anchor specifies the end of a line\n",
    "- the '\\b' anchor specifies a word boundry "
   ]
  },
  {
   "cell_type": "code",
   "execution_count": null,
   "metadata": {},
   "outputs": [],
   "source": [
    "grep('^Summary This project will reconstruct', './ParkProjects.txt')"
   ]
  },
  {
   "cell_type": "code",
   "execution_count": null,
   "metadata": {},
   "outputs": [],
   "source": [
    "grep('^Summary This project will construct', './ParkProjects.txt')"
   ]
  },
  {
   "cell_type": "markdown",
   "metadata": {},
   "source": [
    "---"
   ]
  },
  {
   "cell_type": "markdown",
   "metadata": {},
   "source": [
    "## Some more basic patterns and metacharacters' \n",
    "\n",
    "- . (dot) matches any character except \\n (newline) \n",
    "- \\t matches a tab\n",
    "- \\n matches a newline \n",
    "- \\r matches return \n",
    "- ^ matches the start of a string\n",
    "- $ matches the end of a string"
   ]
  },
  {
   "cell_type": "markdown",
   "metadata": {},
   "source": [
    "## Metacharacters \n",
    "\n",
    "Include \"  \\ ^ $ . | ? * + ( ) [ ] and \\\n",
    "\n",
    "These metacharacters help us match various, non-literal components of a sentence. In order to 'escape' them (aka, to search for that symbol itself) you need to proceed it with a backslash (\\)"
   ]
  },
  {
   "cell_type": "markdown",
   "metadata": {},
   "source": [
    "---"
   ]
  },
  {
   "cell_type": "markdown",
   "metadata": {},
   "source": [
    "To gain insight into what your regular expression is doing at any time, I highly recommend using regexper.com (https://regexper.com/) which will allow you to see exactly what a given search is doing. \n",
    "\n",
    "For instance, check out https://regexper.com/#%5EMy%0A to see what we just did with '^My'\n",
    "\n",
    "Here is a good cheat sheet for all the special characters, too, From Emma Wedekind: https://dev.to/emmawedekind/regex-cheat-sheet-2j2a\n",
    "\n",
    "Finally, I'd also recommend RegEx101, a handy debugger for regular expressions: https://regex101.com/"
   ]
  },
  {
   "cell_type": "markdown",
   "metadata": {},
   "source": [
    "---"
   ]
  },
  {
   "cell_type": "markdown",
   "metadata": {},
   "source": [
    "## Shortcuts: \n",
    "\n",
    "- \\d: matches digits 0-9\n",
    "- \\D matches anything but \\d\n",
    "- \\w matches any alphanumeric character plus underscore \n",
    "- \\W matches anything but \\w \n",
    "- \\s matches any \"whitespace character (space, tab, newline) \n",
    "- \\S matches anything but \\s"
   ]
  },
  {
   "cell_type": "markdown",
   "metadata": {},
   "source": [
    "---"
   ]
  },
  {
   "cell_type": "markdown",
   "metadata": {},
   "source": [
    "## Operators:"
   ]
  },
  {
   "cell_type": "markdown",
   "metadata": {},
   "source": [
    "## `'alternation' operator`\n",
    "\n",
    "Defines one or more alternatives that need to be true to return a match:"
   ]
  },
  {
   "cell_type": "code",
   "execution_count": null,
   "metadata": {},
   "outputs": [],
   "source": [
    "grep('^Summary This project will (partially|expand)', './ParkProjects.txt')"
   ]
  },
  {
   "cell_type": "markdown",
   "metadata": {},
   "source": [
    "## `Repetition operator `\n",
    "\n",
    "Specifies that the symbol to be matched may be repeated:"
   ]
  },
  {
   "cell_type": "markdown",
   "metadata": {},
   "source": [
    "Repetition Shortcuts: \n",
    "\n",
    "- * = {0,} The * character means match the previous atom zero or more times\n",
    "- + = {1,} The + character means match the previous atom one or more times\n",
    "- ? = {0,1} The ? character means match the previous atom zero or one times"
   ]
  },
  {
   "cell_type": "code",
   "execution_count": null,
   "metadata": {},
   "outputs": [],
   "source": [
    "grep('Summary .{400,}$', './ParkProjects.txt')"
   ]
  },
  {
   "cell_type": "markdown",
   "metadata": {},
   "source": [
    "## `Group Operator`\n",
    "\n",
    "In the group operator, when a group of characters is inclused in parantehses, the next operator applies to the whole group, not only the previous characters"
   ]
  },
  {
   "cell_type": "code",
   "execution_count": null,
   "metadata": {},
   "outputs": [],
   "source": [
    "grep('name.* (\\d){3,} .*', './ParkProjects.txt')"
   ]
  },
  {
   "cell_type": "markdown",
   "metadata": {},
   "source": [
    "---"
   ]
  },
  {
   "cell_type": "markdown",
   "metadata": {},
   "source": [
    "# Exercise 1: What do these regex's match? "
   ]
  },
  {
   "cell_type": "code",
   "execution_count": null,
   "metadata": {},
   "outputs": [],
   "source": [
    "# your code here"
   ]
  },
  {
   "cell_type": "markdown",
   "metadata": {},
   "source": [
    "# Solution"
   ]
  },
  {
   "cell_type": "code",
   "execution_count": null,
   "metadata": {},
   "outputs": [],
   "source": [
    "grep('^Summary .* Street.$', './ParkProjects.txt')"
   ]
  },
  {
   "cell_type": "code",
   "execution_count": null,
   "metadata": {
    "scrolled": true
   },
   "outputs": [],
   "source": [
    "grep('East (\\d){2,}st', './ParkProjects.txt')"
   ]
  },
  {
   "cell_type": "code",
   "execution_count": null,
   "metadata": {},
   "outputs": [],
   "source": [
    "grep('Lenox .* (Pl\\.|Place)', './ParkProjects.txt')"
   ]
  },
  {
   "cell_type": "markdown",
   "metadata": {},
   "source": [
    "---"
   ]
  },
  {
   "cell_type": "markdown",
   "metadata": {},
   "source": [
    "# Exercise 2: Imagine you have a file with telephone numbers in different formats: \n",
    "\n",
    "- 679-397-5255\n",
    "- 2126660921\n",
    "- 212-998-0902\n",
    "- 888-888-2222\n",
    "- 800-555-1211\n",
    "- 800 555 1212\n",
    "- 800.555.1213\n",
    "- (800) 555-1214\n",
    "- 1-800-555-1215\n",
    "- 1(800)555-1216\n",
    "- 800-555-1212-1234\n",
    "- 800-555-1212x1234\n",
    "- 800-555-1212 ext. 1234\n",
    "- work 1-(800) 555.1212 #1234\n",
    "\n",
    "# Your goal is to standardize everything in the form (xxx)-xxx-xxx.\n",
    "\n",
    "To make the process interactive, go to http://regex101.com/?#python, copy and paste the numbers above in the text area called \"Text String\", and then try to write the regular expression above. (Remember to put the \"g\" character in the small text field next to the regex: this has the same meaning as in sed, and it means \"find globally\" the regex, not just the first occurence)."
   ]
  },
  {
   "cell_type": "code",
   "execution_count": null,
   "metadata": {},
   "outputs": [],
   "source": [
    "TextString = \"\"\"\n",
    "\n",
    "679-397-5255\n",
    "2126660921\n",
    "212-998-0902\n",
    "888-888-2222\n",
    "800-555-1211\n",
    "800 555 1212\n",
    "800.555.1213\n",
    "(800) 555-1214\n",
    "1-800-555-1215\n",
    "1(800)555-1216\n",
    "800-555-1212-1234\n",
    "800-555-1212x1234\n",
    "800-555-1212 ext. 1234\n",
    "work 1-(800) 555.1212 #1234\n",
    "\n",
    "\"\"\"\n",
    "\n",
    "# your code here"
   ]
  },
  {
   "cell_type": "markdown",
   "metadata": {},
   "source": [
    "# Solution"
   ]
  },
  {
   "cell_type": "code",
   "execution_count": null,
   "metadata": {},
   "outputs": [],
   "source": [
    "TextString = \"\"\"\n",
    "\n",
    "679-397-5255\n",
    "2126660921\n",
    "212-998-0902\n",
    "888-888-2222\n",
    "800-555-1211\n",
    "800 555 1212\n",
    "800.555.1213\n",
    "(800) 555-1214\n",
    "1-800-555-1215\n",
    "1(800)555-1216\n",
    "800-555-1212-1234\n",
    "800-555-1212x1234\n",
    "800-555-1212 ext. 1234\n",
    "work 1-(800) 555.1212 #1234\n",
    "\n",
    "\"\"\"\n",
    "\n",
    "# Notice now that each part of the phone is included in parentheses allowing us to grab individual part of the \n",
    "# phone number\n",
    "\n",
    "regex = re.compile(r'([2-9]\\d{2})\\D*(\\d{3})\\D*(\\d{4})')\n",
    "matches = regex.finditer(TextString)\n",
    "\n",
    "phones = list()\n",
    "for m in matches:\n",
    "    area_code = m.group(1)\n",
    "    first_three_digits = m.group(2)\n",
    "    last_four_digits =  m.group(3)\n",
    "    \n",
    "    phone = \"(\" + area_code + \")\" + first_three_digits + \"-\" + last_four_digits\n",
    "            \n",
    "    phones.append(phone)\n",
    "\n",
    "# Notice that our list does not include numbers with invalid area codes (e.g., 124, 125)\n",
    "phones"
   ]
  },
  {
   "cell_type": "markdown",
   "metadata": {},
   "source": [
    "---"
   ]
  },
  {
   "cell_type": "markdown",
   "metadata": {},
   "source": [
    "# [Python's re Regular Expression Library](https://docs.python.org/3/library/re.html)\n",
    "\n",
    "We are going to move away from using Panos's Grep function now and focus on Python's Regular Expression Library (re). To be clear, the regular expressions remain the same, but ow we call for them and summon them is different. \n",
    "\n",
    "A quick note on match groups, too. [_Documentation_](https://docs.python.org/2/library/re.html)\n",
    "\n",
    "`group([group1, ...]) returns one or more subgroups of the match. If there is a single argument, the result is a single string; if there are multiple arguments, the result is a tuple with one item per argument. Without arguments, group1 defaults to zero (the whole match is returned). If a groupN argument is zero, the corresponding return value is the entire matching string; if it is in the inclusive range [1..99], it is the string matching the corresponding parenthesized group. If a group number is negative or larger than the number of groups defined in the pattern, an IndexError exception is raised. If a group is contained in a part of the pattern that did not match, the corresponding result is None. If a group is contained in a part of the pattern that matched multiple times, the last match is returned.`\n",
    "\n",
    "For example: \n",
    "```python \n",
    ">>> m = re.match(r\"(\\w+) (\\w+)\", \"Isaac Newton, physicist\")\n",
    ">>> m.group(0)       # The entire match\n",
    "'Isaac Newton'\n",
    ">>> m.group(1)       # The first parenthesized subgroup.\n",
    "'Isaac'\n",
    ">>> m.group(2)       # The second parenthesized subgroup.\n",
    "'Newton'\n",
    ">>> m.group(1, 2)    # Multiple arguments give us a tuple.\n",
    "('Isaac', 'Newton')\n",
    "```"
   ]
  },
  {
   "cell_type": "code",
   "execution_count": null,
   "metadata": {},
   "outputs": [],
   "source": [
    "text = \"Hello, my name is Alex Siegman. Please call me back at 212 555-9583 or email me at as13815@nyu.edu at your \\\n",
    "earliest convenience. Thank you.\""
   ]
  },
  {
   "cell_type": "code",
   "execution_count": null,
   "metadata": {},
   "outputs": [],
   "source": [
    "import re\n",
    "from re import search "
   ]
  },
  {
   "cell_type": "code",
   "execution_count": null,
   "metadata": {},
   "outputs": [],
   "source": [
    "regex = re.compile(r'[Aa]lex')\n",
    "matches = regex.finditer(text)\n",
    "\n",
    "for match in matches: \n",
    "    print(match.group())"
   ]
  },
  {
   "cell_type": "markdown",
   "metadata": {},
   "source": [
    "Let's try and match for an email address:"
   ]
  },
  {
   "cell_type": "code",
   "execution_count": null,
   "metadata": {},
   "outputs": [],
   "source": [
    "regex = re.compile(r'\\w+@\\w+\\..{3}')\n",
    "\n",
    "matches = regex.finditer(text)\n",
    "\n",
    "for match in matches: \n",
    "    print(match.group())                 "
   ]
  },
  {
   "cell_type": "markdown",
   "metadata": {},
   "source": [
    "How about for a phone number? "
   ]
  },
  {
   "cell_type": "code",
   "execution_count": null,
   "metadata": {},
   "outputs": [],
   "source": [
    "regex = re.compile(r'\\d{3} \\d{3}-\\d{4}')\n",
    "\n",
    "matches = regex.finditer(text)\n",
    "\n",
    "for match in matches: \n",
    "    print(match.group()) "
   ]
  },
  {
   "cell_type": "markdown",
   "metadata": {},
   "source": [
    "And what if you have multiple matches in the same string? "
   ]
  },
  {
   "cell_type": "code",
   "execution_count": null,
   "metadata": {},
   "outputs": [],
   "source": [
    "text = \"Hello, my name is Alex Siegman. Please call me back at 212 555-9583 or 314 935-9981 or email me at as13815@nyu.edu at your \\\n",
    "earliest convenience. Thank you.\""
   ]
  },
  {
   "cell_type": "code",
   "execution_count": null,
   "metadata": {},
   "outputs": [],
   "source": [
    "# we can use 'finditer' that returns a collection of MatchObject items\n",
    "\n",
    "regex = re.compile(r'\\d{3} \\d{3}-\\d{4}')\n",
    "\n",
    "matches = regex.finditer(text)\n",
    "for i, match in enumerate(matches):\n",
    "    print(i+1, \"==>\", match.group())\n",
    "    \n",
    "# FYI the 'search' term only returns the first MatchObject item"
   ]
  },
  {
   "cell_type": "markdown",
   "metadata": {},
   "source": [
    "---"
   ]
  },
  {
   "cell_type": "markdown",
   "metadata": {},
   "source": [
    "## Data Extraction \n",
    "\n",
    "It's awesome that we can return our matches here in our notebook, but what we really want to do is select the strings that match our regex and return them to a program to be processed. For example: "
   ]
  },
  {
   "cell_type": "code",
   "execution_count": null,
   "metadata": {},
   "outputs": [],
   "source": [
    "regex = re.compile(r\"\"\"(\\d{3}) # the area code\n",
    "                       \\D* # zero or more non-digits\n",
    "                       (\\d{3}) # three digits\n",
    "                       \\D* # zero or more non-digits\n",
    "                       (\\d{4}) # four digits\n",
    "                    \"\"\", re.VERBOSE)\n",
    "\n",
    "matches = regex.finditer(text)\n",
    "for match in matches:\n",
    "    print(match.group())\n",
    "    print(\"Formatted:\", match.group(1),\"-\", match.group(2), \"-\", match.group(3))\n",
    "    print(\"===========\")"
   ]
  },
  {
   "cell_type": "markdown",
   "metadata": {},
   "source": [
    "What about our large 'file' of ill-formatted phone numbers from earlier? "
   ]
  },
  {
   "cell_type": "code",
   "execution_count": null,
   "metadata": {},
   "outputs": [],
   "source": [
    "TextString = \"\"\"\n",
    "\n",
    "679-397-5255\n",
    "2126660921\n",
    "212-998-0902\n",
    "888-888-2222\n",
    "800-555-1211\n",
    "800 555 1212\n",
    "800.555.1213\n",
    "(800) 555-1214\n",
    "1-800-555-1215\n",
    "1(800)555-1216\n",
    "800-555-1212-1234\n",
    "800-555-1212x1234\n",
    "800-555-1212 ext. 1234\n",
    "work 1-(800) 555.1212 #1234\n",
    "\n",
    "\"\"\""
   ]
  },
  {
   "cell_type": "code",
   "execution_count": null,
   "metadata": {},
   "outputs": [],
   "source": [
    "regex = re.compile(r'(\\d{3})\\D*(\\d{3})\\D*(\\d{4})')\n",
    "matches = regex.finditer(TextString)\n",
    "\n",
    "phones = list()\n",
    "\n",
    "for m in matches:\n",
    "    area_code = m.group(1)\n",
    "    first_three_digits = m.group(2)\n",
    "    last_four_digits =  m.group(3)\n",
    "    \n",
    "    phone = \"(\" + area_code + \")\" + first_three_digits + \"-\" + last_four_digits\n",
    "            \n",
    "    phones.append(phone)\n",
    "\n",
    "phones"
   ]
  },
  {
   "cell_type": "markdown",
   "metadata": {},
   "source": [
    "## String Replacement\n",
    "\n",
    "String Replacement (.sub()) allows us to return a version of our text where all instances that matched have been substituted with a replacement. For instance, if we want to mask phone numbers in a document: "
   ]
  },
  {
   "cell_type": "code",
   "execution_count": null,
   "metadata": {},
   "outputs": [],
   "source": [
    "regex = re.compile('(\\d{3})\\D*(\\d{3})\\D*(\\d{4})')\n",
    "\n",
    "newstring = re.sub(regex, \"XXX-XXX-XXXX\", raw_text)\n",
    "\n",
    "print(newstring)"
   ]
  },
  {
   "cell_type": "markdown",
   "metadata": {},
   "source": [
    "---"
   ]
  },
  {
   "cell_type": "code",
   "execution_count": null,
   "metadata": {},
   "outputs": [],
   "source": []
  }
 ],
 "metadata": {
  "kernelspec": {
   "display_name": "Python 3",
   "language": "python",
   "name": "python3"
  },
  "language_info": {
   "codemirror_mode": {
    "name": "ipython",
    "version": 3
   },
   "file_extension": ".py",
   "mimetype": "text/x-python",
   "name": "python",
   "nbconvert_exporter": "python",
   "pygments_lexer": "ipython3",
   "version": "3.7.3"
  }
 },
 "nbformat": 4,
 "nbformat_minor": 2
}
