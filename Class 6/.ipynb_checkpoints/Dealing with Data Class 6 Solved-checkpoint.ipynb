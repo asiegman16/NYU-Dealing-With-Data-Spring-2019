{
 "cells": [
  {
   "cell_type": "markdown",
   "metadata": {},
   "source": [
    "# Dealing with Data Spring 2020 – Class 6"
   ]
  },
  {
   "cell_type": "markdown",
   "metadata": {},
   "source": [
    "---"
   ]
  },
  {
   "cell_type": "markdown",
   "metadata": {},
   "source": [
    "# GROUP BY"
   ]
  },
  {
   "cell_type": "markdown",
   "metadata": {},
   "source": [
    "```sql\n",
    "SELECT A1, Aggregation Function [count(*), sum(*), avg(*), min, etc.]\n",
    "FROM T1, T2, ... Tm\n",
    "WHERE condition\n",
    "GROUP BY A1\n",
    "```"
   ]
  },
  {
   "cell_type": "markdown",
   "metadata": {},
   "source": [
    "`count(*)` counts the number of rows in the group <br> \n",
    "`count(attr)` counts the number of rows in the group with non-null values for the attribute <br> \n",
    "`count(DISTINCT attr)` counts the number of distinct, non-null values for the attributes in the group <br> \n",
    "`max(attr)` row with maximum attribute value in the group <br>\n",
    "`min(attr)` row with minimum value in the group <br>\n",
    "`sum(attr)` sum values of selected rows in the group <br>\n",
    "`avg(attr)` estimates the average attribute in the group"
   ]
  },
  {
   "cell_type": "markdown",
   "metadata": {},
   "source": [
    "---"
   ]
  },
  {
   "cell_type": "markdown",
   "metadata": {},
   "source": [
    "# Exercise 1: \n",
    "\n",
    "> Find the most popular Category for NYC filming permits"
   ]
  },
  {
   "cell_type": "code",
   "execution_count": 4,
   "metadata": {},
   "outputs": [],
   "source": [
    "# your code here"
   ]
  },
  {
   "cell_type": "markdown",
   "metadata": {},
   "source": [
    "# Solution"
   ]
  },
  {
   "cell_type": "markdown",
   "metadata": {},
   "source": [
    "```SQL \n",
    "SELECT Category, COUNT(DISTINCT EventID) as film_permits\n",
    "FROM nyc_film_permits\n",
    "GROUP BY Category\n",
    "ORDER BY film_permits DESC;\n",
    "```"
   ]
  },
  {
   "cell_type": "markdown",
   "metadata": {},
   "source": [
    "---"
   ]
  },
  {
   "cell_type": "markdown",
   "metadata": {},
   "source": [
    "# Exercise 2: \n",
    "\n",
    ">  Find the most popular Borough by Category for NYC filming permits."
   ]
  },
  {
   "cell_type": "code",
   "execution_count": 6,
   "metadata": {},
   "outputs": [],
   "source": [
    "# your code here"
   ]
  },
  {
   "cell_type": "markdown",
   "metadata": {},
   "source": [
    "# Solution"
   ]
  },
  {
   "cell_type": "markdown",
   "metadata": {},
   "source": [
    "```SQL\n",
    "SELECT Category, Boroug, COUNT(DISTINCT EventID) as film_permits\n",
    "FROM nyc_film_permits\n",
    "GROUP BY Category, Borough\n",
    "ORDER BY Category ASC, film_permits DESC;\n",
    "```"
   ]
  },
  {
   "cell_type": "markdown",
   "metadata": {},
   "source": [
    "---"
   ]
  },
  {
   "cell_type": "markdown",
   "metadata": {},
   "source": [
    "# Exercise 3: \n",
    "\n",
    "> Find the year and zipcode with the most tax returns in NYC"
   ]
  },
  {
   "cell_type": "markdown",
   "metadata": {},
   "source": [
    "# Solution"
   ]
  },
  {
   "cell_type": "markdown",
   "metadata": {},
   "source": [
    "```SQL\n",
    "SELECT zipcode, year, SUM(return_count) as total_returns\n",
    "FROM irs_nyc_tax_returns\n",
    "GROUP BY zipcode, year\n",
    "ORDER BY total_returns DESC;\n",
    "```"
   ]
  },
  {
   "cell_type": "markdown",
   "metadata": {},
   "source": [
    "---"
   ]
  },
  {
   "cell_type": "markdown",
   "metadata": {},
   "source": [
    "# HAVING"
   ]
  },
  {
   "cell_type": "markdown",
   "metadata": {},
   "source": [
    "```sql \n",
    "SELECT A1, Aggregation Function\n",
    "FROM T1, T2, ... Tm\n",
    "WHERE condition\n",
    "GROUP BY A1\n",
    "HAVING Aggregation Function Condition\n",
    "```\n",
    "<br>\n",
    "\n",
    "`WHERE` applies to rows _before_ computing the aggregate <br>\n",
    "`HAVING` applies to the aggregate value only"
   ]
  },
  {
   "cell_type": "markdown",
   "metadata": {},
   "source": [
    "`WHERE`\n",
    "\n",
    "```SQL\n",
    "SELECT zipcode, year, SUM(return_count) as total_returns\n",
    "FROM irs_nyc_tax_returns\n",
    "WHERE total_returns > 10000\n",
    "GROUP BY zipcode, year\n",
    "ORDER BY total_returns DESC;\n",
    "```"
   ]
  },
  {
   "cell_type": "markdown",
   "metadata": {},
   "source": [
    "`HAVING`\n",
    "\n",
    "```SQL\n",
    "SELECT zipcode, year, SUM(return_count) as total_returns\n",
    "FROM irs_nyc_tax_returns\n",
    "GROUP BY zipcode, year\n",
    "HAVING total_returns > 10000\n",
    "ORDER BY total_returns DESC;\n",
    "```"
   ]
  },
  {
   "cell_type": "markdown",
   "metadata": {},
   "source": [
    "---"
   ]
  },
  {
   "cell_type": "markdown",
   "metadata": {},
   "source": [
    "# Exercise 6: \n",
    "\n",
    "> Find the subcategories with more than 5,000 NYC filming permits in the database."
   ]
  },
  {
   "cell_type": "code",
   "execution_count": 11,
   "metadata": {},
   "outputs": [],
   "source": [
    "# your code here"
   ]
  },
  {
   "cell_type": "markdown",
   "metadata": {},
   "source": [
    "# Solution"
   ]
  },
  {
   "cell_type": "markdown",
   "metadata": {},
   "source": [
    "```SQL \n",
    "SELECT Category, SubCategoryName, COUNT(DISTINCT EventID) as permit_count\n",
    "FROM nyc_film_permits\n",
    "GROUP BY Category, SubCategoryName\n",
    "HAVING permit_count > 5000\n",
    "ORDER BY permit_count DESC;\n",
    "```"
   ]
  },
  {
   "cell_type": "markdown",
   "metadata": {},
   "source": [
    "---"
   ]
  },
  {
   "cell_type": "markdown",
   "metadata": {},
   "source": [
    "# Exercise 7: \n",
    "\n",
    "> Find the year where \"Commercials\" had fewer than 700 filming permits.\n",
    "\n"
   ]
  },
  {
   "cell_type": "code",
   "execution_count": 1,
   "metadata": {},
   "outputs": [],
   "source": [
    "# your code here"
   ]
  },
  {
   "cell_type": "markdown",
   "metadata": {},
   "source": [
    "# Solution"
   ]
  },
  {
   "cell_type": "markdown",
   "metadata": {},
   "source": [
    "```SQL \n",
    "SELECT STRFTIME('%Y',StartDateTime) as permit_year, COUNT(DISTINCT EventID) as permit_count\n",
    "FROM nyc_film_permits\n",
    "WHERE LOWER(Category) = \"commercial\" \n",
    "GROUP BY permit_year\n",
    "HAVING permit_count < 700\n",
    "ORDER BY permit_count DESC;\n",
    "```"
   ]
  },
  {
   "cell_type": "markdown",
   "metadata": {},
   "source": [
    "---"
   ]
  },
  {
   "cell_type": "markdown",
   "metadata": {},
   "source": [
    "# Conditional Construction: CASE"
   ]
  },
  {
   "cell_type": "markdown",
   "metadata": {},
   "source": [
    "```SQL\n",
    "CASE\n",
    "    WHEN condition THEN result\n",
    "    WHEN condition2 THEN result2\n",
    "    ELSE result\n",
    "END\n",
    "```"
   ]
  },
  {
   "cell_type": "markdown",
   "metadata": {},
   "source": [
    "---"
   ]
  },
  {
   "cell_type": "markdown",
   "metadata": {},
   "source": [
    "# Exercise 8:\n",
    "\n",
    "> Map each zipcode and year's return counts to a \"return count\" bucket"
   ]
  },
  {
   "cell_type": "code",
   "execution_count": 13,
   "metadata": {},
   "outputs": [],
   "source": [
    "# your code here"
   ]
  },
  {
   "cell_type": "markdown",
   "metadata": {},
   "source": [
    "# Solution"
   ]
  },
  {
   "cell_type": "markdown",
   "metadata": {},
   "source": [
    "```SQL \n",
    "SELECT year, zipcode, \n",
    "    CASE\n",
    "        WHEN SUM(return_count) < 5000 THEN \"under 5k returns\" \n",
    "        WHEN SUM(return_count) < 1000 THEN \"5k to 10k returns\" \n",
    "        WHEN SUM(return_count) < 25000 THEN \"10k to 25k returns\" \n",
    "        WHEN SUM(return_count) < 50000 THEN \"25k to 50k returns\" \n",
    "        WHEN SUM(return_count) < 100000 THEN \"50k to 100k returns\" \n",
    "        ELSE \"over 100k returns\" \n",
    "    END AS return_count_bucket\n",
    "FROM irs_nyc_tax_returns\n",
    "GROUP BY year, zipcode;\n",
    "```"
   ]
  },
  {
   "cell_type": "markdown",
   "metadata": {},
   "source": [
    "---"
   ]
  },
  {
   "cell_type": "markdown",
   "metadata": {},
   "source": [
    "# Exercise 9: \n",
    "\n",
    "> Make the results more human friendly by giving a short name for the agi_map_id field results."
   ]
  },
  {
   "cell_type": "code",
   "execution_count": 15,
   "metadata": {},
   "outputs": [],
   "source": [
    "# your code here"
   ]
  },
  {
   "cell_type": "markdown",
   "metadata": {},
   "source": [
    "# Solution"
   ]
  },
  {
   "cell_type": "markdown",
   "metadata": {},
   "source": [
    "```SQL \n",
    "SELECT year, zipcode, \n",
    "    CASE agi_map_id\n",
    "        WHEN 1 THEN \"under 25k\" \n",
    "        WHEN 2 THEN \"25k to 50k\"\n",
    "        WHEN 3 THEN \"50k to 75k\" \n",
    "        WHEN 4 THEN \"75k to 100k\" \n",
    "        WHEN 5 THEN \"100k to 200k\" \n",
    "        ELSE \"over 200k\" \n",
    "    END AS income_level, return_count\n",
    "FROM irs_nyc_tax_returns\n",
    "WHERE zipcode = 10128 AND year = 2013;\n",
    "```"
   ]
  },
  {
   "cell_type": "markdown",
   "metadata": {},
   "source": [
    "---"
   ]
  },
  {
   "cell_type": "markdown",
   "metadata": {},
   "source": [
    "# Exercise 10: \n",
    "\n",
    "> Flatten the IRS database by putting the return_count in a seprate column for each agi_map_id."
   ]
  },
  {
   "cell_type": "code",
   "execution_count": 2,
   "metadata": {},
   "outputs": [],
   "source": [
    "# your code here"
   ]
  },
  {
   "cell_type": "markdown",
   "metadata": {},
   "source": [
    "# Solution"
   ]
  },
  {
   "cell_type": "markdown",
   "metadata": {},
   "source": [
    "```SQL\n",
    "SELECT year, zipcode, \n",
    "    SUM(CASE WHEN agi_map_id = 1 THEN return_count ELSE NULL END) AS agi_under25k,\n",
    "    SUM(CASE WHEN agi_map_id = 2 THEN return_count ELSE NULL END) AS agi_25k_to_50k,\n",
    "    SUM(CASE WHEN agi_map_id = 3 THEN return_count ELSE NULL END) AS agi_50k_to_75k,\n",
    "    SUM(CASE WHEN agi_map_id = 4 THEN return_count ELSE NULL END) AS agi_75k_to_100k,\n",
    "    SUM(CASE WHEN agi_map_id = 5 THEN return_count ELSE NULL END) AS agi_100k_to_200k,\n",
    "    SUM(CASE WHEN agi_map_id = 6 THEN return_count ELSE NULL END) AS agi_over200k\n",
    "FROM irs_nyc_tax_returns\n",
    "GROUP BY year, zipcode;\n",
    "```"
   ]
  },
  {
   "cell_type": "markdown",
   "metadata": {},
   "source": [
    "---"
   ]
  },
  {
   "cell_type": "markdown",
   "metadata": {},
   "source": [
    "# SQL JOINS"
   ]
  },
  {
   "cell_type": "markdown",
   "metadata": {},
   "source": [
    "First and foremost, any join requires a common data field found in both tables that enables the combination. However, those data fields don't need to share a common name, but they must be the same data type!\n",
    "\n",
    "NB: LEFT and RIGHT are determined by order after the FROM command! "
   ]
  },
  {
   "cell_type": "markdown",
   "metadata": {},
   "source": [
    "<img src=\"https://i.stack.imgur.com/VQ5XP.png\">"
   ]
  },
  {
   "cell_type": "markdown",
   "metadata": {},
   "source": [
    "# INNER JOIN\n",
    "\n",
    "> This is the default SQL JOIN, thus you don't even need to specify \"INNER\". <br> <br>\n",
    "\n",
    "1) A new table is created with the columns of both tables you're trying to combine, <br><br>\n",
    "2) It then looks to match values between the columns you specify in your 'ON' statement, <br><br>\n",
    "3) SQL will start with the first value of the specified column in the first table, then look through every value in the specified column of the second table for a match, <br><br>\n",
    "4) If there is a match, SQL will copy the data from both the row of the first table and the row of the second table and put it in the newly created table; It won't add any rows that didn't have a match\n",
    "\n",
    "<br>\n",
    "\n",
    "`AKA an INNER JOIN is going to return all rows when the comparisoin fields (in the \"ON\" statement\") are matching in BOTH tables.`"
   ]
  },
  {
   "cell_type": "code",
   "execution_count": 18,
   "metadata": {},
   "outputs": [
    {
     "data": {
      "text/html": [
       "<img src=\"https://dataschool.com/assets/images/how-to-teach-people-sql/innerJoin/innerJoin_3.gif\">"
      ],
      "text/plain": [
       "<IPython.core.display.HTML object>"
      ]
     },
     "execution_count": 18,
     "metadata": {},
     "output_type": "execute_result"
    }
   ],
   "source": [
    "from IPython.display import HTML\n",
    "HTML('<img src=\"https://dataschool.com/assets/images/how-to-teach-people-sql/innerJoin/innerJoin_3.gif\">')"
   ]
  },
  {
   "cell_type": "markdown",
   "metadata": {},
   "source": [
    "---"
   ]
  },
  {
   "cell_type": "markdown",
   "metadata": {},
   "source": [
    "# Exercise 11: \n",
    "\n",
    "> Combine the IRS tax returns with the human-readable form of the income buckets."
   ]
  },
  {
   "cell_type": "code",
   "execution_count": 27,
   "metadata": {},
   "outputs": [],
   "source": [
    "# your code here"
   ]
  },
  {
   "cell_type": "markdown",
   "metadata": {},
   "source": [
    "# Solution"
   ]
  },
  {
   "cell_type": "markdown",
   "metadata": {},
   "source": [
    "```SQL \n",
    "SELECT map.agi_descrp, SUM(return_count) AS total_returns\n",
    "FROM irs_nyc_tax_returns irs\n",
    "    INNER JOIN irs_agi_map map\n",
    "        ON irs.agi_map_id = map.agi_map_id\n",
    "GROUP BY map.agi_descrp\n",
    "ORDER BY irs.year ASC;\n",
    "```"
   ]
  },
  {
   "cell_type": "markdown",
   "metadata": {},
   "source": [
    "---"
   ]
  },
  {
   "cell_type": "markdown",
   "metadata": {},
   "source": [
    "# Exercise 12: \n",
    "\n",
    "> Find if there's a potential relationship between total filming permits and annual average tax returns for the top 10 zip codes for filming permits. "
   ]
  },
  {
   "cell_type": "code",
   "execution_count": 3,
   "metadata": {},
   "outputs": [],
   "source": [
    "# your code here"
   ]
  },
  {
   "cell_type": "markdown",
   "metadata": {},
   "source": [
    "# Solution"
   ]
  },
  {
   "cell_type": "markdown",
   "metadata": {},
   "source": [
    "```SQL \n",
    "SELECT irs.zipcode, ROUND(AVG(irs.return_count),0) as tax_returns, COUNT(DISTINCT nfp.EventID) as permit_count\n",
    "FROM nyc_film_permits nfp\n",
    "    INNER JOIN irs_nyc_tax_returns irs\n",
    "        ON (irs.zipcode = nfp.zipcode AND strftime('%Y',nfp.EndDateTime) = irs.year)\n",
    "GROUP BY irs.zipcode\n",
    "ORDER BY permit_count DESC\n",
    "LIMIT 10;\n",
    "```"
   ]
  },
  {
   "cell_type": "markdown",
   "metadata": {},
   "source": [
    "---"
   ]
  },
  {
   "cell_type": "markdown",
   "metadata": {},
   "source": [
    "# LEFT JOIN\n",
    "\n",
    "> LEFT refers to the first table, or the table you'll be joining to. <br> <br>\n",
    "> For any rows in the LEFT table that don't have a match in the RIGHT table, it still adds that row to the next table but puts nulls for the missing columns\n",
    "\n",
    "<br> \n",
    "\n",
    "`AKA a LEFT JOIN is going to return all rows from the LEFT table with matching rows from the RIGHT table`"
   ]
  },
  {
   "cell_type": "code",
   "execution_count": 19,
   "metadata": {},
   "outputs": [
    {
     "data": {
      "text/html": [
       "<img src=\"https://dataschool.com/assets/images/how-to-teach-people-sql/leftJoin/leftJoin_1.gif\">"
      ],
      "text/plain": [
       "<IPython.core.display.HTML object>"
      ]
     },
     "execution_count": 19,
     "metadata": {},
     "output_type": "execute_result"
    }
   ],
   "source": [
    "from IPython.display import HTML\n",
    "HTML('<img src=\"https://dataschool.com/assets/images/how-to-teach-people-sql/leftJoin/leftJoin_1.gif\">')"
   ]
  },
  {
   "cell_type": "markdown",
   "metadata": {},
   "source": [
    "---"
   ]
  },
  {
   "cell_type": "markdown",
   "metadata": {},
   "source": [
    "# Exercise 13: \n",
    "\n",
    "> Find the bottom 20 zipcodes for filming permits."
   ]
  },
  {
   "cell_type": "code",
   "execution_count": 29,
   "metadata": {},
   "outputs": [],
   "source": [
    "# your code here"
   ]
  },
  {
   "cell_type": "markdown",
   "metadata": {},
   "source": [
    "# Solution"
   ]
  },
  {
   "cell_type": "markdown",
   "metadata": {},
   "source": [
    "```SQL\n",
    "SELECT irs.zipcode, COUNT(DISTINCT nfp.EventID) as permit_count\n",
    "FROM irs_nyc_tax_returns irs\n",
    "    LEFT OUTER JOIN nyc_film_permits nfp\n",
    "        ON (irs.zipcode = nfp.zipcode AND strftime('%Y',nfp.EndDateTime) = irs.year) \n",
    "GROUP BY irs.zipcode\n",
    "ORDER BY permit_count ASC\n",
    "LIMIT 20;\n",
    "```"
   ]
  },
  {
   "cell_type": "markdown",
   "metadata": {},
   "source": [
    "---"
   ]
  },
  {
   "cell_type": "markdown",
   "metadata": {},
   "source": [
    "# Exercise 14: \n",
    "\n",
    "> Find the percentage of children living in the top 5 filming permit zipcodes over all years in the database."
   ]
  },
  {
   "cell_type": "code",
   "execution_count": 4,
   "metadata": {},
   "outputs": [],
   "source": [
    "# your code here"
   ]
  },
  {
   "cell_type": "markdown",
   "metadata": {},
   "source": [
    "# Solution"
   ]
  },
  {
   "cell_type": "markdown",
   "metadata": {},
   "source": [
    "```SQL\n",
    "SELECT cen.zipcode, 100*(SUM(Age_under5) + SUM(Age_5to9) + SUM(Age_10to14) + SUM(Age_15to19)) / SUM(cen.age_all), \n",
    "COUNT(DISTINCT nfp.EventID) as permit_count\n",
    "FROM nyc_census_data cen\n",
    "    LEFT JOIN nyc_film_permits nfp\n",
    "          ON cen.zipcode = nfp.zipcode\n",
    "GROUP BY cen.zipcode                                                                                 \n",
    "ORDER BY permit_count DESC\n",
    "LIMIT 5;                                                                                \n",
    "```"
   ]
  },
  {
   "cell_type": "markdown",
   "metadata": {},
   "source": [
    "---"
   ]
  },
  {
   "cell_type": "markdown",
   "metadata": {},
   "source": [
    "# RIGHT JOIN\n",
    "\n",
    "> RIGHT refers to the second table, or the table you'll be joining in. <br> <br>\n",
    "> A RIGHT JOIN can be re-written as a LEFT JOIN, and is thus much more rare in practice."
   ]
  },
  {
   "cell_type": "markdown",
   "metadata": {},
   "source": [
    "---"
   ]
  },
  {
   "cell_type": "markdown",
   "metadata": {},
   "source": [
    "# Exercise : \n",
    "\n",
    "> "
   ]
  },
  {
   "cell_type": "code",
   "execution_count": 28,
   "metadata": {},
   "outputs": [],
   "source": [
    "# your code here"
   ]
  },
  {
   "cell_type": "markdown",
   "metadata": {},
   "source": [
    "# Solution"
   ]
  },
  {
   "cell_type": "code",
   "execution_count": null,
   "metadata": {},
   "outputs": [],
   "source": []
  },
  {
   "cell_type": "markdown",
   "metadata": {},
   "source": [
    "---"
   ]
  },
  {
   "cell_type": "markdown",
   "metadata": {},
   "source": [
    "# FULL OUTER JOIN\n",
    "\n",
    "> FULL OUTER refers to the first table, or the table you'll be joining to (in this case, the Facebook table since it comes before LinkedIn in the query). <br> \n",
    "> After completing a LEFT join of the data, it basically perorms a RIGHT join – only checking ot see if each value is present in the joined table. If it is not, SQL will add this row to the new table and put nulls for the columns from the other table."
   ]
  },
  {
   "cell_type": "code",
   "execution_count": 20,
   "metadata": {},
   "outputs": [
    {
     "data": {
      "text/html": [
       "<img src=\"https://dataschool.com/assets/images/how-to-teach-people-sql/fullOuter/fullOuter_1.gif\">"
      ],
      "text/plain": [
       "<IPython.core.display.HTML object>"
      ]
     },
     "execution_count": 20,
     "metadata": {},
     "output_type": "execute_result"
    }
   ],
   "source": [
    "from IPython.display import HTML\n",
    "HTML('<img src=\"https://dataschool.com/assets/images/how-to-teach-people-sql/fullOuter/fullOuter_1.gif\">')"
   ]
  },
  {
   "cell_type": "markdown",
   "metadata": {},
   "source": [
    "# Exercise : \n",
    "\n",
    "> "
   ]
  },
  {
   "cell_type": "code",
   "execution_count": 30,
   "metadata": {},
   "outputs": [],
   "source": [
    "# your code here"
   ]
  },
  {
   "cell_type": "markdown",
   "metadata": {},
   "source": [
    "# Solution"
   ]
  },
  {
   "cell_type": "code",
   "execution_count": null,
   "metadata": {},
   "outputs": [],
   "source": []
  },
  {
   "cell_type": "markdown",
   "metadata": {},
   "source": [
    "---"
   ]
  },
  {
   "cell_type": "markdown",
   "metadata": {},
   "source": [
    "# UNION"
   ]
  },
  {
   "cell_type": "code",
   "execution_count": 21,
   "metadata": {},
   "outputs": [],
   "source": [
    "# https://dataschool.com/how-to-teach-people-sql/union-animated/"
   ]
  },
  {
   "cell_type": "code",
   "execution_count": 22,
   "metadata": {
    "scrolled": true
   },
   "outputs": [
    {
     "data": {
      "text/html": [
       "<img src=\"https://dataschool.com/assets/images/how-to-teach-people-sql/union/union_2.gif\">"
      ],
      "text/plain": [
       "<IPython.core.display.HTML object>"
      ]
     },
     "execution_count": 22,
     "metadata": {},
     "output_type": "execute_result"
    }
   ],
   "source": [
    "from IPython.display import HTML\n",
    "HTML('<img src=\"https://dataschool.com/assets/images/how-to-teach-people-sql/union/union_2.gif\">')"
   ]
  },
  {
   "cell_type": "markdown",
   "metadata": {},
   "source": [
    "---"
   ]
  },
  {
   "cell_type": "markdown",
   "metadata": {},
   "source": [
    "# Exercise : \n",
    "\n",
    "> "
   ]
  },
  {
   "cell_type": "code",
   "execution_count": 31,
   "metadata": {},
   "outputs": [],
   "source": [
    "# your code here"
   ]
  },
  {
   "cell_type": "markdown",
   "metadata": {},
   "source": [
    "# Solution"
   ]
  },
  {
   "cell_type": "code",
   "execution_count": null,
   "metadata": {},
   "outputs": [],
   "source": []
  },
  {
   "cell_type": "markdown",
   "metadata": {},
   "source": [
    "---"
   ]
  },
  {
   "cell_type": "markdown",
   "metadata": {},
   "source": [
    "# CROSS JOIN"
   ]
  },
  {
   "cell_type": "code",
   "execution_count": 23,
   "metadata": {},
   "outputs": [],
   "source": [
    "# https://dataschool.com/how-to-teach-people-sql/cross-join-animated/"
   ]
  },
  {
   "cell_type": "code",
   "execution_count": 24,
   "metadata": {},
   "outputs": [
    {
     "data": {
      "text/html": [
       "<img src=\"https://dataschool.com/assets/images/how-to-teach-people-sql/crossJoin/crossJoin_1.gif\">"
      ],
      "text/plain": [
       "<IPython.core.display.HTML object>"
      ]
     },
     "execution_count": 24,
     "metadata": {},
     "output_type": "execute_result"
    }
   ],
   "source": [
    "from IPython.display import HTML\n",
    "HTML('<img src=\"https://dataschool.com/assets/images/how-to-teach-people-sql/crossJoin/crossJoin_1.gif\">')"
   ]
  },
  {
   "cell_type": "markdown",
   "metadata": {},
   "source": [
    "---"
   ]
  },
  {
   "cell_type": "markdown",
   "metadata": {},
   "source": [
    "# Exercise : \n",
    "\n",
    "> "
   ]
  },
  {
   "cell_type": "code",
   "execution_count": 32,
   "metadata": {},
   "outputs": [],
   "source": [
    "# your code here"
   ]
  },
  {
   "cell_type": "markdown",
   "metadata": {},
   "source": [
    "# Solution"
   ]
  },
  {
   "cell_type": "code",
   "execution_count": null,
   "metadata": {},
   "outputs": [],
   "source": []
  },
  {
   "cell_type": "markdown",
   "metadata": {},
   "source": [
    "---"
   ]
  },
  {
   "cell_type": "code",
   "execution_count": 25,
   "metadata": {},
   "outputs": [],
   "source": [
    "# PRACTICE QUERIES FOR EACH, MAKE THEM GUESS WHICH TO USE AND THEN USE IT"
   ]
  },
  {
   "cell_type": "markdown",
   "metadata": {},
   "source": [
    "---"
   ]
  },
  {
   "cell_type": "markdown",
   "metadata": {},
   "source": [
    "# Subqueries"
   ]
  },
  {
   "cell_type": "markdown",
   "metadata": {},
   "source": [
    "Subqueries are temporary tables created with nested SELECT statements where a table should be that allow for deeper analysis with SQL. "
   ]
  },
  {
   "cell_type": "code",
   "execution_count": 26,
   "metadata": {},
   "outputs": [],
   "source": [
    "# AS "
   ]
  },
  {
   "cell_type": "code",
   "execution_count": null,
   "metadata": {},
   "outputs": [],
   "source": [
    "# WITH clauses create a Common Table Expression (CTE) and enables sub-query empowered \n",
    "# analyses with easier SQL codebase"
   ]
  },
  {
   "cell_type": "code",
   "execution_count": null,
   "metadata": {},
   "outputs": [],
   "source": [
    "# EXAMPLES"
   ]
  },
  {
   "cell_type": "markdown",
   "metadata": {},
   "source": [
    "---"
   ]
  },
  {
   "cell_type": "markdown",
   "metadata": {},
   "source": [
    "> Find the top 10 zipcodes with the largest percentage of persons of Latino/Hispanic descent, and calculate the percentage of adults and percentage of six-figure income earners in those zipcodes. "
   ]
  },
  {
   "cell_type": "markdown",
   "metadata": {},
   "source": [
    "```SQL \n",
    "SELECT cen.zipcode, \n",
    "100*(SUM(Age_under5) + SUM(Age_5to9) + SUM(Age_10to14) + SUM(Age_15to19)) / SUM(cen.age_all) AS adult_pct, \n",
    "100*SUM(cen.Ethnicity_All_HispanicLatino_Descent) / SUM(cen.Age_all) AS latino_pct,\n",
    "100*SUM(irs.agi_over200k) + SUM(irs.agi_100k_to_200k)) / SUM(total_returns) AS six_figure_income_pct                 FROM nyc_census_data cen\n",
    "     INNER JOIN( \n",
    "         SELECT \n",
    "             year, \n",
    "             zipcode, \n",
    "             SUM(CASE WHEN agi_map_id = 1 THEN return_count ELSE NULL END) AS agi_under25k,\n",
    "             SUM(CASE WHEN agi_map_id = 2 THEN return_count ELSE NULL END) AS agi_25k_to_50k,\n",
    "             SUM(CASE WHEN agi_map_id = 3 THEN return_count ELSE NULL END) AS agi_50k_to_75k,\n",
    "             SUM(CASE WHEN agi_map_id = 4 THEN return_count ELSE NULL END) AS agi_75k_to_100k,\n",
    "             SUM(CASE WHEN agi_map_id = 5 THEN return_count ELSE NULL END) AS agi_100k_to_200k,\n",
    "             SUM(CASE WHEN agi_map_id = 6 THEN return_count ELSE NULL END) AS agi_over200k,\n",
    "             SUM(return_count) AS total_returns\n",
    "        FROM irs_nyc_tax_returns\n",
    "        GROUP BY year, zipcode\n",
    "        ) irs ON cen.zipcode = irs.zipcode\n",
    "WHERE irs.year = 2012\n",
    "GROUP BY cen.zipcode\n",
    "ORDER BY latino_pct DESC\n",
    "LIMIT 10;                                                    \n",
    "```"
   ]
  },
  {
   "cell_type": "code",
   "execution_count": 5,
   "metadata": {},
   "outputs": [],
   "source": [
    "# This time with CTE"
   ]
  },
  {
   "cell_type": "markdown",
   "metadata": {},
   "source": [
    "```SQL \n",
    "WITH flat_irs AS( \n",
    "    SELECT \n",
    "        year,\n",
    "        zipcode, \n",
    "        SUM(CASE WHEN agi_map_id = 1 THEN return_count ELSE NULL END) AS agi_under25k,\n",
    "        SUM(CASE WHEN agi_map_id = 2 THEN return_count ELSE NULL END) AS agi_25k_to_50k,\n",
    "        SUM(CASE WHEN agi_map_id = 3 THEN return_count ELSE NULL END) AS agi_50k_to_75k,\n",
    "        SUM(CASE WHEN agi_map_id = 4 THEN return_count ELSE NULL END) AS agi_75k_to_100k,\n",
    "        SUM(CASE WHEN agi_map_id = 5 THEN return_count ELSE NULL END) AS agi_100k_to_200k,\n",
    "        SUM(CASE WHEN agi_map_id = 6 THEN return_count ELSE NULL END) AS agi_over200k,\n",
    "        SUM(return_count) AS total_returns\n",
    "    FROM irs_nyc_tax_returns\n",
    "    GROUP BY year, zipcode\n",
    "    )\n",
    "    \n",
    "SELECT cen.zipcode, \n",
    "       100*(SUM(Age_under5) + SUM(Age_5to9) + SUM(Age_10to14) + SUM(Age_15to19)) / SUM(cen.age_all) AS adult_pct, \n",
    "       100*SUM(cen.Ethnicity_All_HispanicLatino_Descent) / SUM(cen.Age_all) AS latino_pct,\n",
    "       100*SUM(irs.agi_over200k) + SUM(irs.agi_100k_to_200k)) / SUM(total_returns) AS six_figure_income_pct           FROM nyc_census_data cen\n",
    "     INNER JOIN flat_irs irs\n",
    "         ON cen.zipcode = irs.zipcode                                      \n",
    "WHERE irs.year = 2012\n",
    "GROUP BY cen.zipcode\n",
    "ORDER BY latino_pct DESC\n",
    "LIMIT 10;                                                                                         \n",
    "```"
   ]
  },
  {
   "cell_type": "code",
   "execution_count": 6,
   "metadata": {},
   "outputs": [],
   "source": [
    "# we want to compare the demographic makeup of NYC versus the demographic makeup of the \"NYC on video media \n",
    "# (films/TV)\". To do that we need to understand the percentage of NYC citizens in each major demographic bucket to \n",
    "# compare versus the films. "
   ]
  },
  {
   "cell_type": "markdown",
   "metadata": {},
   "source": [
    "```SQL \n",
    "WITH \n",
    "/* Get US Census demographic totals for major categories for each zipcode */\n",
    "nyc_cen AS ( \n",
    "    SELECT \n",
    "        cen.zipcode,\n",
    "    /* Gender */ \n",
    "        SUM(cen.Gender_Male) AS gen_male_cnt,\n",
    "        SUM(cen.Gender_Female) AS gen_female_cnt,\n",
    "   /* Ages */ \n",
    "        SUM(cen.Age_under5) + SUM(cen.Age_5to9) + SUM(cen.Age_10to14) + SUM(cen.Age_15to19) AS age_under19_cnt,\n",
    "        SUM(cen.Age_20to24) + SUM(cen.Age_25to29) + SUM(cen.Age_30to34) AS age_20to34_cnt,\n",
    "        SUM(cen.Age_35to39) + SUM(cen.Age_40to44) + SUM(cen.Age_45to49) + SUM(cen.Age_50to54) AS age_25to54_cnt, \n",
    "        SUM(cen.Age_over84) + SUM_cen.Age_80to84) + SUM(cen.Age_75to79) + SUM(cen.Age_70to74) AS age_over70_cnt,\n",
    "        SUM(Age_all) \n",
    "            - ( --child count\n",
    "                SUM(cen.Age_under5) + SUM(cen.Age_5to9) + SUM(cen.Age_10to14) + SUM(cen.Age_15to19)\n",
    "              )\n",
    "            - ( --senior citizen count\n",
    "                SUM(cen.Age_over84) + SUM(cen.Age_80to84) + SUM(cen.Age_75to79) + SUM(cen.Age_70to74)\n",
    "              )\n",
    "            - ( --young adult count\n",
    "                SUM(cen.Age_20to24) + SUM(cen.Age_25to29) + SUM(cen.Age_30to34) \n",
    "              ) \n",
    "            - ( --primce earning years count \n",
    "                SUM(cen.Age_35to39) + SUM(cen.Age_40to44) + SUM(cen.Age_45to49) + SUM(cen.Age_50to54) \n",
    "              )\n",
    "          AS age_55to70_cnt,\n",
    "  /* Ethnicity */ \n",
    "      SUM(cen.Ethnicity_White) AS eth_euro_cnt,\n",
    "      SUM(cen.Ethnicity_AfricanAmerican) AS eth_african_cnt,\n",
    "      SUM(cen.Ethnicity_Asian) + SUM(cen.Ethnicity_PacificIslander) AS eth_asiapac_cnt,\n",
    "      SUM(cen.Ethnicity_NativeAmerican) + SUM(cen.Ethnicity_Other) AS eth_other_cnt,\n",
    "      SUM(cen.Ethnicity_All_HispanicLatnio_Descent) AS eth_hislat_descent_cnt,\n",
    "  /* Total Pop */ \n",
    "      SUM(cen.Age_all) as total_pop_cnt\n",
    "FROM nyc_census_data cen\n",
    "GROUP BY cen.zipcode\n",
    "ORDER BY cen.zipcode ASC\n",
    "), \n",
    "\n",
    "/* Get IRS income category totals for each zipcode */ \n",
    "\n",
    "nyc_irs AS ( \n",
    "    SELECT \n",
    "        zipcode, \n",
    "        SUM(CASE WHEN agi_map_id IN (1,2) THEN return_count ELSE NULL END) AS agi_under50k_return_cnt,\n",
    "        SUM(CASE WHEN agi_map_id IN (3,4) THEN return_count ELSE NULL END) AS agi_50k_to_100k_return_cnt,\n",
    "        SUM(CASE WHEN agi_map_id IN (5,6) THEN return_count ELSE NULL END) AS agi_over100k_return_cnt,\n",
    "        SUM(return_count) AS total_return_cnt\n",
    "    FROM irs_nyc_tax_returns\n",
    "    WHERE year >= 2012 AND year <= 2015\n",
    "    GROUP BY zipcode\n",
    "    ORDER BY zipcode ASC\n",
    "    ), \n",
    "\n",
    "/* Get totals for NYC zips */ \n",
    "\n",
    "nyc_total_cnt_by_zip AS ( \n",
    "    SELECT \n",
    "        cen.*,\n",
    "        irs.agi_under50k_return_cnt,\n",
    "        irs.agi_50k_to_100k_return_cnt,\n",
    "        irs.agi_over100k_return_cnt,\n",
    "        irs.total_return_cnt\n",
    "    FROM nyc_cen cen\n",
    "        INNER JOIN nyc_irs irs\n",
    "            ON (cen.zipcode = irs.zipcode) \n",
    "    ORDER BY \n",
    "        cen.zipcode\n",
    "    )\n",
    "    \n",
    "/* NYC demographic makeup using 2010 Census and tax returns from 2012 - 2015 */ \n",
    "\n",
    "SELECT \n",
    "-- label \n",
    "    \"all nyc\" AS description, \n",
    "-- gender\n",
    "    CAST(SUM(gen_male_cnt) AS Float) / SUM(total_pop_cnt) AS gen_male_pct,\n",
    "    CAST(SUM(gen_female_cnt) AS Float) / SUM(total_pop_cnt) AS gen_female_pct,\n",
    "-- age\n",
    "    CAST(SUM(age_under19_cnt) AS Float) / SUM(total_pop_cnt) AS age_under19_pct,\n",
    "    CAST(SUM(age_20to34_cnt) AS Float) / SUM(total_pop_cnt) AS age_20to34_pct,\n",
    "    CAST(SUM(age_25to54_cnt) AS Float) / SUM(total_pop_cnt) AS age_25to54_pct,\n",
    "    CAST(SUM(age_55to80_cnt) AS Float) / SUM(total_pop_cnt) AS age_55to70_pct,\n",
    "    CAST(SUM(age_over70_cnt) AS Float) / SUM(total_pop_cnt) AS age_over_70pct,\n",
    "-- income \n",
    "    CAST(SUM(agi_under50k_return_cnt) AS Float) / SUM(total_return_cnt) AS agi_under50k_return_pct,\n",
    "    CAST(SUM(agi_50k_to_100k_return_cnt) AS Float) / SUM(total_return_cnt) AS agi_50k_to_100k_return_pct,\n",
    "    CAST(SUM(agi_over100k_return_cnt) AS Float) / SUM(total_return_cnt) AS agi_over100k_return_pct,\n",
    "-- ethnicity \n",
    "    CAST(SUM(eth_euro_cnt) AS Float) / SUM(total_pop_cnt) AS eth_euro_pct,\n",
    "    CAST(SUM(eth_african_cnt) AS Float) / SUM(total_pop_cnt) AS eth_african_pct,\n",
    "    CAST(SUM(eth_asiapac_cnt) AS Float) / SUM(total_pop_cnt) AS eth_asiapac_pct,\n",
    "    CAST(SUM(eth_other_cnt) AS Float) / SUM(total_pop_cnt) AS eth_other_pct, \n",
    "    CAST(SUM(eth_hislat_descent_cnt) AS Float) / SUM(total_pop_cnt) AS eth_hislat_descent_pct\n",
    "FROM nyc_total_cnt_by_zip\n",
    "\n",
    "\n",
    "```"
   ]
  },
  {
   "cell_type": "code",
   "execution_count": null,
   "metadata": {},
   "outputs": [],
   "source": []
  },
  {
   "cell_type": "code",
   "execution_count": null,
   "metadata": {},
   "outputs": [],
   "source": []
  }
 ],
 "metadata": {
  "kernelspec": {
   "display_name": "Python 3",
   "language": "python",
   "name": "python3"
  },
  "language_info": {
   "codemirror_mode": {
    "name": "ipython",
    "version": 3
   },
   "file_extension": ".py",
   "mimetype": "text/x-python",
   "name": "python",
   "nbconvert_exporter": "python",
   "pygments_lexer": "ipython3",
   "version": "3.7.3"
  }
 },
 "nbformat": 4,
 "nbformat_minor": 2
}
