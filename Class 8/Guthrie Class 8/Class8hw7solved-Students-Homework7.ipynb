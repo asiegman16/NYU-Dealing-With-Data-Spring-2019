{
 "cells": [
  {
   "cell_type": "markdown",
   "metadata": {},
   "source": [
    "# Dealing with Data Spring 2019 (INFO-GB.2346.30)\n",
    "## Homework #7 - SOLVED VERISON"
   ]
  },
  {
   "cell_type": "markdown",
   "metadata": {},
   "source": [
    "### **Problem 1 (4 points):**\n",
    "Use our Class Project SQLite3 database through Python to find the zip codes who each had at least 10,000 residents earning 100,000 USD or more annually during 2016. Print your results in ascending order by zipcode, for example: 10001, 10002."
   ]
  },
  {
   "cell_type": "code",
   "execution_count": 11,
   "metadata": {},
   "outputs": [
    {
     "name": "stdout",
     "output_type": "stream",
     "text": [
      "['10003', '10011', '10016', '10019', '10021', '10022', '10023', '10024', '10025', '10028', '10128', '10583', '11201', '11215', '11375']\n"
     ]
    }
   ],
   "source": [
    "## solution\n",
    "import sqlite3, os\n",
    "os.chdir(r'C:\\Users\\colling\\!dwd_spring2019\\classes\\class8')\n",
    "\n",
    "# setup location variables for the database\n",
    "db_location = r'nyc_film_db_final.db'\n",
    "\n",
    "# Create the connection\n",
    "db_connect = sqlite3.connect(db_location)\n",
    "\n",
    "# create SQL statement\n",
    "sql_cmd = '''\n",
    "SELECT zipcode \n",
    "FROM irs_nyc_tax_returns \n",
    "WHERE agi_map_id IN (5,6) AND year = \"2016\" \n",
    "GROUP BY zipcode \n",
    "HAVING SUM(return_count) > 10000\n",
    "ORDER BY zipcode ASC;'''\n",
    "\n",
    "# create cursor, execute query using cursor, retrieve results & headers and close db\n",
    "db_cursor = db_connect.cursor()\n",
    "db_cursor.execute(sql_cmd)\n",
    "results_data = db_cursor.fetchall() # retrieve results\n",
    "db_cursor.close()\n",
    "db_connect.close()\n",
    "\n",
    "# pretty up results\n",
    "print_results = []\n",
    "for result in results_data:\n",
    "    print_results.append(result[0])\n",
    "    print_results.sort()  # note: this is only required if the SQL statement did NOT include ORDER BY\n",
    "    \n",
    "# print\n",
    "print(print_results)"
   ]
  },
  {
   "cell_type": "markdown",
   "metadata": {},
   "source": [
    "### **Problem 2 (6 points):**\n",
    "The NYC film permit's database stores datetime values as \"12/09/2018 07:00:00 AM\" and \"12/09/2018 07:00:00 PM\" but SQLite3 will NOT recognize this value as a date because it requires that datetime values are formatted as \"2018-12-09 07:00\" and \"2018-12-09 19:00\", respectively (note the use of a 24-hour time in the second example). Your assignment is to:\n",
    "* Create a UDF that will take the NYC film permit's datetime value input and user regular expressions to transform it into the SQLite3 compliant datetime value. \n",
    "* Prove it works by running the UDF against at least test_input_1 and test_input_2 below and comparing them both to their respective outputs. Full credit will be given for UDFs that handle all datetimes correctly beyond the provided test inputs."
   ]
  },
  {
   "cell_type": "code",
   "execution_count": 74,
   "metadata": {},
   "outputs": [],
   "source": [
    "## here are test inputs and expected outputs to test your code\n",
    "test_input_1  = \"12/09/2018 07:00:00 AM\"\n",
    "expected_output_1 = \"2018-12-09 07:00\"\n",
    "\n",
    "test_input_2  = \"02/13/2015 07:00:00 PM\"\n",
    "expected_output_2 = \"2015-02-13 19:00\""
   ]
  },
  {
   "cell_type": "code",
   "execution_count": 96,
   "metadata": {},
   "outputs": [],
   "source": [
    "# solution\n",
    "def date_convert(input_date):\n",
    "    import re, sys\n",
    "    \n",
    "    # define regex\n",
    "    date_regex = re.compile(r'''\n",
    "        (\\d{2})/  #group 1# month\n",
    "        (\\d{2})/  #2# day\n",
    "        (\\d{4})   #3# year\n",
    "        \\s{1}     ## space delimiter\n",
    "        (\\d{2}):  #4# hours\n",
    "        (\\d{2}):  #5# minutes\n",
    "        (\\d{2})   #6# seconds\n",
    "        \\s{1}     ## space delimiter\n",
    "        (AM|PM)   #7# meridiem indicator\n",
    "   ''',re.VERBOSE) \n",
    "\n",
    "    # grab groups\n",
    "    match = date_regex.search(input_date)\n",
    "    \n",
    "    # if match is empty, return error\n",
    "    if match == None:\n",
    "        print(\"bad input!\")\n",
    "        sys.exit(1)\n",
    "    \n",
    "    # build new date, item by item\n",
    "    input_month = str(match.group(1))\n",
    "    input_day = str(match.group(2))\n",
    "    input_year = str(match.group(3))\n",
    "    input_hour = str(match.group(4))\n",
    "    input_minute = str(match.group(5))\n",
    "    input_seconds = str(match.group(6))\n",
    "    input_meridiem = str(match.group(7))\n",
    "    \n",
    "    # convert AM/PM hours to 24-hr format\n",
    "    if (input_meridiem.lower() == \"pm\" and int(input_hour) < 12):\n",
    "        input_hour = str(int(input_hour) + 12)\n",
    "    elif (input_meridiem.lower() == \"am\" and int(input_hour) == 12):\n",
    "        input_hour = \"00\"\n",
    "\n",
    "    \n",
    "    return input_year + \"-\" + input_month + \"-\" + input_day + \" \" + input_hour + \":\" + input_minute"
   ]
  },
  {
   "cell_type": "code",
   "execution_count": 97,
   "metadata": {},
   "outputs": [
    {
     "name": "stdout",
     "output_type": "stream",
     "text": [
      "test 1 ==> True\n",
      "test 2 ==> True\n",
      "converting 02/13/2015 12:00:00 AM ==> 2015-02-13 00:00\n"
     ]
    }
   ],
   "source": [
    "# test provided inputs\n",
    "test_input_1  = \"12/09/2018 07:00:00 AM\"\n",
    "expected_output_1 = \"2018-12-09 07:00\"\n",
    "print(\"test 1 ==>\",expected_output_1 == date_convert(test_input_1))\n",
    "\n",
    "test_input_2  = \"02/13/2015 07:00:00 PM\"\n",
    "expected_output_2 = \"2015-02-13 19:00\"\n",
    "print(\"test 2 ==>\",expected_output_2 == date_convert(test_input_2))\n",
    "\n",
    "# test edge case of midnight\n",
    "print(\"converting 02/13/2015 12:00:00 AM ==>\",date_convert(\"02/13/2015 12:00:00 AM\"))"
   ]
  }
 ],
 "metadata": {
  "kernelspec": {
   "display_name": "Python 3",
   "language": "python",
   "name": "python3"
  },
  "language_info": {
   "codemirror_mode": {
    "name": "ipython",
    "version": 3
   },
   "file_extension": ".py",
   "mimetype": "text/x-python",
   "name": "python",
   "nbconvert_exporter": "python",
   "pygments_lexer": "ipython3",
   "version": "3.7.1"
  }
 },
 "nbformat": 4,
 "nbformat_minor": 2
}
