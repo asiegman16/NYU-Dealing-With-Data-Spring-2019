{
 "cells": [
  {
   "cell_type": "markdown",
   "metadata": {},
   "source": [
    "# **Putting our Python to work:**\n",
    "# **Using the** `sqlite3` **library to use SQL with Python**"
   ]
  },
  {
   "cell_type": "markdown",
   "metadata": {},
   "source": [
    "We can directly connect to our SQLite3 database using a special Python library for this purpose. This functionality gives us the ability to run SQL scripts outside SQLiteStudio and work with the results directly in Python, to provide for more advanced Python work such as plotting the results with code (to come in later classes)."
   ]
  },
  {
   "cell_type": "markdown",
   "metadata": {},
   "source": [
    "There are 7 main steps to using SQLite3 with Python:\n",
    "1. import the `sqlite3` library\n",
    "* connect to your database file\n",
    "* create a cursor - which is a database object that allows you to run queries\n",
    "* execute a SQL query\n",
    "* store the results and column names in separate variables \n",
    "* close your database cursor and connection\n",
    "* clean up column names and combine with results in a single variable for further work"
   ]
  },
  {
   "cell_type": "markdown",
   "metadata": {},
   "source": [
    "### Step 1: Import the library"
   ]
  },
  {
   "cell_type": "code",
   "execution_count": null,
   "metadata": {},
   "outputs": [],
   "source": [
    "# Import the SQLite3 library\n",
    "import sqlite3"
   ]
  },
  {
   "cell_type": "markdown",
   "metadata": {},
   "source": [
    "### Step 2: Connect to your database"
   ]
  },
  {
   "cell_type": "code",
   "execution_count": null,
   "metadata": {},
   "outputs": [],
   "source": [
    "# point to my local directory\n",
    "import os\n",
    "os.chdir(r'C:\\Users\\colling\\!dwd_spring2019\\classes\\class8')\n",
    "\n",
    "# setup location variables for the database\n",
    "db_location = r'nyc_film_db_final.db'\n",
    "\n",
    "# Create the connection\n",
    "db_connect = sqlite3.connect(db_location)"
   ]
  },
  {
   "cell_type": "markdown",
   "metadata": {},
   "source": [
    "### Step 3: Create a cursor execute the SQL script"
   ]
  },
  {
   "cell_type": "code",
   "execution_count": null,
   "metadata": {},
   "outputs": [],
   "source": [
    "# create cursor\n",
    "db_cursor = db_connect.cursor()"
   ]
  },
  {
   "cell_type": "markdown",
   "metadata": {},
   "source": [
    "### Steps 4 and 5: Execute a SQL query and Store Results - SQL statement as string"
   ]
  },
  {
   "cell_type": "code",
   "execution_count": null,
   "metadata": {},
   "outputs": [],
   "source": [
    "# execute query using cursor\n",
    "db_cursor.execute('SELECT * from irs_nyc_tax_returns WHERE year = \"2012\" and zipcode = \"10128\";')\n",
    "\n",
    "# retrieve results \n",
    "results_data = db_cursor.fetchall()\n",
    "\n",
    "# retrieve column headers\n",
    "results_headers = db_cursor.description \n",
    "\n",
    "# print both\n",
    "print(\"results column names ==>\",\"\\n\",results_headers,\"\\n\")\n",
    "print(\"results data ==>\",\"\\n\",results_data)"
   ]
  },
  {
   "cell_type": "markdown",
   "metadata": {},
   "source": [
    "### Steps 4 and 5: Execute a SQL query and Store Results - SQL script in files"
   ]
  },
  {
   "cell_type": "code",
   "execution_count": null,
   "metadata": {},
   "outputs": [],
   "source": [
    "# point to my local directory\n",
    "import os\n",
    "os.chdir(r'C:\\Users\\colling\\!dwd_spring2019\\classes\\class8')\n",
    "\n",
    "# retrieve the SQL script from a file\n",
    "script_location = 'analyze_data.sql'\n",
    "file_handle = open(script_location)\n",
    "sql_script = file_handle.read()\n",
    "file_handle.close()\n",
    "\n",
    "# execute query using cursor\n",
    "db_cursor.execute(sql_script)\n",
    "\n",
    "# retrieve results \n",
    "results_data = db_cursor.fetchall()\n",
    "\n",
    "# retrieve column headers\n",
    "results_headers = db_cursor.description \n",
    "\n",
    "# print both\n",
    "print(\"results column names ==>\",\"\\n\",results_headers,\"\\n\")\n",
    "print(\"results data ==>\",\"\\n\",results_data_1,\"\\n\")"
   ]
  },
  {
   "cell_type": "markdown",
   "metadata": {},
   "source": [
    "### Step 6: Close your cursor and database connections"
   ]
  },
  {
   "cell_type": "code",
   "execution_count": null,
   "metadata": {},
   "outputs": [],
   "source": [
    "db_cursor.close()\n",
    "db_connect.close()"
   ]
  },
  {
   "cell_type": "markdown",
   "metadata": {},
   "source": [
    "### Step 7: Clean up column headers and combine with results into single variable"
   ]
  },
  {
   "cell_type": "code",
   "execution_count": null,
   "metadata": {},
   "outputs": [],
   "source": [
    "# clean-up column headers\n",
    "column_names = []\n",
    "for header in results_headers:\n",
    "    column_names.append(header[0])\n",
    "results_headers = tuple(column_names)\n",
    "\n",
    "# add headers to result\n",
    "results_final = results_data\n",
    "results_final.insert(0,results_headers)\n",
    "\n",
    "#print each row\n",
    "for row in results_final:\n",
    "    print(row)"
   ]
  },
  {
   "cell_type": "markdown",
   "metadata": {},
   "source": [
    "Regular Expressions\n",
    "-------------------\n",
    "\n",
    "Regular expressions (regexes or re’s) constitute an extremely powerful, flexible and concise language for matching elements in text ranging from a few characters to complex patterns. While mastering the syntax of the regular expression language does require climbing a learning curve, this learning curve is not particularly steep, and a newcomer can find herself performing useful tasks with regular expressions almost immediately. Efforts spent learning regular expressions quickly pay off--tasks that are well suited for regular expressions abound. Indeed, regular expressions are one of the most useful computer skills, and an absolutely critical tool for data scientists. "
   ]
  },
  {
   "cell_type": "markdown",
   "metadata": {},
   "source": [
    "This document will present basic regular expression syntax and cover common use cases for regular expressions: pattern matching, filtering, data extraction, and string replacement. We will present examples using grep - a Unix command to find lines of a text file with a given string in them. We create a Python version of grep to work with."
   ]
  },
  {
   "cell_type": "code",
   "execution_count": 33,
   "metadata": {},
   "outputs": [],
   "source": [
    "# The code below is written in Python to replicate the behavior of grep, the UNIX utility\n",
    "# We will examine the details of how the code works in a subsequent notebook.\n",
    "# For now, just execute the code, and use the function grep(regex_expression, file_name) as-is\n",
    "\n",
    "import re\n",
    "\n",
    "def printMatches(text, regex_expression):\n",
    "    BACKGROUND_YELLOW = '\\x1b[43m'\n",
    "    COLOR_RESET  = \"\\x1b[0m\"\n",
    "    regex= re.compile(regex_expression)\n",
    "    matches = regex.finditer(text)\n",
    "    for m in matches:\n",
    "        highlighted  = text[:m.start()] # the string before the regex match\n",
    "        highlighted += BACKGROUND_YELLOW + text[m.start():m.end()] + COLOR_RESET \n",
    "        highlighted += text[m.end():] # the string after the regex match\n",
    "        print(highlighted)\n",
    "\n",
    "def grep(regex_expression, file_name):\n",
    "    f = open(file_name, \"r\")\n",
    "    content = f.read()\n",
    "    f.close()\n",
    "    for line in content.split(\"\\n\"):\n",
    "        printMatches(line, regex_expression)\n",
    "        \n",
    "# for the lesson - let's be sure to point to the directory where the data is.\n",
    "import os\n",
    "os.chdir('C:\\\\Users\\\\colling\\\\!dwd_spring2019\\\\classes\\\\class8')"
   ]
  },
  {
   "cell_type": "markdown",
   "metadata": {},
   "source": [
    "### NYC Restaurant Names Data\n",
    "\n",
    "In the notebook, we will demonstrating the various regular expressions using the set of restaurant names from `restaurant-names.txt`."
   ]
  },
  {
   "cell_type": "markdown",
   "metadata": {},
   "source": [
    "Let's take a peek at the contents using our text reader."
   ]
  },
  {
   "cell_type": "markdown",
   "metadata": {},
   "source": [
    "Now, let's see if there are any restaurants with the string 'PANO' in them:"
   ]
  },
  {
   "cell_type": "code",
   "execution_count": 34,
   "metadata": {},
   "outputs": [
    {
     "name": "stdout",
     "output_type": "stream",
     "text": [
      "BUFFALO WILD WINGS,PEETS COOFEE &TEA, \u001b[43mPANO\u001b[0mPOLIS BAKERY & CAFE\n",
      "CAFE ES\u001b[43mPANO\u001b[0mL\n",
      "EL CHARRO ES\u001b[43mPANO\u001b[0mL\n",
      "EL POTE ES\u001b[43mPANO\u001b[0mL\n",
      "LA CANDELA ES\u001b[43mPANO\u001b[0mLA\n",
      "PAM\u001b[43mPANO\u001b[0m\n",
      "\u001b[43mPANO\u001b[0mRAMA OF MY SILENCE-HEART\n",
      "\u001b[43mPANO\u001b[0mRAMA RESTAURANT\n",
      "TIGIN IRISH PUB,PEETS COFFEE&TEA,\u001b[43mPANO\u001b[0mPOLIS BAKERY&CAFE\n"
     ]
    }
   ],
   "source": [
    "grep('PANO', \"restaurant-names.txt\")"
   ]
  },
  {
   "cell_type": "markdown",
   "metadata": {},
   "source": [
    "What can we do if we want to search for something more complex than a fixed string? Regular expressions are solving exactly this problem. \n",
    "\n",
    "### The atoms\n",
    "\n",
    "The simplest regular expressions are a sequence of `atoms`. An atom can be any of the following:\n",
    "* single character, \n",
    "* a dot,\n",
    "* a bracket expression, \n",
    "* an anchor.\n",
    "\n",
    "#### Single character atom\n",
    "\n",
    "A single character atom matches itself.\n",
    "\n",
    "#### The `.` character atom\n",
    "\n",
    "A dot atom matches any single character (except for a new line character `\\n`)."
   ]
  },
  {
   "cell_type": "markdown",
   "metadata": {},
   "source": [
    "Example: Using single character atoms, and the `.` atom, let's find all restaurant names that contain the characters `AB`, followed by any character (`.`) and then the character `D`:"
   ]
  },
  {
   "cell_type": "code",
   "execution_count": 35,
   "metadata": {},
   "outputs": [
    {
     "name": "stdout",
     "output_type": "stream",
     "text": [
      "\u001b[43mABID\u001b[0mE BROOKLYN PITA\n",
      "JJ PE\u001b[43mABOD\u001b[0mY'S\n",
      "L\u001b[43mABAD\u001b[0mEE MANOIR\n",
      "NEW KAB\u001b[43mAB D\u001b[0mINER\n",
      "RESTAURANT \u001b[43mABID\u001b[0mJAN\n"
     ]
    }
   ],
   "source": [
    "grep('AB.D', 'restaurant-names.txt')"
   ]
  },
  {
   "cell_type": "markdown",
   "metadata": {},
   "source": [
    "#### Bracket expression atom\n",
    "\n",
    "A bracket expression (defined by square brackets []) defines a set of characters. matches only one single character that can be any of the characters defined in a set. Example: [ABL] matches either A, B, or L.\n",
    "\n",
    "Now, let's use a bracket expression: We want to find restaurants that contain one of the letters A,B,C,X,Y,Z followed by a digit. We specify the set of letters as `[ABCXYZ]` and the set of digits as `[0123456789]`.  "
   ]
  },
  {
   "cell_type": "code",
   "execution_count": 36,
   "metadata": {},
   "outputs": [
    {
     "name": "stdout",
     "output_type": "stream",
     "text": [
      "\u001b[43mB66\u001b[0m CLUB\n",
      "B\u001b[43mA10\u001b[0m02 BAR\n",
      "B\u001b[43mA10\u001b[0m19 BAR\n",
      "B\u001b[43mA61\u001b[0m10 BAR\n",
      "B\u001b[43mC81\u001b[0m40 BAR AT THE GARDEN\n",
      "C\u001b[43mB80\u001b[0m30 SAUSAGE CONCESSION\n",
      "CIBO MARKET (GATE \u001b[43mC65\u001b[0m)\n",
      "COTTO MARKET-GATE \u001b[43mC30\u001b[0m\n",
      "F\u001b[43mA80\u001b[0m70 HOT DOG CONCESSION\n",
      "F\u001b[43mB10\u001b[0m14 HOT DOG CONCESSION\n",
      "F\u001b[43mB80\u001b[0m20 PIZZA CONCESSION\n",
      "F\u001b[43mB90\u001b[0m90 HOT DOG CONCESSION\n",
      "F\u001b[43mB91\u001b[0m10 HOT DOG CONCESSION\n",
      "F\u001b[43mB91\u001b[0m20 HOT DOG CONCESSION\n",
      "HOT DOG CONCESSION \u001b[43mA80\u001b[0m3-1\n",
      "JFK FUEL BAR \u001b[43mB27\u001b[0m\n",
      "MADISON CLUB (B\u001b[43mB71\u001b[0m84)\n",
      "RUNWA\u001b[43mY69\u001b[0m\n",
      "YOGURT \u001b[43mY23\u001b[0m INC\n"
     ]
    }
   ],
   "source": [
    "grep('[ABCXYZ][0123456789][0123456789]', 'restaurant-names.txt')"
   ]
  },
  {
   "cell_type": "markdown",
   "metadata": {},
   "source": [
    "##### Brackets and ranges\n",
    "\n",
    "Instead of typing long lists of characters in a bracket expression, we can use the range character: [0-9] is equivalent to [0123456789]. Similarly [A-Z] is equivalent to [ABCDEFGHIJKLMNOPQRSTUVWXYZ]. And [D-T] is equivalent to [DEFGHIJKLMNOPQRST]. (You get the idea.) You can also combine multiple ranges: [a-e1-9] is equivalent to [abcde123456789]. \n",
    "\n",
    "Finally, you can even specify to be excluded from the set using the character (^) within the []. For example, [^0-9] matches any character other than a number.\n",
    "\n",
    "Let's find restaurants that contain a letter, followed by a number, and then followed by a charather that is not a number:"
   ]
  },
  {
   "cell_type": "code",
   "execution_count": 37,
   "metadata": {},
   "outputs": [
    {
     "name": "stdout",
     "output_type": "stream",
     "text": [
      "\u001b[43mA1 \u001b[0mOCHA SUSHI\n",
      "A\u001b[43mH2 \u001b[0mICE TEA\n",
      "\u001b[43mB4 \u001b[0mNYC\n",
      "B\u001b[43mT3 \u001b[0mBAR\n",
      "B\u001b[43mT4 \u001b[0mBAR\n",
      "\u001b[43mC2 \u001b[0mCAFE\n",
      "CAF\u001b[43mE1 \u001b[0m& CAFE 4 (AMERICAN MUSEUM OF NATURAL HISTORY)\n",
      "\u001b[43mF1 \u001b[0mLOUNGE AND GRILL\n",
      "ILLY/VELOCITY BAR (E\u001b[43mC2)\u001b[0m\n",
      "\u001b[43mJ4 \u001b[0mHOOKAH LOUNGE\n",
      "JUIC\u001b[43mE4U\u001b[0m\n",
      "\u001b[43mM1-\u001b[0m5\n",
      "\u001b[43mM2M\u001b[0m MART\n",
      "\u001b[43mM2N\u001b[0m BUFFET\n",
      "NINET\u001b[43mY9 \u001b[0m& UP DINER\n",
      "N\u001b[43mO1 \u001b[0mCHINESE RESTAURANT\n",
      "\u001b[43mQ2 \u001b[0mTHAI RESTAURANT\n",
      "\u001b[43mT2 \u001b[0m- GO\n",
      "TERMINA\u001b[43mL1 \u001b[0mEMPLOYEE CAFETERIA\n",
      "THE NEW YORK PALACE HOTEL (\u001b[43mC1 \u001b[0mLEVEL CAFETERIA)\n",
      "TW\u001b[43mO8T\u001b[0mWO BAR & BURGER\n",
      "US FRIED CHICKEN & \u001b[43mP1Z\u001b[0mZA\n"
     ]
    }
   ],
   "source": [
    "grep('[A-Z][0-9][^0-9]', 'restaurant-names.txt')"
   ]
  },
  {
   "cell_type": "markdown",
   "metadata": {},
   "source": [
    "Hm, we do not want to get results that have a space after the number, so let's also exclude the space character:"
   ]
  },
  {
   "cell_type": "code",
   "execution_count": 38,
   "metadata": {},
   "outputs": [
    {
     "name": "stdout",
     "output_type": "stream",
     "text": [
      "ILLY/VELOCITY BAR (E\u001b[43mC2)\u001b[0m\n",
      "JUIC\u001b[43mE4U\u001b[0m\n",
      "\u001b[43mM1-\u001b[0m5\n",
      "\u001b[43mM2M\u001b[0m MART\n",
      "\u001b[43mM2N\u001b[0m BUFFET\n",
      "TW\u001b[43mO8T\u001b[0mWO BAR & BURGER\n",
      "US FRIED CHICKEN & \u001b[43mP1Z\u001b[0mZA\n"
     ]
    }
   ],
   "source": [
    "grep('[A-Z][0-9][^0-9 ]', 'restaurant-names.txt') "
   ]
  },
  {
   "cell_type": "markdown",
   "metadata": {},
   "source": [
    "Let's try another example: a number, followed by a character that's not a letter, nor number, nor space, followed by a number."
   ]
  },
  {
   "cell_type": "code",
   "execution_count": 39,
   "metadata": {},
   "outputs": [
    {
     "name": "stdout",
     "output_type": "stream",
     "text": [
      "$\u001b[43m1.2\u001b[0m5 PIZZA\n",
      "\u001b[43m1.5\u001b[0m GALBI CORP\n",
      "10\u001b[43m4-0\u001b[0m1 FOSTER AVENUE COFFEE SHOP(UPS)\n",
      "3\u001b[43m6-0\u001b[0m2 DITMARS COFFEE CORP.\n",
      "4\u001b[43m0/4\u001b[0m0 CLUB\n",
      "4\u001b[43m0/4\u001b[0m0 CLUB BAR\n",
      "44 \u001b[43m1/2\u001b[0m CAFE\n",
      "83 \u001b[43m1/2\u001b[0m\n",
      "BRASSERIE 8 \u001b[43m1/2\u001b[0m\n",
      "FOOD DEPOT 1\u001b[43m2*4\u001b[0m\n",
      "HOT DOG CONCESSION A80\u001b[43m3-1\u001b[0m\n",
      "M\u001b[43m1-5\u001b[0m\n",
      "PRB 2\u001b[43m4-7\u001b[0m\n",
      "THE BEST $\u001b[43m1.0\u001b[0m0 PIZZA\n"
     ]
    }
   ],
   "source": [
    "# Digit, not letter not digit not space, digit\n",
    "grep('[0-9][^A-Z0-9 ][0-9]', 'restaurant-names.txt') "
   ]
  },
  {
   "cell_type": "markdown",
   "metadata": {},
   "source": [
    "Now - what about restaurants with five digits?"
   ]
  },
  {
   "cell_type": "code",
   "execution_count": 40,
   "metadata": {},
   "outputs": [
    {
     "name": "stdout",
     "output_type": "stream",
     "text": [
      "CAFE \u001b[43m11231\u001b[0m\n",
      "COFFEE \u001b[43m11238\u001b[0m\n",
      "MCDONALDS (#\u001b[43m11542\u001b[0m)\n",
      "MCDONALDS \u001b[43m17754\u001b[0m\n",
      "PIZZA HUT  # \u001b[43m29782\u001b[0m\n",
      "PIZZA HUT #\u001b[43m29773\u001b[0m\n",
      "PIZZA HUT \u001b[43m29531\u001b[0m\n",
      "PIZZA HUT# \u001b[43m28256\u001b[0m\n",
      "STARBUCKS # \u001b[43m14840\u001b[0m\n",
      "STARBUCKS (STORE \u001b[43m16628\u001b[0m)\n",
      "STARBUCKS \u001b[43m22420\u001b[0m\n",
      "STARBUCKS COFFEE  #\u001b[43m16608\u001b[0m\n",
      "STARBUCKS COFFEE # \u001b[43m15440\u001b[0m\n",
      "STARBUCKS COFFEE #\u001b[43m14240\u001b[0m\n",
      "STARBUCKS COFFEE #\u001b[43m18509\u001b[0m\n",
      "STARBUCKS COFFEE #\u001b[43m20679\u001b[0m\n",
      "STARBUCKS COFFEE #\u001b[43m21514\u001b[0m\n",
      "STARBUCKS COFFEE #\u001b[43m22596\u001b[0m\n",
      "STARBUCKS COFFEE #\u001b[43m23266\u001b[0m\n",
      "STARBUCKS COFFEE #\u001b[43m23267\u001b[0m\n",
      "STARBUCKS COFFEE (#\u001b[43m19890\u001b[0m)\n",
      "STARBUCKS COFFEE (STORE #\u001b[43m13539\u001b[0m)\n",
      "STARBUCKS COFFEE (STORE \u001b[43m17478\u001b[0m)\n",
      "STARBUCKS COFFEE (STORE#\u001b[43m11650\u001b[0m)\n",
      "STARBUCKS COFFEE (STORE#\u001b[43m20161\u001b[0m)\n",
      "STARBUCKS COFFEE COMPANY #\u001b[43m22560\u001b[0m\n",
      "SUBWAY (STORE #\u001b[43m27610\u001b[0m)\n",
      "SUBWAY (STORE #\u001b[43m38550\u001b[0m)\n",
      "SUBWAY STORE \u001b[43m46555\u001b[0m\n",
      "SUBWAY#\u001b[43m50497\u001b[0m (CARDINAL HAYES HIGH SCHOOL)\n",
      "TEAVANA #\u001b[43m22994\u001b[0m\n",
      "TEAVANA#\u001b[43m22632\u001b[0m\n"
     ]
    }
   ],
   "source": [
    "# Restaurants with five digits\n",
    "grep('[0-9][0-9][0-9][0-9][0-9]', 'restaurant-names.txt') "
   ]
  },
  {
   "cell_type": "markdown",
   "metadata": {},
   "source": [
    "#### Anchor\n",
    "\n",
    "Anchor atoms are special characters, used to define the location of a regex within a line. \n",
    "\n",
    "The anchor `^` specifies the *beginning of a line*, the anchor `$` specifies the end of a line. The anchor `\\b` specifies the word boundary. (Note that the `^` is used differently in regular expressions based on its context!)"
   ]
  },
  {
   "cell_type": "markdown",
   "metadata": {},
   "source": [
    "Example: Find restaurant names that start with the characters `BAL`"
   ]
  },
  {
   "cell_type": "code",
   "execution_count": 41,
   "metadata": {},
   "outputs": [
    {
     "name": "stdout",
     "output_type": "stream",
     "text": [
      "\u001b[43mBAL\u001b[0mABOOSTA\n",
      "\u001b[43mBAL\u001b[0mADE\n",
      "\u001b[43mBAL\u001b[0mBOA RESTAURANT.\n",
      "\u001b[43mBAL\u001b[0mCON QUITENO RESTAURANT\n",
      "\u001b[43mBAL\u001b[0mDOR SPECIALTY FOODS\n",
      "\u001b[43mBAL\u001b[0mDUCCI'S\n",
      "\u001b[43mBAL\u001b[0mI NUSA INDONESIAN RESTAURANT\n",
      "\u001b[43mBAL\u001b[0mILO DELI\n",
      "\u001b[43mBAL\u001b[0mIMAYA RESTAURANT\n",
      "\u001b[43mBAL\u001b[0mKANIKA\n",
      "\u001b[43mBAL\u001b[0mKH SHISH KABAB HOUSE\n",
      "\u001b[43mBAL\u001b[0mL PARK HOT DOG\n",
      "\u001b[43mBAL\u001b[0mLARO\n",
      "\u001b[43mBAL\u001b[0mLATO'S RESTAURANT\n",
      "\u001b[43mBAL\u001b[0mLFIELDS CAFE\n",
      "\u001b[43mBAL\u001b[0mLI DELI & SALAD BAR\n",
      "\u001b[43mBAL\u001b[0mLY TOTAL FITNESS\n",
      "\u001b[43mBAL\u001b[0mLY'S SPORT CLUB\n",
      "\u001b[43mBAL\u001b[0mNDIE'S PLACE, INC\n",
      "\u001b[43mBAL\u001b[0mON\n",
      "\u001b[43mBAL\u001b[0mTHAZAR BAKERY\n",
      "\u001b[43mBAL\u001b[0mTHAZAR RESTAURANT\n",
      "\u001b[43mBAL\u001b[0mUCHI\n",
      "\u001b[43mBAL\u001b[0mUCHI'S\n",
      "\u001b[43mBAL\u001b[0mUCHI'S FRESH\n",
      "\u001b[43mBAL\u001b[0mUCHI'S INDIAN FOOD\n",
      "\u001b[43mBAL\u001b[0mVANERA\n",
      "\u001b[43mBAL\u001b[0mZEM\n"
     ]
    }
   ],
   "source": [
    "grep('^BAL', 'restaurant-names.txt')"
   ]
  },
  {
   "cell_type": "markdown",
   "metadata": {},
   "source": [
    "Example: Find restaurant names that end with the characters `NORTH`"
   ]
  },
  {
   "cell_type": "code",
   "execution_count": 42,
   "metadata": {},
   "outputs": [
    {
     "name": "stdout",
     "output_type": "stream",
     "text": [
      "AQUEDUCT \u001b[43mNORTH\u001b[0m\n",
      "BOURGEOIS PIG \u001b[43mNORTH\u001b[0m\n",
      "PRATT INSTITUTE \u001b[43mNORTH\u001b[0m\n"
     ]
    }
   ],
   "source": [
    "grep('NORTH$', 'restaurant-names.txt')"
   ]
  },
  {
   "cell_type": "code",
   "execution_count": 43,
   "metadata": {},
   "outputs": [
    {
     "name": "stdout",
     "output_type": "stream",
     "text": [
      "CAFE 1\u001b[43m1231\u001b[0m\n",
      "CAFE \u001b[43m1853\u001b[0m\n",
      "CANTINA \u001b[43m1436\u001b[0m\n",
      "CBRE-\u001b[43m1540\u001b[0m\n",
      "CHIPOTLE MEXICAN GRILL # \u001b[43m2135\u001b[0m\n",
      "CHIPOTLE MEXICAN GRILL #\u001b[43m1394\u001b[0m\n",
      "CHIPOTLE MEXICAN GRILL #\u001b[43m1962\u001b[0m\n",
      "CHIPOTLE MEXICAN GRILL #\u001b[43m1968\u001b[0m\n",
      "CHIPOTLE MEXICAN GRILL #\u001b[43m2090\u001b[0m\n",
      "CHIPOTLE MEXICAN GRILL #\u001b[43m2123\u001b[0m\n",
      "CHIPOTLE MEXICAN GRILL#\u001b[43m1766\u001b[0m\n",
      "COFFEE 1\u001b[43m1238\u001b[0m\n",
      "DOMINO'S PIZZA #\u001b[43m3647\u001b[0m\n",
      "DOMINO'S PIZZA \u001b[43m3537\u001b[0m\n",
      "DOMINO'S PIZZA \u001b[43m3657\u001b[0m\n",
      "DOMINOS PIZZA # \u001b[43m3448\u001b[0m\n",
      "EMPIRE RESTAURANT OF \u001b[43m1635\u001b[0m\n",
      "GALLAGHER'S \u001b[43m2000\u001b[0m\n",
      "JACQUES \u001b[43m1534\u001b[0m\n",
      "KAFFE \u001b[43m1668\u001b[0m\n",
      "LABETTI'S POST # \u001b[43m2159\u001b[0m\n",
      "LONGHORN STEAKHOUSE #\u001b[43m5453\u001b[0m\n",
      "MCDONALD'S RESTAURANT #\u001b[43m3391\u001b[0m\n",
      "MCDONALDS 1\u001b[43m7754\u001b[0m\n",
      "MIDTOWN \u001b[43m1015\u001b[0m\n",
      "OUTBACK STEAKHOUSE \u001b[43m3330\u001b[0m\n",
      "OUTBACK STEAKHOUSE \u001b[43m3332\u001b[0m\n",
      "PANDA EXPRESS #\u001b[43m2634\u001b[0m\n",
      "PANDA RESTAURANT \u001b[43m2807\u001b[0m\n",
      "PETER'S SINCE \u001b[43m1969\u001b[0m\n",
      "PIZZA HUT  # 2\u001b[43m9782\u001b[0m\n",
      "PIZZA HUT #2\u001b[43m9773\u001b[0m\n",
      "PIZZA HUT 2\u001b[43m9531\u001b[0m\n",
      "PIZZA HUT# 2\u001b[43m8256\u001b[0m\n",
      "RED LOBSTER #\u001b[43m6262\u001b[0m\n",
      "RED LOBSTER #\u001b[43m6273\u001b[0m\n",
      "RED LOBSTER #\u001b[43m6298\u001b[0m\n",
      "RED LOBSTER #\u001b[43m6385\u001b[0m\n",
      "SAKURA JAPANESE RESTAURANT \u001b[43m3118\u001b[0m\n",
      "STARBUCKS # 1\u001b[43m4840\u001b[0m\n",
      "STARBUCKS 2\u001b[43m2420\u001b[0m\n",
      "STARBUCKS COFFEE  #1\u001b[43m6608\u001b[0m\n",
      "STARBUCKS COFFEE # 1\u001b[43m5440\u001b[0m\n",
      "STARBUCKS COFFEE # \u001b[43m7463\u001b[0m\n",
      "STARBUCKS COFFEE # \u001b[43m7540\u001b[0m\n",
      "STARBUCKS COFFEE #1\u001b[43m4240\u001b[0m\n",
      "STARBUCKS COFFEE #1\u001b[43m8509\u001b[0m\n",
      "STARBUCKS COFFEE #2\u001b[43m0679\u001b[0m\n",
      "STARBUCKS COFFEE #2\u001b[43m1514\u001b[0m\n",
      "STARBUCKS COFFEE #2\u001b[43m2596\u001b[0m\n",
      "STARBUCKS COFFEE #2\u001b[43m3266\u001b[0m\n",
      "STARBUCKS COFFEE #2\u001b[43m3267\u001b[0m\n",
      "STARBUCKS COFFEE #\u001b[43m3438\u001b[0m\n",
      "STARBUCKS COFFEE #\u001b[43m7344\u001b[0m\n",
      "STARBUCKS COFFEE #\u001b[43m7358\u001b[0m\n",
      "STARBUCKS COFFEE #\u001b[43m7416\u001b[0m\n",
      "STARBUCKS COFFEE #\u001b[43m7682\u001b[0m\n",
      "STARBUCKS COFFEE #\u001b[43m7826\u001b[0m\n",
      "STARBUCKS COFFEE #\u001b[43m9282\u001b[0m\n",
      "STARBUCKS COFFEE #\u001b[43m9722\u001b[0m\n",
      "STARBUCKS COFFEE COMPANY #2\u001b[43m2560\u001b[0m\n",
      "STARBUCKS COFFEE# \u001b[43m7426\u001b[0m\n",
      "STARBUCKS COFFEE#\u001b[43m7462\u001b[0m\n",
      "SUBWAY STORE 4\u001b[43m6555\u001b[0m\n",
      "SUITE 200, \u001b[43m1879\u001b[0m\n",
      "TEAVANA #2\u001b[43m2994\u001b[0m\n",
      "TEAVANA#2\u001b[43m2632\u001b[0m\n",
      "THE CAPITAL GRILLE #\u001b[43m8039\u001b[0m\n",
      "THE OLIVE GARDEN #\u001b[43m4482\u001b[0m\n",
      "THE ORIGINAL VINCENT'S ESTABLISH \u001b[43m1904\u001b[0m\n",
      "WINGSTOP W\u001b[43m0535\u001b[0m\n"
     ]
    }
   ],
   "source": [
    "# All restaurants that end with 4 digits\n",
    "grep('[0-9][0-9][0-9][0-9]$', 'restaurant-names.txt')"
   ]
  },
  {
   "cell_type": "markdown",
   "metadata": {},
   "source": [
    "Example: Let's try to find restaurants containing the word `COLUMBIA`:"
   ]
  },
  {
   "cell_type": "code",
   "execution_count": 44,
   "metadata": {},
   "outputs": [
    {
     "name": "stdout",
     "output_type": "stream",
     "text": [
      "BROWNIE'S CAFE AT \u001b[43mCOLUMBIA\u001b[0m\n",
      "CAFE 212/\u001b[43mCOLUMBIA\u001b[0m CATERING KITCHEN - ALFRED LERNER HALL\n",
      "\u001b[43mCOLUMBIA\u001b[0m UNIVERSITY MEDICAL CENTER BOOKSTORE CAFE\n",
      "EL PUNTO \u001b[43mCOLUMBIA\u001b[0mNO RESTAURANTE BAKERY\n",
      "LA GATA GOLOSA \u001b[43mCOLUMBIA\u001b[0mN FOOD\n",
      "PARAISO \u001b[43mCOLUMBIA\u001b[0mNO RESTAURANT\n",
      "THE FACULTY CLUB (\u001b[43mCOLUMBIA\u001b[0m UNIVERSITY)\n",
      "THE SCHOOL AT \u001b[43mCOLUMBIA\u001b[0m UNIVERSITY\n",
      "TIERRAS \u001b[43mCOLUMBIA\u001b[0mNAS\n"
     ]
    }
   ],
   "source": [
    "grep('COLUMBIA', 'restaurant-names.txt')"
   ]
  },
  {
   "cell_type": "markdown",
   "metadata": {},
   "source": [
    "Hm, something is wrong. We also get COLUMBIANO, COLUMBIANAS, and other words. We want only the word COLUMBIA, so we add the word anchors:"
   ]
  },
  {
   "cell_type": "code",
   "execution_count": 45,
   "metadata": {},
   "outputs": [
    {
     "name": "stdout",
     "output_type": "stream",
     "text": [
      "BROWNIE'S CAFE AT \u001b[43mCOLUMBIA\u001b[0m\n",
      "CAFE 212/\u001b[43mCOLUMBIA\u001b[0m CATERING KITCHEN - ALFRED LERNER HALL\n",
      "\u001b[43mCOLUMBIA\u001b[0m UNIVERSITY MEDICAL CENTER BOOKSTORE CAFE\n",
      "THE FACULTY CLUB (\u001b[43mCOLUMBIA\u001b[0m UNIVERSITY)\n",
      "THE SCHOOL AT \u001b[43mCOLUMBIA\u001b[0m UNIVERSITY\n"
     ]
    }
   ],
   "source": [
    "# The r'....' is a \"raw\" string, and allows us to enter\n",
    "# backslash without having to \"escape\" the backslash.\n",
    "# Otherwise Python will interpret \\b as a single special\n",
    "# character, and not as two characters \\b that are part of the regex\n",
    "grep(r'\\bCOLUMBIA\\b', 'restaurant-names.txt')"
   ]
  },
  {
   "cell_type": "markdown",
   "metadata": {},
   "source": [
    "#### Basic Patterns\n",
    "\n",
    "* `a, X, 9, ....`: -- ordinary characters just match themselves exactly. \n",
    "* `. ^ \\$ * + ? { [ ] \\ | ( )`: The **meta-characters** which do not match themselves because they have special meanings (more info below)\n",
    "* `.` (a period) -- matches any single character except newline '\\n'\n",
    "* `\\t, \\n, \\r`: Special characters, tab, newline, return\n",
    "* `^` = start, `$` = end -- match the start or end of the string\n",
    "* `\\`: inhibit the \"specialness\" of a character. So, for example, use \\. to match a period or \\\\ to match a slash. If you are unsure if a character has special meaning, such as '@', you can put a slash in front of it, \\@, to make sure it is treated just as a character."
   ]
  },
  {
   "cell_type": "markdown",
   "metadata": {},
   "source": [
    "#### Shortcuts\n",
    "\n",
    "A few of the bracket expressions that we discussed above occur very often. For this reason, we have shortcuts for them:\n",
    "\n",
    "* `\\d`: matches the digits: `[0-9]`.\n",
    "* `\\D`: matches anything but `\\d`: `[^0-9]`.\n",
    "* `\\w`: matches any alphanumeric character plus underscore: `[A-Za-z0-9_]`.\n",
    "* `\\W`: matches anything but `\\w`: `[^A-Za-z0-9_]`\n",
    "* `\\s`: matches any \"whitespace\" character (space, tab, newline, etc): `[ \\t\\n\\r\\f\\v]`.\n",
    "* `\\S`: matches anything but `\\s`: `[^ \\t\\n\\r\\f\\v]` .\n",
    "* `\\b`: matches the breaks between alphanumeric and non-alphanumeric characters (an empty string), the boundary between `\\w` and `\\W`. Useful for ensuring that what you match is actually a word.\n",
    "* `\\B`: matches anything but `\\b`. Useful for ensuring your match is in the middle of a word.\n",
    "\n"
   ]
  },
  {
   "cell_type": "markdown",
   "metadata": {},
   "source": [
    "#### In class exercises using Console\n",
    "\n",
    "Write a regular expression for:\n",
    "\n",
    "* Match any character\n",
    "* Match the end of line\n",
    "* Match any digit\n",
    "* Find all characters that are not digits\n",
    "* Find all words with four letters\n",
    "* Find every line that starts with a digit\n",
    "* Find all empty lines\n",
    "* Find all lines with 4 characters\n"
   ]
  },
  {
   "cell_type": "code",
   "execution_count": 46,
   "metadata": {},
   "outputs": [],
   "source": [
    "# match any character\n",
    "# do not run against a large dataset\n",
    "ex1 = r'.'\n",
    "\n",
    "# match the end of line\n",
    "# do not run against a large dataset\n",
    "ex2 = r'$\\n'\n",
    "\n",
    "# match any digit\n",
    "# do not run against a large dataset\n",
    "ex3 = r'\\d'\n",
    "\n",
    "# match any \"not\" digit\n",
    "# do not run against a large dataset\n",
    "ex4 = r'\\D'\n",
    "\n",
    "# four letter words\n",
    "ex5 = r'\\b[A-Za-z][A-Za-z][A-Za-z][A-Za-z]\\b'\n",
    "\n",
    "# lines that start with a digit\n",
    "ex6 = r'^\\d'\n",
    "\n",
    "# empty lines\n",
    "ex7 = r'^\\s$\\n'\n",
    "\n",
    "# four character lines\n",
    "ex8 = r'^\\w\\w\\w\\w$\\n'"
   ]
  },
  {
   "cell_type": "markdown",
   "metadata": {},
   "source": [
    "### Regular Expressions: Operators\n",
    "\n",
    "#### Alternation |\n",
    "\n",
    "The alternation operator `|` defines one or more alternatives regular expressions that need to be true for the string to match the regular expression. \n",
    "\n",
    "For example, if we are looking for names that contain either the word `GREEK` or the word `RUSSIAN`, we issue the following command: "
   ]
  },
  {
   "cell_type": "code",
   "execution_count": 47,
   "metadata": {},
   "outputs": [
    {
     "name": "stdout",
     "output_type": "stream",
     "text": [
      "ANTHI'S \u001b[43mGREEK\u001b[0m FOOD\n",
      "AVLEE  \u001b[43mGREEK\u001b[0m KITCHEN\n",
      "AVLEE \u001b[43mGREEK\u001b[0m KITCHEN\n",
      "AVLI THE LITTLE \u001b[43mGREEK\u001b[0m TAVERN\n",
      "ETHOS \u001b[43mGREEK\u001b[0m CUISINE\n",
      "\u001b[43mGREEK\u001b[0m EXPRESS\n",
      "\u001b[43mGREEK\u001b[0m FAMILY KITCHEN\n",
      "\u001b[43mGREEK\u001b[0m GARDENS GRILL\n",
      "\u001b[43mGREEK\u001b[0m GRILL\n",
      "\u001b[43mGREEK\u001b[0m ISLANDS\n",
      "GRK FRESH \u001b[43mGREEK\u001b[0m\n",
      "GYRO \u001b[43mGREEK\u001b[0m STYLE\n",
      "MEDITERRANEAN GRILL \u001b[43mGREEK\u001b[0m TARVERNA\n",
      "OKEANOS \u001b[43mGREEK\u001b[0m SEAFOOD\n",
      "OPA! \u001b[43mGREEK\u001b[0m RESTAURANT\n",
      "RAFINA \u001b[43mGREEK\u001b[0m CUISINE\n",
      "\u001b[43mRUSSIAN\u001b[0m BATHS\n",
      "\u001b[43mRUSSIAN\u001b[0m SAMOVAR\n",
      "\u001b[43mRUSSIAN\u001b[0m TURKISH BATHS\n",
      "SOMETHING \u001b[43mGREEK\u001b[0m\n",
      "SYMPOSIUM \u001b[43mGREEK\u001b[0m RESTAURANT\n",
      "THE \u001b[43mGREEK\u001b[0m\n",
      "THE \u001b[43mGREEK\u001b[0m CORNER\n",
      "THE \u001b[43mGREEK\u001b[0m KITCHEN  CLINTON BAKERY CAFE\n",
      "THE \u001b[43mRUSSIAN\u001b[0m TEA ROOM\n",
      "VILLAGE TAVERNA \u001b[43mGREEK\u001b[0m GRILL\n",
      "ZENON TAVERNA \u001b[43mGREEK\u001b[0m RESTAURANT\n"
     ]
    }
   ],
   "source": [
    "grep('GREEK|RUSSIAN', 'restaurant-names.txt')"
   ]
  },
  {
   "cell_type": "markdown",
   "metadata": {},
   "source": [
    "#### Repetition {m,n}\n",
    "\n",
    "A repetition operator specifies that the atom or expression immediately before the repetition may be repeated. For example, if we are looking for restaurants that contain the letter I, three to five times:  "
   ]
  },
  {
   "cell_type": "code",
   "execution_count": 48,
   "metadata": {},
   "outputs": [
    {
     "name": "stdout",
     "output_type": "stream",
     "text": [
      "ANTIQUE CAFE & BAKERY \u001b[43mIII\u001b[0m INC\n",
      "AZOGUENITA BAKERY & RESTAURANT \u001b[43mIII\u001b[0m\n",
      "BAGEL EXPRESS \u001b[43mIII\u001b[0m\n",
      "BARZOLA'S RESTAURANT \u001b[43mIII\u001b[0m\n",
      "BREAD BROTHERS \u001b[43mIII\u001b[0m\n",
      "CESTRA'S PIZZA \u001b[43mIII\u001b[0m\n",
      "EL CHIVITO D'ORO \u001b[43mIII\u001b[0m\n",
      "EL PACHANGON \u001b[43mIII\u001b[0m RESTAURANT & BAR\n",
      "EL POLLO \u001b[43mIII\u001b[0m\n",
      "EL REY \u001b[43mIII\u001b[0m\n",
      "EMILIO \u001b[43mIII\u001b[0m BAR\n",
      "ESTRELLITA POBLANA \u001b[43mIII\u001b[0m\n",
      "GOLDEN DRAGON \u001b[43mIII\u001b[0m\n",
      "KNAPP PIZZA \u001b[43mIII\u001b[0m\n",
      "LAS NUEVAS EMPANADAS MONUMENTAL \u001b[43mIII\u001b[0m\n",
      "LITTLE ITALY PIZZA \u001b[43mIII\u001b[0m\n",
      "LOS POLLITOS \u001b[43mIII\u001b[0m\n",
      "MIRACALI \u001b[43mIII\u001b[0m\n",
      "NEW CHINA \u001b[43mIII\u001b[0m\n",
      "NEW FRESCO TORTILLOS \u001b[43mIII\u001b[0m\n",
      "NEW WIN HING \u001b[43mIII\u001b[0m CHINESE RESTAURANT\n",
      "ROCCO PIZZA \u001b[43mIII\u001b[0m\n",
      "SAKURA \u001b[43mIII\u001b[0m\n",
      "SHINJU \u001b[43mIII\u001b[0m SUSHI\n",
      "SUSHI TATSU JAPANESE RESTAURANT \u001b[43mIII\u001b[0m\n",
      "THI \u001b[43mIII\u001b[0m NEW YORK\n",
      "WARD \u001b[43mIII\u001b[0m\n"
     ]
    }
   ],
   "source": [
    "grep('I{3,5}', 'restaurant-names.txt')"
   ]
  },
  {
   "cell_type": "markdown",
   "metadata": {},
   "source": [
    "Now, let's find all the restaurants that have a name length from 50 to 55 characters:"
   ]
  },
  {
   "cell_type": "code",
   "execution_count": 49,
   "metadata": {},
   "outputs": [
    {
     "name": "stdout",
     "output_type": "stream",
     "text": [
      "\u001b[43mBRASSIERIE 1605/BROADWAY 49 BAR & LOUNGE (MAIN KITCHEN)\u001b[0m\n",
      "\u001b[43mBROOKLYN CHILDREN'S MUSEUM CAFE/FOREST CITY RATNER CAFE\u001b[0m\n",
      "\u001b[43mCAFE 212/COLUMBIA CATERING KITCHEN - ALFRED LERNER HALL\u001b[0m\n",
      "\u001b[43mCAFE1 & CAFE 4 (AMERICAN MUSEUM OF NATURAL HISTORY)\u001b[0m\n",
      "\u001b[43mCARIBBEAN CONNECTION CATERING SERVICES INC RESTAURANT\u001b[0m\n",
      "\u001b[43mCHARTWELLS AT COLLEGE OF MOUNT ST. VINCENT-BENEDICT\u001b[0m\n",
      "\u001b[43mCOURTYARD & RESIDENCE INN BY MARRIOTT CENTRAL PARK\u001b[0m\n",
      "\u001b[43mFORDHAM UNIVERSITY/MCGINLEY CENTER/RAMSKELLER KITCHEN\u001b[0m\n",
      "\u001b[43mGREEN AND ACKERMAN KOSHER DAIRY RESTAURANT & PIZZA\u001b[0m\n",
      "\u001b[43mHOMESTYLE FOOD SERVICES (ST. BARNABAS HIGH SCHOOL)\u001b[0m\n",
      "\u001b[43mLOBBY LOUNGE AND TROUBLE'S TRUST @ THE PALACE HOTEL\u001b[0m\n",
      "\u001b[43mNATURAL TOFU & NOODLES RESTAURANT (BOOK CHANG DONG)\u001b[0m\n",
      "\u001b[43mNEW YORK BOTANICAL GARDENS TERRACE CAFE ( GARDEN CAFE )\u001b[0m\n",
      "\u001b[43mNEW YORK UNIVERSITY - KIMMEL STUDENT CENTER CAFETERIA\u001b[0m\n",
      "\u001b[43mPYRAMID COFFEE COMPANY HOSPITAL FOR SPECIAL SURGERY\u001b[0m\n",
      "\u001b[43mQ.B.COMM.COLLEGE-MAIN KITCHEN/TIGER BITES PIZZA SECTION\u001b[0m\n",
      "\u001b[43mRESORTS WORLD CASINO GROUND LEVEL ( EMPLOYEE DINING)\u001b[0m\n",
      "\u001b[43mROSE PIZZA, CHARLIE SUB GRILL, MOE'S SOUTHWEST GRILL\u001b[0m\n",
      "\u001b[43mSTARBUCKS (JFK TERMINAL 5-POST SECURITY DEPARTURE)\u001b[0m\n",
      "\u001b[43mTHE BIG APPLE (RITZ CARLTON HOTEL EMPLOYEE CAFETERIA)\u001b[0m\n",
      "\u001b[43mTIGIN IRISH PUB,PEETS COFFEE&TEA,PANOPOLIS BAKERY&CAFE\u001b[0m\n",
      "\u001b[43mUMI JAPANESE RESTAURANT  SUSHI BAR & TERIYAKI GRILL\u001b[0m\n",
      "\u001b[43mVINNY'S OF CARROLL GARDEN RESTAURANT & LUNCHEONETT\u001b[0m\n",
      "\u001b[43mVISTA SKY LOUNGE & CATERING (SHERATON FOUR POINTS)\u001b[0m\n"
     ]
    }
   ],
   "source": [
    "grep('^.{50,55}$', 'restaurant-names.txt')"
   ]
  },
  {
   "cell_type": "markdown",
   "metadata": {},
   "source": [
    "In the repetition operator {m,n}, we can skip putting the upper limit if we want to say, \"anything with m matches and above\". For example, let's find all the restaurants that have a name length 60 characters and above:"
   ]
  },
  {
   "cell_type": "code",
   "execution_count": 50,
   "metadata": {},
   "outputs": [
    {
     "name": "stdout",
     "output_type": "stream",
     "text": [
      "\u001b[43m(PUBLIC FARE) 81ST STREET AND CENTRAL PARK WEST (DELACORTE THEATRE)\u001b[0m\n",
      "\u001b[43mBUFFALO WILD WINGS,PEETS COOFEE &TEA, PANOPOLIS BAKERY & CAFE\u001b[0m\n",
      "\u001b[43mCENTER PLATE- CONCOURSE CAFE-JACOB K JAVITS CONVENTION CENTER\u001b[0m\n",
      "\u001b[43mCENTERPLATE-EMPLOYEE CAFETERIA-JACOB K JAVITS CONVENTION CENTER\u001b[0m\n",
      "\u001b[43mCENTRA`L MARKET ALL AMERICAN GRILL ( STATEN ISLAND FERRY TERMINAL)\u001b[0m\n",
      "\u001b[43mDELTA SKY CLUB (BARTENDER SERVICE TERMINAL D DELTA DEPARTURE)\u001b[0m\n",
      "\u001b[43mDUNKIN DONUTS (INSIDE GULF GAS STATION ON NORTH SIDE OF MAJ. DEEGAN EXWY- AFTER EXIT 13 - 233 ST.)\u001b[0m\n",
      "\u001b[43mFASHION INSTITUTE OF TECHNOLOGY DAVID DUBINSKY STUDENT CENTER\u001b[0m\n",
      "\u001b[43mGREATER NEW YORK SOCIAL AND HEALTH ADULT DAY CARE CENTER LLC\u001b[0m\n",
      "\u001b[43mHOMEWOOD SUITES BY HILTON NEW YORK MIDTOWN MANHATTAN TIMES SQUARE\u001b[0m\n",
      "\u001b[43mHONG KONG CAFE / FRESH SANDWICH BAKERY (BASEMENT FOOD COURT RESTAURANT & 1ST FL BAKERY)\u001b[0m\n",
      "\u001b[43mMARLIN BAR AT TOMMY BAHAMA AND TOMMY BAHAMA RESTAURANT AND B\u001b[0m\n",
      "\u001b[43mNEW WAI LING CHINESE RESTAURANT/NEW FRESCO TORTILLAS II TACO\u001b[0m\n",
      "\u001b[43mNEW YORK UNIVERSITY - KIMMEL STUDENT CENTER (CATERING KITCHEN)\u001b[0m\n",
      "\u001b[43mRED STORM DINER @ ST. VINCENT'S HALL OF ST. JOHN'S UNIVERSITY\u001b[0m\n",
      "\u001b[43mSNACK BAR (LOCATED BETWEEN A-B BETWEEN FANCY FOOD AND MASTERS)\u001b[0m\n",
      "\u001b[43mSTAND 142 THE ORIGINAL CASCARINO\u001aS BRICK OVEN PIZZERIA & RISTORANTE\u001b[0m\n",
      "\u001b[43mTHE PENINSULA NEW YORK/ CLEMENT/ THE GOTHAM LOUNGE/ SALON DE NING\u001b[0m\n",
      "\u001b[43mUNION SQUARE SPORTS & ENTERTAINMENT AT THEATRE FOR A NEW AUDIENCE\u001b[0m\n"
     ]
    }
   ],
   "source": [
    "grep('^.{60,}$', 'restaurant-names.txt')"
   ]
  },
  {
   "cell_type": "markdown",
   "metadata": {},
   "source": [
    "##### Repetition shortcuts (very common!): \n",
    "\n",
    "* `* = {0,}`. The `*` character means match the previous atom zero or more times\n",
    "* `+ = {1,}`. The `+` character means match the previous atom one or more times\n",
    "* `? = {0,1}`. The `*` character means match the previous atom zero or one times\n",
    "\n",
    "\n",
    "\n",
    "\n"
   ]
  },
  {
   "cell_type": "markdown",
   "metadata": {},
   "source": [
    "Find all restaurants that start with one or more digits, followed by a space."
   ]
  },
  {
   "cell_type": "code",
   "execution_count": 51,
   "metadata": {},
   "outputs": [
    {
     "name": "stdout",
     "output_type": "stream",
     "text": [
      "\u001b[43m002 \u001b[0mMERCURY TACOS LLC\n",
      "\u001b[43m1 \u001b[0m2 3 BURGER SHOT BEER\n",
      "\u001b[43m1 \u001b[0mBANANA QUEEN\n",
      "\u001b[43m1 \u001b[0mBUEN SABOR\n",
      "\u001b[43m1 \u001b[0mDARBAR\n",
      "\u001b[43m1 \u001b[0mEAST 66TH STREET KITCHEN\n",
      "\u001b[43m1 \u001b[0mOAK\n",
      "\u001b[43m1 \u001b[0mOR 8\n",
      "\u001b[43m1 \u001b[0mSTOP PATTY SHOP\n",
      "\u001b[43m10 \u001b[0mDEVOE\n",
      "\u001b[43m10 \u001b[0mPOINTS KTV\n",
      "\u001b[43m100 \u001b[0mFUN\n",
      "\u001b[43m1001 \u001b[0mNIGHTS\n",
      "\u001b[43m1001 \u001b[0mNIGHTS CAFE\n",
      "\u001b[43m1005 \u001b[0mCATERING\n",
      "\u001b[43m101 \u001b[0mCAFE\n",
      "\u001b[43m101 \u001b[0mDELI\n",
      "\u001b[43m101 \u001b[0mRESTAURANT AND BAR\n",
      "\u001b[43m102 \u001b[0mNOODLES TOWN RESTAURANT\n",
      "\u001b[43m1020 \u001b[0mBAR\n",
      "\u001b[43m1028 \u001b[0mBAR & RESTAURANT EL SALVADORENO \n",
      "\u001b[43m1061 \u001b[0mCATERING LLC\n",
      "\u001b[43m107 \u001b[0mWEST RESTAURANT\n",
      "\u001b[43m108 \u001b[0mFAST FOOD CORP\n",
      "\u001b[43m108 \u001b[0mLOUNGE - CLUB 108\n",
      "\u001b[43m1081 \u001b[0mFULTON\n",
      "\u001b[43m11 \u001b[0mSTREET CAFE\n",
      "\u001b[43m111 \u001b[0mRESTAURANT\n",
      "\u001b[43m1174 \u001b[0mFULTON CUISINE, HALAL FOOD\n",
      "\u001b[43m12 \u001b[0mCHAIRS\n",
      "\u001b[43m12 \u001b[0mCHAIRS CAFE\n",
      "\u001b[43m12 \u001b[0mCORAZONES RESTAURANT & BAR\n",
      "\u001b[43m12 \u001b[0mCORNERS\n",
      "\u001b[43m12 \u001b[0mCORNERS COFFEE INC\n",
      "\u001b[43m12 \u001b[0mSTREET ALE HOUSE\n",
      "\u001b[43m120 \u001b[0mBAY CAFE\n",
      "\u001b[43m1200 \u001b[0mMILES\n",
      "\u001b[43m121 \u001b[0mFULTON STREET\n",
      "\u001b[43m123 \u001b[0mNIKKO\n",
      "\u001b[43m124 \u001b[0mCOFFEE SHOP\n",
      "\u001b[43m128 \u001b[0mDUMPLING HOUSE\n",
      "\u001b[43m137 \u001b[0mBAR & GRILL\n",
      "\u001b[43m1380 \u001b[0mBRONX RIVER CAFE CORP\n",
      "\u001b[43m149 \u001b[0mSTEAM FISH CORP.\n",
      "\u001b[43m15 \u001b[0mCENTRAL PARK WEST RESTAURANT\n",
      "\u001b[43m15 \u001b[0mEAST RESTAURANT\n",
      "\u001b[43m15 \u001b[0mFLAVORS\n",
      "\u001b[43m15 \u001b[0mFLAVORS \n",
      "\u001b[43m15 \u001b[0mST CAFE\n",
      "\u001b[43m156 \u001b[0mTEX BAR AND LOUNGE\n",
      "\u001b[43m16 \u001b[0mHANDLES\n",
      "\u001b[43m16 \u001b[0mHANDLES FROZEN YOGURT\n",
      "\u001b[43m16 \u001b[0mHANDLES MIDWOOD\n",
      "\u001b[43m162 \u001b[0mEB CORP BAKERY\n",
      "\u001b[43m168 \u001b[0mASUKA SUSHI\n",
      "\u001b[43m168 \u001b[0mBOWERY HOLDING LLC\n",
      "\u001b[43m168 \u001b[0mHI TEA\n",
      "\u001b[43m168 \u001b[0mTEA LLC\n",
      "\u001b[43m169 \u001b[0mBAR\n",
      "\u001b[43m1734 \u001b[0mVICTORY BOULEVARD,INC.\n",
      "\u001b[43m18 \u001b[0mBAKERY\n",
      "\u001b[43m18 \u001b[0mCHINESE CUISINE\n",
      "\u001b[43m18 \u001b[0mEAST GUNHILL PIZZA\n",
      "\u001b[43m18 \u001b[0mHIPOT\n",
      "\u001b[43m18 \u001b[0mRESTAURANT\n",
      "\u001b[43m18 \u001b[0mSTARS KITCHEN\n",
      "\u001b[43m181 \u001b[0mST CARIDAD RESTAURANT\n",
      "\u001b[43m1818 \u001b[0mSEAFOOD RESTAURANT\n",
      "\u001b[43m187 \u001b[0mYANG GARDEN\n",
      "\u001b[43m188 \u001b[0mFAST FOOD INC\n",
      "\u001b[43m19 \u001b[0mCAFE\n",
      "\u001b[43m1962 \u001b[0mSOGONGDONG SONTOFU\n",
      "\u001b[43m2 \u001b[0mBROS\n",
      "\u001b[43m2 \u001b[0mBROS PIZZA\n",
      "\u001b[43m2 \u001b[0mBROTHERS RESTAURANT\n",
      "\u001b[43m2 \u001b[0mCHILL\n",
      "\u001b[43m2 \u001b[0mDUCK GOOSE\n",
      "\u001b[43m2 \u001b[0mIN 1 RESTAURANT\n",
      "\u001b[43m2 \u001b[0mPALMITAS MEXICAN DELI\n",
      "\u001b[43m200 \u001b[0mFIFTH AVENUE RESTAURANT & SPORTS BAR\n",
      "\u001b[43m200 \u001b[0mORCHARD BAR\n",
      "\u001b[43m201 \u001b[0mBAR AND RESTAURANT\n",
      "\u001b[43m2013 \u001b[0mBROOKLYN RESTAURANT\n",
      "\u001b[43m203 \u001b[0mLENA INC\n",
      "\u001b[43m2058 \u001b[0mDELI AND GROCERY\n",
      "\u001b[43m21 \u001b[0mBAR\n",
      "\u001b[43m21 \u001b[0mCLUB\n",
      "\u001b[43m21 \u001b[0mSHANGHAI HOUSE\n",
      "\u001b[43m211 \u001b[0mNEW TACO GRILL\n",
      "\u001b[43m212 \u001b[0mSHAWARMA GRILL\n",
      "\u001b[43m212 \u001b[0mSTEAKHOUSE\n",
      "\u001b[43m216 \u001b[0mGOOD JOY CHINESE RESTAURANT\n",
      "\u001b[43m218 \u001b[0mRESTAURANT\n",
      "\u001b[43m22 \u001b[0mTHAI CUISINE\n",
      "\u001b[43m229 \u001b[0mLINDEN RESTAURANT\n",
      "\u001b[43m230 \u001b[0mFIFTH\n",
      "\u001b[43m232 \u001b[0mWILLIS AVENUE FOODS, LLC\n",
      "\u001b[43m234 \u001b[0mCHINA CITY\n",
      "\u001b[43m2419 \u001b[0mCHINA STAR RESTAURANT\n",
      "\u001b[43m2432 \u001b[0mPEKING HOUSE INC\n",
      "\u001b[43m2460 \u001b[0mLUCKY GARDEN\n",
      "\u001b[43m248 \u001b[0mHOSPITALITY GROUP LLC\n",
      "\u001b[43m26 \u001b[0mSEATS\n",
      "\u001b[43m2647 \u001b[0mDOUBLE DRAGON CHINESE RESTAURANT\n",
      "\u001b[43m27 \u001b[0mSHENG WANG NOODLE SHOP\n",
      "\u001b[43m27 \u001b[0mSHINJUKU SUSHI INC\n",
      "\u001b[43m27 \u001b[0mSPORTS BAR & CAFE\n",
      "\u001b[43m28 \u001b[0mMR. MING'S CAFFE\n",
      "\u001b[43m28 \u001b[0mNOODLES\n",
      "\u001b[43m286 \u001b[0mPIZZA PLACE INC\n",
      "\u001b[43m3 \u001b[0mALARM\n",
      "\u001b[43m3 \u001b[0mD'S LEGACY SALAD & GRILL\n",
      "\u001b[43m3 \u001b[0mDELI & GRILL\n",
      "\u001b[43m3 \u001b[0mESQUINAS RESTAURANT\n",
      "\u001b[43m3 \u001b[0mGUYS\n",
      "\u001b[43m3 \u001b[0mGUYS RESTURANT\n",
      "\u001b[43m3 \u001b[0mIN 1 FS&H JAMAICAN RESTAURANT\n",
      "\u001b[43m3 \u001b[0mIN 1 KITCHEN\n",
      "\u001b[43m3 \u001b[0mMOUNTS\n",
      "\u001b[43m3 \u001b[0mROOTS\n",
      "\u001b[43m3 \u001b[0mSHEETS SALOON\n",
      "\u001b[43m3 \u001b[0mSISTERS' & SHANTA'S RESTAURANT & BAKERY\n",
      "\u001b[43m3 \u001b[0mSTAR JUICE CENTER\n",
      "\u001b[43m3 \u001b[0mWAY RESTAURANT\n",
      "\u001b[43m301 \u001b[0mCAFE JUICE AND SMOOTHIES\n",
      "\u001b[43m310 \u001b[0m- EXELSIOR\n",
      "\u001b[43m318 \u001b[0m- TWO BOOTS\n",
      "\u001b[43m32 \u001b[0mDEGREE FROYO LOUNGE\n",
      "\u001b[43m33 \u001b[0mGOURMET\n",
      "\u001b[43m337 \u001b[0m- BURGERS & DOGS\n",
      "\u001b[43m3463 \u001b[0mJUICES FOR LIFE LLC\n",
      "\u001b[43m35 \u001b[0mDUET\n",
      "\u001b[43m360 \u001b[0mLOUNGE\n",
      "\u001b[43m374 \u001b[0mDELI\n",
      "\u001b[43m38 \u001b[0mDELI\n",
      "\u001b[43m388 \u001b[0mCAFE & DELI\n",
      "\u001b[43m39 \u001b[0mCOFFEE SHOP\n",
      "\u001b[43m39 \u001b[0mKARAOKE\n",
      "\u001b[43m395 \u001b[0mGOURMET AND GROCERY\n",
      "\u001b[43m401 \u001b[0mLUCKY STAR RESTAURANT\n",
      "\u001b[43m414 \u001b[0mHOTEL\n",
      "\u001b[43m414 \u001b[0mLATINO RESTAURANT SPORTS BAR\n",
      "\u001b[43m44 \u001b[0m& X HELL'S KITCHEN\n",
      "\u001b[43m44 \u001b[0m1/2 CAFE\n",
      "\u001b[43m44 \u001b[0mSW RISTORANTE & BAR\n",
      "\u001b[43m444 \u001b[0mMADISON COFFEE SHOP\n",
      "\u001b[43m456 \u001b[0mRESTAURANT\n",
      "\u001b[43m4618 \u001b[0mBAKERY\n",
      "\u001b[43m49 \u001b[0mGROVE\n",
      "\u001b[43m5 \u001b[0mAVENUE ASIAN TASTE\n",
      "\u001b[43m5 \u001b[0mBORO BURGER\n",
      "\u001b[43m5 \u001b[0mBURRO CAFE\n",
      "\u001b[43m5 \u001b[0mDE MAYO\n",
      "\u001b[43m5 \u001b[0mESTRELLA BAKERY\n",
      "\u001b[43m5 \u001b[0mNAPKIN BURGER\n",
      "\u001b[43m5 \u001b[0mSTAR CHEESE STEAK AND PIZZA\n",
      "\u001b[43m5 \u001b[0mSTAR CHEESESTEAK AND PIZZA\n",
      "\u001b[43m5 \u001b[0mSTAR VILLAGE CAFE\n",
      "\u001b[43m5 \u001b[0mTH & VINE\n",
      "\u001b[43m502 \u001b[0mBAR LOUNGE\n",
      "\u001b[43m502 \u001b[0mHUDSON BAGEL CORP\n",
      "\u001b[43m508 \u001b[0mRESTAURANT AND BAR\n",
      "\u001b[43m510 \u001b[0m11ST BAR\n",
      "\u001b[43m525 \u001b[0mLEX RESTAURANT & BAR\n",
      "\u001b[43m54 \u001b[0mBELOW\n",
      "\u001b[43m55 \u001b[0mBAR\n",
      "\u001b[43m55 \u001b[0mDELI & GRILL INC\n",
      "\u001b[43m55 \u001b[0mTHOMAS CAFE\n",
      "\u001b[43m555 \u001b[0mVIVACAFE\n",
      "\u001b[43m556 \u001b[0mEL CAFE INTERNATIONAL\n",
      "\u001b[43m59 \u001b[0mCHINA\n",
      "\u001b[43m61 \u001b[0mLOCAL\n",
      "\u001b[43m620 \u001b[0mON CATON\n",
      "\u001b[43m624 \u001b[0mKAM HAI CHINESE FOOD\n",
      "\u001b[43m6321 \u001b[0mYUAN BAO\n",
      "\u001b[43m652 \u001b[0mLIN'S GARDEN\n",
      "\u001b[43m658 \u001b[0mKINGS DELI\n",
      "\u001b[43m66 \u001b[0mHOPE CAFE\n",
      "\u001b[43m66 \u001b[0mPRINCE RESTAURANT\n",
      "\u001b[43m67 \u001b[0mBURGER\n",
      "\u001b[43m67 \u001b[0mORANGE STREET\n",
      "\u001b[43m67 \u001b[0mRESTAURANT\n",
      "\u001b[43m678 \u001b[0mAURORA CATERING INC\n",
      "\u001b[43m68 \u001b[0mDELI CANAL STORE\n",
      "\u001b[43m68 \u001b[0mJAY STREET BAR\n",
      "\u001b[43m68 \u001b[0mMEI MEI BAKERY\n",
      "\u001b[43m69 \u001b[0mBAR LOUNGE\n",
      "\u001b[43m69 \u001b[0mBAYARD RESTAURANT\n",
      "\u001b[43m69 \u001b[0mCOFFEE SHOP\n",
      "\u001b[43m69 \u001b[0mPIZZERIA\n",
      "\u001b[43m696 \u001b[0mGOURMET DELI\n",
      "\u001b[43m7 \u001b[0mGRAMS CAFFE\n",
      "\u001b[43m7 \u001b[0mGREEN & GRAIN\n",
      "\u001b[43m7 \u001b[0mSPICES\n",
      "\u001b[43m7 \u001b[0mSTARS\n",
      "\u001b[43m7 \u001b[0mTACOS MEXICAN CUISINE CORP\n",
      "\u001b[43m706 \u001b[0mBAR\n",
      "\u001b[43m71 \u001b[0mIRVING PLACE\n",
      "\u001b[43m718 \u001b[0mHOOKAH LOUNGE\n",
      "\u001b[43m718 \u001b[0mLOUNGE\n",
      "\u001b[43m718 \u001b[0mLOUNGE & TAPAS\n",
      "\u001b[43m729 \u001b[0mBAR & GRILL\n",
      "\u001b[43m739 \u001b[0mFRANKLIN BAR & LOUNGE\n",
      "\u001b[43m765 \u001b[0mFOOD MARKET\n",
      "\u001b[43m773 \u001b[0mLOUNGE\n",
      "\u001b[43m777 \u001b[0mTHEATER BAR\n",
      "\u001b[43m8 \u001b[0mDRAGON & PHOENIX CHINESE RESTAURANT\n",
      "\u001b[43m8 \u001b[0mPAET RIO\n",
      "\u001b[43m80 \u001b[0mRIVERSIDE CAFE\n",
      "\u001b[43m805 \u001b[0mZHENG YUAN BAO GOURMET\n",
      "\u001b[43m809 \u001b[0mGRILL & BAR RESTAURANT\n",
      "\u001b[43m809 \u001b[0mPERFECT DELI.\n",
      "\u001b[43m8090 \u001b[0mTAI WANESE\n",
      "\u001b[43m810 \u001b[0mDELI & CAFE\n",
      "\u001b[43m829 \u001b[0mBAR RESTAURANT\n",
      "\u001b[43m83 \u001b[0m1/2\n",
      "\u001b[43m83 \u001b[0mKIEN TUONG RESTAURANT\n",
      "\u001b[43m833 \u001b[0mANNADALE ROAD CORP.\n",
      "\u001b[43m85 \u001b[0mBROAD CAFE\n",
      "\u001b[43m85 \u001b[0mCHINESE RESTAURANT\n",
      "\u001b[43m86 \u001b[0mBAKERY\n",
      "\u001b[43m86 \u001b[0mBEST BAKERY\n",
      "\u001b[43m86 \u001b[0mNOODLES\n",
      "\u001b[43m86 \u001b[0mSEAFOOD CHINESE RESTAURANT\n",
      "\u001b[43m86 \u001b[0mSUPERSTAR INC\n",
      "\u001b[43m876 \u001b[0mBAR LOUNGE CORP\n",
      "\u001b[43m876 \u001b[0mMARKET DELI\n",
      "\u001b[43m88 \u001b[0mCAFE\n",
      "\u001b[43m88 \u001b[0mCANTEEN\n",
      "\u001b[43m88 \u001b[0mCHINESE RESTAURANT\n",
      "\u001b[43m88 \u001b[0mDEGREES\n",
      "\u001b[43m88 \u001b[0mPALACE RESTAURANT\n",
      "\u001b[43m888 \u001b[0mKITCHEN\n",
      "\u001b[43m9 \u001b[0m& 8 CAFE\n",
      "\u001b[43m900 \u001b[0mPARK\n",
      "\u001b[43m904 \u001b[0mLUPITA RESTAURANT CORP\n",
      "\u001b[43m940 \u001b[0mFLUSHING LOUNGE/ARANCINI BROS\n",
      "\u001b[43m95 \u001b[0mSOUTH\n",
      "\u001b[43m96 \u001b[0mSOUTH PARK\n",
      "\u001b[43m983 \u001b[0mBUSHWICK LIVING ROOM\n",
      "\u001b[43m99 \u001b[0mCENT BEST PIZZA 5AVE INC\n",
      "\u001b[43m99 \u001b[0mCENT EXPRESS PIZZA\n",
      "\u001b[43m99 \u001b[0mCENT FRESH PIZZA\n",
      "\u001b[43m99 \u001b[0mCENT FRESH PIZZA VILLA CAFE\n",
      "\u001b[43m99 \u001b[0mCENT PIZZA\n",
      "\u001b[43m99 \u001b[0mCENTS BEST & FRESH PIZZA INC.\n",
      "\u001b[43m99 \u001b[0mCENTS FRESH HOT PIZZA\n",
      "\u001b[43m99 \u001b[0mCENTS FRESH SLICE PIZZA\n",
      "\u001b[43m99 \u001b[0mCENTS MEGA PIZZA\n",
      "\u001b[43m99 \u001b[0mFAVOR TASTE\n",
      "\u001b[43m99 \u001b[0mFRESH PIZZA\n",
      "\u001b[43m99 \u001b[0mMILES TO PHILLY\n"
     ]
    }
   ],
   "source": [
    "grep('^[0-9]+ ', 'restaurant-names.txt')"
   ]
  },
  {
   "cell_type": "markdown",
   "metadata": {},
   "source": [
    "Find all restaurants that start with a letter, followed by one or more digits, followed by a space."
   ]
  },
  {
   "cell_type": "code",
   "execution_count": 52,
   "metadata": {},
   "outputs": [
    {
     "name": "stdout",
     "output_type": "stream",
     "text": [
      "\u001b[43mA1 \u001b[0mOCHA SUSHI\n",
      "\u001b[43mB4 \u001b[0mNYC\n",
      "\u001b[43mB66 \u001b[0mCLUB\n",
      "\u001b[43mC2 \u001b[0mCAFE\n",
      "\u001b[43mF1 \u001b[0mLOUNGE AND GRILL\n",
      "\u001b[43mH20 \u001b[0mLOUNGE AND RESTAURANT\n",
      "\u001b[43mJ4 \u001b[0mHOOKAH LOUNGE\n",
      "\u001b[43mQ2 \u001b[0mTHAI RESTAURANT\n",
      "\u001b[43mT2 \u001b[0m- GO\n",
      "\u001b[43mT49 \u001b[0mCAFE\n"
     ]
    }
   ],
   "source": [
    "grep('^[A-Z][0-9]+ ', 'restaurant-names.txt')"
   ]
  },
  {
   "cell_type": "code",
   "execution_count": 53,
   "metadata": {},
   "outputs": [
    {
     "name": "stdout",
     "output_type": "stream",
     "text": [
      "\u001b[43mBA1002 BAR\u001b[0m\n",
      "\u001b[43mBA1019 BAR\u001b[0m\n",
      "\u001b[43mBA6110 BAR\u001b[0m\n",
      "\u001b[43mBT3 BAR\u001b[0m\n",
      "\u001b[43mBT4 BAR\u001b[0m\n"
     ]
    }
   ],
   "source": [
    "# Find all restaurants\n",
    "# Beggining with one or more letters // ^[A-Z]+\n",
    "# followed by one or more digits // [0-9]+\n",
    "# Followed by any number of charaters // .*\n",
    "# and ending with BAR  // BAR$\n",
    "grep('^[A-Z]+[0-9]+.*BAR$', 'restaurant-names.txt')"
   ]
  },
  {
   "cell_type": "markdown",
   "metadata": {},
   "source": [
    "Find all restaurants that start with the word STARBUCKS, followed by any number of characters, and then have a digit."
   ]
  },
  {
   "cell_type": "code",
   "execution_count": 54,
   "metadata": {},
   "outputs": [
    {
     "name": "stdout",
     "output_type": "stream",
     "text": [
      "\u001b[43mSTARBUCKS # 14840\u001b[0m\n",
      "\u001b[43mSTARBUCKS (JFK TERMINAL 5\u001b[0m-POST SECURITY DEPARTURE)\n",
      "\u001b[43mSTARBUCKS (STORE 16628\u001b[0m)\n",
      "\u001b[43mSTARBUCKS 22420\u001b[0m\n",
      "\u001b[43mSTARBUCKS COFFEE  #16608\u001b[0m\n",
      "\u001b[43mSTARBUCKS COFFEE # 15440\u001b[0m\n",
      "\u001b[43mSTARBUCKS COFFEE # 7463\u001b[0m\n",
      "\u001b[43mSTARBUCKS COFFEE # 7540\u001b[0m\n",
      "\u001b[43mSTARBUCKS COFFEE #14240\u001b[0m\n",
      "\u001b[43mSTARBUCKS COFFEE #18509\u001b[0m\n",
      "\u001b[43mSTARBUCKS COFFEE #20679\u001b[0m\n",
      "\u001b[43mSTARBUCKS COFFEE #21514\u001b[0m\n",
      "\u001b[43mSTARBUCKS COFFEE #22596\u001b[0m\n",
      "\u001b[43mSTARBUCKS COFFEE #23266\u001b[0m\n",
      "\u001b[43mSTARBUCKS COFFEE #23267\u001b[0m\n",
      "\u001b[43mSTARBUCKS COFFEE #3438\u001b[0m\n",
      "\u001b[43mSTARBUCKS COFFEE #7344\u001b[0m\n",
      "\u001b[43mSTARBUCKS COFFEE #7358\u001b[0m\n",
      "\u001b[43mSTARBUCKS COFFEE #7416\u001b[0m\n",
      "\u001b[43mSTARBUCKS COFFEE #7682\u001b[0m\n",
      "\u001b[43mSTARBUCKS COFFEE #7826\u001b[0m\n",
      "\u001b[43mSTARBUCKS COFFEE #9282\u001b[0m\n",
      "\u001b[43mSTARBUCKS COFFEE #9722\u001b[0m\n",
      "\u001b[43mSTARBUCKS COFFEE (#19890\u001b[0m)\n",
      "\u001b[43mSTARBUCKS COFFEE (#2785\u001b[0m)\n",
      "\u001b[43mSTARBUCKS COFFEE (STORE #13539\u001b[0m)\n",
      "\u001b[43mSTARBUCKS COFFEE (STORE #7216\u001b[0m)\n",
      "\u001b[43mSTARBUCKS COFFEE (STORE #7555\u001b[0m)\n",
      "\u001b[43mSTARBUCKS COFFEE (STORE #7577\u001b[0m)\n",
      "\u001b[43mSTARBUCKS COFFEE (STORE #7587\u001b[0m)\n",
      "\u001b[43mSTARBUCKS COFFEE (STORE #7696\u001b[0m)\n",
      "\u001b[43mSTARBUCKS COFFEE (STORE #8614\u001b[0m)\n",
      "\u001b[43mSTARBUCKS COFFEE (STORE 17478\u001b[0m)\n",
      "\u001b[43mSTARBUCKS COFFEE (STORE 7261\u001b[0m)\n",
      "\u001b[43mSTARBUCKS COFFEE (STORE#11650\u001b[0m)\n",
      "\u001b[43mSTARBUCKS COFFEE (STORE#20161\u001b[0m)\n",
      "\u001b[43mSTARBUCKS COFFEE COMPANY #22560\u001b[0m\n",
      "\u001b[43mSTARBUCKS COFFEE MACY'S 6\u001b[0mTH FLOOR\n",
      "\u001b[43mSTARBUCKS COFFEE# 7426\u001b[0m\n",
      "\u001b[43mSTARBUCKS COFFEE#7462\u001b[0m\n",
      "\u001b[43mSTARBUCKS JPMC 270\u001b[0m PARK\n"
     ]
    }
   ],
   "source": [
    "grep('STARBUCKS.*[0-9]+', 'restaurant-names.txt')"
   ]
  },
  {
   "cell_type": "markdown",
   "metadata": {},
   "source": [
    "#### Grouping ()\n",
    "\n",
    "In the group operator, when a group of characters is enclosed in parentheses, the next operator applies to the whole group, not only the previous characters. \n",
    "\n",
    "For example: Find all the restaurants that start (`^`) with 8 or more repetitions (`{8,}`) of the `\\w+ ` pattern (alphanumeric characters followed by space):"
   ]
  },
  {
   "cell_type": "code",
   "execution_count": 55,
   "metadata": {},
   "outputs": [
    {
     "name": "stdout",
     "output_type": "stream",
     "text": [
      "\u001b[43mGREATER NEW YORK SOCIAL AND HEALTH ADULT DAY CARE CENTER \u001b[0mLLC\n",
      "\u001b[43mHOMEWOOD SUITES BY HILTON NEW YORK MIDTOWN MANHATTAN TIMES \u001b[0mSQUARE\n",
      "\u001b[43mMARLIN BAR AT TOMMY BAHAMA AND TOMMY BAHAMA RESTAURANT AND \u001b[0mB\n"
     ]
    }
   ],
   "source": [
    "grep(r'^(\\w+ ){8,}', 'restaurant-names.txt')"
   ]
  },
  {
   "cell_type": "markdown",
   "metadata": {},
   "source": [
    "#### In class exercices\n",
    "\n",
    "What do these regular expressions match?\n",
    "\n",
    "1. b (cd)*\n",
    "* j? k+\n",
    "* (cd){2,5}\n",
    "* Panos|Ipeirotis"
   ]
  },
  {
   "cell_type": "markdown",
   "metadata": {},
   "source": [
    "#### In class exercises (advanced)\n",
    "\n",
    "Write down the regular expressions for the following:\n",
    "\n",
    "1. A telephone number (e.g, 212-555-0921)\n",
    "* A zip+4 code (e.g, 10012-1809)\n",
    "* Dollar amount with optional cents  (e.g. \\$0.33, \\$784)\n",
    "* Match urls  only of the form http://www.alphanumeric.com\n"
   ]
  },
  {
   "cell_type": "markdown",
   "metadata": {},
   "source": [
    "### Group references\n",
    "\n",
    "Sometimes it is handy to be able to refer to a match that was made earlier in a regex. This is done with **backreferences**, which refer to groups. `\\k` is the backreference specifier, where `k` is a number, which refers to the `k`-th regular expression *that was enclosed in parenthesis*.\n",
    "\n",
    "For example, find if the first character(s) of a line are the same as the last:\n"
   ]
  },
  {
   "cell_type": "code",
   "execution_count": 56,
   "metadata": {},
   "outputs": [
    {
     "name": "stdout",
     "output_type": "stream",
     "text": [
      "\u001b[43m108 LOUNGE - CLUB 108\u001b[0m\n",
      "\u001b[43mANTEK RESTAURANT\u001b[0m\n",
      "\u001b[43mANTOJITOS RETAURANT\u001b[0m\n",
      "\u001b[43mANTONIO'S RESTAURANT\u001b[0m\n",
      "\u001b[43mARRIBA ARRIBA\u001b[0m\n",
      "\u001b[43mBARCELONA BAR\u001b[0m\n",
      "\u001b[43mBARRACUDA BAR\u001b[0m\n",
      "\u001b[43mBERONBERON\u001b[0m\n",
      "\u001b[43mBINGO BINGO BINGO\u001b[0m\n",
      "\u001b[43mBUMBLE AND BUMBLE\u001b[0m\n",
      "\u001b[43mBURGER BURGER\u001b[0m\n",
      "\u001b[43mCENTER PLATE- CONCOURSE CAFE-JACOB K JAVITS CONVENTION CENTER\u001b[0m\n",
      "\u001b[43mCENTERPLATE-EMPLOYEE CAFETERIA-JACOB K JAVITS CONVENTION CENTER\u001b[0m\n",
      "\u001b[43mCHARLES SALLY & CHARLES\u001b[0m\n",
      "\u001b[43mCHEEBURGER CHEEBURGER\u001b[0m\n",
      "\u001b[43mCHEN MOMMY KITCHEN\u001b[0m\n",
      "\u001b[43mCHEN'S KITCHEN\u001b[0m\n",
      "\u001b[43mCHOP CHOP\u001b[0m\n",
      "\u001b[43mCREPE SUCRE\u001b[0m\n",
      "\u001b[43mDIP DIP\u001b[0m\n",
      "\u001b[43mETCETERA ETCETERA\u001b[0m\n",
      "\u001b[43mGAJI GAJI\u001b[0m\n",
      "\u001b[43mGIT-IT-N-GIT\u001b[0m\n",
      "\u001b[43mGONZALEZ Y GONZALEZ\u001b[0m\n",
      "\u001b[43mGUDE GUDE\u001b[0m\n",
      "\u001b[43mHALF AND HALF\u001b[0m\n",
      "\u001b[43mHOME SWEET HOME\u001b[0m\n",
      "\u001b[43mJANCHI JANCHI\u001b[0m\n",
      "\u001b[43mKENEDY FRIED CHICKEN\u001b[0m\n",
      "\u001b[43mKENNDY FRIED CHICKEN\u001b[0m\n",
      "\u001b[43mKENNEDY  FRIED CHICKEN\u001b[0m\n",
      "\u001b[43mKENNEDY FRIED CHICKEN\u001b[0m\n",
      "\u001b[43mKENNEDY GRILL & FRIED CHICKEN\u001b[0m\n",
      "\u001b[43mKENNEDY GRILL AND FRIED CHICKEN\u001b[0m\n",
      "\u001b[43mKENNEDY PIZZA & CHICKEN\u001b[0m\n",
      "\u001b[43mKENTUCKY FRIED CHICKEN\u001b[0m\n",
      "\u001b[43mKOPI KOPI\u001b[0m\n",
      "\u001b[43mLAS RAMBLAS\u001b[0m\n",
      "\u001b[43mLES HALLES\u001b[0m\n",
      "\u001b[43mLOS 3 POTRILLOS\u001b[0m\n",
      "\u001b[43mLOS DOS POTRILLOS\u001b[0m\n",
      "\u001b[43mLOS TRES POTRILLOS\u001b[0m\n",
      "\u001b[43mLUCA LUCA\u001b[0m\n",
      "\u001b[43mMANGO MANGO\u001b[0m\n",
      "\u001b[43mMANGOMANGO\u001b[0m\n",
      "\u001b[43mMOCU-MOCU\u001b[0m\n",
      "\u001b[43mNAKA NAKA\u001b[0m\n",
      "\u001b[43mNAM NAM\u001b[0m\n",
      "\u001b[43mNITA NITA\u001b[0m\n",
      "\u001b[43mNORTHERN MANOR\u001b[0m\n",
      "\u001b[43mONE AND ONE\u001b[0m\n",
      "\u001b[43mPIO PIO\u001b[0m\n",
      "\u001b[43mPIO-PIO\u001b[0m\n",
      "\u001b[43mSAATCHI & SAATCHI\u001b[0m\n",
      "\u001b[43mSALSA Y SALSA\u001b[0m\n",
      "\u001b[43mSAN SOO KAP SAN\u001b[0m\n",
      "\u001b[43mSANSOOKAPSAN\u001b[0m\n",
      "\u001b[43mSEBA SEBA\u001b[0m\n",
      "\u001b[43mSEBA-SEBA\u001b[0m\n",
      "\u001b[43mSHERATON NEW YORK HOTEL @ LINK SHERATON\u001b[0m\n",
      "\u001b[43mSHINJU III SUSHI\u001b[0m\n",
      "\u001b[43mSOOM SOOM\u001b[0m\n",
      "\u001b[43mSUSHI SUSHI\u001b[0m\n",
      "\u001b[43mTAKA TAKA\u001b[0m\n",
      "\u001b[43mTETE-A-TETE\u001b[0m\n",
      "\u001b[43mTUK TUK\u001b[0m\n",
      "\u001b[43mVIS-A-VIS\u001b[0m\n"
     ]
    }
   ],
   "source": [
    "grep(r'^(.{3,}).*\\1$', 'restaurant-names.txt')"
   ]
  },
  {
   "cell_type": "markdown",
   "metadata": {},
   "source": [
    "Or find all the restaurant names that the first 5 characters (or more) are identical to the last characters."
   ]
  },
  {
   "cell_type": "code",
   "execution_count": 57,
   "metadata": {},
   "outputs": [
    {
     "name": "stdout",
     "output_type": "stream",
     "text": [
      "\u001b[43mBERONBERON\u001b[0m\n",
      "\u001b[43mCOCO\u001b[0m\n",
      "\u001b[43mISIS\u001b[0m\n",
      "\u001b[43mMANGOMANGO\u001b[0m\n",
      "\u001b[43mNONO\u001b[0m\n",
      "\u001b[43mVIVI\u001b[0m\n"
     ]
    }
   ],
   "source": [
    "grep(r'^([A-Z]+)\\1$', 'restaurant-names.txt')"
   ]
  },
  {
   "cell_type": "markdown",
   "metadata": {},
   "source": [
    "Find all names that have three consecutive same digits"
   ]
  },
  {
   "cell_type": "code",
   "execution_count": 58,
   "metadata": {},
   "outputs": [
    {
     "name": "stdout",
     "output_type": "stream",
     "text": [
      "\u001b[43m111\u001b[0m RESTAURANT\n",
      "\u001b[43m444\u001b[0m MADISON COFFEE SHOP\n",
      "\u001b[43m555\u001b[0m VIVACAFE\n",
      "\u001b[43m777\u001b[0m THEATER BAR\n",
      "\u001b[43m888\u001b[0m KITCHEN\n",
      "CAFE 2\u001b[43m000\u001b[0m CORONA\n",
      "CHEN BROTHERS \u001b[43m888\u001b[0m RESTAURANT, INC.\n",
      "GALLAGHER'S 2\u001b[43m000\u001b[0m\n",
      "LEGENDS \u001b[43m000\u001b[0m\n",
      "MEXICO 2\u001b[43m000\u001b[0m DELI RESTAURANT\n",
      "NEW \u001b[43m888\u001b[0m CHINA EXPRESS\n",
      "OUTBACK STEAKHOUSE \u001b[43m333\u001b[0m0\n",
      "OUTBACK STEAKHOUSE \u001b[43m333\u001b[0m2\n",
      "STARBUCKS COFFEE (STORE #7\u001b[43m555\u001b[0m)\n",
      "SUBWAY STORE 46\u001b[43m555\u001b[0m\n",
      "TULCINGO DELI \u001b[43m111\u001b[0m\n"
     ]
    }
   ],
   "source": [
    "grep(r'([0-9])\\1\\1', 'restaurant-names.txt')"
   ]
  },
  {
   "cell_type": "markdown",
   "metadata": {},
   "source": [
    "As we are going to see, these backreferences will also be of tremendous use for extraction purposes."
   ]
  },
  {
   "cell_type": "code",
   "execution_count": 59,
   "metadata": {},
   "outputs": [
    {
     "name": "stdout",
     "output_type": "stream",
     "text": [
      "2647 \u001b[43mDOUBLE DRAGON\u001b[0m CHINESE RESTAURANT\n",
      "BEST \u001b[43mDOUBLE DRAGON\u001b[0m RESTAURANT\n",
      "D & B \u001b[43mDOUBLE CHINESE\u001b[0m RESTAURANT\n",
      "\u001b[43mDOUBLE CRISPY\u001b[0m BAKERY\n",
      "\u001b[43mDOUBLE DELIGHT\u001b[0m CHINESE RESTAURANT\n",
      "\u001b[43mDOUBLE DOWN\u001b[0m SALOON\n",
      "\u001b[43mDOUBLE DRAGON\u001b[0m\n",
      "\u001b[43mDOUBLE DRAGON\u001b[0m CHINESE RESTAURANT\n",
      "\u001b[43mDOUBLE DRAGON\u001b[0m RESTAURANT\n",
      "\u001b[43mDOUBLE DUTCH\u001b[0m ESPRESSO\n",
      "\u001b[43mDOUBLE HAPPY\u001b[0m KITCHEN\n",
      "\u001b[43mDOUBLE HAPPY\u001b[0m RESTAURANT\n",
      "\u001b[43mDOUBLE RAINBOW\u001b[0m\n",
      "\u001b[43mDOUBLE WIDE\u001b[0m BAR\n",
      "\u001b[43mDOUBLE WINDSOR\u001b[0m\n",
      "GINGERS (\u001b[43mDOUBLE TREE\u001b[0m HOTEL)\n",
      "NEW \u001b[43mDOUBLE CHINESE\u001b[0m RESTAURANT\n",
      "NEW \u001b[43mDOUBLE DRAGON\u001b[0m\n",
      "NEW \u001b[43mDOUBLE DRAGON\u001b[0m CHINESE RESTAURANT\n",
      "NY \u001b[43mDOUBLE CHINESE\u001b[0m RESTAURANT\n",
      "THE MET GRILL/\u001b[43mDOUBLE TREE\u001b[0m HOTEL\n"
     ]
    }
   ],
   "source": [
    "#### Naming groups\n",
    "# The group that follows the term \"DOUBLE\" is named \"doublewhat\" and we can refer to it as \\doublewhat\n",
    "grep(r'DOUBLE (?P<doublewhat>\\w+)', 'restaurant-names.txt')\n"
   ]
  },
  {
   "cell_type": "markdown",
   "metadata": {},
   "source": [
    "### More Advanced Regular Expressions\n",
    "\n",
    "And the ones below get a little bit more advanced:\n",
    "\n",
    "* `*?`, `+?`: ordinarily, `*`, `+` and `?` are **greedy**. This means they are matching the longest possible string that satisfies the regular expression. Adding the `?` to any of these makes it non-greedy, instead matching the shortest possible expression. \n",
    "* `(?: )`: A non-capturing group. This works just as `()`, but doesn’t hold on to the matched contents.\n",
    "* `(?<=x)`: Matches any string that is preceded by x (an arbitrary regular expression).\n"
   ]
  },
  {
   "cell_type": "markdown",
   "metadata": {},
   "source": [
    "## Implementing Regular Expressions in Python\n",
    "\n",
    "In the introduction to RegEx, we hid the mechanics of how to implement regular expressions in Python with our \"grep\" UDF. Now, we will dive a bit deeper in this document, which presents basic regular expression syntax and cover common use cases for regular expressions: pattern matching, filtering, data extraction, and string replacement. \n",
    "\n",
    "We will present examples using python’s standard [re regular expression library](http://docs.python.org/library/re.html).\n",
    "\n",
    "You may also want to look at this [*excellent* tutorial from Google](https://developers.google.com/edu/python/regular-expressions).\n"
   ]
  },
  {
   "cell_type": "markdown",
   "metadata": {},
   "source": [
    "### Searching strings using regexes"
   ]
  },
  {
   "cell_type": "code",
   "execution_count": 63,
   "metadata": {},
   "outputs": [],
   "source": [
    "# first import the library\n",
    "import re"
   ]
  },
  {
   "cell_type": "code",
   "execution_count": 64,
   "metadata": {},
   "outputs": [],
   "source": [
    "# Regular expressions are compiled into pattern objects\n",
    "regex = re.compile(r'D.*Data')\n",
    "text = \"Prof. Donna Datastrom, Dealing with Data, 212-998-0803, msdata@nyu.edu\""
   ]
  },
  {
   "cell_type": "markdown",
   "metadata": {},
   "source": [
    "There are few methods to retrieve your matched text: \n",
    "* `.findall()` : returns a comma-separated set of ALL results matching your regex as a list\n",
    "* `.search()` : returns your regex's best match in an object that enables you to access each group\n",
    "* `.finditer()` : returns an iterator object, with all the matches, which enables you to work through every match in a for loop\n",
    "\n",
    "Let's compare these."
   ]
  },
  {
   "cell_type": "code",
   "execution_count": 65,
   "metadata": {},
   "outputs": [
    {
     "name": "stdout",
     "output_type": "stream",
     "text": [
      "['Donna Datastrom, Dealing with Data']\n"
     ]
    }
   ],
   "source": [
    "# .findall()\n",
    "match = regex.findall(text)\n",
    "print(match)"
   ]
  },
  {
   "cell_type": "code",
   "execution_count": 66,
   "metadata": {},
   "outputs": [
    {
     "name": "stdout",
     "output_type": "stream",
     "text": [
      "<re.Match object; span=(6, 40), match='Donna Datastrom, Dealing with Data'>\n",
      "Donna Datastrom, Dealing with Data\n"
     ]
    }
   ],
   "source": [
    "# .search()\n",
    "match = regex.search(text)\n",
    "print(match)\n",
    "print(match.group())"
   ]
  },
  {
   "cell_type": "code",
   "execution_count": 67,
   "metadata": {},
   "outputs": [
    {
     "name": "stdout",
     "output_type": "stream",
     "text": [
      "<callable_iterator object at 0x0000025FA94897B8>\n",
      "Donna Datastrom, Dealing with Data\n"
     ]
    }
   ],
   "source": [
    "matches = regex.finditer(text)\n",
    "print(matches)\n",
    "for match in matches:\n",
    "    print(match.group())"
   ]
  },
  {
   "cell_type": "code",
   "execution_count": 68,
   "metadata": {},
   "outputs": [
    {
     "name": "stdout",
     "output_type": "stream",
     "text": [
      "brandenburger@stern\n"
     ]
    }
   ],
   "source": [
    "# We will now try to match an email address. What is wrong in our regex? \n",
    "# Can you fix it? Try to use \\w as a shorthand\n",
    "regex = re.compile(r'\\w+@\\w+')\n",
    "text = \"My email is adam.brandenburger@stern.nyu.edu. You can email me.\"\n",
    "\n",
    "matches = regex.finditer(text)\n",
    "for match in matches:\n",
    "    print(match.group())"
   ]
  },
  {
   "cell_type": "code",
   "execution_count": 69,
   "metadata": {},
   "outputs": [
    {
     "name": "stdout",
     "output_type": "stream",
     "text": [
      "brandenburger@stern.nyu.edu.\n"
     ]
    }
   ],
   "source": [
    "# FIXED -- We will now try to match an email address. What is wrong in our regex? \n",
    "# Can you fix it? Try to use \\w as a shorthand\n",
    "regex = re.compile(r'\\w+@[\\w\\.]+')\n",
    "text = \"My email is adam.brandenburger@stern.nyu.edu. You can email me.\"\n",
    "\n",
    "matches = regex.finditer(text)\n",
    "for match in matches:\n",
    "    print(match.group())"
   ]
  },
  {
   "cell_type": "code",
   "execution_count": 70,
   "metadata": {},
   "outputs": [
    {
     "name": "stdout",
     "output_type": "stream",
     "text": [
      "1101110100011\n",
      "1111\n",
      "0000\n"
     ]
    }
   ],
   "source": [
    "# We are looking for binary numbers\n",
    "regex = re.compile(r'[10]+')\n",
    "text = \"asddf1101110100011abd1111panos0000\"\n",
    "matches = regex.finditer(text)\n",
    "for match in matches:\n",
    "    print(match.group())"
   ]
  },
  {
   "cell_type": "code",
   "execution_count": 71,
   "metadata": {},
   "outputs": [
    {
     "name": "stdout",
     "output_type": "stream",
     "text": [
      "$1200.23\n",
      "$1200\n"
     ]
    }
   ],
   "source": [
    "# We look for money figures, either integers, or with 1 or 2 decimal\n",
    "# digits\n",
    "regex = re.compile(r'\\$\\d+(\\.\\d\\d?)?')\n",
    "text = '$1200.23 is the price today. $1200 was the price yesterday'\n",
    "matches = regex.finditer(text)\n",
    "for match in matches:\n",
    "    print(match.group())"
   ]
  },
  {
   "cell_type": "code",
   "execution_count": 72,
   "metadata": {},
   "outputs": [],
   "source": [
    "# This code is going to generate no matches\n",
    "regex = re.compile(r'Ra*nd.*m R[egex]')\n",
    "text =  \"Prof. Donna Datastrom, Dealing with Data, 212-998-0803, msdata@nyu.edu\"\n",
    "matches = regex.finditer(text)\n",
    "for match in matches:\n",
    "    print(match.group())"
   ]
  },
  {
   "cell_type": "markdown",
   "metadata": {},
   "source": [
    "### Flags for regexes: Case-sentitivity and multiline searches"
   ]
  },
  {
   "cell_type": "markdown",
   "metadata": {},
   "source": [
    "Regular expressions are typically case-sensitive. "
   ]
  },
  {
   "cell_type": "code",
   "execution_count": 73,
   "metadata": {},
   "outputs": [],
   "source": [
    "# Regular expressions are compiled into pattern objects\n",
    "# Regular expressions are case-sensitive\n",
    "regex = re.compile(r'D.*STR')\n",
    "text = \"Prof. Donna Datastrom, Dealing with Data, 212-998-0803, msdata@nyu.edu\"\n",
    "matches = regex.finditer(text)\n",
    "for match in matches:\n",
    "    print(match.group())"
   ]
  },
  {
   "cell_type": "markdown",
   "metadata": {},
   "source": [
    "But we can specify that they are case-insensitive, using the flag re.IGNORECASE"
   ]
  },
  {
   "cell_type": "code",
   "execution_count": 74,
   "metadata": {},
   "outputs": [
    {
     "name": "stdout",
     "output_type": "stream",
     "text": [
      "Donna Datastr\n"
     ]
    }
   ],
   "source": [
    "# Unless we specify that they are case-insensitive, using the flag re.IGNORECASE\n",
    "regex = re.compile('D.*STR',re.IGNORECASE)\n",
    "text = \"Prof. Donna Datastrom, Dealing with Data, 212-998-0803, msdata@nyu.edu\"\n",
    "matches = regex.finditer(text)\n",
    "for match in matches:\n",
    "    print(match.group())"
   ]
  },
  {
   "cell_type": "markdown",
   "metadata": {},
   "source": [
    " For a full list of available flags, please see the [re documentation](http://docs.python.org/library/re.html)."
   ]
  },
  {
   "cell_type": "markdown",
   "metadata": {},
   "source": [
    "### Multiple matches in a string"
   ]
  },
  {
   "cell_type": "markdown",
   "metadata": {},
   "source": [
    "The search command goes through the string to find the longest expression that matches the regex\n",
    "and once it finds the first match, it stops. For example, we will not get the second phone number"
   ]
  },
  {
   "cell_type": "code",
   "execution_count": 75,
   "metadata": {},
   "outputs": [
    {
     "name": "stdout",
     "output_type": "stream",
     "text": [
      "212-998-0803\n"
     ]
    }
   ],
   "source": [
    "# The search command goes through the string to find the longest expression that matches the regex\n",
    "# Then it continues with the second one\n",
    "regex = re.compile('\\d{3}-\\d{3}-\\d{4}')\n",
    "text = \"Prof. Donna Datastrom, Dealing with Data, 212-998-0803, msdata@nyu.edu, 646-555-5555\"\n",
    "matches = regex.search(text)\n",
    "print(matches.group())"
   ]
  },
  {
   "cell_type": "markdown",
   "metadata": {},
   "source": [
    "If we want to find multiple matches within the string, then we use the `finditer` command that returns a collection of `MatchObject` items."
   ]
  },
  {
   "cell_type": "code",
   "execution_count": 76,
   "metadata": {},
   "outputs": [
    {
     "name": "stdout",
     "output_type": "stream",
     "text": [
      "Starts at: 42 Ends at: 54 Content: 212-998-0803\n",
      "Starts at: 72 Ends at: 84 Content: 646-555-5555\n"
     ]
    }
   ],
   "source": [
    "# The matches command returns an iterator containing \"match\" objects, which have a variety of attributes\n",
    "regex = re.compile(r'\\d{3}-\\d{3}-\\d{4}')\n",
    "text = \"Prof. Donna Datastrom, Dealing with Data, 212-998-0803, msdata@nyu.edu, 646-555-5555\"\n",
    "matches = regex.finditer(text)\n",
    "for m in matches:\n",
    "    print(\"Starts at:\", m.start(), \n",
    "    \"Ends at:\", m.end(),\n",
    "    \"Content:\", m.group())"
   ]
  },
  {
   "cell_type": "markdown",
   "metadata": {},
   "source": [
    "### Extracting Data -- where regex start to get really cool\n",
    "\n",
    "#### Defining groups within regexes\n",
    "\n",
    "In addition to simple matching and filtering, many regular expressions implementations, including python’s re, provide a powerful mechanism for extracting meaningful data from raw text. Through capturing, those strings that satisfy a particular regular expression are extracted from the text being matched, and returned to the program processing the raw data. \n",
    "\n",
    "**The portion of regular expressions that should be captured is surrounded by parentheses, `\"( )\"`.**\n",
    "\n",
    "Then, provided the regular expression containing the capturing statement is satisfied, the result of the regular expression will contain a group of text matching patterns. This group method gets the results of the portions of the input text matched by the capturing statements in the regular expression. The matches are indexed from one-- to get the portion of the text matched by first capturing statement, you could query `result.group(1)`, the second parentheses will have its match stored in `result.group(2)`, etc. The value stored at `result.group(0)`, is the entire portion of the input string matched by the regular expression, not just the portion satisfying the capturing parentheses.\n",
    "\n",
    "As example of data extraction using capturing regular expressions, say we’re scanning some raw text for phone numbers that we wish to retain for later processing. We might try something like:"
   ]
  },
  {
   "cell_type": "code",
   "execution_count": 77,
   "metadata": {},
   "outputs": [
    {
     "name": "stdout",
     "output_type": "stream",
     "text": [
      "212-998-0803\n",
      "Formatted: 212 - 998 - 0803\n",
      "===========\n",
      "646-555-5555\n",
      "Formatted: 646 - 555 - 5555\n",
      "===========\n"
     ]
    }
   ],
   "source": [
    "import re\n",
    "# Find phone numbers: \n",
    "# Three digits \\d{3}\n",
    "# followed by zero or more non-digits \\D*\n",
    "# followed by three digits \\d{3}\n",
    "# followed by zero or more non-digits \\D*\n",
    "# followed by four digits \\d{4}\n",
    "\n",
    "# The re.VERBOSE flag at the end allows us to write the regex as a multiline string \n",
    "# and allows for comments (after the # character)\n",
    "# In this mode, any whitespace character is ignored, unless explicitly added as part\n",
    "# of a bracketed expression or when preceded by an unescaped backslash\n",
    "\n",
    "regex = re.compile(r\"\"\"(\\d{3}) # The first three digits / area code\n",
    "                       \\D*     # Followed by zero or more non-digits\n",
    "                       (\\d{3}) # The first three digits of the \"local\" part \n",
    "                       \\D*     # Followed by zero or more non-digits\n",
    "                       (\\d{4}) # The last four digits of the phone number\n",
    "                       \"\"\", re.VERBOSE)\n",
    "text = \"Prof. Donna Datastrom, Dealing with Data, 212-998-0803, msdata@nyu.edu, 646-555-5555\"\n",
    "\n",
    "matches = regex.finditer(text)\n",
    "for match in matches:\n",
    "    print(match.group())\n",
    "    print(\"Formatted:\", match.group(1),\"-\", match.group(2), \"-\", match.group(3))\n",
    "    print(\"===========\")"
   ]
  },
  {
   "cell_type": "markdown",
   "metadata": {},
   "source": [
    "Now we will try to extract and format all phone numbers that are part of a big file:"
   ]
  },
  {
   "cell_type": "code",
   "execution_count": 78,
   "metadata": {},
   "outputs": [],
   "source": [
    "raw_text = \"\"\"\n",
    "512-234-5234\n",
    "foo\n",
    "bar\n",
    "124-512-5555\n",
    "biz\n",
    "125-555-5785\n",
    "679-397-5255\n",
    "2126660921\n",
    "212-998-0902\n",
    "888-888-2222\n",
    "801-555-1211\n",
    "802 555 1212\n",
    "803.555.1213\n",
    "(804) 555-1214\n",
    "1-805-555-1215\n",
    "1(806)555-1216\n",
    "807-555-1217-1234\n",
    "808-555-1218x1\n",
    "809-555-1219 ext. 1234\n",
    "work 1-(810) 555.1220 #1234\n",
    "\"\"\""
   ]
  },
  {
   "cell_type": "code",
   "execution_count": 79,
   "metadata": {},
   "outputs": [
    {
     "data": {
      "text/plain": [
       "'\\n512-234-5234\\nfoo\\nbar\\n124-512-5555\\nbiz\\n125-555-5785\\n679-397-5255\\n2126660921\\n212-998-0902\\n888-888-2222\\n801-555-1211\\n802 555 1212\\n803.555.1213\\n(804) 555-1214\\n1-805-555-1215\\n1(806)555-1216\\n807-555-1217-1234\\n808-555-1218x1\\n809-555-1219 ext. 1234\\nwork 1-(810) 555.1220 #1234\\n'"
      ]
     },
     "execution_count": 79,
     "metadata": {},
     "output_type": "execute_result"
    }
   ],
   "source": [
    "raw_text"
   ]
  },
  {
   "cell_type": "code",
   "execution_count": 80,
   "metadata": {},
   "outputs": [
    {
     "data": {
      "text/plain": [
       "['(512)234-5234',\n",
       " '(679)397-5255',\n",
       " '(212)666-0921',\n",
       " '(212)998-0902',\n",
       " '(888)888-2222',\n",
       " '(801)555-1211',\n",
       " '(802)555-1212',\n",
       " '(803)555-1213',\n",
       " '(804)555-1214',\n",
       " '(805)555-1215',\n",
       " '(806)555-1216',\n",
       " '(807)555-1217',\n",
       " '(808)555-1218',\n",
       " '(809)555-1219',\n",
       " '(810)555-1220']"
      ]
     },
     "execution_count": 80,
     "metadata": {},
     "output_type": "execute_result"
    }
   ],
   "source": [
    "# Notice now that each part of the phone is included in parentheses\n",
    "# allowing us to grab individual part of the phone number\n",
    "regex = re.compile(r'([2-9]\\d{2})\\D*(\\d{3})\\D*(\\d{4})')\n",
    "matches = regex.finditer(raw_text)\n",
    "\n",
    "phones = list()\n",
    "for m in matches:\n",
    "    area_code = m.group(1)\n",
    "    first_three_digits = m.group(2)\n",
    "    last_four_digits =  m.group(3)\n",
    "    \n",
    "    phone = \"(\" + area_code + \")\" + first_three_digits + \"-\" + last_four_digits\n",
    "            \n",
    "    phones.append(phone)\n",
    "\n",
    "# Notice that our list does not include numbers with invalid area codes (e.g., 124, 125)\n",
    "phones"
   ]
  },
  {
   "cell_type": "markdown",
   "metadata": {},
   "source": [
    "### String Replacement\n",
    "\n",
    "In addition to matching and extraction, regular expressions can be used to change data--especially unstructured text--in very powerful ways.  In particular, regex allow you to find specific patterns and then replace them with specified strings. \n",
    "\n",
    "As a data scientist, this is useful when trying to get data formated correctly as input to a specific system, such as when doing data cleanup.\n",
    "\n",
    "In python’s re library, the function used for replacement is `sub()` (think \"substitute\"). \n",
    "\n",
    "The pattern for invoking `sub()` is \n",
    "\n",
    "`re.sub(regex, replacement, text)`\n",
    "\n",
    "This will return a version of text where all instances of the regex have been substituted with replacement.\n",
    "\n",
    "Imagine we want to conceal all phone numbers in a document. We could use the following call to `sub()`:"
   ]
  },
  {
   "cell_type": "code",
   "execution_count": 81,
   "metadata": {},
   "outputs": [
    {
     "name": "stdout",
     "output_type": "stream",
     "text": [
      "XXX-XXX-XXXX\n",
      "foo\n",
      "bar\n",
      "124-512-5555\n",
      "biz\n",
      "125-555-5785\n",
      "XXX-XXX-XXXX\n",
      "XXX-XXX-XXXX\n",
      "XXX-XXX-XXXX\n",
      "XXX-XXX-XXXX\n",
      "XXX-XXX-XXXX\n",
      "XXX-XXX-XXXX\n",
      "XXX-XXX-XXXX\n",
      "(XXX-XXX-XXXX\n",
      "1-XXX-XXX-XXXX\n",
      "1(XXX-XXX-XXXX\n",
      "XXX-XXX-XXXX-1234\n",
      "XXX-XXX-XXXXx1234\n",
      "XXX-XXX-XXXX ext. 1234\n",
      "work 1-(XXX-XXX-XXXX #1234\n",
      "\n"
     ]
    }
   ],
   "source": [
    "raw_text = \"\"\"512-234-5234\n",
    "foo\n",
    "bar\n",
    "124-512-5555\n",
    "biz\n",
    "125-555-5785\n",
    "679-397-5255\n",
    "2126660921\n",
    "212-998-0902\n",
    "888-888-2222\n",
    "801-555-1211\n",
    "802 555 1212\n",
    "803.555.1213\n",
    "(804) 555-1214\n",
    "1-805-555-1215\n",
    "1(806)555-1216\n",
    "807-555-1217-1234\n",
    "808-555-1218x1234\n",
    "809-555-1219 ext. 1234\n",
    "work 1-(810) 555.1220 #1234\n",
    "\"\"\"\n",
    "\n",
    "regex = re.compile('([2-9]\\d{2})\\D*(\\d{3})\\D*(\\d{4})')\n",
    "\n",
    "newstring = re.sub(regex, \"XXX-XXX-XXXX\", raw_text)\n",
    "\n",
    "print(newstring)"
   ]
  },
  {
   "cell_type": "markdown",
   "metadata": {},
   "source": [
    "When performing substitution, matches found using the capturing mechanism are available to the replacement using `\\1`, `\\2`, and so on, as shortcuts to `group(1)`, `group(2)`, etc. \n",
    "\n",
    "In order to use this back-referencing capability, we need to tell the `sub()` mechanism to treat the replacement string as a regular expression. For instance, if we want to make sure all phone numbers are normalized and all area codes are surrounded by parentheses, we can use:"
   ]
  },
  {
   "cell_type": "code",
   "execution_count": 82,
   "metadata": {},
   "outputs": [
    {
     "name": "stdout",
     "output_type": "stream",
     "text": [
      "(512)-234-5234\n",
      "foo\n",
      "bar\n",
      "124-512-5555\n",
      "biz\n",
      "125-555-5785\n",
      "(679)-397-5255\n",
      "(212)-666-0921\n",
      "(212)-998-0902\n",
      "(888)-888-2222\n",
      "(801)-555-1211\n",
      "(802)-555-1212\n",
      "(803)-555-1213\n",
      "((804)-555-1214\n",
      "1-(805)-555-1215\n",
      "1((806)-555-1216\n",
      "(807)-555-1217-1234\n",
      "(808)-555-1218x1234\n",
      "(809)-555-1219 ext. 1234\n",
      "work 1-((810)-555-1220 #1234\n",
      "\n"
     ]
    }
   ],
   "source": [
    "print(re.sub(regex, r\"(\\1)-\\2-\\3\", raw_text))"
   ]
  },
  {
   "cell_type": "markdown",
   "metadata": {},
   "source": [
    "#### Exercise 1"
   ]
  },
  {
   "cell_type": "markdown",
   "metadata": {},
   "source": [
    "The webpage at `http://www.stern.nyu.edu/faculty/search_name_form/` contains the contact emails for all the Stern faculty members. Write code that will allow you to extract all the emails that appear in the page. Just for your convenience, the code below will fetch the page, and store the HTML source in the variable `html`.\n",
    "\n",
    "Then you will need to write the right regex and write the code that finds emails in the retrieved html."
   ]
  },
  {
   "cell_type": "code",
   "execution_count": null,
   "metadata": {},
   "outputs": [],
   "source": [
    "import requests\n",
    "url = 'http://www.stern.nyu.edu/faculty/search_name_form'\n",
    "response = requests.get(url)\n",
    "html = response.text\n",
    "html"
   ]
  },
  {
   "cell_type": "code",
   "execution_count": 84,
   "metadata": {},
   "outputs": [],
   "source": [
    "# Find occurences of the pattern in the HTML source\n",
    "\n",
    "# You want to write a regular expression that will find all the email addresses that appear in the html\n",
    "# variable, and store the emails in a list. You may also want to write the list of emails in a text file.\n",
    "pattern = r'YOUR PATTERN HERE'\n",
    "regex = re.compile(pattern)\n",
    "matches = regex.finditer(html)\n",
    "for m in matches:\n",
    "    ... #YOUR CODE HERE\n",
    "\n"
   ]
  },
  {
   "cell_type": "markdown",
   "metadata": {},
   "source": [
    "#### Solution for Exercise 1"
   ]
  },
  {
   "cell_type": "code",
   "execution_count": null,
   "metadata": {},
   "outputs": [],
   "source": [
    "# Email regex\n",
    "regex = re.compile(r'\\w+@(\\w+\\.)+\\w+')\n",
    "\n",
    "# We can create either a list or a set, but let's avoid duplicates\n",
    "emails = set()\n",
    "\n",
    "# Fetch the HTML source\n",
    "url = 'http://www.stern.nyu.edu/faculty/search_name_form'\n",
    "html = requests.get(url).text\n",
    "\n",
    "# Find matches\n",
    "matches = regex.finditer(html)\n",
    "# Go through matches and add them in our result set\n",
    "for m in matches:\n",
    "    emails.add(m.group())\n",
    "\n",
    "sorted(emails)"
   ]
  },
  {
   "cell_type": "markdown",
   "metadata": {},
   "source": [
    "#### Exercise 2\n",
    "\n",
    "* The webpage at `http://www.nasdaq.com/screening/companies-by-name.aspx?letter=A` contains the list of all tickers at the NASDAQ exchange, which start with the letter `A`. Inspect the HTML, and figure how what is the pattern for referring to the ticker (hint: you will see URLs of the form `http://www.nasdaq.com/symbol/....`). \n",
    "* Write regular expressions to extract the tickers that appear in a web page\n",
    "* Write code for iterating over all pages of NASDAQ for all the different letters\n",
    "* Write code for going over multiple pages within the same letter. (optional)"
   ]
  },
  {
   "cell_type": "code",
   "execution_count": 86,
   "metadata": {},
   "outputs": [],
   "source": [
    "import requests\n",
    "import re\n",
    "# Fetch the HTML from the page\n",
    "url = 'http://www.nasdaq.com/screening/companies-by-name.aspx?letter=A'\n",
    "html = requests.get(url).text\n",
    "# Find occurences of the pattern in the HTML source\n",
    "pattern = r'YOUR PATTERN HERE'\n",
    "regex = re.compile(pattern)\n",
    "matches = regex.finditer(html)\n",
    "for m in matches:\n",
    "    ... #YOUR CODE HERE"
   ]
  },
  {
   "cell_type": "markdown",
   "metadata": {},
   "source": [
    "#### Solution for exercise 2"
   ]
  },
  {
   "cell_type": "code",
   "execution_count": null,
   "metadata": {},
   "outputs": [],
   "source": [
    "import requests\n",
    "\n",
    "alphabet = \"ABCDEFGHIJKLMNOPQRSTUVWXYZ\"\n",
    "tickers = set()\n",
    "for letter in alphabet:\n",
    "    url = 'http://www.nasdaq.com/screening/companies-by-name.aspx?letter='+letter\n",
    "    print(url)\n",
    "    html = requests.get(url).text\n",
    "    \n",
    "    # The code below extracts the number of pages for each letter\n",
    "    # of the alphabet. Potentially we can use that number to\n",
    "    # iterate over all the pages in NASDAQ. Left as an exercise\n",
    "    # for the interested reader :-)\n",
    "    pages_regex = r'Displaying.*of.*<b>(\\d+)</b>.*results'\n",
    "    pregex = re.compile(pages_regex)\n",
    "    pages = pregex.finditer(html)\n",
    "    for m in pages:\n",
    "        print(\"Results:\", m.group(1))\n",
    "        pages = int(int(m.group(1))/50+1)\n",
    "        print(\"Letter\", letter, \"needs\", str(pages), \"pages\")\n",
    "    \n",
    "    ticker_regex = r'http://www.nasdaq.com/symbol/(\\w+)'\n",
    "    regex = re.compile(ticker_regex)\n",
    "    matches = regex.finditer(html)\n",
    "    for m in matches:\n",
    "        ticker = m.group(1).upper()\n",
    "        #print(\"URL:\", m.group())\n",
    "        #print(\"Ticker:\", ticker)\n",
    "        tickers.add(ticker)\n",
    "    print(\"We have \", len(tickers), \"tickers\")\n",
    "\n",
    "tickers"
   ]
  },
  {
   "cell_type": "code",
   "execution_count": null,
   "metadata": {},
   "outputs": [],
   "source": [
    "## Commas\n",
    "In our last class, we looked at the order of replacement operations for commas and fou\n",
    "\n",
    "str1 = \"value1,value2,,value3,,,value4,value5,,,,value6,,,,,value7\"\n",
    "\n",
    "# replace 2x , before 3x ,\n",
    "str2 = str1.replace(\",,\",\",\")\n",
    "str2.replace(\",,,\",\",\")\n",
    "\n",
    "# replace 2x , before 3x ,\n",
    "str2 = str1.replace(\",,,\",\",\")\n",
    "str3 = str2.replace(\",,\",\",\")\n",
    "str3.replace(\",,\",\",\")\n",
    "\n",
    "import re\n",
    "comma_pattern = r'(\\w*)(,+)'\n",
    "comma_regex = re.compile(comma_pattern)\n",
    "re.sub(comma_pattern,r'\\1,',str1)"
   ]
  }
 ],
 "metadata": {
  "kernelspec": {
   "display_name": "Python 3",
   "language": "python",
   "name": "python3"
  },
  "language_info": {
   "codemirror_mode": {
    "name": "ipython",
    "version": 3
   },
   "file_extension": ".py",
   "mimetype": "text/x-python",
   "name": "python",
   "nbconvert_exporter": "python",
   "pygments_lexer": "ipython3",
   "version": "3.7.3"
  }
 },
 "nbformat": 4,
 "nbformat_minor": 2
}
