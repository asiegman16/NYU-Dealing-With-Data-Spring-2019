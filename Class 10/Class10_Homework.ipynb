{
 "cells": [
  {
   "cell_type": "markdown",
   "metadata": {},
   "source": [
    "## To submit this assignment, please solve the following problem. Then, save your notebook with the format [YOUR_NAME_HERE]\\_Class10_Homework and submit via NYU Classes. "
   ]
  },
  {
   "cell_type": "markdown",
   "metadata": {},
   "source": [
    "---"
   ]
  },
  {
   "cell_type": "markdown",
   "metadata": {},
   "source": [
    "OVERVIEW: Your task in this homework assingment is to continue building out our Class Project's database using the knowledge from class and files provided on NYU Classes.\n",
    "\n",
    "### Problem 1 (4 points):\n",
    "\n",
    "> Find the top zip codes for filming permits in 2015 and the percentages of children, adults, non-latino individuals and six_figure_income returns for these zip codes. (HINT: you should have 6 columns: zipcode, 4 percentage columns, and a filming permit count column). Submit your SQL code along with its resulting output.   _(This can be a png, jpg, pdf, screen-shot - whatever you would like)_\n"
   ]
  },
  {
   "cell_type": "code",
   "execution_count": 4,
   "metadata": {},
   "outputs": [],
   "source": [
    "# your code here"
   ]
  },
  {
   "cell_type": "markdown",
   "metadata": {},
   "source": [
    "`HINT: In SQL, you can use a \"WITH\" clause to give a sub-query block a name. The first few lines of this answer should be:`\n",
    "\n",
    "```SQL \n",
    "WITH flat_irs AS (\n",
    "    SELECT\n",
    "        year,\n",
    "        zipcode,\n",
    "        SUM(CASE WHEN agi_map_id IN (1,2,3,4) THEN return_count ELSE NULL END) AS agi_under100K, \n",
    "```"
   ]
  },
  {
   "cell_type": "markdown",
   "metadata": {},
   "source": [
    "---"
   ]
  },
  {
   "cell_type": "markdown",
   "metadata": {},
   "source": [
    "### Problem 2 (3 points):\n",
    "\n",
    "> What event type is most commonly seen in predominately white neighborhoods? What about in predominantly Asian neighborhoods? "
   ]
  },
  {
   "cell_type": "code",
   "execution_count": 2,
   "metadata": {},
   "outputs": [],
   "source": [
    "# your code here"
   ]
  },
  {
   "cell_type": "markdown",
   "metadata": {},
   "source": [
    "---"
   ]
  },
  {
   "cell_type": "markdown",
   "metadata": {},
   "source": [
    "### Problem 3 (3 points):\n",
    "\n",
    "> Find the annual count of distinct filming permits for shooting versus setup/non-shooting event types. Display each permit type grouping as its own column in the result (HINT: you should have 3 columns: year, shooting permit counts, and setup/non-shooting permit counts). Submit your SQL code along with its resulting output. (*This can be a png, jpg, pdf, screen-shot - whatever you would like*)"
   ]
  },
  {
   "cell_type": "code",
   "execution_count": 3,
   "metadata": {},
   "outputs": [],
   "source": [
    "# your code here"
   ]
  },
  {
   "cell_type": "markdown",
   "metadata": {},
   "source": [
    "---"
   ]
  },
  {
   "cell_type": "markdown",
   "metadata": {},
   "source": [
    "\n"
   ]
  }
 ],
 "metadata": {
  "kernelspec": {
   "display_name": "Python 3",
   "language": "python",
   "name": "python3"
  },
  "language_info": {
   "codemirror_mode": {
    "name": "ipython",
    "version": 3
   },
   "file_extension": ".py",
   "mimetype": "text/x-python",
   "name": "python",
   "nbconvert_exporter": "python",
   "pygments_lexer": "ipython3",
   "version": "3.7.3"
  }
 },
 "nbformat": 4,
 "nbformat_minor": 2
}
