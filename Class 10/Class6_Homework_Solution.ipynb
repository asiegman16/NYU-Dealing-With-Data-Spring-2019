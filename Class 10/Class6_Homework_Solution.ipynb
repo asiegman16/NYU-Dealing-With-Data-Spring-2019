{
 "cells": [
  {
   "cell_type": "markdown",
   "metadata": {},
   "source": [
    "## To submit this assignment, please solve the following problem. Then, save your notebook with the format [YOUR_NAME_HERE]\\_Class6_Homework and submit via NYU Classes. "
   ]
  },
  {
   "cell_type": "markdown",
   "metadata": {},
   "source": [
    "---"
   ]
  },
  {
   "cell_type": "markdown",
   "metadata": {},
   "source": [
    "OVERVIEW: Your task in this homework assingment is to continue building out our Class Project's database using the knowledge from class and files provided on NYU Classes.\n",
    "\n",
    "Problem 1 (4 points):\n",
    "\n",
    "> Find the top zip codes for filming permits in 2015 and the percentages of children, adults, non-latino individuals and six_figure_income returns for these zip codes. (HINT: you should have 6 columns: zipcode, 4 percentage columns, and a filming permit count column). Submit your SQL code along with its resulting output.   _(This can be a png, jpg, pdf, screen-shot - whatever you would like)_"
   ]
  },
  {
   "cell_type": "markdown",
   "metadata": {},
   "source": [
    "```SQL \n",
    "WITH flat_irs AS (\n",
    "    SELECT\n",
    "        year,\n",
    "        zipcode,\n",
    "        SUM(CASE WHEN agi_map_id IN (1,2,3,4) THEN return_count ELSE NULL END) AS agi_under100K, \n",
    "        SUM(CASE WHEN agi_map_id IN (5,6) THEN return_count ELSE NULL END) AS agi_over100k, \n",
    "        SUM(return_count) AS total_returns\n",
    "    FROM irs_nyc_tax_returns\n",
    "    GROUP BY\n",
    "        year,\n",
    "        zipcode\n",
    "    ),\n",
    "\n",
    "flat_films AS (\n",
    "    SELECT\n",
    "        STRFTIME('%Y',StartDateTime) AS year,\n",
    "        zipcode,\n",
    "        COUNT(DISTINCT EventID) as permit_count\n",
    "    FROM nyc_film_permits\n",
    "    GROUP BY \n",
    "        year,\n",
    "        zipcode\n",
    "  )\n",
    "  \n",
    "SELECT \n",
    "    cen.zipcode,\n",
    "    100 * (SUM(cen.Age_under5) + SUM(cen.Age_5to9) + SUM(cen.Age_10to14) + SUM(cen.Age_15to19)) / SUM(Age_all) AS child_pct,\n",
    "    100 * (SUM(Age_all) - (SUM(cen.Age_under5) + SUM(cen.Age_5to9) + SUM(cen.Age_10to14) + SUM(cen.Age_15to19) )) / SUM(Age_all) AS adult_pct,\n",
    "    100 * (SUM(cen.Age_all) - SUM(cen.Ethnicity_All_HispancLatino_Descent)) / SUM(cen.Age_all) AS nonlatino_pct,\n",
    "    100 * SUM(irs.agi_over100k) / SUM(irs.total_returns) AS six_figure_income_pct,\n",
    "    SUM(nfp.permit_count) as total_permits\n",
    "FROM nyc_census_data cen\n",
    "    INNER JOIN flat_irs irs\n",
    "        ON cen.zipcode = irs.zipcode\n",
    "    INNER JOIN flat_films nfp\n",
    "        ON (\n",
    "            cen.zipcode = nfp.zipcode\n",
    "            AND irs.year = nfp.year\n",
    "        )\n",
    "WHERE\n",
    "    irs.year = 2015\n",
    "GROUP BY\n",
    "    cen.zipcode\n",
    "ORDER BY\n",
    "    total_permits DESC\n",
    "LIMIT 10;\n",
    "```"
   ]
  },
  {
   "cell_type": "markdown",
   "metadata": {},
   "source": [
    "---"
   ]
  },
  {
   "cell_type": "markdown",
   "metadata": {},
   "source": [
    "Problem 2 (3 points):\n",
    "\n",
    "> What event type is most commonly seen in predominately Asian neighborhoods? "
   ]
  },
  {
   "cell_type": "markdown",
   "metadata": {},
   "source": [
    "```SQL \n",
    "SELECT \n",
    "    cen.ZipCode,\n",
    "    nfp.EventType\n",
    "FROM nyc_census_data cen \n",
    "    JOIN (\n",
    "        SELECT \n",
    "            nfp.zipcode,\n",
    "            nfp.EventType\n",
    "        FROM nyc_film_permits nfp\n",
    "   ) nfp ON cen.ZipCode = nfp.zipcode\n",
    "WHERE cen.Ethnicity_Asian > (cen.Ethnicity_White + cen.Ethnicity_AfricanAmerican + cen.Ethnicity_All_HispancLatino_Descent + cen.Ethnicity_NativeAmerican + cen.Ethnicity_Other + cen.Ethnicity_PacificIslander)\n",
    "GROUP BY nfp.EventType;\n",
    "```"
   ]
  },
  {
   "cell_type": "markdown",
   "metadata": {},
   "source": [
    "---"
   ]
  },
  {
   "cell_type": "markdown",
   "metadata": {},
   "source": [
    "Problem 3 (3 points):\n",
    "\n",
    "> Find the annual count of distinct filming permits for shooting versus setup/non-shooting event types. Display each permit type grouping as its own column in the result (HINT: you should have 3 columns: year, shooting permit counts, and setup/non-shooting permit counts). Submit your SQL code along with its resulting output. (*This can be a png, jpg, pdf, screen-shot - whatever you would like*)"
   ]
  },
  {
   "cell_type": "markdown",
   "metadata": {},
   "source": [
    "```SQL \n",
    "SELECT \n",
    "    STRFTIME('%Y',StartDateTime) as permit_year, \n",
    "    COUNT(DISTINCT CASE WHEN EventType = \"Shooting Permit\" THEN EventID ELSE NULL END) AS \"Shooting Permit Count\",\n",
    "    COUNT(DISTINCT CASE WHEN EventType != \"Shooting Permit\" THEN EventID ELSE NULL END) AS \"Non-Shooting Permit Count\"\n",
    "FROM nyc_film_permits\n",
    "GROUP BY \n",
    "    permit_year\n",
    "```"
   ]
  },
  {
   "cell_type": "markdown",
   "metadata": {},
   "source": [
    "\n"
   ]
  }
 ],
 "metadata": {
  "kernelspec": {
   "display_name": "Python 3",
   "language": "python",
   "name": "python3"
  },
  "language_info": {
   "codemirror_mode": {
    "name": "ipython",
    "version": 3
   },
   "file_extension": ".py",
   "mimetype": "text/x-python",
   "name": "python",
   "nbconvert_exporter": "python",
   "pygments_lexer": "ipython3",
   "version": "3.7.3"
  }
 },
 "nbformat": 4,
 "nbformat_minor": 2
}
