{
 "cells": [
  {
   "cell_type": "markdown",
   "metadata": {},
   "source": [
    "# Introduction to Pandas and Matplotlib"
   ]
  },
  {
   "cell_type": "markdown",
   "metadata": {},
   "source": [
    "---"
   ]
  },
  {
   "cell_type": "code",
   "execution_count": 1,
   "metadata": {},
   "outputs": [],
   "source": [
    "import pandas as pd # Pandas = 'Python Data Analysis Library' (https://pandas.pydata.org/)\n",
    "import matplotlib  # A 2D plotting library (https://matplotlib.org/)\n",
    "import matplotlib.pyplot as plt\n",
    "import seaborn as sns # Statistical data visualization (https://seaborn.pydata.org/)"
   ]
  },
  {
   "cell_type": "markdown",
   "metadata": {},
   "source": [
    "----"
   ]
  },
  {
   "cell_type": "markdown",
   "metadata": {},
   "source": [
    "## Let's get started with Data Frames, a table structure of rows and columns used in Pandas"
   ]
  },
  {
   "cell_type": "code",
   "execution_count": 2,
   "metadata": {},
   "outputs": [],
   "source": [
    "# We begin by creating a new data frame using pd.DataFrame\n",
    "# We are then going to use a 'list of dictionaries', which we'll touch on briefly\n",
    "\n",
    "df = pd.DataFrame([ \n",
    "    {\"First Name\": \"Alex\", \"Last Name\": \"Siegman\"}, \n",
    "    {\"First Name\": \"John\", \"Last Name\": \"Doe\"}\n",
    "])"
   ]
  },
  {
   "cell_type": "code",
   "execution_count": 3,
   "metadata": {},
   "outputs": [
    {
     "data": {
      "text/html": [
       "<div>\n",
       "<style scoped>\n",
       "    .dataframe tbody tr th:only-of-type {\n",
       "        vertical-align: middle;\n",
       "    }\n",
       "\n",
       "    .dataframe tbody tr th {\n",
       "        vertical-align: top;\n",
       "    }\n",
       "\n",
       "    .dataframe thead th {\n",
       "        text-align: right;\n",
       "    }\n",
       "</style>\n",
       "<table border=\"1\" class=\"dataframe\">\n",
       "  <thead>\n",
       "    <tr style=\"text-align: right;\">\n",
       "      <th></th>\n",
       "      <th>First Name</th>\n",
       "      <th>Last Name</th>\n",
       "    </tr>\n",
       "  </thead>\n",
       "  <tbody>\n",
       "    <tr>\n",
       "      <td>0</td>\n",
       "      <td>Alex</td>\n",
       "      <td>Siegman</td>\n",
       "    </tr>\n",
       "    <tr>\n",
       "      <td>1</td>\n",
       "      <td>John</td>\n",
       "      <td>Doe</td>\n",
       "    </tr>\n",
       "  </tbody>\n",
       "</table>\n",
       "</div>"
      ],
      "text/plain": [
       "  First Name Last Name\n",
       "0       Alex   Siegman\n",
       "1       John       Doe"
      ]
     },
     "execution_count": 3,
     "metadata": {},
     "output_type": "execute_result"
    }
   ],
   "source": [
    "df"
   ]
  },
  {
   "cell_type": "markdown",
   "metadata": {},
   "source": [
    "### Let's dig a bit deeper to understand what just happened"
   ]
  },
  {
   "cell_type": "code",
   "execution_count": 4,
   "metadata": {},
   "outputs": [],
   "source": [
    "dictionary = {\"First Name\": \"Alex\", \"Last Name\": \"Siegman\"}\n",
    "               # <key>     <value>     <key>      <value>"
   ]
  },
  {
   "cell_type": "code",
   "execution_count": 5,
   "metadata": {},
   "outputs": [
    {
     "data": {
      "text/plain": [
       "'Alex'"
      ]
     },
     "execution_count": 5,
     "metadata": {},
     "output_type": "execute_result"
    }
   ],
   "source": [
    "dictionary['First Name']"
   ]
  },
  {
   "cell_type": "code",
   "execution_count": 6,
   "metadata": {},
   "outputs": [
    {
     "data": {
      "text/plain": [
       "'Siegman'"
      ]
     },
     "execution_count": 6,
     "metadata": {},
     "output_type": "execute_result"
    }
   ],
   "source": [
    "dictionary['Last Name']"
   ]
  },
  {
   "cell_type": "code",
   "execution_count": 7,
   "metadata": {},
   "outputs": [
    {
     "data": {
      "text/html": [
       "<div>\n",
       "<style scoped>\n",
       "    .dataframe tbody tr th:only-of-type {\n",
       "        vertical-align: middle;\n",
       "    }\n",
       "\n",
       "    .dataframe tbody tr th {\n",
       "        vertical-align: top;\n",
       "    }\n",
       "\n",
       "    .dataframe thead th {\n",
       "        text-align: right;\n",
       "    }\n",
       "</style>\n",
       "<table border=\"1\" class=\"dataframe\">\n",
       "  <thead>\n",
       "    <tr style=\"text-align: right;\">\n",
       "      <th></th>\n",
       "      <th>First Name</th>\n",
       "      <th>Last Name</th>\n",
       "    </tr>\n",
       "  </thead>\n",
       "  <tbody>\n",
       "    <tr>\n",
       "      <td>0</td>\n",
       "      <td>Alex</td>\n",
       "      <td>Siegman</td>\n",
       "    </tr>\n",
       "    <tr>\n",
       "      <td>1</td>\n",
       "      <td>John</td>\n",
       "      <td>Doe</td>\n",
       "    </tr>\n",
       "  </tbody>\n",
       "</table>\n",
       "</div>"
      ],
      "text/plain": [
       "  First Name Last Name\n",
       "0       Alex   Siegman\n",
       "1       John       Doe"
      ]
     },
     "execution_count": 7,
     "metadata": {},
     "output_type": "execute_result"
    }
   ],
   "source": [
    "df"
   ]
  },
  {
   "cell_type": "code",
   "execution_count": 8,
   "metadata": {
    "scrolled": true
   },
   "outputs": [
    {
     "ename": "KeyError",
     "evalue": "0",
     "output_type": "error",
     "traceback": [
      "\u001b[0;31m---------------------------------------------------------------------------\u001b[0m",
      "\u001b[0;31mKeyError\u001b[0m                                  Traceback (most recent call last)",
      "\u001b[0;32m~/anaconda3/lib/python3.7/site-packages/pandas/core/indexes/base.py\u001b[0m in \u001b[0;36mget_loc\u001b[0;34m(self, key, method, tolerance)\u001b[0m\n\u001b[1;32m   2896\u001b[0m             \u001b[0;32mtry\u001b[0m\u001b[0;34m:\u001b[0m\u001b[0;34m\u001b[0m\u001b[0;34m\u001b[0m\u001b[0m\n\u001b[0;32m-> 2897\u001b[0;31m                 \u001b[0;32mreturn\u001b[0m \u001b[0mself\u001b[0m\u001b[0;34m.\u001b[0m\u001b[0m_engine\u001b[0m\u001b[0;34m.\u001b[0m\u001b[0mget_loc\u001b[0m\u001b[0;34m(\u001b[0m\u001b[0mkey\u001b[0m\u001b[0;34m)\u001b[0m\u001b[0;34m\u001b[0m\u001b[0;34m\u001b[0m\u001b[0m\n\u001b[0m\u001b[1;32m   2898\u001b[0m             \u001b[0;32mexcept\u001b[0m \u001b[0mKeyError\u001b[0m\u001b[0;34m:\u001b[0m\u001b[0;34m\u001b[0m\u001b[0;34m\u001b[0m\u001b[0m\n",
      "\u001b[0;32mpandas/_libs/index.pyx\u001b[0m in \u001b[0;36mpandas._libs.index.IndexEngine.get_loc\u001b[0;34m()\u001b[0m\n",
      "\u001b[0;32mpandas/_libs/index.pyx\u001b[0m in \u001b[0;36mpandas._libs.index.IndexEngine.get_loc\u001b[0;34m()\u001b[0m\n",
      "\u001b[0;32mpandas/_libs/hashtable_class_helper.pxi\u001b[0m in \u001b[0;36mpandas._libs.hashtable.PyObjectHashTable.get_item\u001b[0;34m()\u001b[0m\n",
      "\u001b[0;32mpandas/_libs/hashtable_class_helper.pxi\u001b[0m in \u001b[0;36mpandas._libs.hashtable.PyObjectHashTable.get_item\u001b[0;34m()\u001b[0m\n",
      "\u001b[0;31mKeyError\u001b[0m: 0",
      "\nDuring handling of the above exception, another exception occurred:\n",
      "\u001b[0;31mKeyError\u001b[0m                                  Traceback (most recent call last)",
      "\u001b[0;32m<ipython-input-8-38d5bb4ba8b8>\u001b[0m in \u001b[0;36m<module>\u001b[0;34m\u001b[0m\n\u001b[0;32m----> 1\u001b[0;31m \u001b[0mdf\u001b[0m\u001b[0;34m[\u001b[0m\u001b[0;36m0\u001b[0m\u001b[0;34m]\u001b[0m \u001b[0;31m# note that this will give us an error\u001b[0m\u001b[0;34m\u001b[0m\u001b[0;34m\u001b[0m\u001b[0m\n\u001b[0m",
      "\u001b[0;32m~/anaconda3/lib/python3.7/site-packages/pandas/core/frame.py\u001b[0m in \u001b[0;36m__getitem__\u001b[0;34m(self, key)\u001b[0m\n\u001b[1;32m   2978\u001b[0m             \u001b[0;32mif\u001b[0m \u001b[0mself\u001b[0m\u001b[0;34m.\u001b[0m\u001b[0mcolumns\u001b[0m\u001b[0;34m.\u001b[0m\u001b[0mnlevels\u001b[0m \u001b[0;34m>\u001b[0m \u001b[0;36m1\u001b[0m\u001b[0;34m:\u001b[0m\u001b[0;34m\u001b[0m\u001b[0;34m\u001b[0m\u001b[0m\n\u001b[1;32m   2979\u001b[0m                 \u001b[0;32mreturn\u001b[0m \u001b[0mself\u001b[0m\u001b[0;34m.\u001b[0m\u001b[0m_getitem_multilevel\u001b[0m\u001b[0;34m(\u001b[0m\u001b[0mkey\u001b[0m\u001b[0;34m)\u001b[0m\u001b[0;34m\u001b[0m\u001b[0;34m\u001b[0m\u001b[0m\n\u001b[0;32m-> 2980\u001b[0;31m             \u001b[0mindexer\u001b[0m \u001b[0;34m=\u001b[0m \u001b[0mself\u001b[0m\u001b[0;34m.\u001b[0m\u001b[0mcolumns\u001b[0m\u001b[0;34m.\u001b[0m\u001b[0mget_loc\u001b[0m\u001b[0;34m(\u001b[0m\u001b[0mkey\u001b[0m\u001b[0;34m)\u001b[0m\u001b[0;34m\u001b[0m\u001b[0;34m\u001b[0m\u001b[0m\n\u001b[0m\u001b[1;32m   2981\u001b[0m             \u001b[0;32mif\u001b[0m \u001b[0mis_integer\u001b[0m\u001b[0;34m(\u001b[0m\u001b[0mindexer\u001b[0m\u001b[0;34m)\u001b[0m\u001b[0;34m:\u001b[0m\u001b[0;34m\u001b[0m\u001b[0;34m\u001b[0m\u001b[0m\n\u001b[1;32m   2982\u001b[0m                 \u001b[0mindexer\u001b[0m \u001b[0;34m=\u001b[0m \u001b[0;34m[\u001b[0m\u001b[0mindexer\u001b[0m\u001b[0;34m]\u001b[0m\u001b[0;34m\u001b[0m\u001b[0;34m\u001b[0m\u001b[0m\n",
      "\u001b[0;32m~/anaconda3/lib/python3.7/site-packages/pandas/core/indexes/base.py\u001b[0m in \u001b[0;36mget_loc\u001b[0;34m(self, key, method, tolerance)\u001b[0m\n\u001b[1;32m   2897\u001b[0m                 \u001b[0;32mreturn\u001b[0m \u001b[0mself\u001b[0m\u001b[0;34m.\u001b[0m\u001b[0m_engine\u001b[0m\u001b[0;34m.\u001b[0m\u001b[0mget_loc\u001b[0m\u001b[0;34m(\u001b[0m\u001b[0mkey\u001b[0m\u001b[0;34m)\u001b[0m\u001b[0;34m\u001b[0m\u001b[0;34m\u001b[0m\u001b[0m\n\u001b[1;32m   2898\u001b[0m             \u001b[0;32mexcept\u001b[0m \u001b[0mKeyError\u001b[0m\u001b[0;34m:\u001b[0m\u001b[0;34m\u001b[0m\u001b[0;34m\u001b[0m\u001b[0m\n\u001b[0;32m-> 2899\u001b[0;31m                 \u001b[0;32mreturn\u001b[0m \u001b[0mself\u001b[0m\u001b[0;34m.\u001b[0m\u001b[0m_engine\u001b[0m\u001b[0;34m.\u001b[0m\u001b[0mget_loc\u001b[0m\u001b[0;34m(\u001b[0m\u001b[0mself\u001b[0m\u001b[0;34m.\u001b[0m\u001b[0m_maybe_cast_indexer\u001b[0m\u001b[0;34m(\u001b[0m\u001b[0mkey\u001b[0m\u001b[0;34m)\u001b[0m\u001b[0;34m)\u001b[0m\u001b[0;34m\u001b[0m\u001b[0;34m\u001b[0m\u001b[0m\n\u001b[0m\u001b[1;32m   2900\u001b[0m         \u001b[0mindexer\u001b[0m \u001b[0;34m=\u001b[0m \u001b[0mself\u001b[0m\u001b[0;34m.\u001b[0m\u001b[0mget_indexer\u001b[0m\u001b[0;34m(\u001b[0m\u001b[0;34m[\u001b[0m\u001b[0mkey\u001b[0m\u001b[0;34m]\u001b[0m\u001b[0;34m,\u001b[0m \u001b[0mmethod\u001b[0m\u001b[0;34m=\u001b[0m\u001b[0mmethod\u001b[0m\u001b[0;34m,\u001b[0m \u001b[0mtolerance\u001b[0m\u001b[0;34m=\u001b[0m\u001b[0mtolerance\u001b[0m\u001b[0;34m)\u001b[0m\u001b[0;34m\u001b[0m\u001b[0;34m\u001b[0m\u001b[0m\n\u001b[1;32m   2901\u001b[0m         \u001b[0;32mif\u001b[0m \u001b[0mindexer\u001b[0m\u001b[0;34m.\u001b[0m\u001b[0mndim\u001b[0m \u001b[0;34m>\u001b[0m \u001b[0;36m1\u001b[0m \u001b[0;32mor\u001b[0m \u001b[0mindexer\u001b[0m\u001b[0;34m.\u001b[0m\u001b[0msize\u001b[0m \u001b[0;34m>\u001b[0m \u001b[0;36m1\u001b[0m\u001b[0;34m:\u001b[0m\u001b[0;34m\u001b[0m\u001b[0;34m\u001b[0m\u001b[0m\n",
      "\u001b[0;32mpandas/_libs/index.pyx\u001b[0m in \u001b[0;36mpandas._libs.index.IndexEngine.get_loc\u001b[0;34m()\u001b[0m\n",
      "\u001b[0;32mpandas/_libs/index.pyx\u001b[0m in \u001b[0;36mpandas._libs.index.IndexEngine.get_loc\u001b[0;34m()\u001b[0m\n",
      "\u001b[0;32mpandas/_libs/hashtable_class_helper.pxi\u001b[0m in \u001b[0;36mpandas._libs.hashtable.PyObjectHashTable.get_item\u001b[0;34m()\u001b[0m\n",
      "\u001b[0;32mpandas/_libs/hashtable_class_helper.pxi\u001b[0m in \u001b[0;36mpandas._libs.hashtable.PyObjectHashTable.get_item\u001b[0;34m()\u001b[0m\n",
      "\u001b[0;31mKeyError\u001b[0m: 0"
     ]
    }
   ],
   "source": [
    "df[0] # note that this will give us an error"
   ]
  },
  {
   "cell_type": "code",
   "execution_count": 9,
   "metadata": {},
   "outputs": [
    {
     "data": {
      "text/plain": [
       "0    Alex\n",
       "1    John\n",
       "Name: First Name, dtype: object"
      ]
     },
     "execution_count": 9,
     "metadata": {},
     "output_type": "execute_result"
    }
   ],
   "source": [
    "df['First Name'] # this is how we get what we need"
   ]
  },
  {
   "cell_type": "markdown",
   "metadata": {},
   "source": [
    "# So that's all a data frame is, it's a table of rows and columns! "
   ]
  },
  {
   "cell_type": "markdown",
   "metadata": {},
   "source": [
    "---"
   ]
  },
  {
   "cell_type": "markdown",
   "metadata": {},
   "source": [
    "# Now, let's begin to delve further into Pandas with a different data set. "
   ]
  },
  {
   "cell_type": "code",
   "execution_count": 10,
   "metadata": {},
   "outputs": [
    {
     "name": "stdout",
     "output_type": "stream",
     "text": [
      "  % Total    % Received % Xferd  Average Speed   Time    Time     Time  Current\n",
      "                                 Dload  Upload   Total   Spent    Left  Speed\n",
      "100  163M    0  163M    0     0  7398k      0 --:--:--  0:00:22 --:--:-- 8017k --:--:--  0:00:18 --:--:-- 7307k\n"
     ]
    }
   ],
   "source": [
    "!rm -f restaurant.csv* # 'rm' = 'remove'\n",
    "                            # '-f' means 'force', aka, it will bypass permission checks\n",
    "                            # 'data/restaurant.csv*' means we want to remove any file in our data directory that ends with 'resturant.csv'\n",
    "                            # in total, this command removes any prior file, if it exists\n",
    "\n",
    "!curl 'https://data.cityofnewyork.us/api/views/43nn-pn8j/rows.csv?accessType=DOWNLOAD' -o restaurant.csv\n",
    "                            # 'curl' is a tool to transfer eata from or to a server\n",
    "                            # for more on 'curl' visit (https://curl.haxx.se/docs/manpage.html)\n",
    "\n",
    "# !gzip data/restaurant.csv # compress the file"
   ]
  },
  {
   "cell_type": "markdown",
   "metadata": {},
   "source": [
    "# Now that we have our data..."
   ]
  },
  {
   "cell_type": "code",
   "execution_count": 11,
   "metadata": {},
   "outputs": [],
   "source": [
    "restaurants = pd.read_csv('./restaurant.csv', \n",
    "                         encoding = 'utf-8', # for more on UTF-8 check (https://www.w3schools.com/charsets/ref_html_utf8.asp)\n",
    "                         dtype = 'unicode', # we are telling Pandas to read our data as data type object 'Unicode' which will make it a string\n",
    "                         parse_dates = True, # parse our dates that are coming in as strings, as specified above\n",
    "                         infer_datetime_format = True, # we are asking Pandas to infer the format of the datetime strings in the column so as to increase parsing speed\n",
    "                         low_memory = False) # normally Pandas will try to automatically detrmine the dtype, which takes lots of memory"
   ]
  },
  {
   "cell_type": "markdown",
   "metadata": {},
   "source": [
    "---"
   ]
  },
  {
   "cell_type": "markdown",
   "metadata": {},
   "source": [
    "# For column definitions let's check out [the documentation](https://data.cityofnewyork.us/api/views/43nn-pn8j)"
   ]
  },
  {
   "cell_type": "markdown",
   "metadata": {},
   "source": [
    "---"
   ]
  },
  {
   "cell_type": "code",
   "execution_count": 12,
   "metadata": {},
   "outputs": [
    {
     "data": {
      "text/html": [
       "<div>\n",
       "<style scoped>\n",
       "    .dataframe tbody tr th:only-of-type {\n",
       "        vertical-align: middle;\n",
       "    }\n",
       "\n",
       "    .dataframe tbody tr th {\n",
       "        vertical-align: top;\n",
       "    }\n",
       "\n",
       "    .dataframe thead th {\n",
       "        text-align: right;\n",
       "    }\n",
       "</style>\n",
       "<table border=\"1\" class=\"dataframe\">\n",
       "  <thead>\n",
       "    <tr style=\"text-align: right;\">\n",
       "      <th></th>\n",
       "      <th>CAMIS</th>\n",
       "      <th>DBA</th>\n",
       "      <th>BORO</th>\n",
       "      <th>BUILDING</th>\n",
       "      <th>STREET</th>\n",
       "      <th>ZIPCODE</th>\n",
       "      <th>PHONE</th>\n",
       "      <th>CUISINE DESCRIPTION</th>\n",
       "      <th>INSPECTION DATE</th>\n",
       "      <th>ACTION</th>\n",
       "      <th>...</th>\n",
       "      <th>RECORD DATE</th>\n",
       "      <th>INSPECTION TYPE</th>\n",
       "      <th>Latitude</th>\n",
       "      <th>Longitude</th>\n",
       "      <th>Community Board</th>\n",
       "      <th>Council District</th>\n",
       "      <th>Census Tract</th>\n",
       "      <th>BIN</th>\n",
       "      <th>BBL</th>\n",
       "      <th>NTA</th>\n",
       "    </tr>\n",
       "  </thead>\n",
       "  <tbody>\n",
       "    <tr>\n",
       "      <td>0</td>\n",
       "      <td>50045247</td>\n",
       "      <td>EMPIRE EXPRESS CHINESE RESTAURANT</td>\n",
       "      <td>Brooklyn</td>\n",
       "      <td>319</td>\n",
       "      <td>9TH ST</td>\n",
       "      <td>11215</td>\n",
       "      <td>7184993758</td>\n",
       "      <td>Chinese</td>\n",
       "      <td>09/21/2018</td>\n",
       "      <td>Violations were cited in the following area(s).</td>\n",
       "      <td>...</td>\n",
       "      <td>04/01/2020</td>\n",
       "      <td>Cycle Inspection / Initial Inspection</td>\n",
       "      <td>40.668879311009</td>\n",
       "      <td>-73.985696273463</td>\n",
       "      <td>306</td>\n",
       "      <td>39</td>\n",
       "      <td>013700</td>\n",
       "      <td>3022142</td>\n",
       "      <td>3010050073</td>\n",
       "      <td>BK37</td>\n",
       "    </tr>\n",
       "    <tr>\n",
       "      <td>1</td>\n",
       "      <td>50087573</td>\n",
       "      <td>HALAL CHINA KITCHEN PLUS</td>\n",
       "      <td>Queens</td>\n",
       "      <td>8748</td>\n",
       "      <td>PARSONS BLVD</td>\n",
       "      <td>11432</td>\n",
       "      <td>7185261300</td>\n",
       "      <td>Chinese</td>\n",
       "      <td>10/30/2019</td>\n",
       "      <td>Violations were cited in the following area(s).</td>\n",
       "      <td>...</td>\n",
       "      <td>04/01/2020</td>\n",
       "      <td>Cycle Inspection / Initial Inspection</td>\n",
       "      <td>40.708183718063</td>\n",
       "      <td>-73.803084545948</td>\n",
       "      <td>408</td>\n",
       "      <td>24</td>\n",
       "      <td>023600</td>\n",
       "      <td>4446941</td>\n",
       "      <td>4097060048</td>\n",
       "      <td>QN35</td>\n",
       "    </tr>\n",
       "    <tr>\n",
       "      <td>2</td>\n",
       "      <td>41623638</td>\n",
       "      <td>RINCONCITO TEPEYAC</td>\n",
       "      <td>Bronx</td>\n",
       "      <td>381</td>\n",
       "      <td>EAST  138 STREET</td>\n",
       "      <td>10454</td>\n",
       "      <td>7184018314</td>\n",
       "      <td>Mexican</td>\n",
       "      <td>03/12/2019</td>\n",
       "      <td>Violations were cited in the following area(s).</td>\n",
       "      <td>...</td>\n",
       "      <td>04/01/2020</td>\n",
       "      <td>Cycle Inspection / Initial Inspection</td>\n",
       "      <td>40.809331622602</td>\n",
       "      <td>-73.923413370319</td>\n",
       "      <td>201</td>\n",
       "      <td>08</td>\n",
       "      <td>003900</td>\n",
       "      <td>2000598</td>\n",
       "      <td>2023010033</td>\n",
       "      <td>BX39</td>\n",
       "    </tr>\n",
       "    <tr>\n",
       "      <td>3</td>\n",
       "      <td>50004788</td>\n",
       "      <td>51ST BAKERY AND CAFE</td>\n",
       "      <td>Queens</td>\n",
       "      <td>5-33</td>\n",
       "      <td>51ST AVE</td>\n",
       "      <td>11101</td>\n",
       "      <td>7187070554</td>\n",
       "      <td>Bakery</td>\n",
       "      <td>04/03/2018</td>\n",
       "      <td>Violations were cited in the following area(s).</td>\n",
       "      <td>...</td>\n",
       "      <td>04/01/2020</td>\n",
       "      <td>Cycle Inspection / Initial Inspection</td>\n",
       "      <td>40.742420749312</td>\n",
       "      <td>-73.956308691214</td>\n",
       "      <td>402</td>\n",
       "      <td>26</td>\n",
       "      <td>000700</td>\n",
       "      <td>4539348</td>\n",
       "      <td>4000330012</td>\n",
       "      <td>QN31</td>\n",
       "    </tr>\n",
       "    <tr>\n",
       "      <td>4</td>\n",
       "      <td>40398688</td>\n",
       "      <td>MASTER WOK</td>\n",
       "      <td>Brooklyn</td>\n",
       "      <td>5100</td>\n",
       "      <td>KINGS PLAZA SHOPPING CT</td>\n",
       "      <td>11234</td>\n",
       "      <td>7182586943</td>\n",
       "      <td>Chinese</td>\n",
       "      <td>10/11/2019</td>\n",
       "      <td>Violations were cited in the following area(s).</td>\n",
       "      <td>...</td>\n",
       "      <td>04/01/2020</td>\n",
       "      <td>Cycle Inspection / Re-inspection</td>\n",
       "      <td>40.609928854538</td>\n",
       "      <td>-73.922281617072</td>\n",
       "      <td>318</td>\n",
       "      <td>46</td>\n",
       "      <td>069800</td>\n",
       "      <td>3326830</td>\n",
       "      <td>3084700055</td>\n",
       "      <td>BK45</td>\n",
       "    </tr>\n",
       "  </tbody>\n",
       "</table>\n",
       "<p>5 rows × 26 columns</p>\n",
       "</div>"
      ],
      "text/plain": [
       "      CAMIS                                DBA      BORO BUILDING  \\\n",
       "0  50045247  EMPIRE EXPRESS CHINESE RESTAURANT  Brooklyn      319   \n",
       "1  50087573           HALAL CHINA KITCHEN PLUS    Queens     8748   \n",
       "2  41623638                 RINCONCITO TEPEYAC     Bronx      381   \n",
       "3  50004788               51ST BAKERY AND CAFE    Queens     5-33   \n",
       "4  40398688                         MASTER WOK  Brooklyn     5100   \n",
       "\n",
       "                    STREET ZIPCODE       PHONE CUISINE DESCRIPTION  \\\n",
       "0                   9TH ST   11215  7184993758             Chinese   \n",
       "1             PARSONS BLVD   11432  7185261300             Chinese   \n",
       "2         EAST  138 STREET   10454  7184018314             Mexican   \n",
       "3                 51ST AVE   11101  7187070554              Bakery   \n",
       "4  KINGS PLAZA SHOPPING CT   11234  7182586943             Chinese   \n",
       "\n",
       "  INSPECTION DATE                                           ACTION  ...  \\\n",
       "0      09/21/2018  Violations were cited in the following area(s).  ...   \n",
       "1      10/30/2019  Violations were cited in the following area(s).  ...   \n",
       "2      03/12/2019  Violations were cited in the following area(s).  ...   \n",
       "3      04/03/2018  Violations were cited in the following area(s).  ...   \n",
       "4      10/11/2019  Violations were cited in the following area(s).  ...   \n",
       "\n",
       "  RECORD DATE                        INSPECTION TYPE         Latitude  \\\n",
       "0  04/01/2020  Cycle Inspection / Initial Inspection  40.668879311009   \n",
       "1  04/01/2020  Cycle Inspection / Initial Inspection  40.708183718063   \n",
       "2  04/01/2020  Cycle Inspection / Initial Inspection  40.809331622602   \n",
       "3  04/01/2020  Cycle Inspection / Initial Inspection  40.742420749312   \n",
       "4  04/01/2020       Cycle Inspection / Re-inspection  40.609928854538   \n",
       "\n",
       "          Longitude Community Board Council District Census Tract      BIN  \\\n",
       "0  -73.985696273463             306               39       013700  3022142   \n",
       "1  -73.803084545948             408               24       023600  4446941   \n",
       "2  -73.923413370319             201               08       003900  2000598   \n",
       "3  -73.956308691214             402               26       000700  4539348   \n",
       "4  -73.922281617072             318               46       069800  3326830   \n",
       "\n",
       "          BBL   NTA  \n",
       "0  3010050073  BK37  \n",
       "1  4097060048  QN35  \n",
       "2  2023010033  BX39  \n",
       "3  4000330012  QN31  \n",
       "4  3084700055  BK45  \n",
       "\n",
       "[5 rows x 26 columns]"
      ]
     },
     "execution_count": 12,
     "metadata": {},
     "output_type": "execute_result"
    }
   ],
   "source": [
    "restaurants.head() # show us the first five rows of our data frame"
   ]
  },
  {
   "cell_type": "code",
   "execution_count": 13,
   "metadata": {},
   "outputs": [
    {
     "data": {
      "text/html": [
       "<div>\n",
       "<style scoped>\n",
       "    .dataframe tbody tr th:only-of-type {\n",
       "        vertical-align: middle;\n",
       "    }\n",
       "\n",
       "    .dataframe tbody tr th {\n",
       "        vertical-align: top;\n",
       "    }\n",
       "\n",
       "    .dataframe thead th {\n",
       "        text-align: right;\n",
       "    }\n",
       "</style>\n",
       "<table border=\"1\" class=\"dataframe\">\n",
       "  <thead>\n",
       "    <tr style=\"text-align: right;\">\n",
       "      <th></th>\n",
       "      <th>CAMIS</th>\n",
       "      <th>DBA</th>\n",
       "      <th>BORO</th>\n",
       "      <th>BUILDING</th>\n",
       "      <th>STREET</th>\n",
       "      <th>ZIPCODE</th>\n",
       "      <th>PHONE</th>\n",
       "      <th>CUISINE DESCRIPTION</th>\n",
       "      <th>INSPECTION DATE</th>\n",
       "      <th>ACTION</th>\n",
       "      <th>...</th>\n",
       "      <th>RECORD DATE</th>\n",
       "      <th>INSPECTION TYPE</th>\n",
       "      <th>Latitude</th>\n",
       "      <th>Longitude</th>\n",
       "      <th>Community Board</th>\n",
       "      <th>Council District</th>\n",
       "      <th>Census Tract</th>\n",
       "      <th>BIN</th>\n",
       "      <th>BBL</th>\n",
       "      <th>NTA</th>\n",
       "    </tr>\n",
       "  </thead>\n",
       "  <tbody>\n",
       "    <tr>\n",
       "      <td>400879</td>\n",
       "      <td>50085406</td>\n",
       "      <td>CHA CHA MATCHA</td>\n",
       "      <td>Manhattan</td>\n",
       "      <td>327</td>\n",
       "      <td>LAFAYETTE ST</td>\n",
       "      <td>10012</td>\n",
       "      <td>9179575017</td>\n",
       "      <td>Café/Coffee/Tea</td>\n",
       "      <td>11/18/2019</td>\n",
       "      <td>Violations were cited in the following area(s).</td>\n",
       "      <td>...</td>\n",
       "      <td>04/01/2020</td>\n",
       "      <td>Cycle Inspection / Initial Inspection</td>\n",
       "      <td>40.725603548471</td>\n",
       "      <td>-73.994894892375</td>\n",
       "      <td>102</td>\n",
       "      <td>01</td>\n",
       "      <td>005502</td>\n",
       "      <td>1008220</td>\n",
       "      <td>1005220038</td>\n",
       "      <td>MN23</td>\n",
       "    </tr>\n",
       "    <tr>\n",
       "      <td>400880</td>\n",
       "      <td>41668300</td>\n",
       "      <td>GIRELLO</td>\n",
       "      <td>Manhattan</td>\n",
       "      <td>16</td>\n",
       "      <td>NORTH MOORE STREET</td>\n",
       "      <td>10013</td>\n",
       "      <td>2129410109</td>\n",
       "      <td>Italian</td>\n",
       "      <td>05/22/2017</td>\n",
       "      <td>Violations were cited in the following area(s).</td>\n",
       "      <td>...</td>\n",
       "      <td>04/01/2020</td>\n",
       "      <td>Cycle Inspection / Initial Inspection</td>\n",
       "      <td>40.719790027412</td>\n",
       "      <td>-74.007074374166</td>\n",
       "      <td>101</td>\n",
       "      <td>01</td>\n",
       "      <td>003300</td>\n",
       "      <td>1002149</td>\n",
       "      <td>1001890034</td>\n",
       "      <td>MN24</td>\n",
       "    </tr>\n",
       "    <tr>\n",
       "      <td>400881</td>\n",
       "      <td>41604732</td>\n",
       "      <td>KING'S CHEF</td>\n",
       "      <td>Queens</td>\n",
       "      <td>15327</td>\n",
       "      <td>CROSS ISLAND PARKWAY</td>\n",
       "      <td>11357</td>\n",
       "      <td>7187678100</td>\n",
       "      <td>Chinese</td>\n",
       "      <td>07/24/2019</td>\n",
       "      <td>Violations were cited in the following area(s).</td>\n",
       "      <td>...</td>\n",
       "      <td>04/01/2020</td>\n",
       "      <td>Cycle Inspection / Initial Inspection</td>\n",
       "      <td>40.786934576832</td>\n",
       "      <td>-73.808372253703</td>\n",
       "      <td>407</td>\n",
       "      <td>19</td>\n",
       "      <td>098700</td>\n",
       "      <td>4431543</td>\n",
       "      <td>4047170016</td>\n",
       "      <td>QN49</td>\n",
       "    </tr>\n",
       "    <tr>\n",
       "      <td>400882</td>\n",
       "      <td>41076903</td>\n",
       "      <td>GOLDEN KRUST CARIBBEAN BAKERY &amp; GRILL</td>\n",
       "      <td>Bronx</td>\n",
       "      <td>1438</td>\n",
       "      <td>METROPOLITAN AVENUE</td>\n",
       "      <td>10462</td>\n",
       "      <td>7187929322</td>\n",
       "      <td>Caribbean</td>\n",
       "      <td>10/21/2019</td>\n",
       "      <td>Violations were cited in the following area(s).</td>\n",
       "      <td>...</td>\n",
       "      <td>04/01/2020</td>\n",
       "      <td>Cycle Inspection / Initial Inspection</td>\n",
       "      <td>40.836207193782</td>\n",
       "      <td>-73.860974327409</td>\n",
       "      <td>209</td>\n",
       "      <td>18</td>\n",
       "      <td>021200</td>\n",
       "      <td>2096678</td>\n",
       "      <td>2039387501</td>\n",
       "      <td>BX46</td>\n",
       "    </tr>\n",
       "    <tr>\n",
       "      <td>400883</td>\n",
       "      <td>50096857</td>\n",
       "      <td>MISS AMERICAN PIE</td>\n",
       "      <td>Brooklyn</td>\n",
       "      <td>86</td>\n",
       "      <td>5TH AVE</td>\n",
       "      <td>11217</td>\n",
       "      <td>7187893747</td>\n",
       "      <td>Nuts/Confectionary</td>\n",
       "      <td>09/04/2019</td>\n",
       "      <td>Violations were cited in the following area(s).</td>\n",
       "      <td>...</td>\n",
       "      <td>04/01/2020</td>\n",
       "      <td>Pre-permit (Operational) / Initial Inspection</td>\n",
       "      <td>40.680474716833</td>\n",
       "      <td>-73.977715028663</td>\n",
       "      <td>306</td>\n",
       "      <td>39</td>\n",
       "      <td>012901</td>\n",
       "      <td>3018669</td>\n",
       "      <td>3009340044</td>\n",
       "      <td>BK37</td>\n",
       "    </tr>\n",
       "  </tbody>\n",
       "</table>\n",
       "<p>5 rows × 26 columns</p>\n",
       "</div>"
      ],
      "text/plain": [
       "           CAMIS                                    DBA       BORO BUILDING  \\\n",
       "400879  50085406                         CHA CHA MATCHA  Manhattan      327   \n",
       "400880  41668300                                GIRELLO  Manhattan       16   \n",
       "400881  41604732                            KING'S CHEF     Queens    15327   \n",
       "400882  41076903  GOLDEN KRUST CARIBBEAN BAKERY & GRILL      Bronx     1438   \n",
       "400883  50096857                      MISS AMERICAN PIE   Brooklyn       86   \n",
       "\n",
       "                      STREET ZIPCODE       PHONE CUISINE DESCRIPTION  \\\n",
       "400879          LAFAYETTE ST   10012  9179575017     Café/Coffee/Tea   \n",
       "400880    NORTH MOORE STREET   10013  2129410109             Italian   \n",
       "400881  CROSS ISLAND PARKWAY   11357  7187678100             Chinese   \n",
       "400882   METROPOLITAN AVENUE   10462  7187929322           Caribbean   \n",
       "400883               5TH AVE   11217  7187893747  Nuts/Confectionary   \n",
       "\n",
       "       INSPECTION DATE                                           ACTION  ...  \\\n",
       "400879      11/18/2019  Violations were cited in the following area(s).  ...   \n",
       "400880      05/22/2017  Violations were cited in the following area(s).  ...   \n",
       "400881      07/24/2019  Violations were cited in the following area(s).  ...   \n",
       "400882      10/21/2019  Violations were cited in the following area(s).  ...   \n",
       "400883      09/04/2019  Violations were cited in the following area(s).  ...   \n",
       "\n",
       "       RECORD DATE                                INSPECTION TYPE  \\\n",
       "400879  04/01/2020          Cycle Inspection / Initial Inspection   \n",
       "400880  04/01/2020          Cycle Inspection / Initial Inspection   \n",
       "400881  04/01/2020          Cycle Inspection / Initial Inspection   \n",
       "400882  04/01/2020          Cycle Inspection / Initial Inspection   \n",
       "400883  04/01/2020  Pre-permit (Operational) / Initial Inspection   \n",
       "\n",
       "               Latitude         Longitude Community Board Council District  \\\n",
       "400879  40.725603548471  -73.994894892375             102               01   \n",
       "400880  40.719790027412  -74.007074374166             101               01   \n",
       "400881  40.786934576832  -73.808372253703             407               19   \n",
       "400882  40.836207193782  -73.860974327409             209               18   \n",
       "400883  40.680474716833  -73.977715028663             306               39   \n",
       "\n",
       "       Census Tract      BIN         BBL   NTA  \n",
       "400879       005502  1008220  1005220038  MN23  \n",
       "400880       003300  1002149  1001890034  MN24  \n",
       "400881       098700  4431543  4047170016  QN49  \n",
       "400882       021200  2096678  2039387501  BX46  \n",
       "400883       012901  3018669  3009340044  BK37  \n",
       "\n",
       "[5 rows x 26 columns]"
      ]
     },
     "execution_count": 13,
     "metadata": {},
     "output_type": "execute_result"
    }
   ],
   "source": [
    "restaurants.tail() # show us the last five rows of our data frame"
   ]
  },
  {
   "cell_type": "markdown",
   "metadata": {},
   "source": [
    "# Now that we have successfully read our CSV, let's look at some basics"
   ]
  },
  {
   "cell_type": "code",
   "execution_count": 14,
   "metadata": {},
   "outputs": [
    {
     "data": {
      "text/html": [
       "<div>\n",
       "<style scoped>\n",
       "    .dataframe tbody tr th:only-of-type {\n",
       "        vertical-align: middle;\n",
       "    }\n",
       "\n",
       "    .dataframe tbody tr th {\n",
       "        vertical-align: top;\n",
       "    }\n",
       "\n",
       "    .dataframe thead th {\n",
       "        text-align: right;\n",
       "    }\n",
       "</style>\n",
       "<table border=\"1\" class=\"dataframe\">\n",
       "  <thead>\n",
       "    <tr style=\"text-align: right;\">\n",
       "      <th></th>\n",
       "      <th>CAMIS</th>\n",
       "      <th>DBA</th>\n",
       "      <th>BORO</th>\n",
       "      <th>BUILDING</th>\n",
       "      <th>STREET</th>\n",
       "      <th>ZIPCODE</th>\n",
       "      <th>PHONE</th>\n",
       "      <th>CUISINE DESCRIPTION</th>\n",
       "      <th>INSPECTION DATE</th>\n",
       "      <th>ACTION</th>\n",
       "      <th>...</th>\n",
       "      <th>RECORD DATE</th>\n",
       "      <th>INSPECTION TYPE</th>\n",
       "      <th>Latitude</th>\n",
       "      <th>Longitude</th>\n",
       "      <th>Community Board</th>\n",
       "      <th>Council District</th>\n",
       "      <th>Census Tract</th>\n",
       "      <th>BIN</th>\n",
       "      <th>BBL</th>\n",
       "      <th>NTA</th>\n",
       "    </tr>\n",
       "  </thead>\n",
       "  <tbody>\n",
       "    <tr>\n",
       "      <td>count</td>\n",
       "      <td>400884</td>\n",
       "      <td>400511</td>\n",
       "      <td>400884</td>\n",
       "      <td>400618</td>\n",
       "      <td>400880</td>\n",
       "      <td>395453</td>\n",
       "      <td>400867</td>\n",
       "      <td>400884</td>\n",
       "      <td>400884</td>\n",
       "      <td>399595</td>\n",
       "      <td>...</td>\n",
       "      <td>400884</td>\n",
       "      <td>399595</td>\n",
       "      <td>400460</td>\n",
       "      <td>400460</td>\n",
       "      <td>395033</td>\n",
       "      <td>395045</td>\n",
       "      <td>395045</td>\n",
       "      <td>393292</td>\n",
       "      <td>400460</td>\n",
       "      <td>395033</td>\n",
       "    </tr>\n",
       "    <tr>\n",
       "      <td>unique</td>\n",
       "      <td>27253</td>\n",
       "      <td>21579</td>\n",
       "      <td>6</td>\n",
       "      <td>7299</td>\n",
       "      <td>3235</td>\n",
       "      <td>225</td>\n",
       "      <td>25513</td>\n",
       "      <td>84</td>\n",
       "      <td>1337</td>\n",
       "      <td>5</td>\n",
       "      <td>...</td>\n",
       "      <td>1</td>\n",
       "      <td>31</td>\n",
       "      <td>22676</td>\n",
       "      <td>22676</td>\n",
       "      <td>69</td>\n",
       "      <td>51</td>\n",
       "      <td>1184</td>\n",
       "      <td>19711</td>\n",
       "      <td>19409</td>\n",
       "      <td>193</td>\n",
       "    </tr>\n",
       "    <tr>\n",
       "      <td>top</td>\n",
       "      <td>50018552</td>\n",
       "      <td>DUNKIN'</td>\n",
       "      <td>Manhattan</td>\n",
       "      <td>1</td>\n",
       "      <td>BROADWAY</td>\n",
       "      <td>10003</td>\n",
       "      <td>7185958100</td>\n",
       "      <td>American</td>\n",
       "      <td>01/01/1900</td>\n",
       "      <td>Violations were cited in the following area(s).</td>\n",
       "      <td>...</td>\n",
       "      <td>04/01/2020</td>\n",
       "      <td>Cycle Inspection / Initial Inspection</td>\n",
       "      <td>0</td>\n",
       "      <td>0</td>\n",
       "      <td>105</td>\n",
       "      <td>03</td>\n",
       "      <td>003800</td>\n",
       "      <td>4000000</td>\n",
       "      <td>1</td>\n",
       "      <td>MN17</td>\n",
       "    </tr>\n",
       "    <tr>\n",
       "      <td>freq</td>\n",
       "      <td>98</td>\n",
       "      <td>4150</td>\n",
       "      <td>158077</td>\n",
       "      <td>2295</td>\n",
       "      <td>14674</td>\n",
       "      <td>10368</td>\n",
       "      <td>274</td>\n",
       "      <td>83424</td>\n",
       "      <td>1289</td>\n",
       "      <td>374936</td>\n",
       "      <td>...</td>\n",
       "      <td>400884</td>\n",
       "      <td>234680</td>\n",
       "      <td>5427</td>\n",
       "      <td>5427</td>\n",
       "      <td>32380</td>\n",
       "      <td>35279</td>\n",
       "      <td>3270</td>\n",
       "      <td>2419</td>\n",
       "      <td>3102</td>\n",
       "      <td>23712</td>\n",
       "    </tr>\n",
       "  </tbody>\n",
       "</table>\n",
       "<p>4 rows × 26 columns</p>\n",
       "</div>"
      ],
      "text/plain": [
       "           CAMIS      DBA       BORO BUILDING    STREET ZIPCODE       PHONE  \\\n",
       "count     400884   400511     400884   400618    400880  395453      400867   \n",
       "unique     27253    21579          6     7299      3235     225       25513   \n",
       "top     50018552  DUNKIN'  Manhattan        1  BROADWAY   10003  7185958100   \n",
       "freq          98     4150     158077     2295     14674   10368         274   \n",
       "\n",
       "       CUISINE DESCRIPTION INSPECTION DATE  \\\n",
       "count               400884          400884   \n",
       "unique                  84            1337   \n",
       "top               American      01/01/1900   \n",
       "freq                 83424            1289   \n",
       "\n",
       "                                                 ACTION  ... RECORD DATE  \\\n",
       "count                                            399595  ...      400884   \n",
       "unique                                                5  ...           1   \n",
       "top     Violations were cited in the following area(s).  ...  04/01/2020   \n",
       "freq                                             374936  ...      400884   \n",
       "\n",
       "                              INSPECTION TYPE Latitude Longitude  \\\n",
       "count                                  399595   400460    400460   \n",
       "unique                                     31    22676     22676   \n",
       "top     Cycle Inspection / Initial Inspection        0         0   \n",
       "freq                                   234680     5427      5427   \n",
       "\n",
       "       Community Board Council District Census Tract      BIN     BBL     NTA  \n",
       "count           395033           395045       395045   393292  400460  395033  \n",
       "unique              69               51         1184    19711   19409     193  \n",
       "top                105               03       003800  4000000       1    MN17  \n",
       "freq             32380            35279         3270     2419    3102   23712  \n",
       "\n",
       "[4 rows x 26 columns]"
      ]
     },
     "execution_count": 14,
     "metadata": {},
     "output_type": "execute_result"
    }
   ],
   "source": [
    "restaurants.describe()"
   ]
  },
  {
   "cell_type": "code",
   "execution_count": 15,
   "metadata": {},
   "outputs": [
    {
     "name": "stdout",
     "output_type": "stream",
     "text": [
      "<class 'pandas.core.frame.DataFrame'>\n",
      "RangeIndex: 400884 entries, 0 to 400883\n",
      "Data columns (total 26 columns):\n",
      "CAMIS                    400884 non-null object\n",
      "DBA                      400511 non-null object\n",
      "BORO                     400884 non-null object\n",
      "BUILDING                 400618 non-null object\n",
      "STREET                   400880 non-null object\n",
      "ZIPCODE                  395453 non-null object\n",
      "PHONE                    400867 non-null object\n",
      "CUISINE DESCRIPTION      400884 non-null object\n",
      "INSPECTION DATE          400884 non-null object\n",
      "ACTION                   399595 non-null object\n",
      "VIOLATION CODE           395343 non-null object\n",
      "VIOLATION DESCRIPTION    391960 non-null object\n",
      "CRITICAL FLAG            391960 non-null object\n",
      "SCORE                    384181 non-null object\n",
      "GRADE                    203199 non-null object\n",
      "GRADE DATE               200549 non-null object\n",
      "RECORD DATE              400884 non-null object\n",
      "INSPECTION TYPE          399595 non-null object\n",
      "Latitude                 400460 non-null object\n",
      "Longitude                400460 non-null object\n",
      "Community Board          395033 non-null object\n",
      "Council District         395045 non-null object\n",
      "Census Tract             395045 non-null object\n",
      "BIN                      393292 non-null object\n",
      "BBL                      400460 non-null object\n",
      "NTA                      395033 non-null object\n",
      "dtypes: object(26)\n",
      "memory usage: 79.5+ MB\n"
     ]
    }
   ],
   "source": [
    "restaurants.info()"
   ]
  },
  {
   "cell_type": "markdown",
   "metadata": {},
   "source": [
    "# Note that above all of our data is stored as a non-null object, aka, a string.  But 'Score' is not a string, it's a numerical value. So let's work to alter that in our data frame."
   ]
  },
  {
   "cell_type": "code",
   "execution_count": 16,
   "metadata": {},
   "outputs": [
    {
     "data": {
      "text/plain": [
       "CAMIS                     object\n",
       "DBA                       object\n",
       "BORO                      object\n",
       "BUILDING                  object\n",
       "STREET                    object\n",
       "ZIPCODE                   object\n",
       "PHONE                     object\n",
       "CUISINE DESCRIPTION       object\n",
       "INSPECTION DATE           object\n",
       "ACTION                    object\n",
       "VIOLATION CODE            object\n",
       "VIOLATION DESCRIPTION     object\n",
       "CRITICAL FLAG             object\n",
       "SCORE                    float64\n",
       "GRADE                     object\n",
       "GRADE DATE                object\n",
       "RECORD DATE               object\n",
       "INSPECTION TYPE           object\n",
       "Latitude                  object\n",
       "Longitude                 object\n",
       "Community Board           object\n",
       "Council District          object\n",
       "Census Tract              object\n",
       "BIN                       object\n",
       "BBL                       object\n",
       "NTA                       object\n",
       "dtype: object"
      ]
     },
     "execution_count": 16,
     "metadata": {},
     "output_type": "execute_result"
    }
   ],
   "source": [
    "restaurants[\"SCORE\"] = pd.to_numeric(restaurants[\"SCORE\"])\n",
    "# we are setting the value of our column equal to itself, but now with the caveat that we want it converted 'to numeric'\n",
    "\n",
    "restaurants.dtypes"
   ]
  },
  {
   "cell_type": "code",
   "execution_count": 17,
   "metadata": {},
   "outputs": [
    {
     "data": {
      "text/plain": [
       "count    384181.000000\n",
       "mean         20.409081\n",
       "std          14.839614\n",
       "min          -1.000000\n",
       "25%          11.000000\n",
       "50%          15.000000\n",
       "75%          26.000000\n",
       "max         164.000000\n",
       "Name: SCORE, dtype: float64"
      ]
     },
     "execution_count": 17,
     "metadata": {},
     "output_type": "execute_result"
    }
   ],
   "source": [
    "restaurants.SCORE.describe() # let's get some more info on our \"SCORE\" column..."
   ]
  },
  {
   "cell_type": "code",
   "execution_count": 18,
   "metadata": {},
   "outputs": [
    {
     "data": {
      "text/plain": [
       "<matplotlib.axes._subplots.AxesSubplot at 0x1a250a2630>"
      ]
     },
     "execution_count": 18,
     "metadata": {},
     "output_type": "execute_result"
    },
    {
     "data": {
      "image/png": "[encoded data removed]",
      "text/plain": [
       "<Figure size 432x288 with 1 Axes>"
      ]
     },
     "metadata": {
      "needs_background": "light"
     },
     "output_type": "display_data"
    }
   ],
   "source": [
    "restaurants[\"SCORE\"].hist()"
   ]
  },
  {
   "cell_type": "code",
   "execution_count": 19,
   "metadata": {},
   "outputs": [
    {
     "data": {
      "text/plain": [
       "<matplotlib.axes._subplots.AxesSubplot at 0x1a1bd2d9b0>"
      ]
     },
     "execution_count": 19,
     "metadata": {},
     "output_type": "execute_result"
    },
    {
     "data": {
      "image/png": "[encoded data removed]",
      "text/plain": [
       "<Figure size 432x288 with 1 Axes>"
      ]
     },
     "metadata": {
      "needs_background": "light"
     },
     "output_type": "display_data"
    }
   ],
   "source": [
    "restaurants[\"SCORE\"].hist(bins=50) # let's change the default number of bins"
   ]
  },
  {
   "cell_type": "markdown",
   "metadata": {},
   "source": [
    "# Let's take a moment to explore what else we can customize in our histogram."
   ]
  },
  {
   "cell_type": "code",
   "execution_count": 20,
   "metadata": {},
   "outputs": [
    {
     "data": {
      "text/plain": [
       "<matplotlib.axes._subplots.AxesSubplot at 0x1a1e883d68>"
      ]
     },
     "execution_count": 20,
     "metadata": {},
     "output_type": "execute_result"
    },
    {
     "data": {
      "image/png": "[encoded data removed]",
      "text/plain": [
       "<Figure size 1080x360 with 1 Axes>"
      ]
     },
     "metadata": {
      "needs_background": "light"
     },
     "output_type": "display_data"
    }
   ],
   "source": [
    "restaurants[\"SCORE\"].hist(bins=50, # use 50 bins\n",
    "                      range=(0,50), # our x-axis will range from 0 to 50\n",
    "                      density=False, # show the raw count; to show normalized count use (density=True)\n",
    "                      figsize=(15,5), # control the size of the plot\n",
    "                      alpha = 0.8 # make plot 20% transparent\n",
    "                      )"
   ]
  },
  {
   "cell_type": "markdown",
   "metadata": {},
   "source": [
    "# We can also use KDE (kernel density estimation) to estimate a continuous function, instead of bucketized as above."
   ]
  },
  {
   "cell_type": "code",
   "execution_count": 21,
   "metadata": {},
   "outputs": [
    {
     "data": {
      "text/plain": [
       "<matplotlib.axes._subplots.AxesSubplot at 0x1a1e9a7390>"
      ]
     },
     "execution_count": 21,
     "metadata": {},
     "output_type": "execute_result"
    },
    {
     "data": {
      "image/png": "[encoded data removed]",
      "text/plain": [
       "<Figure size 1080x360 with 1 Axes>"
      ]
     },
     "metadata": {
      "needs_background": "light"
     },
     "output_type": "display_data"
    }
   ],
   "source": [
    "restaurants[\"SCORE\"].plot(\n",
    "    kind = 'kde',\n",
    "    color = 'Black', \n",
    "    xlim = (0, 50),\n",
    "    figsize = (15, 5)\n",
    ")"
   ]
  },
  {
   "cell_type": "markdown",
   "metadata": {},
   "source": [
    "---"
   ]
  },
  {
   "cell_type": "markdown",
   "metadata": {},
   "source": [
    "# Now let's do some work with dates."
   ]
  },
  {
   "cell_type": "code",
   "execution_count": 22,
   "metadata": {},
   "outputs": [
    {
     "data": {
      "text/plain": [
       "0    09/21/2018\n",
       "1           NaN\n",
       "2           NaN\n",
       "3    04/03/2018\n",
       "4    10/11/2019\n",
       "5           NaN\n",
       "6    07/11/2019\n",
       "7           NaN\n",
       "8           NaN\n",
       "9           NaN\n",
       "Name: GRADE DATE, dtype: object"
      ]
     },
     "execution_count": 22,
     "metadata": {},
     "output_type": "execute_result"
    }
   ],
   "source": [
    "restaurants[\"GRADE DATE\"].head(10) # show us the first ten values of this column"
   ]
  },
  {
   "cell_type": "markdown",
   "metadata": {},
   "source": [
    "# Note that our dates are stored as strings, which doesn't really help us. So, we can convert all of our dates using the 'to_datetime' function, and format them as illustrated below."
   ]
  },
  {
   "cell_type": "code",
   "execution_count": 23,
   "metadata": {},
   "outputs": [],
   "source": [
    "# %m Month as a zero-padded decimal number\n",
    "# %d Day of month as a zero-padded decimal number\n",
    "# %y Year with century as a decimal number\n",
    "\n",
    "restaurants[\"GRADE DATE\"] = pd.to_datetime(restaurants[\"GRADE DATE\"], format=\"%m/%d/%Y\")\n",
    "restaurants[\"RECORD DATE\"] = pd.to_datetime(restaurants[\"RECORD DATE\"], format=\"%m/%d/%Y\")\n",
    "restaurants[\"INSPECTION DATE\"] = pd.to_datetime(restaurants[\"INSPECTION DATE\"], format=\"%m/%d/%Y\")"
   ]
  },
  {
   "cell_type": "code",
   "execution_count": 24,
   "metadata": {
    "scrolled": true
   },
   "outputs": [
    {
     "data": {
      "text/plain": [
       "CAMIS                            object\n",
       "DBA                              object\n",
       "BORO                             object\n",
       "BUILDING                         object\n",
       "STREET                           object\n",
       "ZIPCODE                          object\n",
       "PHONE                            object\n",
       "CUISINE DESCRIPTION              object\n",
       "INSPECTION DATE          datetime64[ns]\n",
       "ACTION                           object\n",
       "VIOLATION CODE                   object\n",
       "VIOLATION DESCRIPTION            object\n",
       "CRITICAL FLAG                    object\n",
       "SCORE                           float64\n",
       "GRADE                            object\n",
       "GRADE DATE               datetime64[ns]\n",
       "RECORD DATE              datetime64[ns]\n",
       "INSPECTION TYPE                  object\n",
       "Latitude                         object\n",
       "Longitude                        object\n",
       "Community Board                  object\n",
       "Council District                 object\n",
       "Census Tract                     object\n",
       "BIN                              object\n",
       "BBL                              object\n",
       "NTA                              object\n",
       "dtype: object"
      ]
     },
     "execution_count": 24,
     "metadata": {},
     "output_type": "execute_result"
    }
   ],
   "source": [
    "restaurants.dtypes # let's check to make sure our code above worked..."
   ]
  },
  {
   "cell_type": "code",
   "execution_count": 25,
   "metadata": {},
   "outputs": [
    {
     "data": {
      "text/html": [
       "<div>\n",
       "<style scoped>\n",
       "    .dataframe tbody tr th:only-of-type {\n",
       "        vertical-align: middle;\n",
       "    }\n",
       "\n",
       "    .dataframe tbody tr th {\n",
       "        vertical-align: top;\n",
       "    }\n",
       "\n",
       "    .dataframe thead th {\n",
       "        text-align: right;\n",
       "    }\n",
       "</style>\n",
       "<table border=\"1\" class=\"dataframe\">\n",
       "  <thead>\n",
       "    <tr style=\"text-align: right;\">\n",
       "      <th></th>\n",
       "      <th>INSPECTION DATE</th>\n",
       "      <th>GRADE DATE</th>\n",
       "      <th>RECORD DATE</th>\n",
       "    </tr>\n",
       "  </thead>\n",
       "  <tbody>\n",
       "    <tr>\n",
       "      <td>count</td>\n",
       "      <td>400884</td>\n",
       "      <td>200549</td>\n",
       "      <td>400884</td>\n",
       "    </tr>\n",
       "    <tr>\n",
       "      <td>unique</td>\n",
       "      <td>1337</td>\n",
       "      <td>1272</td>\n",
       "      <td>1</td>\n",
       "    </tr>\n",
       "    <tr>\n",
       "      <td>top</td>\n",
       "      <td>1900-01-01 00:00:00</td>\n",
       "      <td>2019-06-13 00:00:00</td>\n",
       "      <td>2020-04-01 00:00:00</td>\n",
       "    </tr>\n",
       "    <tr>\n",
       "      <td>freq</td>\n",
       "      <td>1289</td>\n",
       "      <td>501</td>\n",
       "      <td>400884</td>\n",
       "    </tr>\n",
       "    <tr>\n",
       "      <td>first</td>\n",
       "      <td>1900-01-01 00:00:00</td>\n",
       "      <td>2013-06-07 00:00:00</td>\n",
       "      <td>2020-04-01 00:00:00</td>\n",
       "    </tr>\n",
       "    <tr>\n",
       "      <td>last</td>\n",
       "      <td>2020-03-16 00:00:00</td>\n",
       "      <td>2020-03-16 00:00:00</td>\n",
       "      <td>2020-04-01 00:00:00</td>\n",
       "    </tr>\n",
       "  </tbody>\n",
       "</table>\n",
       "</div>"
      ],
      "text/plain": [
       "            INSPECTION DATE           GRADE DATE          RECORD DATE\n",
       "count                400884               200549               400884\n",
       "unique                 1337                 1272                    1\n",
       "top     1900-01-01 00:00:00  2019-06-13 00:00:00  2020-04-01 00:00:00\n",
       "freq                   1289                  501               400884\n",
       "first   1900-01-01 00:00:00  2013-06-07 00:00:00  2020-04-01 00:00:00\n",
       "last    2020-03-16 00:00:00  2020-03-16 00:00:00  2020-04-01 00:00:00"
      ]
     },
     "execution_count": 25,
     "metadata": {},
     "output_type": "execute_result"
    }
   ],
   "source": [
    "restaurants[[\"INSPECTION DATE\",\"GRADE DATE\",\"RECORD DATE\"]].describe()"
   ]
  },
  {
   "cell_type": "markdown",
   "metadata": {},
   "source": [
    "---"
   ]
  },
  {
   "cell_type": "markdown",
   "metadata": {},
   "source": [
    "# Exercise 1: Plot a histogram of our dates"
   ]
  },
  {
   "cell_type": "code",
   "execution_count": 26,
   "metadata": {},
   "outputs": [],
   "source": [
    "# your code here"
   ]
  },
  {
   "cell_type": "markdown",
   "metadata": {},
   "source": [
    "# Solution 1:"
   ]
  },
  {
   "cell_type": "code",
   "execution_count": 27,
   "metadata": {},
   "outputs": [
    {
     "data": {
      "text/plain": [
       "<matplotlib.axes._subplots.AxesSubplot at 0x1a1be4e5f8>"
      ]
     },
     "execution_count": 27,
     "metadata": {},
     "output_type": "execute_result"
    },
    {
     "data": {
      "image/png": "[encoded data removed]",
      "text/plain": [
       "<Figure size 432x288 with 1 Axes>"
      ]
     },
     "metadata": {
      "needs_background": "light"
     },
     "output_type": "display_data"
    }
   ],
   "source": [
    "restaurants[\"INSPECTION DATE\"].hist()"
   ]
  },
  {
   "cell_type": "markdown",
   "metadata": {},
   "source": [
    "---"
   ]
  },
  {
   "cell_type": "markdown",
   "metadata": {},
   "source": [
    "# Exericse 2: Change the number of bins in our histogram"
   ]
  },
  {
   "cell_type": "code",
   "execution_count": 28,
   "metadata": {},
   "outputs": [],
   "source": [
    "# your code here"
   ]
  },
  {
   "cell_type": "markdown",
   "metadata": {},
   "source": [
    "# Solution 2: "
   ]
  },
  {
   "cell_type": "code",
   "execution_count": 29,
   "metadata": {},
   "outputs": [
    {
     "data": {
      "text/plain": [
       "<matplotlib.axes._subplots.AxesSubplot at 0x1a1bc3b908>"
      ]
     },
     "execution_count": 29,
     "metadata": {},
     "output_type": "execute_result"
    },
    {
     "data": {
      "image/png": "[encoded data removed]",
      "text/plain": [
       "<Figure size 432x288 with 1 Axes>"
      ]
     },
     "metadata": {
      "needs_background": "light"
     },
     "output_type": "display_data"
    }
   ],
   "source": [
    "restaurants[\"INSPECTION DATE\"].hist(bins=60)"
   ]
  },
  {
   "cell_type": "markdown",
   "metadata": {},
   "source": [
    "---"
   ]
  },
  {
   "cell_type": "markdown",
   "metadata": {},
   "source": [
    "# Exercise 3: Focus on the dates 1/1/2014 thru 05/31/2018"
   ]
  },
  {
   "cell_type": "code",
   "execution_count": 30,
   "metadata": {},
   "outputs": [],
   "source": [
    "# your code here"
   ]
  },
  {
   "cell_type": "markdown",
   "metadata": {},
   "source": [
    "# Solution 3:"
   ]
  },
  {
   "cell_type": "code",
   "execution_count": 31,
   "metadata": {},
   "outputs": [
    {
     "data": {
      "text/plain": [
       "<matplotlib.axes._subplots.AxesSubplot at 0x1a1c071978>"
      ]
     },
     "execution_count": 31,
     "metadata": {},
     "output_type": "execute_result"
    },
    {
     "data": {
      "image/png": "[encoded data removed]",
      "text/plain": [
       "<Figure size 1080x360 with 1 Axes>"
      ]
     },
     "metadata": {
      "needs_background": "light"
     },
     "output_type": "display_data"
    }
   ],
   "source": [
    "restaurants[\"INSPECTION DATE\"].hist(\n",
    "    range = ('1/1/2014', '9/30/2018'),\n",
    "    bins = 57, # number of months in the range, computed manually\n",
    "    figsize = (15,5)\n",
    ")"
   ]
  },
  {
   "cell_type": "markdown",
   "metadata": {},
   "source": [
    "---"
   ]
  },
  {
   "cell_type": "markdown",
   "metadata": {},
   "source": [
    "# Now that we've worked with our dates, let's look at categorical values.\n",
    "\n",
    "# Sometimes we need categorical values, when we have a variable that has an implicit order, for instance an 'ABC' grade (as we do in our restaurants data set)."
   ]
  },
  {
   "cell_type": "code",
   "execution_count": 32,
   "metadata": {
    "scrolled": true
   },
   "outputs": [
    {
     "data": {
      "text/plain": [
       "CAMIS                            object\n",
       "DBA                              object\n",
       "BORO                           category\n",
       "BUILDING                         object\n",
       "STREET                           object\n",
       "ZIPCODE                          object\n",
       "PHONE                            object\n",
       "CUISINE DESCRIPTION            category\n",
       "INSPECTION DATE          datetime64[ns]\n",
       "ACTION                         category\n",
       "VIOLATION CODE                 category\n",
       "VIOLATION DESCRIPTION            object\n",
       "CRITICAL FLAG                  category\n",
       "SCORE                           float64\n",
       "GRADE                          category\n",
       "GRADE DATE               datetime64[ns]\n",
       "RECORD DATE              datetime64[ns]\n",
       "INSPECTION TYPE                  object\n",
       "Latitude                         object\n",
       "Longitude                        object\n",
       "Community Board                  object\n",
       "Council District                 object\n",
       "Census Tract                     object\n",
       "BIN                              object\n",
       "BBL                              object\n",
       "NTA                              object\n",
       "dtype: object"
      ]
     },
     "execution_count": 32,
     "metadata": {},
     "output_type": "execute_result"
    }
   ],
   "source": [
    "restaurants[\"BORO\"] =  pd.Categorical(restaurants[\"BORO\"], ordered=False) \n",
    "restaurants[\"GRADE\"] =  pd.Categorical(restaurants[\"GRADE\"], categories = ['A', 'B', 'C'], ordered=True)\n",
    "# 'ordered=True' means that we are saying there are three categories, and 'A' > 'B' > 'C', in that order\n",
    "restaurants[\"VIOLATION CODE\"] =  pd.Categorical(restaurants[\"VIOLATION CODE\"], ordered=False)\n",
    "restaurants[\"CRITICAL FLAG\"] =  pd.Categorical(restaurants[\"CRITICAL FLAG\"], ordered=False)\n",
    "restaurants[\"ACTION\"] =  pd.Categorical(restaurants[\"ACTION\"], ordered=False)\n",
    "restaurants[\"CUISINE DESCRIPTION\"] =  pd.Categorical(restaurants[\"CUISINE DESCRIPTION\"], ordered=False)\n",
    "\n",
    "restaurants.dtypes"
   ]
  },
  {
   "cell_type": "markdown",
   "metadata": {},
   "source": [
    "# Let's delve into a particular column, 'CUISINE DESCRIPTION'"
   ]
  },
  {
   "cell_type": "code",
   "execution_count": 33,
   "metadata": {},
   "outputs": [
    {
     "data": {
      "text/plain": [
       "American                                                            83424\n",
       "Chinese                                                             42348\n",
       "Café/Coffee/Tea                                                     19844\n",
       "Latin (Cuban, Dominican, Puerto Rican, South & Central American)    17643\n",
       "Pizza                                                               17448\n",
       "Name: CUISINE DESCRIPTION, dtype: int64"
      ]
     },
     "execution_count": 33,
     "metadata": {},
     "output_type": "execute_result"
    }
   ],
   "source": [
    "restaurants[\"CUISINE DESCRIPTION\"].value_counts()[:5] # give us the 'value_counts' of the first five columns"
   ]
  },
  {
   "cell_type": "code",
   "execution_count": 34,
   "metadata": {
    "scrolled": true
   },
   "outputs": [
    {
     "data": {
      "text/plain": [
       "<matplotlib.axes._subplots.AxesSubplot at 0x1a1c095e48>"
      ]
     },
     "execution_count": 34,
     "metadata": {},
     "output_type": "execute_result"
    },
    {
     "data": {
      "image/png": "[encoded data removed]",
      "text/plain": [
       "<Figure size 432x288 with 1 Axes>"
      ]
     },
     "metadata": {
      "needs_background": "light"
     },
     "output_type": "display_data"
    }
   ],
   "source": [
    "restaurants[\"CUISINE DESCRIPTION\"].value_counts()[:5].plot(kind='bar')"
   ]
  },
  {
   "cell_type": "markdown",
   "metadata": {},
   "source": [
    "# ^ That is super ugly. Let's shorten the name of 'Latin (Cuban, Dominican...' because it is messing up our formatting."
   ]
  },
  {
   "cell_type": "code",
   "execution_count": 35,
   "metadata": {},
   "outputs": [],
   "source": [
    "restaurants[\"CUISINE DESCRIPTION\"].replace(\n",
    "    to_replace='Latin (Cuban, Dominican, Puerto Rican, South & Central American)', # replace this...\n",
    "    value = 'Latin American', # with this\n",
    "    inplace=True # inplace=True means we change direclty the dataframe instead of returning a ndw df qithout the deleted value\n",
    ")"
   ]
  },
  {
   "cell_type": "markdown",
   "metadata": {},
   "source": [
    "# While we're at it, let's fix the formattig in 'Cafe/Coffee/Tea'"
   ]
  },
  {
   "cell_type": "code",
   "execution_count": 36,
   "metadata": {},
   "outputs": [],
   "source": [
    "restaurants[\"CUISINE DESCRIPTION\"].replace(\n",
    "    to_replace='CafÃ©/Coffee/Tea', # replace this\n",
    "    value = 'Cafe/Coffee/Tea', # with this\n",
    "    inplace=True\n",
    ")"
   ]
  },
  {
   "cell_type": "code",
   "execution_count": 37,
   "metadata": {},
   "outputs": [
    {
     "data": {
      "text/plain": [
       "<matplotlib.axes._subplots.AxesSubplot at 0x1a1c121438>"
      ]
     },
     "execution_count": 37,
     "metadata": {},
     "output_type": "execute_result"
    },
    {
     "data": {
      "image/png": "[encoded data removed]",
      "text/plain": [
       "<Figure size 432x288 with 1 Axes>"
      ]
     },
     "metadata": {
      "needs_background": "light"
     },
     "output_type": "display_data"
    }
   ],
   "source": [
    "popular = restaurants[\"CUISINE DESCRIPTION\"].value_counts()\n",
    "popular[:5].plot(kind='bar')"
   ]
  },
  {
   "cell_type": "markdown",
   "metadata": {},
   "source": [
    "---"
   ]
  },
  {
   "cell_type": "markdown",
   "metadata": {},
   "source": [
    "# Exercise 4: What are the 10 most common violation codes? "
   ]
  },
  {
   "cell_type": "code",
   "execution_count": 38,
   "metadata": {},
   "outputs": [],
   "source": [
    "# your code here"
   ]
  },
  {
   "cell_type": "markdown",
   "metadata": {},
   "source": [
    "# Solution 4: "
   ]
  },
  {
   "cell_type": "code",
   "execution_count": 39,
   "metadata": {},
   "outputs": [
    {
     "data": {
      "text/plain": [
       "10F    57360\n",
       "08A    44503\n",
       "04L    29864\n",
       "06D    27502\n",
       "06C    24316\n",
       "10B    23451\n",
       "02G    23030\n",
       "04N    20993\n",
       "02B    20517\n",
       "04M     8856\n",
       "Name: VIOLATION CODE, dtype: int64"
      ]
     },
     "execution_count": 39,
     "metadata": {},
     "output_type": "execute_result"
    }
   ],
   "source": [
    "violation_counts = restaurants[\"VIOLATION CODE\"].value_counts(); \n",
    "\n",
    "violation_counts[0:10]"
   ]
  },
  {
   "cell_type": "markdown",
   "metadata": {},
   "source": [
    "---"
   ]
  },
  {
   "cell_type": "markdown",
   "metadata": {},
   "source": [
    "# Exercise 5: Plot the 10 most common violation codes as a bar chart"
   ]
  },
  {
   "cell_type": "code",
   "execution_count": 40,
   "metadata": {},
   "outputs": [],
   "source": [
    "# your code here"
   ]
  },
  {
   "cell_type": "markdown",
   "metadata": {},
   "source": [
    "# Solution 5: "
   ]
  },
  {
   "cell_type": "code",
   "execution_count": 41,
   "metadata": {},
   "outputs": [
    {
     "data": {
      "text/plain": [
       "<matplotlib.axes._subplots.AxesSubplot at 0x1a1e384390>"
      ]
     },
     "execution_count": 41,
     "metadata": {},
     "output_type": "execute_result"
    },
    {
     "data": {
      "image/png": "[encoded data removed]",
      "text/plain": [
       "<Figure size 432x288 with 1 Axes>"
      ]
     },
     "metadata": {
      "needs_background": "light"
     },
     "output_type": "display_data"
    }
   ],
   "source": [
    "violation_counts[0:20].plot(kind='bar')"
   ]
  },
  {
   "cell_type": "markdown",
   "metadata": {},
   "source": [
    "---"
   ]
  },
  {
   "cell_type": "markdown",
   "metadata": {},
   "source": [
    "# Exercise 6: Plot the numer of inspections across each bourough"
   ]
  },
  {
   "cell_type": "code",
   "execution_count": 42,
   "metadata": {},
   "outputs": [],
   "source": [
    "# your code here"
   ]
  },
  {
   "cell_type": "markdown",
   "metadata": {},
   "source": [
    "# Solution 6:"
   ]
  },
  {
   "cell_type": "code",
   "execution_count": 43,
   "metadata": {},
   "outputs": [
    {
     "data": {
      "text/plain": [
       "<matplotlib.axes._subplots.AxesSubplot at 0x1a1c20c550>"
      ]
     },
     "execution_count": 43,
     "metadata": {},
     "output_type": "execute_result"
    },
    {
     "data": {
      "image/png": "[encoded data removed]",
      "text/plain": [
       "<Figure size 432x288 with 1 Axes>"
      ]
     },
     "metadata": {
      "needs_background": "light"
     },
     "output_type": "display_data"
    }
   ],
   "source": [
    "restaurants[\"BORO\"].value_counts().plot(kind='barh') # the 'h' makes it horizontal"
   ]
  },
  {
   "cell_type": "markdown",
   "metadata": {},
   "source": [
    "---"
   ]
  },
  {
   "cell_type": "markdown",
   "metadata": {},
   "source": [
    "# Imagine we want to get a subset of our data frame based on the columns we're interested in."
   ]
  },
  {
   "cell_type": "code",
   "execution_count": 44,
   "metadata": {},
   "outputs": [
    {
     "data": {
      "text/html": [
       "<div>\n",
       "<style scoped>\n",
       "    .dataframe tbody tr th:only-of-type {\n",
       "        vertical-align: middle;\n",
       "    }\n",
       "\n",
       "    .dataframe tbody tr th {\n",
       "        vertical-align: top;\n",
       "    }\n",
       "\n",
       "    .dataframe thead th {\n",
       "        text-align: right;\n",
       "    }\n",
       "</style>\n",
       "<table border=\"1\" class=\"dataframe\">\n",
       "  <thead>\n",
       "    <tr style=\"text-align: right;\">\n",
       "      <th></th>\n",
       "      <th>GRADE DATE</th>\n",
       "      <th>VIOLATION CODE</th>\n",
       "      <th>DBA</th>\n",
       "      <th>SCORE</th>\n",
       "    </tr>\n",
       "  </thead>\n",
       "  <tbody>\n",
       "    <tr>\n",
       "      <td>0</td>\n",
       "      <td>2018-09-21</td>\n",
       "      <td>02H</td>\n",
       "      <td>EMPIRE EXPRESS CHINESE RESTAURANT</td>\n",
       "      <td>10.0</td>\n",
       "    </tr>\n",
       "    <tr>\n",
       "      <td>1</td>\n",
       "      <td>NaT</td>\n",
       "      <td>02G</td>\n",
       "      <td>HALAL CHINA KITCHEN PLUS</td>\n",
       "      <td>18.0</td>\n",
       "    </tr>\n",
       "    <tr>\n",
       "      <td>2</td>\n",
       "      <td>NaT</td>\n",
       "      <td>02B</td>\n",
       "      <td>RINCONCITO TEPEYAC</td>\n",
       "      <td>37.0</td>\n",
       "    </tr>\n",
       "    <tr>\n",
       "      <td>3</td>\n",
       "      <td>2018-04-03</td>\n",
       "      <td>10J</td>\n",
       "      <td>51ST BAKERY AND CAFE</td>\n",
       "      <td>9.0</td>\n",
       "    </tr>\n",
       "    <tr>\n",
       "      <td>4</td>\n",
       "      <td>2019-10-11</td>\n",
       "      <td>02H</td>\n",
       "      <td>MASTER WOK</td>\n",
       "      <td>70.0</td>\n",
       "    </tr>\n",
       "    <tr>\n",
       "      <td>5</td>\n",
       "      <td>NaT</td>\n",
       "      <td>08A</td>\n",
       "      <td>PAUL'S ON TIMES SQUARE (HILTON GARDEN INN)</td>\n",
       "      <td>26.0</td>\n",
       "    </tr>\n",
       "    <tr>\n",
       "      <td>6</td>\n",
       "      <td>2019-07-11</td>\n",
       "      <td>02G</td>\n",
       "      <td>ALI'S ROTI SHOP</td>\n",
       "      <td>28.0</td>\n",
       "    </tr>\n",
       "    <tr>\n",
       "      <td>7</td>\n",
       "      <td>NaT</td>\n",
       "      <td>08A</td>\n",
       "      <td>JOE'S PIZZA &amp; PASTA</td>\n",
       "      <td>26.0</td>\n",
       "    </tr>\n",
       "    <tr>\n",
       "      <td>8</td>\n",
       "      <td>NaT</td>\n",
       "      <td>06D</td>\n",
       "      <td>SUBWAY</td>\n",
       "      <td>43.0</td>\n",
       "    </tr>\n",
       "    <tr>\n",
       "      <td>9</td>\n",
       "      <td>NaT</td>\n",
       "      <td>06E</td>\n",
       "      <td>SUPREME JAMAICAN RESTAURANT</td>\n",
       "      <td>60.0</td>\n",
       "    </tr>\n",
       "  </tbody>\n",
       "</table>\n",
       "</div>"
      ],
      "text/plain": [
       "  GRADE DATE VIOLATION CODE                                         DBA  SCORE\n",
       "0 2018-09-21            02H           EMPIRE EXPRESS CHINESE RESTAURANT   10.0\n",
       "1        NaT            02G                    HALAL CHINA KITCHEN PLUS   18.0\n",
       "2        NaT            02B                          RINCONCITO TEPEYAC   37.0\n",
       "3 2018-04-03            10J                        51ST BAKERY AND CAFE    9.0\n",
       "4 2019-10-11            02H                                  MASTER WOK   70.0\n",
       "5        NaT            08A  PAUL'S ON TIMES SQUARE (HILTON GARDEN INN)   26.0\n",
       "6 2019-07-11            02G                             ALI'S ROTI SHOP   28.0\n",
       "7        NaT            08A                         JOE'S PIZZA & PASTA   26.0\n",
       "8        NaT            06D                                      SUBWAY   43.0\n",
       "9        NaT            06E                 SUPREME JAMAICAN RESTAURANT   60.0"
      ]
     },
     "execution_count": 44,
     "metadata": {},
     "output_type": "execute_result"
    }
   ],
   "source": [
    "columns = [\"GRADE DATE\",\"VIOLATION CODE\",\"DBA\",\"SCORE\"] # create a list of the columns we're interested in \n",
    "restaurants[columns].head(10)"
   ]
  },
  {
   "cell_type": "markdown",
   "metadata": {},
   "source": [
    "# What if instead we wanted to select the rows we're interested in? Well, to do that, we can generate a list of boolean (True or Fale) values, one for each row of our Data Frame, then use a list to see which rows to keep. \n",
    "\n",
    "# In this case, '04L' is the code for 'has mice'.\n"
   ]
  },
  {
   "cell_type": "code",
   "execution_count": 45,
   "metadata": {
    "scrolled": true
   },
   "outputs": [
    {
     "data": {
      "text/plain": [
       "0         False\n",
       "1         False\n",
       "2         False\n",
       "3         False\n",
       "4         False\n",
       "          ...  \n",
       "400879    False\n",
       "400880    False\n",
       "400881    False\n",
       "400882    False\n",
       "400883    False\n",
       "Name: VIOLATION CODE, Length: 400884, dtype: bool"
      ]
     },
     "execution_count": 45,
     "metadata": {},
     "output_type": "execute_result"
    }
   ],
   "source": [
    "mice = restaurants[\"VIOLATION CODE\"] == \"04L\"\n",
    "\n",
    "mice"
   ]
  },
  {
   "cell_type": "code",
   "execution_count": 46,
   "metadata": {},
   "outputs": [
    {
     "data": {
      "text/html": [
       "<div>\n",
       "<style scoped>\n",
       "    .dataframe tbody tr th:only-of-type {\n",
       "        vertical-align: middle;\n",
       "    }\n",
       "\n",
       "    .dataframe tbody tr th {\n",
       "        vertical-align: top;\n",
       "    }\n",
       "\n",
       "    .dataframe thead th {\n",
       "        text-align: right;\n",
       "    }\n",
       "</style>\n",
       "<table border=\"1\" class=\"dataframe\">\n",
       "  <thead>\n",
       "    <tr style=\"text-align: right;\">\n",
       "      <th></th>\n",
       "      <th>CAMIS</th>\n",
       "      <th>DBA</th>\n",
       "      <th>BORO</th>\n",
       "      <th>BUILDING</th>\n",
       "      <th>STREET</th>\n",
       "      <th>ZIPCODE</th>\n",
       "      <th>PHONE</th>\n",
       "      <th>CUISINE DESCRIPTION</th>\n",
       "      <th>INSPECTION DATE</th>\n",
       "      <th>ACTION</th>\n",
       "      <th>...</th>\n",
       "      <th>RECORD DATE</th>\n",
       "      <th>INSPECTION TYPE</th>\n",
       "      <th>Latitude</th>\n",
       "      <th>Longitude</th>\n",
       "      <th>Community Board</th>\n",
       "      <th>Council District</th>\n",
       "      <th>Census Tract</th>\n",
       "      <th>BIN</th>\n",
       "      <th>BBL</th>\n",
       "      <th>NTA</th>\n",
       "    </tr>\n",
       "  </thead>\n",
       "  <tbody>\n",
       "    <tr>\n",
       "      <td>32</td>\n",
       "      <td>41639072</td>\n",
       "      <td>JOANNE TRATTORIA</td>\n",
       "      <td>Manhattan</td>\n",
       "      <td>70</td>\n",
       "      <td>W 68TH ST</td>\n",
       "      <td>10023</td>\n",
       "      <td>2127210068</td>\n",
       "      <td>Italian</td>\n",
       "      <td>2019-01-17</td>\n",
       "      <td>Violations were cited in the following area(s).</td>\n",
       "      <td>...</td>\n",
       "      <td>2020-04-01</td>\n",
       "      <td>Cycle Inspection / Re-inspection</td>\n",
       "      <td>40.774505300857</td>\n",
       "      <td>-73.979875019758</td>\n",
       "      <td>107</td>\n",
       "      <td>06</td>\n",
       "      <td>015300</td>\n",
       "      <td>1028259</td>\n",
       "      <td>1011200160</td>\n",
       "      <td>MN14</td>\n",
       "    </tr>\n",
       "    <tr>\n",
       "      <td>36</td>\n",
       "      <td>40366661</td>\n",
       "      <td>BABY BO'S CANTINA</td>\n",
       "      <td>Manhattan</td>\n",
       "      <td>627</td>\n",
       "      <td>2 AVENUE</td>\n",
       "      <td>10016</td>\n",
       "      <td>2127792656</td>\n",
       "      <td>Tex-Mex</td>\n",
       "      <td>2018-05-23</td>\n",
       "      <td>Violations were cited in the following area(s).</td>\n",
       "      <td>...</td>\n",
       "      <td>2020-04-01</td>\n",
       "      <td>Cycle Inspection / Initial Inspection</td>\n",
       "      <td>40.744979132961</td>\n",
       "      <td>-73.975740952272</td>\n",
       "      <td>106</td>\n",
       "      <td>02</td>\n",
       "      <td>007800</td>\n",
       "      <td>1020155</td>\n",
       "      <td>1009150029</td>\n",
       "      <td>MN20</td>\n",
       "    </tr>\n",
       "    <tr>\n",
       "      <td>50</td>\n",
       "      <td>50016060</td>\n",
       "      <td>SENN THAI COMFORT FOOD</td>\n",
       "      <td>Manhattan</td>\n",
       "      <td>452</td>\n",
       "      <td>AMSTERDAM AVE</td>\n",
       "      <td>10024</td>\n",
       "      <td>2125417755</td>\n",
       "      <td>Thai</td>\n",
       "      <td>2018-11-08</td>\n",
       "      <td>Violations were cited in the following area(s).</td>\n",
       "      <td>...</td>\n",
       "      <td>2020-04-01</td>\n",
       "      <td>Cycle Inspection / Re-inspection</td>\n",
       "      <td>40.784901898592</td>\n",
       "      <td>-73.977055226234</td>\n",
       "      <td>107</td>\n",
       "      <td>06</td>\n",
       "      <td>016700</td>\n",
       "      <td>1032686</td>\n",
       "      <td>1012290035</td>\n",
       "      <td>MN12</td>\n",
       "    </tr>\n",
       "    <tr>\n",
       "      <td>61</td>\n",
       "      <td>41693538</td>\n",
       "      <td>NEW CHOI HEE CHINESE</td>\n",
       "      <td>Staten Island</td>\n",
       "      <td>426</td>\n",
       "      <td>BAY STREET</td>\n",
       "      <td>10304</td>\n",
       "      <td>7184478282</td>\n",
       "      <td>Chinese</td>\n",
       "      <td>2018-03-19</td>\n",
       "      <td>Violations were cited in the following area(s).</td>\n",
       "      <td>...</td>\n",
       "      <td>2020-04-01</td>\n",
       "      <td>Cycle Inspection / Initial Inspection</td>\n",
       "      <td>40.63174000513</td>\n",
       "      <td>-74.07610102381</td>\n",
       "      <td>501</td>\n",
       "      <td>49</td>\n",
       "      <td>002100</td>\n",
       "      <td>5111979</td>\n",
       "      <td>5005070005</td>\n",
       "      <td>SI37</td>\n",
       "    </tr>\n",
       "    <tr>\n",
       "      <td>64</td>\n",
       "      <td>50087822</td>\n",
       "      <td>Chinese &amp; Korean Food (store #2)</td>\n",
       "      <td>Queens</td>\n",
       "      <td>13335</td>\n",
       "      <td>ROOSEVELT AVE</td>\n",
       "      <td>11354</td>\n",
       "      <td>9292943857</td>\n",
       "      <td>Korean</td>\n",
       "      <td>2019-03-20</td>\n",
       "      <td>Violations were cited in the following area(s).</td>\n",
       "      <td>...</td>\n",
       "      <td>2020-04-01</td>\n",
       "      <td>Pre-permit (Operational) / Initial Inspection</td>\n",
       "      <td>40.758501995257</td>\n",
       "      <td>-73.833241808988</td>\n",
       "      <td>407</td>\n",
       "      <td>20</td>\n",
       "      <td>087100</td>\n",
       "      <td>4112276</td>\n",
       "      <td>4049730016</td>\n",
       "      <td>QN22</td>\n",
       "    </tr>\n",
       "    <tr>\n",
       "      <td>...</td>\n",
       "      <td>...</td>\n",
       "      <td>...</td>\n",
       "      <td>...</td>\n",
       "      <td>...</td>\n",
       "      <td>...</td>\n",
       "      <td>...</td>\n",
       "      <td>...</td>\n",
       "      <td>...</td>\n",
       "      <td>...</td>\n",
       "      <td>...</td>\n",
       "      <td>...</td>\n",
       "      <td>...</td>\n",
       "      <td>...</td>\n",
       "      <td>...</td>\n",
       "      <td>...</td>\n",
       "      <td>...</td>\n",
       "      <td>...</td>\n",
       "      <td>...</td>\n",
       "      <td>...</td>\n",
       "      <td>...</td>\n",
       "      <td>...</td>\n",
       "    </tr>\n",
       "    <tr>\n",
       "      <td>400773</td>\n",
       "      <td>50072645</td>\n",
       "      <td>PRONTO CAFE</td>\n",
       "      <td>Brooklyn</td>\n",
       "      <td>3105</td>\n",
       "      <td>AVENUE H</td>\n",
       "      <td>11210</td>\n",
       "      <td>3474139300</td>\n",
       "      <td>Delicatessen</td>\n",
       "      <td>2017-12-27</td>\n",
       "      <td>Establishment Closed by DOHMH.  Violations wer...</td>\n",
       "      <td>...</td>\n",
       "      <td>2020-04-01</td>\n",
       "      <td>Pre-permit (Operational) / Initial Inspection</td>\n",
       "      <td>40.631722519635</td>\n",
       "      <td>-73.946329755182</td>\n",
       "      <td>314</td>\n",
       "      <td>45</td>\n",
       "      <td>078600</td>\n",
       "      <td>3340522</td>\n",
       "      <td>3075590006</td>\n",
       "      <td>BK42</td>\n",
       "    </tr>\n",
       "    <tr>\n",
       "      <td>400788</td>\n",
       "      <td>41251661</td>\n",
       "      <td>KREYOL FLAVOR</td>\n",
       "      <td>Brooklyn</td>\n",
       "      <td>1738</td>\n",
       "      <td>FLATBUSH AVENUE</td>\n",
       "      <td>11210</td>\n",
       "      <td>7182580509</td>\n",
       "      <td>Creole/Cajun</td>\n",
       "      <td>2018-02-21</td>\n",
       "      <td>Violations were cited in the following area(s).</td>\n",
       "      <td>...</td>\n",
       "      <td>2020-04-01</td>\n",
       "      <td>Cycle Inspection / Initial Inspection</td>\n",
       "      <td>40.628048208892</td>\n",
       "      <td>-73.942636498229</td>\n",
       "      <td>318</td>\n",
       "      <td>45</td>\n",
       "      <td>074000</td>\n",
       "      <td>3207312</td>\n",
       "      <td>3075980035</td>\n",
       "      <td>BK58</td>\n",
       "    </tr>\n",
       "    <tr>\n",
       "      <td>400801</td>\n",
       "      <td>50093032</td>\n",
       "      <td>HILLSIDE BAGEL &amp; COFFEE SHOP</td>\n",
       "      <td>Queens</td>\n",
       "      <td>17951</td>\n",
       "      <td>HILLSIDE AVE</td>\n",
       "      <td>11432</td>\n",
       "      <td>9173258350</td>\n",
       "      <td>American</td>\n",
       "      <td>2019-08-13</td>\n",
       "      <td>Violations were cited in the following area(s).</td>\n",
       "      <td>...</td>\n",
       "      <td>2020-04-01</td>\n",
       "      <td>Pre-permit (Operational) / Initial Inspection</td>\n",
       "      <td>40.712805679023</td>\n",
       "      <td>-73.783170111335</td>\n",
       "      <td>408</td>\n",
       "      <td>24</td>\n",
       "      <td>046600</td>\n",
       "      <td>4212921</td>\n",
       "      <td>4099370042</td>\n",
       "      <td>QN06</td>\n",
       "    </tr>\n",
       "    <tr>\n",
       "      <td>400823</td>\n",
       "      <td>50050922</td>\n",
       "      <td>LETICIAS RESTAURANT</td>\n",
       "      <td>Queens</td>\n",
       "      <td>4032</td>\n",
       "      <td>NATIONAL ST</td>\n",
       "      <td>11368</td>\n",
       "      <td>7185778180</td>\n",
       "      <td>Latin American</td>\n",
       "      <td>2017-12-28</td>\n",
       "      <td>Violations were cited in the following area(s).</td>\n",
       "      <td>...</td>\n",
       "      <td>2020-04-01</td>\n",
       "      <td>Cycle Inspection / Initial Inspection</td>\n",
       "      <td>40.748964940826</td>\n",
       "      <td>-73.863033840867</td>\n",
       "      <td>404</td>\n",
       "      <td>21</td>\n",
       "      <td>040500</td>\n",
       "      <td>4048541</td>\n",
       "      <td>4019740020</td>\n",
       "      <td>QN26</td>\n",
       "    </tr>\n",
       "    <tr>\n",
       "      <td>400838</td>\n",
       "      <td>50072312</td>\n",
       "      <td>CHAMPION PIZZA</td>\n",
       "      <td>Manhattan</td>\n",
       "      <td>101</td>\n",
       "      <td>LUDLOW ST</td>\n",
       "      <td>10002</td>\n",
       "      <td>6466785589</td>\n",
       "      <td>Pizza</td>\n",
       "      <td>2018-04-11</td>\n",
       "      <td>Violations were cited in the following area(s).</td>\n",
       "      <td>...</td>\n",
       "      <td>2020-04-01</td>\n",
       "      <td>Pre-permit (Operational) / Initial Inspection</td>\n",
       "      <td>40.719103513002</td>\n",
       "      <td>-73.98886365769</td>\n",
       "      <td>103</td>\n",
       "      <td>01</td>\n",
       "      <td>001800</td>\n",
       "      <td>1005320</td>\n",
       "      <td>1004107501</td>\n",
       "      <td>MN27</td>\n",
       "    </tr>\n",
       "  </tbody>\n",
       "</table>\n",
       "<p>29864 rows × 26 columns</p>\n",
       "</div>"
      ],
      "text/plain": [
       "           CAMIS                               DBA           BORO BUILDING  \\\n",
       "32      41639072                  JOANNE TRATTORIA      Manhattan       70   \n",
       "36      40366661                 BABY BO'S CANTINA      Manhattan      627   \n",
       "50      50016060            SENN THAI COMFORT FOOD      Manhattan      452   \n",
       "61      41693538              NEW CHOI HEE CHINESE  Staten Island      426   \n",
       "64      50087822  Chinese & Korean Food (store #2)         Queens    13335   \n",
       "...          ...                               ...            ...      ...   \n",
       "400773  50072645                       PRONTO CAFE       Brooklyn     3105   \n",
       "400788  41251661                     KREYOL FLAVOR       Brooklyn     1738   \n",
       "400801  50093032      HILLSIDE BAGEL & COFFEE SHOP         Queens    17951   \n",
       "400823  50050922               LETICIAS RESTAURANT         Queens     4032   \n",
       "400838  50072312                    CHAMPION PIZZA      Manhattan      101   \n",
       "\n",
       "                 STREET ZIPCODE       PHONE CUISINE DESCRIPTION  \\\n",
       "32            W 68TH ST   10023  2127210068             Italian   \n",
       "36             2 AVENUE   10016  2127792656             Tex-Mex   \n",
       "50        AMSTERDAM AVE   10024  2125417755                Thai   \n",
       "61           BAY STREET   10304  7184478282             Chinese   \n",
       "64        ROOSEVELT AVE   11354  9292943857              Korean   \n",
       "...                 ...     ...         ...                 ...   \n",
       "400773         AVENUE H   11210  3474139300        Delicatessen   \n",
       "400788  FLATBUSH AVENUE   11210  7182580509        Creole/Cajun   \n",
       "400801     HILLSIDE AVE   11432  9173258350            American   \n",
       "400823      NATIONAL ST   11368  7185778180      Latin American   \n",
       "400838        LUDLOW ST   10002  6466785589               Pizza   \n",
       "\n",
       "       INSPECTION DATE                                             ACTION  \\\n",
       "32          2019-01-17    Violations were cited in the following area(s).   \n",
       "36          2018-05-23    Violations were cited in the following area(s).   \n",
       "50          2018-11-08    Violations were cited in the following area(s).   \n",
       "61          2018-03-19    Violations were cited in the following area(s).   \n",
       "64          2019-03-20    Violations were cited in the following area(s).   \n",
       "...                ...                                                ...   \n",
       "400773      2017-12-27  Establishment Closed by DOHMH.  Violations wer...   \n",
       "400788      2018-02-21    Violations were cited in the following area(s).   \n",
       "400801      2019-08-13    Violations were cited in the following area(s).   \n",
       "400823      2017-12-28    Violations were cited in the following area(s).   \n",
       "400838      2018-04-11    Violations were cited in the following area(s).   \n",
       "\n",
       "        ... RECORD DATE                                INSPECTION TYPE  \\\n",
       "32      ...  2020-04-01               Cycle Inspection / Re-inspection   \n",
       "36      ...  2020-04-01          Cycle Inspection / Initial Inspection   \n",
       "50      ...  2020-04-01               Cycle Inspection / Re-inspection   \n",
       "61      ...  2020-04-01          Cycle Inspection / Initial Inspection   \n",
       "64      ...  2020-04-01  Pre-permit (Operational) / Initial Inspection   \n",
       "...     ...         ...                                            ...   \n",
       "400773  ...  2020-04-01  Pre-permit (Operational) / Initial Inspection   \n",
       "400788  ...  2020-04-01          Cycle Inspection / Initial Inspection   \n",
       "400801  ...  2020-04-01  Pre-permit (Operational) / Initial Inspection   \n",
       "400823  ...  2020-04-01          Cycle Inspection / Initial Inspection   \n",
       "400838  ...  2020-04-01  Pre-permit (Operational) / Initial Inspection   \n",
       "\n",
       "               Latitude         Longitude Community Board Council District  \\\n",
       "32      40.774505300857  -73.979875019758             107               06   \n",
       "36      40.744979132961  -73.975740952272             106               02   \n",
       "50      40.784901898592  -73.977055226234             107               06   \n",
       "61       40.63174000513   -74.07610102381             501               49   \n",
       "64      40.758501995257  -73.833241808988             407               20   \n",
       "...                 ...               ...             ...              ...   \n",
       "400773  40.631722519635  -73.946329755182             314               45   \n",
       "400788  40.628048208892  -73.942636498229             318               45   \n",
       "400801  40.712805679023  -73.783170111335             408               24   \n",
       "400823  40.748964940826  -73.863033840867             404               21   \n",
       "400838  40.719103513002   -73.98886365769             103               01   \n",
       "\n",
       "       Census Tract      BIN         BBL   NTA  \n",
       "32           015300  1028259  1011200160  MN14  \n",
       "36           007800  1020155  1009150029  MN20  \n",
       "50           016700  1032686  1012290035  MN12  \n",
       "61           002100  5111979  5005070005  SI37  \n",
       "64           087100  4112276  4049730016  QN22  \n",
       "...             ...      ...         ...   ...  \n",
       "400773       078600  3340522  3075590006  BK42  \n",
       "400788       074000  3207312  3075980035  BK58  \n",
       "400801       046600  4212921  4099370042  QN06  \n",
       "400823       040500  4048541  4019740020  QN26  \n",
       "400838       001800  1005320  1004107501  MN27  \n",
       "\n",
       "[29864 rows x 26 columns]"
      ]
     },
     "execution_count": 46,
     "metadata": {},
     "output_type": "execute_result"
    }
   ],
   "source": [
    "has_mice = restaurants[mice] # let's apply this new condition to our original df ('restaurants') and store the result \n",
    "                             # in a new data frame called 'has_mice'\n",
    "\n",
    "has_mice"
   ]
  },
  {
   "cell_type": "markdown",
   "metadata": {},
   "source": [
    "---"
   ]
  },
  {
   "cell_type": "markdown",
   "metadata": {},
   "source": [
    "# Exercise 7: Which restaurants have the most mice complaints? "
   ]
  },
  {
   "cell_type": "code",
   "execution_count": 47,
   "metadata": {},
   "outputs": [],
   "source": [
    "# your code here"
   ]
  },
  {
   "cell_type": "markdown",
   "metadata": {},
   "source": [
    "# Solution 7: "
   ]
  },
  {
   "cell_type": "code",
   "execution_count": 48,
   "metadata": {},
   "outputs": [
    {
     "data": {
      "text/plain": [
       "SUBWAY                                   255\n",
       "DUNKIN'                                  146\n",
       "KENNEDY FRIED CHICKEN                    127\n",
       "CROWN FRIED CHICKEN                      116\n",
       "STARBUCKS                                 85\n",
       "MCDONALD'S                                74\n",
       "POPEYES                                   71\n",
       "GOLDEN KRUST CARIBBEAN BAKERY & GRILL     67\n",
       "BURGER KING                               65\n",
       "DUNKIN', BASKIN ROBBINS                   57\n",
       "KFC                                       40\n",
       "LE PAIN QUOTIDIEN                         38\n",
       "DOMINO'S                                  37\n",
       "LITTLE CAESARS                            33\n",
       "AMC THEATRES                              31\n",
       "CARVEL ICE CREAM                          29\n",
       "VIVI BUBBLE TEA                           22\n",
       "PAPA JOHN'S                               22\n",
       "INSOMNIA COOKIES                          21\n",
       "EMPANADAS MONUMENTAL                      21\n",
       "Name: DBA, dtype: int64"
      ]
     },
     "execution_count": 48,
     "metadata": {},
     "output_type": "execute_result"
    }
   ],
   "source": [
    "has_mice[\"DBA\"].value_counts()[:20] # \"DBA\" represents the name 'Doing Business As\" of the entity'"
   ]
  },
  {
   "cell_type": "markdown",
   "metadata": {},
   "source": [
    "---"
   ]
  },
  {
   "cell_type": "markdown",
   "metadata": {},
   "source": [
    "# Exercise 8: Let's pull up all of Subway's mice complaints"
   ]
  },
  {
   "cell_type": "code",
   "execution_count": 49,
   "metadata": {},
   "outputs": [],
   "source": [
    "# your code here"
   ]
  },
  {
   "cell_type": "markdown",
   "metadata": {},
   "source": [
    "# Solution 8:"
   ]
  },
  {
   "cell_type": "code",
   "execution_count": 50,
   "metadata": {},
   "outputs": [
    {
     "data": {
      "text/html": [
       "<div>\n",
       "<style scoped>\n",
       "    .dataframe tbody tr th:only-of-type {\n",
       "        vertical-align: middle;\n",
       "    }\n",
       "\n",
       "    .dataframe tbody tr th {\n",
       "        vertical-align: top;\n",
       "    }\n",
       "\n",
       "    .dataframe thead th {\n",
       "        text-align: right;\n",
       "    }\n",
       "</style>\n",
       "<table border=\"1\" class=\"dataframe\">\n",
       "  <thead>\n",
       "    <tr style=\"text-align: right;\">\n",
       "      <th></th>\n",
       "      <th>CAMIS</th>\n",
       "      <th>DBA</th>\n",
       "      <th>BORO</th>\n",
       "      <th>BUILDING</th>\n",
       "      <th>STREET</th>\n",
       "      <th>ZIPCODE</th>\n",
       "      <th>PHONE</th>\n",
       "      <th>CUISINE DESCRIPTION</th>\n",
       "      <th>INSPECTION DATE</th>\n",
       "      <th>ACTION</th>\n",
       "      <th>...</th>\n",
       "      <th>RECORD DATE</th>\n",
       "      <th>INSPECTION TYPE</th>\n",
       "      <th>Latitude</th>\n",
       "      <th>Longitude</th>\n",
       "      <th>Community Board</th>\n",
       "      <th>Council District</th>\n",
       "      <th>Census Tract</th>\n",
       "      <th>BIN</th>\n",
       "      <th>BBL</th>\n",
       "      <th>NTA</th>\n",
       "    </tr>\n",
       "  </thead>\n",
       "  <tbody>\n",
       "    <tr>\n",
       "      <td>503</td>\n",
       "      <td>50057220</td>\n",
       "      <td>SUBWAY</td>\n",
       "      <td>Bronx</td>\n",
       "      <td>3422</td>\n",
       "      <td>JEROME AVE</td>\n",
       "      <td>10467</td>\n",
       "      <td>7185766031</td>\n",
       "      <td>Sandwiches</td>\n",
       "      <td>2017-12-07</td>\n",
       "      <td>Violations were cited in the following area(s).</td>\n",
       "      <td>...</td>\n",
       "      <td>2020-04-01</td>\n",
       "      <td>Cycle Inspection / Initial Inspection</td>\n",
       "      <td>40.881363144786</td>\n",
       "      <td>-73.882772852963</td>\n",
       "      <td>207</td>\n",
       "      <td>11</td>\n",
       "      <td>042100</td>\n",
       "      <td>2017769</td>\n",
       "      <td>2033270084</td>\n",
       "      <td>BX43</td>\n",
       "    </tr>\n",
       "    <tr>\n",
       "      <td>1075</td>\n",
       "      <td>41195964</td>\n",
       "      <td>SUBWAY</td>\n",
       "      <td>Staten Island</td>\n",
       "      <td>1145</td>\n",
       "      <td>BAY STREET</td>\n",
       "      <td>10305</td>\n",
       "      <td>7187277779</td>\n",
       "      <td>Sandwiches</td>\n",
       "      <td>2018-02-27</td>\n",
       "      <td>Violations were cited in the following area(s).</td>\n",
       "      <td>...</td>\n",
       "      <td>2020-04-01</td>\n",
       "      <td>Cycle Inspection / Initial Inspection</td>\n",
       "      <td>40.61530441605</td>\n",
       "      <td>-74.067023519598</td>\n",
       "      <td>501</td>\n",
       "      <td>49</td>\n",
       "      <td>000600</td>\n",
       "      <td>5151300</td>\n",
       "      <td>5028270001</td>\n",
       "      <td>SI37</td>\n",
       "    </tr>\n",
       "    <tr>\n",
       "      <td>2324</td>\n",
       "      <td>40881793</td>\n",
       "      <td>SUBWAY</td>\n",
       "      <td>Queens</td>\n",
       "      <td>14604</td>\n",
       "      <td>JAMAICA AVENUE</td>\n",
       "      <td>11435</td>\n",
       "      <td>7182975060</td>\n",
       "      <td>Sandwiches</td>\n",
       "      <td>2017-12-08</td>\n",
       "      <td>Violations were cited in the following area(s).</td>\n",
       "      <td>...</td>\n",
       "      <td>2020-04-01</td>\n",
       "      <td>Cycle Inspection / Initial Inspection</td>\n",
       "      <td>40.701789714098</td>\n",
       "      <td>-73.808733353312</td>\n",
       "      <td>412</td>\n",
       "      <td>24</td>\n",
       "      <td>021200</td>\n",
       "      <td>4213891</td>\n",
       "      <td>4099870007</td>\n",
       "      <td>QN61</td>\n",
       "    </tr>\n",
       "    <tr>\n",
       "      <td>2380</td>\n",
       "      <td>50098683</td>\n",
       "      <td>SUBWAY</td>\n",
       "      <td>Staten Island</td>\n",
       "      <td>1750</td>\n",
       "      <td>HYLAN BLVD</td>\n",
       "      <td>10305</td>\n",
       "      <td>3479343350</td>\n",
       "      <td>Sandwiches/Salads/Mixed Buffet</td>\n",
       "      <td>2019-10-09</td>\n",
       "      <td>Violations were cited in the following area(s).</td>\n",
       "      <td>...</td>\n",
       "      <td>2020-04-01</td>\n",
       "      <td>Pre-permit (Non-operational) / Initial Inspection</td>\n",
       "      <td>40.586274422657</td>\n",
       "      <td>-74.092297147357</td>\n",
       "      <td>502</td>\n",
       "      <td>50</td>\n",
       "      <td>007000</td>\n",
       "      <td>5050074</td>\n",
       "      <td>5033800120</td>\n",
       "      <td>SI36</td>\n",
       "    </tr>\n",
       "    <tr>\n",
       "      <td>3957</td>\n",
       "      <td>50044824</td>\n",
       "      <td>SUBWAY</td>\n",
       "      <td>Bronx</td>\n",
       "      <td>91</td>\n",
       "      <td>E 161ST ST</td>\n",
       "      <td>10451</td>\n",
       "      <td>7185889100</td>\n",
       "      <td>Sandwiches</td>\n",
       "      <td>2019-12-10</td>\n",
       "      <td>Violations were cited in the following area(s).</td>\n",
       "      <td>...</td>\n",
       "      <td>2020-04-01</td>\n",
       "      <td>Cycle Inspection / Re-inspection</td>\n",
       "      <td>40.827412033017</td>\n",
       "      <td>-73.924595739271</td>\n",
       "      <td>204</td>\n",
       "      <td>08</td>\n",
       "      <td>019500</td>\n",
       "      <td>2097166</td>\n",
       "      <td>2024760056</td>\n",
       "      <td>BX63</td>\n",
       "    </tr>\n",
       "    <tr>\n",
       "      <td>...</td>\n",
       "      <td>...</td>\n",
       "      <td>...</td>\n",
       "      <td>...</td>\n",
       "      <td>...</td>\n",
       "      <td>...</td>\n",
       "      <td>...</td>\n",
       "      <td>...</td>\n",
       "      <td>...</td>\n",
       "      <td>...</td>\n",
       "      <td>...</td>\n",
       "      <td>...</td>\n",
       "      <td>...</td>\n",
       "      <td>...</td>\n",
       "      <td>...</td>\n",
       "      <td>...</td>\n",
       "      <td>...</td>\n",
       "      <td>...</td>\n",
       "      <td>...</td>\n",
       "      <td>...</td>\n",
       "      <td>...</td>\n",
       "      <td>...</td>\n",
       "    </tr>\n",
       "    <tr>\n",
       "      <td>391305</td>\n",
       "      <td>50038716</td>\n",
       "      <td>SUBWAY</td>\n",
       "      <td>Manhattan</td>\n",
       "      <td>834</td>\n",
       "      <td>2ND AVE</td>\n",
       "      <td>10017</td>\n",
       "      <td>2123004159</td>\n",
       "      <td>Sandwiches</td>\n",
       "      <td>2017-09-08</td>\n",
       "      <td>Violations were cited in the following area(s).</td>\n",
       "      <td>...</td>\n",
       "      <td>2020-04-01</td>\n",
       "      <td>Cycle Inspection / Initial Inspection</td>\n",
       "      <td>40.751425483547</td>\n",
       "      <td>-73.971024910022</td>\n",
       "      <td>106</td>\n",
       "      <td>04</td>\n",
       "      <td>009000</td>\n",
       "      <td>1038766</td>\n",
       "      <td>1013370104</td>\n",
       "      <td>MN19</td>\n",
       "    </tr>\n",
       "    <tr>\n",
       "      <td>393983</td>\n",
       "      <td>50047631</td>\n",
       "      <td>SUBWAY</td>\n",
       "      <td>Manhattan</td>\n",
       "      <td>111</td>\n",
       "      <td>BROADWAY</td>\n",
       "      <td>10006</td>\n",
       "      <td>2122276323</td>\n",
       "      <td>Sandwiches/Salads/Mixed Buffet</td>\n",
       "      <td>2019-10-21</td>\n",
       "      <td>Violations were cited in the following area(s).</td>\n",
       "      <td>...</td>\n",
       "      <td>2020-04-01</td>\n",
       "      <td>Cycle Inspection / Initial Inspection</td>\n",
       "      <td>40.708478514989</td>\n",
       "      <td>-74.011112918894</td>\n",
       "      <td>101</td>\n",
       "      <td>01</td>\n",
       "      <td>001300</td>\n",
       "      <td>1001029</td>\n",
       "      <td>1000490002</td>\n",
       "      <td>MN25</td>\n",
       "    </tr>\n",
       "    <tr>\n",
       "      <td>394306</td>\n",
       "      <td>41609223</td>\n",
       "      <td>SUBWAY</td>\n",
       "      <td>Bronx</td>\n",
       "      <td>2383</td>\n",
       "      <td>WESTCHESTER AVENUE</td>\n",
       "      <td>10461</td>\n",
       "      <td>3472819510</td>\n",
       "      <td>Sandwiches</td>\n",
       "      <td>2018-12-27</td>\n",
       "      <td>Violations were cited in the following area(s).</td>\n",
       "      <td>...</td>\n",
       "      <td>2020-04-01</td>\n",
       "      <td>Cycle Inspection / Re-inspection</td>\n",
       "      <td>40.836995637833</td>\n",
       "      <td>-73.846437491302</td>\n",
       "      <td>210</td>\n",
       "      <td>18</td>\n",
       "      <td>020200</td>\n",
       "      <td>2041692</td>\n",
       "      <td>2039730001</td>\n",
       "      <td>BX59</td>\n",
       "    </tr>\n",
       "    <tr>\n",
       "      <td>395941</td>\n",
       "      <td>50057220</td>\n",
       "      <td>SUBWAY</td>\n",
       "      <td>Bronx</td>\n",
       "      <td>3422</td>\n",
       "      <td>JEROME AVE</td>\n",
       "      <td>10467</td>\n",
       "      <td>7185766031</td>\n",
       "      <td>Sandwiches</td>\n",
       "      <td>2018-05-29</td>\n",
       "      <td>Violations were cited in the following area(s).</td>\n",
       "      <td>...</td>\n",
       "      <td>2020-04-01</td>\n",
       "      <td>Cycle Inspection / Initial Inspection</td>\n",
       "      <td>40.881363144786</td>\n",
       "      <td>-73.882772852963</td>\n",
       "      <td>207</td>\n",
       "      <td>11</td>\n",
       "      <td>042100</td>\n",
       "      <td>2017769</td>\n",
       "      <td>2033270084</td>\n",
       "      <td>BX43</td>\n",
       "    </tr>\n",
       "    <tr>\n",
       "      <td>395982</td>\n",
       "      <td>50082420</td>\n",
       "      <td>SUBWAY</td>\n",
       "      <td>Queens</td>\n",
       "      <td>1050</td>\n",
       "      <td>JACKSON AVE</td>\n",
       "      <td>11101</td>\n",
       "      <td>7183924004</td>\n",
       "      <td>Sandwiches</td>\n",
       "      <td>2019-09-25</td>\n",
       "      <td>Violations were cited in the following area(s).</td>\n",
       "      <td>...</td>\n",
       "      <td>2020-04-01</td>\n",
       "      <td>Cycle Inspection / Re-inspection</td>\n",
       "      <td>40.742326125351</td>\n",
       "      <td>-73.953013956135</td>\n",
       "      <td>402</td>\n",
       "      <td>26</td>\n",
       "      <td>000700</td>\n",
       "      <td>4537822</td>\n",
       "      <td>4000407501</td>\n",
       "      <td>QN31</td>\n",
       "    </tr>\n",
       "  </tbody>\n",
       "</table>\n",
       "<p>255 rows × 26 columns</p>\n",
       "</div>"
      ],
      "text/plain": [
       "           CAMIS     DBA           BORO BUILDING              STREET ZIPCODE  \\\n",
       "503     50057220  SUBWAY          Bronx     3422          JEROME AVE   10467   \n",
       "1075    41195964  SUBWAY  Staten Island     1145          BAY STREET   10305   \n",
       "2324    40881793  SUBWAY         Queens    14604      JAMAICA AVENUE   11435   \n",
       "2380    50098683  SUBWAY  Staten Island     1750          HYLAN BLVD   10305   \n",
       "3957    50044824  SUBWAY          Bronx       91          E 161ST ST   10451   \n",
       "...          ...     ...            ...      ...                 ...     ...   \n",
       "391305  50038716  SUBWAY      Manhattan      834             2ND AVE   10017   \n",
       "393983  50047631  SUBWAY      Manhattan      111            BROADWAY   10006   \n",
       "394306  41609223  SUBWAY          Bronx     2383  WESTCHESTER AVENUE   10461   \n",
       "395941  50057220  SUBWAY          Bronx     3422          JEROME AVE   10467   \n",
       "395982  50082420  SUBWAY         Queens     1050         JACKSON AVE   11101   \n",
       "\n",
       "             PHONE             CUISINE DESCRIPTION INSPECTION DATE  \\\n",
       "503     7185766031                      Sandwiches      2017-12-07   \n",
       "1075    7187277779                      Sandwiches      2018-02-27   \n",
       "2324    7182975060                      Sandwiches      2017-12-08   \n",
       "2380    3479343350  Sandwiches/Salads/Mixed Buffet      2019-10-09   \n",
       "3957    7185889100                      Sandwiches      2019-12-10   \n",
       "...            ...                             ...             ...   \n",
       "391305  2123004159                      Sandwiches      2017-09-08   \n",
       "393983  2122276323  Sandwiches/Salads/Mixed Buffet      2019-10-21   \n",
       "394306  3472819510                      Sandwiches      2018-12-27   \n",
       "395941  7185766031                      Sandwiches      2018-05-29   \n",
       "395982  7183924004                      Sandwiches      2019-09-25   \n",
       "\n",
       "                                                 ACTION  ... RECORD DATE  \\\n",
       "503     Violations were cited in the following area(s).  ...  2020-04-01   \n",
       "1075    Violations were cited in the following area(s).  ...  2020-04-01   \n",
       "2324    Violations were cited in the following area(s).  ...  2020-04-01   \n",
       "2380    Violations were cited in the following area(s).  ...  2020-04-01   \n",
       "3957    Violations were cited in the following area(s).  ...  2020-04-01   \n",
       "...                                                 ...  ...         ...   \n",
       "391305  Violations were cited in the following area(s).  ...  2020-04-01   \n",
       "393983  Violations were cited in the following area(s).  ...  2020-04-01   \n",
       "394306  Violations were cited in the following area(s).  ...  2020-04-01   \n",
       "395941  Violations were cited in the following area(s).  ...  2020-04-01   \n",
       "395982  Violations were cited in the following area(s).  ...  2020-04-01   \n",
       "\n",
       "                                          INSPECTION TYPE         Latitude  \\\n",
       "503                 Cycle Inspection / Initial Inspection  40.881363144786   \n",
       "1075                Cycle Inspection / Initial Inspection   40.61530441605   \n",
       "2324                Cycle Inspection / Initial Inspection  40.701789714098   \n",
       "2380    Pre-permit (Non-operational) / Initial Inspection  40.586274422657   \n",
       "3957                     Cycle Inspection / Re-inspection  40.827412033017   \n",
       "...                                                   ...              ...   \n",
       "391305              Cycle Inspection / Initial Inspection  40.751425483547   \n",
       "393983              Cycle Inspection / Initial Inspection  40.708478514989   \n",
       "394306                   Cycle Inspection / Re-inspection  40.836995637833   \n",
       "395941              Cycle Inspection / Initial Inspection  40.881363144786   \n",
       "395982                   Cycle Inspection / Re-inspection  40.742326125351   \n",
       "\n",
       "               Longitude Community Board Council District Census Tract  \\\n",
       "503     -73.882772852963             207               11       042100   \n",
       "1075    -74.067023519598             501               49       000600   \n",
       "2324    -73.808733353312             412               24       021200   \n",
       "2380    -74.092297147357             502               50       007000   \n",
       "3957    -73.924595739271             204               08       019500   \n",
       "...                  ...             ...              ...          ...   \n",
       "391305  -73.971024910022             106               04       009000   \n",
       "393983  -74.011112918894             101               01       001300   \n",
       "394306  -73.846437491302             210               18       020200   \n",
       "395941  -73.882772852963             207               11       042100   \n",
       "395982  -73.953013956135             402               26       000700   \n",
       "\n",
       "            BIN         BBL   NTA  \n",
       "503     2017769  2033270084  BX43  \n",
       "1075    5151300  5028270001  SI37  \n",
       "2324    4213891  4099870007  QN61  \n",
       "2380    5050074  5033800120  SI36  \n",
       "3957    2097166  2024760056  BX63  \n",
       "...         ...         ...   ...  \n",
       "391305  1038766  1013370104  MN19  \n",
       "393983  1001029  1000490002  MN25  \n",
       "394306  2041692  2039730001  BX59  \n",
       "395941  2017769  2033270084  BX43  \n",
       "395982  4537822  4000407501  QN31  \n",
       "\n",
       "[255 rows x 26 columns]"
      ]
     },
     "execution_count": 50,
     "metadata": {},
     "output_type": "execute_result"
    }
   ],
   "source": [
    "has_mice.loc[has_mice[\"DBA\"]==\"SUBWAY\"]"
   ]
  },
  {
   "cell_type": "markdown",
   "metadata": {},
   "source": [
    "---"
   ]
  },
  {
   "cell_type": "markdown",
   "metadata": {},
   "source": [
    "# Now let's do some work with Pivot Tables. First, let's count the number of restaurants inspected every day."
   ]
  },
  {
   "cell_type": "code",
   "execution_count": 51,
   "metadata": {},
   "outputs": [],
   "source": [
    "pivot = pd.pivot_table(\n",
    "    data=restaurants,\n",
    "    index = \"INSPECTION DATE\", # specifies rows\n",
    "    values = \"CAMIS\", # specifies content of cells\n",
    "    aggfunc = \"count\" # ask to count how many different CAMIS values we see\n",
    ")"
   ]
  },
  {
   "cell_type": "code",
   "execution_count": 52,
   "metadata": {
    "scrolled": true
   },
   "outputs": [
    {
     "data": {
      "text/html": [
       "<div>\n",
       "<style scoped>\n",
       "    .dataframe tbody tr th:only-of-type {\n",
       "        vertical-align: middle;\n",
       "    }\n",
       "\n",
       "    .dataframe tbody tr th {\n",
       "        vertical-align: top;\n",
       "    }\n",
       "\n",
       "    .dataframe thead th {\n",
       "        text-align: right;\n",
       "    }\n",
       "</style>\n",
       "<table border=\"1\" class=\"dataframe\">\n",
       "  <thead>\n",
       "    <tr style=\"text-align: right;\">\n",
       "      <th></th>\n",
       "      <th>CAMIS</th>\n",
       "    </tr>\n",
       "    <tr>\n",
       "      <th>INSPECTION DATE</th>\n",
       "      <th></th>\n",
       "    </tr>\n",
       "  </thead>\n",
       "  <tbody>\n",
       "    <tr>\n",
       "      <td>1900-01-01</td>\n",
       "      <td>1289</td>\n",
       "    </tr>\n",
       "    <tr>\n",
       "      <td>2013-06-07</td>\n",
       "      <td>1</td>\n",
       "    </tr>\n",
       "    <tr>\n",
       "      <td>2013-10-22</td>\n",
       "      <td>2</td>\n",
       "    </tr>\n",
       "    <tr>\n",
       "      <td>2014-03-06</td>\n",
       "      <td>1</td>\n",
       "    </tr>\n",
       "    <tr>\n",
       "      <td>2014-04-21</td>\n",
       "      <td>2</td>\n",
       "    </tr>\n",
       "    <tr>\n",
       "      <td>...</td>\n",
       "      <td>...</td>\n",
       "    </tr>\n",
       "    <tr>\n",
       "      <td>2020-03-11</td>\n",
       "      <td>632</td>\n",
       "    </tr>\n",
       "    <tr>\n",
       "      <td>2020-03-12</td>\n",
       "      <td>723</td>\n",
       "    </tr>\n",
       "    <tr>\n",
       "      <td>2020-03-13</td>\n",
       "      <td>397</td>\n",
       "    </tr>\n",
       "    <tr>\n",
       "      <td>2020-03-14</td>\n",
       "      <td>81</td>\n",
       "    </tr>\n",
       "    <tr>\n",
       "      <td>2020-03-16</td>\n",
       "      <td>499</td>\n",
       "    </tr>\n",
       "  </tbody>\n",
       "</table>\n",
       "<p>1337 rows × 1 columns</p>\n",
       "</div>"
      ],
      "text/plain": [
       "                 CAMIS\n",
       "INSPECTION DATE       \n",
       "1900-01-01        1289\n",
       "2013-06-07           1\n",
       "2013-10-22           2\n",
       "2014-03-06           1\n",
       "2014-04-21           2\n",
       "...                ...\n",
       "2020-03-11         632\n",
       "2020-03-12         723\n",
       "2020-03-13         397\n",
       "2020-03-14          81\n",
       "2020-03-16         499\n",
       "\n",
       "[1337 rows x 1 columns]"
      ]
     },
     "execution_count": 52,
     "metadata": {},
     "output_type": "execute_result"
    }
   ],
   "source": [
    "pivot"
   ]
  },
  {
   "cell_type": "code",
   "execution_count": 53,
   "metadata": {},
   "outputs": [
    {
     "data": {
      "text/plain": [
       "<matplotlib.axes._subplots.AxesSubplot at 0x1a1ebb1940>"
      ]
     },
     "execution_count": 53,
     "metadata": {},
     "output_type": "execute_result"
    },
    {
     "data": {
      "image/png": "[encoded data removed]",
      "text/plain": [
       "<Figure size 432x288 with 1 Axes>"
      ]
     },
     "metadata": {
      "needs_background": "light"
     },
     "output_type": "display_data"
    }
   ],
   "source": [
    "pivot.plot() "
   ]
  },
  {
   "cell_type": "code",
   "execution_count": 54,
   "metadata": {},
   "outputs": [
    {
     "data": {
      "text/html": [
       "<div>\n",
       "<style scoped>\n",
       "    .dataframe tbody tr th:only-of-type {\n",
       "        vertical-align: middle;\n",
       "    }\n",
       "\n",
       "    .dataframe tbody tr th {\n",
       "        vertical-align: top;\n",
       "    }\n",
       "\n",
       "    .dataframe thead th {\n",
       "        text-align: right;\n",
       "    }\n",
       "</style>\n",
       "<table border=\"1\" class=\"dataframe\">\n",
       "  <thead>\n",
       "    <tr style=\"text-align: right;\">\n",
       "      <th></th>\n",
       "      <th>CAMIS</th>\n",
       "    </tr>\n",
       "    <tr>\n",
       "      <th>INSPECTION DATE</th>\n",
       "      <th></th>\n",
       "    </tr>\n",
       "  </thead>\n",
       "  <tbody>\n",
       "    <tr>\n",
       "      <td>1900-01-01</td>\n",
       "      <td>1289</td>\n",
       "    </tr>\n",
       "    <tr>\n",
       "      <td>2013-06-07</td>\n",
       "      <td>1</td>\n",
       "    </tr>\n",
       "    <tr>\n",
       "      <td>2013-10-22</td>\n",
       "      <td>2</td>\n",
       "    </tr>\n",
       "    <tr>\n",
       "      <td>2014-03-06</td>\n",
       "      <td>1</td>\n",
       "    </tr>\n",
       "    <tr>\n",
       "      <td>2014-04-21</td>\n",
       "      <td>2</td>\n",
       "    </tr>\n",
       "  </tbody>\n",
       "</table>\n",
       "</div>"
      ],
      "text/plain": [
       "                 CAMIS\n",
       "INSPECTION DATE       \n",
       "1900-01-01        1289\n",
       "2013-06-07           1\n",
       "2013-10-22           2\n",
       "2014-03-06           1\n",
       "2014-04-21           2"
      ]
     },
     "execution_count": 54,
     "metadata": {},
     "output_type": "execute_result"
    }
   ],
   "source": [
    "pivot.head()"
   ]
  },
  {
   "cell_type": "markdown",
   "metadata": {},
   "source": [
    "# It looks like that 1900-01-01 value is really throwing us off. Let's get rid of it. "
   ]
  },
  {
   "cell_type": "code",
   "execution_count": 55,
   "metadata": {},
   "outputs": [],
   "source": [
    "pivot.drop(pd.to_datetime('1900-01-01'),axis='index',inplace=True)\n",
    "\n",
    "# we use pd.to_datetime to convert '1900-01-01' string to a datetime data type\n",
    "# we use axis='index' to specify that we mean delete a row with that index value"
   ]
  },
  {
   "cell_type": "code",
   "execution_count": 56,
   "metadata": {},
   "outputs": [
    {
     "data": {
      "text/plain": [
       "<matplotlib.axes._subplots.AxesSubplot at 0x1a1e3eecc0>"
      ]
     },
     "execution_count": 56,
     "metadata": {},
     "output_type": "execute_result"
    },
    {
     "data": {
      "image/png": "[encoded data removed]",
      "text/plain": [
       "<Figure size 720x360 with 1 Axes>"
      ]
     },
     "metadata": {
      "needs_background": "light"
     },
     "output_type": "display_data"
    }
   ],
   "source": [
    "pivot.plot(figsize=(10,5))"
   ]
  },
  {
   "cell_type": "code",
   "execution_count": 57,
   "metadata": {},
   "outputs": [
    {
     "data": {
      "text/plain": [
       "<matplotlib.axes._subplots.AxesSubplot at 0x1a1f484630>"
      ]
     },
     "execution_count": 57,
     "metadata": {},
     "output_type": "execute_result"
    },
    {
     "data": {
      "image/png": "[encoded data removed]",
      "text/plain": [
       "<Figure size 432x288 with 1 Axes>"
      ]
     },
     "metadata": {
      "needs_background": "light"
     },
     "output_type": "display_data"
    }
   ],
   "source": [
    "pivot.tail(30).plot() # let's look at the last 30 days"
   ]
  },
  {
   "cell_type": "code",
   "execution_count": 58,
   "metadata": {},
   "outputs": [
    {
     "data": {
      "text/html": [
       "<div>\n",
       "<style scoped>\n",
       "    .dataframe tbody tr th:only-of-type {\n",
       "        vertical-align: middle;\n",
       "    }\n",
       "\n",
       "    .dataframe tbody tr th {\n",
       "        vertical-align: top;\n",
       "    }\n",
       "\n",
       "    .dataframe thead th {\n",
       "        text-align: right;\n",
       "    }\n",
       "</style>\n",
       "<table border=\"1\" class=\"dataframe\">\n",
       "  <thead>\n",
       "    <tr style=\"text-align: right;\">\n",
       "      <th></th>\n",
       "      <th>CAMIS</th>\n",
       "    </tr>\n",
       "    <tr>\n",
       "      <th>INSPECTION DATE</th>\n",
       "      <th></th>\n",
       "    </tr>\n",
       "  </thead>\n",
       "  <tbody>\n",
       "    <tr>\n",
       "      <td>2020-01-19</td>\n",
       "      <td>586.833333</td>\n",
       "    </tr>\n",
       "    <tr>\n",
       "      <td>2020-01-26</td>\n",
       "      <td>516.600000</td>\n",
       "    </tr>\n",
       "    <tr>\n",
       "      <td>2020-02-02</td>\n",
       "      <td>449.571429</td>\n",
       "    </tr>\n",
       "    <tr>\n",
       "      <td>2020-02-09</td>\n",
       "      <td>487.857143</td>\n",
       "    </tr>\n",
       "    <tr>\n",
       "      <td>2020-02-16</td>\n",
       "      <td>554.166667</td>\n",
       "    </tr>\n",
       "    <tr>\n",
       "      <td>2020-02-23</td>\n",
       "      <td>550.000000</td>\n",
       "    </tr>\n",
       "    <tr>\n",
       "      <td>2020-03-01</td>\n",
       "      <td>516.500000</td>\n",
       "    </tr>\n",
       "    <tr>\n",
       "      <td>2020-03-08</td>\n",
       "      <td>581.333333</td>\n",
       "    </tr>\n",
       "    <tr>\n",
       "      <td>2020-03-15</td>\n",
       "      <td>535.833333</td>\n",
       "    </tr>\n",
       "    <tr>\n",
       "      <td>2020-03-22</td>\n",
       "      <td>499.000000</td>\n",
       "    </tr>\n",
       "  </tbody>\n",
       "</table>\n",
       "</div>"
      ],
      "text/plain": [
       "                      CAMIS\n",
       "INSPECTION DATE            \n",
       "2020-01-19       586.833333\n",
       "2020-01-26       516.600000\n",
       "2020-02-02       449.571429\n",
       "2020-02-09       487.857143\n",
       "2020-02-16       554.166667\n",
       "2020-02-23       550.000000\n",
       "2020-03-01       516.500000\n",
       "2020-03-08       581.333333\n",
       "2020-03-15       535.833333\n",
       "2020-03-22       499.000000"
      ]
     },
     "execution_count": 58,
     "metadata": {},
     "output_type": "execute_result"
    }
   ],
   "source": [
    "pivot.resample('1W').mean().tail(10) # use resample command to change frequency from one to 7 days, then compute the \n",
    "                                     # mean for these days (aka, the sum of total inspections)\n"
   ]
  },
  {
   "cell_type": "code",
   "execution_count": 59,
   "metadata": {},
   "outputs": [
    {
     "data": {
      "text/plain": [
       "<matplotlib.axes._subplots.AxesSubplot at 0x1a1c6f4550>"
      ]
     },
     "execution_count": 59,
     "metadata": {},
     "output_type": "execute_result"
    },
    {
     "data": {
      "image/png": "[encoded data removed]",
      "text/plain": [
       "<Figure size 432x288 with 1 Axes>"
      ]
     },
     "metadata": {
      "needs_background": "light"
     },
     "output_type": "display_data"
    }
   ],
   "source": [
    "pivot.resample('7D').mean().plot() # plot the number of inspections over 7 days"
   ]
  },
  {
   "cell_type": "markdown",
   "metadata": {},
   "source": [
    "---"
   ]
  },
  {
   "cell_type": "markdown",
   "metadata": {},
   "source": [
    "# Exercise 9: Plot the total number of inspections over 1 month"
   ]
  },
  {
   "cell_type": "code",
   "execution_count": 60,
   "metadata": {},
   "outputs": [],
   "source": [
    "# your code here"
   ]
  },
  {
   "cell_type": "markdown",
   "metadata": {},
   "source": [
    "# Solution 9: "
   ]
  },
  {
   "cell_type": "code",
   "execution_count": 61,
   "metadata": {},
   "outputs": [
    {
     "data": {
      "text/plain": [
       "<matplotlib.axes._subplots.AxesSubplot at 0x1a1f5b8400>"
      ]
     },
     "execution_count": 61,
     "metadata": {},
     "output_type": "execute_result"
    },
    {
     "data": {
      "image/png": "[encoded data removed]",
      "text/plain": [
       "<Figure size 432x288 with 1 Axes>"
      ]
     },
     "metadata": {
      "needs_background": "light"
     },
     "output_type": "display_data"
    }
   ],
   "source": [
    "pivot.resample('1M').sum().plot()"
   ]
  },
  {
   "cell_type": "markdown",
   "metadata": {},
   "source": [
    "---"
   ]
  },
  {
   "cell_type": "markdown",
   "metadata": {},
   "source": [
    "# We can also add some basic titles to our plot."
   ]
  },
  {
   "cell_type": "code",
   "execution_count": 62,
   "metadata": {},
   "outputs": [
    {
     "data": {
      "text/plain": [
       "Text(0.5, 1.0, 'Analysis of Number of Inspections over Time')"
      ]
     },
     "execution_count": 62,
     "metadata": {},
     "output_type": "execute_result"
    },
    {
     "data": {
      "image/png": "[encoded data removed]",
      "text/plain": [
       "<Figure size 432x288 with 1 Axes>"
      ]
     },
     "metadata": {
      "needs_background": "light"
     },
     "output_type": "display_data"
    }
   ],
   "source": [
    "plot = pivot.resample('7D').mean().plot()\n",
    "plot.set_xlabel(\"Date of Inspection\")\n",
    "plot.set_ylabel(\"Average Number of Inspections (7-day average)\")\n",
    "plot.set_title(\"Analysis of Number of Inspections over Time\")"
   ]
  },
  {
   "cell_type": "markdown",
   "metadata": {},
   "source": [
    "---"
   ]
  },
  {
   "cell_type": "markdown",
   "metadata": {},
   "source": [
    "# Exercise 10: Create a pivot table where we break down the results by boro"
   ]
  },
  {
   "cell_type": "code",
   "execution_count": 63,
   "metadata": {},
   "outputs": [],
   "source": [
    "# your code here"
   ]
  },
  {
   "cell_type": "markdown",
   "metadata": {},
   "source": [
    "# Solution 10: "
   ]
  },
  {
   "cell_type": "code",
   "execution_count": 64,
   "metadata": {},
   "outputs": [
    {
     "data": {
      "text/html": [
       "<div>\n",
       "<style scoped>\n",
       "    .dataframe tbody tr th:only-of-type {\n",
       "        vertical-align: middle;\n",
       "    }\n",
       "\n",
       "    .dataframe tbody tr th {\n",
       "        vertical-align: top;\n",
       "    }\n",
       "\n",
       "    .dataframe thead th {\n",
       "        text-align: right;\n",
       "    }\n",
       "</style>\n",
       "<table border=\"1\" class=\"dataframe\">\n",
       "  <thead>\n",
       "    <tr style=\"text-align: right;\">\n",
       "      <th>BORO</th>\n",
       "      <th>0</th>\n",
       "      <th>Bronx</th>\n",
       "      <th>Brooklyn</th>\n",
       "      <th>Manhattan</th>\n",
       "      <th>Queens</th>\n",
       "      <th>Staten Island</th>\n",
       "    </tr>\n",
       "    <tr>\n",
       "      <th>INSPECTION DATE</th>\n",
       "      <th></th>\n",
       "      <th></th>\n",
       "      <th></th>\n",
       "      <th></th>\n",
       "      <th></th>\n",
       "      <th></th>\n",
       "    </tr>\n",
       "  </thead>\n",
       "  <tbody>\n",
       "    <tr>\n",
       "      <td>2020-03-05</td>\n",
       "      <td>NaN</td>\n",
       "      <td>15.0</td>\n",
       "      <td>161.0</td>\n",
       "      <td>275.0</td>\n",
       "      <td>223.0</td>\n",
       "      <td>53.0</td>\n",
       "    </tr>\n",
       "    <tr>\n",
       "      <td>2020-03-06</td>\n",
       "      <td>NaN</td>\n",
       "      <td>19.0</td>\n",
       "      <td>40.0</td>\n",
       "      <td>220.0</td>\n",
       "      <td>36.0</td>\n",
       "      <td>NaN</td>\n",
       "    </tr>\n",
       "    <tr>\n",
       "      <td>2020-03-07</td>\n",
       "      <td>NaN</td>\n",
       "      <td>NaN</td>\n",
       "      <td>51.0</td>\n",
       "      <td>43.0</td>\n",
       "      <td>99.0</td>\n",
       "      <td>NaN</td>\n",
       "    </tr>\n",
       "    <tr>\n",
       "      <td>2020-03-09</td>\n",
       "      <td>NaN</td>\n",
       "      <td>60.0</td>\n",
       "      <td>187.0</td>\n",
       "      <td>235.0</td>\n",
       "      <td>134.0</td>\n",
       "      <td>15.0</td>\n",
       "    </tr>\n",
       "    <tr>\n",
       "      <td>2020-03-10</td>\n",
       "      <td>NaN</td>\n",
       "      <td>22.0</td>\n",
       "      <td>285.0</td>\n",
       "      <td>290.0</td>\n",
       "      <td>154.0</td>\n",
       "      <td>NaN</td>\n",
       "    </tr>\n",
       "    <tr>\n",
       "      <td>2020-03-11</td>\n",
       "      <td>NaN</td>\n",
       "      <td>67.0</td>\n",
       "      <td>99.0</td>\n",
       "      <td>267.0</td>\n",
       "      <td>168.0</td>\n",
       "      <td>31.0</td>\n",
       "    </tr>\n",
       "    <tr>\n",
       "      <td>2020-03-12</td>\n",
       "      <td>NaN</td>\n",
       "      <td>41.0</td>\n",
       "      <td>225.0</td>\n",
       "      <td>274.0</td>\n",
       "      <td>166.0</td>\n",
       "      <td>17.0</td>\n",
       "    </tr>\n",
       "    <tr>\n",
       "      <td>2020-03-13</td>\n",
       "      <td>NaN</td>\n",
       "      <td>24.0</td>\n",
       "      <td>139.0</td>\n",
       "      <td>202.0</td>\n",
       "      <td>32.0</td>\n",
       "      <td>NaN</td>\n",
       "    </tr>\n",
       "    <tr>\n",
       "      <td>2020-03-14</td>\n",
       "      <td>NaN</td>\n",
       "      <td>NaN</td>\n",
       "      <td>34.0</td>\n",
       "      <td>18.0</td>\n",
       "      <td>29.0</td>\n",
       "      <td>NaN</td>\n",
       "    </tr>\n",
       "    <tr>\n",
       "      <td>2020-03-16</td>\n",
       "      <td>NaN</td>\n",
       "      <td>63.0</td>\n",
       "      <td>123.0</td>\n",
       "      <td>157.0</td>\n",
       "      <td>156.0</td>\n",
       "      <td>NaN</td>\n",
       "    </tr>\n",
       "  </tbody>\n",
       "</table>\n",
       "</div>"
      ],
      "text/plain": [
       "BORO              0  Bronx  Brooklyn  Manhattan  Queens  Staten Island\n",
       "INSPECTION DATE                                                       \n",
       "2020-03-05      NaN   15.0     161.0      275.0   223.0           53.0\n",
       "2020-03-06      NaN   19.0      40.0      220.0    36.0            NaN\n",
       "2020-03-07      NaN    NaN      51.0       43.0    99.0            NaN\n",
       "2020-03-09      NaN   60.0     187.0      235.0   134.0           15.0\n",
       "2020-03-10      NaN   22.0     285.0      290.0   154.0            NaN\n",
       "2020-03-11      NaN   67.0      99.0      267.0   168.0           31.0\n",
       "2020-03-12      NaN   41.0     225.0      274.0   166.0           17.0\n",
       "2020-03-13      NaN   24.0     139.0      202.0    32.0            NaN\n",
       "2020-03-14      NaN    NaN      34.0       18.0    29.0            NaN\n",
       "2020-03-16      NaN   63.0     123.0      157.0   156.0            NaN"
      ]
     },
     "execution_count": 64,
     "metadata": {},
     "output_type": "execute_result"
    }
   ],
   "source": [
    "boro_pivot = pd.pivot_table(\n",
    "    data = restaurants, #\n",
    "    index = 'INSPECTION DATE', \n",
    "    columns = 'BORO', \n",
    "    values = 'CAMIS', \n",
    "    aggfunc = 'count'\n",
    ")\n",
    "\n",
    "boro_pivot.tail(10)"
   ]
  },
  {
   "cell_type": "markdown",
   "metadata": {},
   "source": [
    "---"
   ]
  },
  {
   "cell_type": "markdown",
   "metadata": {},
   "source": [
    "# Exercise 11: Delete the first row"
   ]
  },
  {
   "cell_type": "code",
   "execution_count": 65,
   "metadata": {},
   "outputs": [],
   "source": [
    "# your code here"
   ]
  },
  {
   "cell_type": "markdown",
   "metadata": {},
   "source": [
    "# Solution 11: "
   ]
  },
  {
   "cell_type": "code",
   "execution_count": 66,
   "metadata": {},
   "outputs": [],
   "source": [
    "boro_pivot = boro_pivot.drop(pd.to_datetime('1900-01-01'),axis='index') # index means we delete row with that index value"
   ]
  },
  {
   "cell_type": "markdown",
   "metadata": {},
   "source": [
    "---"
   ]
  },
  {
   "cell_type": "markdown",
   "metadata": {},
   "source": [
    "# We can also take a moment to get rid of our 'Missing' column."
   ]
  },
  {
   "cell_type": "code",
   "execution_count": 67,
   "metadata": {},
   "outputs": [
    {
     "ename": "KeyError",
     "evalue": "\"['Missing'] not found in axis\"",
     "output_type": "error",
     "traceback": [
      "\u001b[0;31m---------------------------------------------------------------------------\u001b[0m",
      "\u001b[0;31mKeyError\u001b[0m                                  Traceback (most recent call last)",
      "\u001b[0;32m<ipython-input-67-ea22fcfe741a>\u001b[0m in \u001b[0;36m<module>\u001b[0;34m\u001b[0m\n\u001b[0;32m----> 1\u001b[0;31m \u001b[0mboro_pivot\u001b[0m \u001b[0;34m=\u001b[0m \u001b[0mboro_pivot\u001b[0m\u001b[0;34m.\u001b[0m\u001b[0mdrop\u001b[0m\u001b[0;34m(\u001b[0m\u001b[0;34m'Missing'\u001b[0m\u001b[0;34m,\u001b[0m\u001b[0maxis\u001b[0m\u001b[0;34m=\u001b[0m\u001b[0;34m'columns'\u001b[0m\u001b[0;34m)\u001b[0m\u001b[0;34m\u001b[0m\u001b[0;34m\u001b[0m\u001b[0m\n\u001b[0m\u001b[1;32m      2\u001b[0m \u001b[0;34m\u001b[0m\u001b[0m\n\u001b[1;32m      3\u001b[0m \u001b[0mboro_pivot\u001b[0m\u001b[0;34m.\u001b[0m\u001b[0mtail\u001b[0m\u001b[0;34m(\u001b[0m\u001b[0;34m)\u001b[0m\u001b[0;34m\u001b[0m\u001b[0;34m\u001b[0m\u001b[0m\n",
      "\u001b[0;32m~/anaconda3/lib/python3.7/site-packages/pandas/core/frame.py\u001b[0m in \u001b[0;36mdrop\u001b[0;34m(self, labels, axis, index, columns, level, inplace, errors)\u001b[0m\n\u001b[1;32m   4100\u001b[0m             \u001b[0mlevel\u001b[0m\u001b[0;34m=\u001b[0m\u001b[0mlevel\u001b[0m\u001b[0;34m,\u001b[0m\u001b[0;34m\u001b[0m\u001b[0;34m\u001b[0m\u001b[0m\n\u001b[1;32m   4101\u001b[0m             \u001b[0minplace\u001b[0m\u001b[0;34m=\u001b[0m\u001b[0minplace\u001b[0m\u001b[0;34m,\u001b[0m\u001b[0;34m\u001b[0m\u001b[0;34m\u001b[0m\u001b[0m\n\u001b[0;32m-> 4102\u001b[0;31m             \u001b[0merrors\u001b[0m\u001b[0;34m=\u001b[0m\u001b[0merrors\u001b[0m\u001b[0;34m,\u001b[0m\u001b[0;34m\u001b[0m\u001b[0;34m\u001b[0m\u001b[0m\n\u001b[0m\u001b[1;32m   4103\u001b[0m         )\n\u001b[1;32m   4104\u001b[0m \u001b[0;34m\u001b[0m\u001b[0m\n",
      "\u001b[0;32m~/anaconda3/lib/python3.7/site-packages/pandas/core/generic.py\u001b[0m in \u001b[0;36mdrop\u001b[0;34m(self, labels, axis, index, columns, level, inplace, errors)\u001b[0m\n\u001b[1;32m   3912\u001b[0m         \u001b[0;32mfor\u001b[0m \u001b[0maxis\u001b[0m\u001b[0;34m,\u001b[0m \u001b[0mlabels\u001b[0m \u001b[0;32min\u001b[0m \u001b[0maxes\u001b[0m\u001b[0;34m.\u001b[0m\u001b[0mitems\u001b[0m\u001b[0;34m(\u001b[0m\u001b[0;34m)\u001b[0m\u001b[0;34m:\u001b[0m\u001b[0;34m\u001b[0m\u001b[0;34m\u001b[0m\u001b[0m\n\u001b[1;32m   3913\u001b[0m             \u001b[0;32mif\u001b[0m \u001b[0mlabels\u001b[0m \u001b[0;32mis\u001b[0m \u001b[0;32mnot\u001b[0m \u001b[0;32mNone\u001b[0m\u001b[0;34m:\u001b[0m\u001b[0;34m\u001b[0m\u001b[0;34m\u001b[0m\u001b[0m\n\u001b[0;32m-> 3914\u001b[0;31m                 \u001b[0mobj\u001b[0m \u001b[0;34m=\u001b[0m \u001b[0mobj\u001b[0m\u001b[0;34m.\u001b[0m\u001b[0m_drop_axis\u001b[0m\u001b[0;34m(\u001b[0m\u001b[0mlabels\u001b[0m\u001b[0;34m,\u001b[0m \u001b[0maxis\u001b[0m\u001b[0;34m,\u001b[0m \u001b[0mlevel\u001b[0m\u001b[0;34m=\u001b[0m\u001b[0mlevel\u001b[0m\u001b[0;34m,\u001b[0m \u001b[0merrors\u001b[0m\u001b[0;34m=\u001b[0m\u001b[0merrors\u001b[0m\u001b[0;34m)\u001b[0m\u001b[0;34m\u001b[0m\u001b[0;34m\u001b[0m\u001b[0m\n\u001b[0m\u001b[1;32m   3915\u001b[0m \u001b[0;34m\u001b[0m\u001b[0m\n\u001b[1;32m   3916\u001b[0m         \u001b[0;32mif\u001b[0m \u001b[0minplace\u001b[0m\u001b[0;34m:\u001b[0m\u001b[0;34m\u001b[0m\u001b[0;34m\u001b[0m\u001b[0m\n",
      "\u001b[0;32m~/anaconda3/lib/python3.7/site-packages/pandas/core/generic.py\u001b[0m in \u001b[0;36m_drop_axis\u001b[0;34m(self, labels, axis, level, errors)\u001b[0m\n\u001b[1;32m   3944\u001b[0m                 \u001b[0mnew_axis\u001b[0m \u001b[0;34m=\u001b[0m \u001b[0maxis\u001b[0m\u001b[0;34m.\u001b[0m\u001b[0mdrop\u001b[0m\u001b[0;34m(\u001b[0m\u001b[0mlabels\u001b[0m\u001b[0;34m,\u001b[0m \u001b[0mlevel\u001b[0m\u001b[0;34m=\u001b[0m\u001b[0mlevel\u001b[0m\u001b[0;34m,\u001b[0m \u001b[0merrors\u001b[0m\u001b[0;34m=\u001b[0m\u001b[0merrors\u001b[0m\u001b[0;34m)\u001b[0m\u001b[0;34m\u001b[0m\u001b[0;34m\u001b[0m\u001b[0m\n\u001b[1;32m   3945\u001b[0m             \u001b[0;32melse\u001b[0m\u001b[0;34m:\u001b[0m\u001b[0;34m\u001b[0m\u001b[0;34m\u001b[0m\u001b[0m\n\u001b[0;32m-> 3946\u001b[0;31m                 \u001b[0mnew_axis\u001b[0m \u001b[0;34m=\u001b[0m \u001b[0maxis\u001b[0m\u001b[0;34m.\u001b[0m\u001b[0mdrop\u001b[0m\u001b[0;34m(\u001b[0m\u001b[0mlabels\u001b[0m\u001b[0;34m,\u001b[0m \u001b[0merrors\u001b[0m\u001b[0;34m=\u001b[0m\u001b[0merrors\u001b[0m\u001b[0;34m)\u001b[0m\u001b[0;34m\u001b[0m\u001b[0;34m\u001b[0m\u001b[0m\n\u001b[0m\u001b[1;32m   3947\u001b[0m             \u001b[0mresult\u001b[0m \u001b[0;34m=\u001b[0m \u001b[0mself\u001b[0m\u001b[0;34m.\u001b[0m\u001b[0mreindex\u001b[0m\u001b[0;34m(\u001b[0m\u001b[0;34m**\u001b[0m\u001b[0;34m{\u001b[0m\u001b[0maxis_name\u001b[0m\u001b[0;34m:\u001b[0m \u001b[0mnew_axis\u001b[0m\u001b[0;34m}\u001b[0m\u001b[0;34m)\u001b[0m\u001b[0;34m\u001b[0m\u001b[0;34m\u001b[0m\u001b[0m\n\u001b[1;32m   3948\u001b[0m \u001b[0;34m\u001b[0m\u001b[0m\n",
      "\u001b[0;32m~/anaconda3/lib/python3.7/site-packages/pandas/core/indexes/base.py\u001b[0m in \u001b[0;36mdrop\u001b[0;34m(self, labels, errors)\u001b[0m\n\u001b[1;32m   5338\u001b[0m         \u001b[0;32mif\u001b[0m \u001b[0mmask\u001b[0m\u001b[0;34m.\u001b[0m\u001b[0many\u001b[0m\u001b[0;34m(\u001b[0m\u001b[0;34m)\u001b[0m\u001b[0;34m:\u001b[0m\u001b[0;34m\u001b[0m\u001b[0;34m\u001b[0m\u001b[0m\n\u001b[1;32m   5339\u001b[0m             \u001b[0;32mif\u001b[0m \u001b[0merrors\u001b[0m \u001b[0;34m!=\u001b[0m \u001b[0;34m\"ignore\"\u001b[0m\u001b[0;34m:\u001b[0m\u001b[0;34m\u001b[0m\u001b[0;34m\u001b[0m\u001b[0m\n\u001b[0;32m-> 5340\u001b[0;31m                 \u001b[0;32mraise\u001b[0m \u001b[0mKeyError\u001b[0m\u001b[0;34m(\u001b[0m\u001b[0;34m\"{} not found in axis\"\u001b[0m\u001b[0;34m.\u001b[0m\u001b[0mformat\u001b[0m\u001b[0;34m(\u001b[0m\u001b[0mlabels\u001b[0m\u001b[0;34m[\u001b[0m\u001b[0mmask\u001b[0m\u001b[0;34m]\u001b[0m\u001b[0;34m)\u001b[0m\u001b[0;34m)\u001b[0m\u001b[0;34m\u001b[0m\u001b[0;34m\u001b[0m\u001b[0m\n\u001b[0m\u001b[1;32m   5341\u001b[0m             \u001b[0mindexer\u001b[0m \u001b[0;34m=\u001b[0m \u001b[0mindexer\u001b[0m\u001b[0;34m[\u001b[0m\u001b[0;34m~\u001b[0m\u001b[0mmask\u001b[0m\u001b[0;34m]\u001b[0m\u001b[0;34m\u001b[0m\u001b[0;34m\u001b[0m\u001b[0m\n\u001b[1;32m   5342\u001b[0m         \u001b[0;32mreturn\u001b[0m \u001b[0mself\u001b[0m\u001b[0;34m.\u001b[0m\u001b[0mdelete\u001b[0m\u001b[0;34m(\u001b[0m\u001b[0mindexer\u001b[0m\u001b[0;34m)\u001b[0m\u001b[0;34m\u001b[0m\u001b[0;34m\u001b[0m\u001b[0m\n",
      "\u001b[0;31mKeyError\u001b[0m: \"['Missing'] not found in axis\""
     ]
    }
   ],
   "source": [
    "boro_pivot = boro_pivot.drop('Missing',axis='columns')\n",
    "\n",
    "boro_pivot.tail()"
   ]
  },
  {
   "cell_type": "markdown",
   "metadata": {},
   "source": [
    "---"
   ]
  },
  {
   "cell_type": "markdown",
   "metadata": {},
   "source": [
    "---"
   ]
  },
  {
   "cell_type": "markdown",
   "metadata": {},
   "source": [
    "# Let's now take some time to explore Matplotlib"
   ]
  },
  {
   "cell_type": "markdown",
   "metadata": {},
   "source": [
    "---"
   ]
  },
  {
   "cell_type": "markdown",
   "metadata": {},
   "source": [
    "---"
   ]
  },
  {
   "cell_type": "code",
   "execution_count": null,
   "metadata": {},
   "outputs": [],
   "source": [
    "%matplotlib inline \n",
    "# the '%' is an example of a 'magic command' that allows us to make use of matplotlibs interactivity\n",
    "\n",
    "import matplotlib.pyplot as plt\n",
    "import numpy as np"
   ]
  },
  {
   "cell_type": "code",
   "execution_count": null,
   "metadata": {},
   "outputs": [],
   "source": [
    "np.random.normal(size=10)"
   ]
  },
  {
   "cell_type": "code",
   "execution_count": null,
   "metadata": {},
   "outputs": [],
   "source": [
    "t = np.arange(0., 5., 0.1) # every sampled value between 0 and 5, at .2 intervals"
   ]
  },
  {
   "cell_type": "code",
   "execution_count": null,
   "metadata": {},
   "outputs": [],
   "source": [
    "import math \n",
    "\n",
    "plt.plot(t, t, 'r--') # plot t as is with red dashes\n",
    "plt.plot(t, t**2, 'bs') # plot t**2 with blue squares\n",
    "plt.plot(t, t**1.5, 'g^') # plot t**1.5 with green triangles\n",
    "plt.plot(t, 2*np.sin(5*t), 'm-') # plot 2**sin(5*t) with magenta line\n",
    "plt.show()"
   ]
  },
  {
   "cell_type": "markdown",
   "metadata": {},
   "source": [
    "### Note, there are lots of predefined styles available, too\n"
   ]
  },
  {
   "cell_type": "code",
   "execution_count": null,
   "metadata": {},
   "outputs": [],
   "source": [
    "print(plt.style.available)"
   ]
  },
  {
   "cell_type": "code",
   "execution_count": null,
   "metadata": {},
   "outputs": [],
   "source": [
    "xvalues = np.random.normal(size=1000) # an array of 1,000 floats\n",
    "yvalues = np.random.normal(size=1000) # an array of 1,000 floats\n",
    "\n",
    "plt.style.use(u'fivethirtyeight')\n",
    "plt.plot(xvalues, yvalues, 'ro')\n",
    "plt.xlabel(\"Style: fivethirtyeight\")\n",
    "plt.show()"
   ]
  },
  {
   "cell_type": "markdown",
   "metadata": {},
   "source": [
    "## Let's break down all the possibilities with Matplotlib"
   ]
  },
  {
   "cell_type": "code",
   "execution_count": null,
   "metadata": {},
   "outputs": [],
   "source": [
    "fig = plt.figure(figsize=(10,6))\n",
    "\n",
    "# Create the first subfigure\n",
    "sub1 = fig.add_subplot(2,2,1)\n",
    "sub1.set_xlabel('some random numbers')\n",
    "sub1.set_ylabel('more random numbers')\n",
    "sub1.set_title(\"Random scatterplot\")\n",
    "sub1.plot(np.random.randn(1000), np.random.randn(1000), 'r.')\n",
    "\n",
    "# Create the second subfigure\n",
    "sub2 = fig.add_subplot(2,2,2)\n",
    "sub2.hist(np.random.normal(size=500), bins=15)\n",
    "sub2.set_xlabel('sample')\n",
    "sub2.set_ylabel('cumulative sum')\n",
    "sub2.set_title(\"Normal distrubution\")\n",
    "\n",
    "# Create the third subfigure\n",
    "numpoints = 100\n",
    "x = np.linspace(0, 10, num=numpoints)\n",
    "sub3 = fig.add_subplot(2,2,3)\n",
    "sub3.plot(x, np.sin(x) + x + np.random.randn(numpoints), \"r\")\n",
    "sub3.plot(x, np.sin(x) + 0.5 * x + np.random.randn(numpoints), \"g\")\n",
    "sub3.plot(x, np.sin(x) + 2 * x + np.random.randn(numpoints), \"b\")\n",
    "sub3.set_xlabel('x from 0 to 10')\n",
    "sub3.set_ylabel('function value')\n",
    "\n",
    "# Create the fourth subfigure\n",
    "sub4 = fig.add_subplot(2,2,4)\n",
    "x = np.random.randn(10000)\n",
    "y = np.random.randn(10000)\n",
    "sub4.hist2d(x,y,bins=100);\n",
    "sub4.set_xlabel('x axis title')\n",
    "sub4.set_ylabel('y axis title')\n",
    "\n",
    "plt.tight_layout()\n",
    "plt.savefig(\"normalvars.png\", dpi=150)"
   ]
  },
  {
   "cell_type": "markdown",
   "metadata": {},
   "source": [
    "### A bit more on what can be done..."
   ]
  },
  {
   "cell_type": "code",
   "execution_count": null,
   "metadata": {},
   "outputs": [],
   "source": [
    "# We can split multiple series into subplots with a single argument\n",
    "\n",
    "variables = pd.DataFrame({'normal': np.random.normal(size=100), \n",
    "                       'gamma': np.random.gamma(1, size=100), \n",
    "                       'poisson': np.random.poisson(size=100)})\n",
    "\n",
    "variables.cumsum(0).plot(subplots=True,figsize=(10,6))"
   ]
  },
  {
   "cell_type": "code",
   "execution_count": null,
   "metadata": {},
   "outputs": [],
   "source": [
    "# Or, have some series displayed on secondary y-axis\n",
    "\n",
    "variables.cumsum(0).plot(secondary_y='normal')"
   ]
  },
  {
   "cell_type": "code",
   "execution_count": null,
   "metadata": {},
   "outputs": [],
   "source": [
    "fig, axes = plt.subplots(nrows=1, ncols=3, figsize=(12, 4))\n",
    "for i,var in enumerate(['normal','gamma','poisson']):\n",
    "    variables[var].cumsum(0).plot(ax=axes[i], title=var)\n",
    "axes[0].set_ylabel('cumulative sum (normal)')\n",
    "axes[1].set_ylabel('cumulative sum (gamma)')\n",
    "axes[2].set_ylabel('cumulative sum (poisson)')"
   ]
  },
  {
   "cell_type": "markdown",
   "metadata": {},
   "source": [
    "## Let's check out a new data set"
   ]
  },
  {
   "cell_type": "code",
   "execution_count": null,
   "metadata": {},
   "outputs": [],
   "source": [
    "titanic = pd.read_csv('/Users/siegmanA/Desktop/titanic.csv')\n",
    "titanic.head()"
   ]
  },
  {
   "cell_type": "code",
   "execution_count": null,
   "metadata": {},
   "outputs": [],
   "source": [
    "titanic.groupby('Pclass').Survived.sum() # How many survivors are there based on passenger class? "
   ]
  },
  {
   "cell_type": "code",
   "execution_count": null,
   "metadata": {},
   "outputs": [],
   "source": [
    "titanic.groupby('Pclass').Survived.sum().plot(kind='bar')"
   ]
  },
  {
   "cell_type": "code",
   "execution_count": null,
   "metadata": {},
   "outputs": [],
   "source": [
    "titanic.groupby(['Sex','Pclass']).Survived.mean()"
   ]
  },
  {
   "cell_type": "code",
   "execution_count": null,
   "metadata": {},
   "outputs": [],
   "source": [
    "titanic.groupby(['Sex','Pclass']).Survived.mean().plot(kind='barh')"
   ]
  },
  {
   "cell_type": "code",
   "execution_count": null,
   "metadata": {},
   "outputs": [],
   "source": [
    "death_counts = pd.crosstab([titanic.Pclass, titanic.Sex], titanic.Survived.astype(bool))\n",
    "death_counts"
   ]
  },
  {
   "cell_type": "code",
   "execution_count": null,
   "metadata": {},
   "outputs": [],
   "source": [
    "death_counts.plot(kind='bar', stacked=True, color=['red','blue'], grid=True)"
   ]
  },
  {
   "cell_type": "code",
   "execution_count": null,
   "metadata": {},
   "outputs": [],
   "source": [
    "death_counts.div(death_counts.sum(1).astype(float), axis=0).plot(kind='barh', stacked=True, color=['red','blue'])"
   ]
  },
  {
   "cell_type": "markdown",
   "metadata": {},
   "source": [
    "---"
   ]
  },
  {
   "cell_type": "markdown",
   "metadata": {},
   "source": [
    "## Histograms"
   ]
  },
  {
   "cell_type": "markdown",
   "metadata": {},
   "source": [
    "---"
   ]
  },
  {
   "cell_type": "code",
   "execution_count": null,
   "metadata": {},
   "outputs": [],
   "source": [
    "# How were fares distributed aboard the titanic? \n",
    "\n",
    "titanic[\"Fare\"].hist()"
   ]
  },
  {
   "cell_type": "markdown",
   "metadata": {},
   "source": [
    "# Exercise 13: How do we divide our histogram into 30 bins? "
   ]
  },
  {
   "cell_type": "code",
   "execution_count": null,
   "metadata": {},
   "outputs": [],
   "source": [
    "titanic[\"Fare\"].hist(bins=30)"
   ]
  },
  {
   "cell_type": "markdown",
   "metadata": {},
   "source": [
    "---"
   ]
  },
  {
   "cell_type": "markdown",
   "metadata": {},
   "source": [
    "## Density Plots\n",
    "\n",
    "### Rather than purely represent the underlying data, this is an _estimate_ of the underlying true distribution."
   ]
  },
  {
   "cell_type": "markdown",
   "metadata": {},
   "source": [
    "---"
   ]
  },
  {
   "cell_type": "code",
   "execution_count": null,
   "metadata": {},
   "outputs": [],
   "source": [
    "titanic[\"Fare\"].plot(kind='kde', xlim=(0,100), ylim=(0,0.05))"
   ]
  },
  {
   "cell_type": "code",
   "execution_count": null,
   "metadata": {},
   "outputs": [],
   "source": [
    "titanic[\"Fare\"].plot(kind='kde', xlim=(0,600)) # notice what happens when we change our xlim"
   ]
  },
  {
   "cell_type": "markdown",
   "metadata": {},
   "source": [
    "---"
   ]
  },
  {
   "cell_type": "markdown",
   "metadata": {},
   "source": [
    "## Boxplots\n",
    "\n",
    "### Think of a boxplot as viewing the data 'from above'. "
   ]
  },
  {
   "cell_type": "markdown",
   "metadata": {},
   "source": [
    "---"
   ]
  },
  {
   "cell_type": "code",
   "execution_count": null,
   "metadata": {},
   "outputs": [],
   "source": [
    "bp = titanic.boxplot(column='Age', by='Pclass', grid=False, figsize=(8,8))\n",
    "for i in [1,2,3]:\n",
    "    y = titanic.Age[titanic.Pclass==i].dropna()\n",
    "    x = np.random.normal(i, 0.04, size=len(y)) # Add some random \"jitter\" to the x-axis\n",
    "\n",
    "    plt.plot(x, y, 'r.', alpha=0.2)"
   ]
  },
  {
   "cell_type": "markdown",
   "metadata": {},
   "source": [
    "---"
   ]
  },
  {
   "cell_type": "markdown",
   "metadata": {},
   "source": [
    "## Scatterplots"
   ]
  },
  {
   "cell_type": "markdown",
   "metadata": {},
   "source": [
    "---"
   ]
  },
  {
   "cell_type": "code",
   "execution_count": null,
   "metadata": {},
   "outputs": [],
   "source": [
    "fig = titanic.plot(kind=\"scatter\", x='Age', y='Siblings/Spouses Aboard')"
   ]
  },
  {
   "cell_type": "code",
   "execution_count": null,
   "metadata": {},
   "outputs": [],
   "source": [
    "fig = titanic.plot(kind=\"scatter\", x='Age', y='Siblings/Spouses Aboard',xlim=[0,100], ylim=[0,10],figsize=(5,5))"
   ]
  },
  {
   "cell_type": "markdown",
   "metadata": {},
   "source": [
    "### We can even go so far as to assign variables to either the size or symbols of their colors"
   ]
  },
  {
   "cell_type": "code",
   "execution_count": null,
   "metadata": {},
   "outputs": [],
   "source": [
    "fig = titanic.plot(kind='scatter', x='Age', y='Siblings/Spouses Aboard', xlim=[0,100], ylim=[0,10], \n",
    "                    figsize=(5,5), c=titanic['Siblings/Spouses Aboard'], s=60, cmap='hot')"
   ]
  },
  {
   "cell_type": "markdown",
   "metadata": {},
   "source": [
    "---"
   ]
  },
  {
   "cell_type": "markdown",
   "metadata": {},
   "source": [
    "## Hexagonal Bin Plot\n",
    "\n",
    "### This is perfect for when you have a larger number of points to display. It's also useful if your data are too dense to plot each point individually in a scatter plot."
   ]
  },
  {
   "cell_type": "markdown",
   "metadata": {},
   "source": [
    "---"
   ]
  },
  {
   "cell_type": "code",
   "execution_count": null,
   "metadata": {},
   "outputs": [],
   "source": [
    "df = pd.DataFrame( np.random.randn(10000, 2), columns=['a', 'b'])\n",
    "df['b'] = df['b'] + np.arange(10000)"
   ]
  },
  {
   "cell_type": "code",
   "execution_count": null,
   "metadata": {},
   "outputs": [],
   "source": [
    "df.plot(kind='scatter', x='a', y='b', figsize=(6,4), alpha=0.1)"
   ]
  },
  {
   "cell_type": "code",
   "execution_count": null,
   "metadata": {},
   "outputs": [],
   "source": [
    "df.plot(kind='hexbin', x='a', y='b', gridsize=40,figsize=(8,4))"
   ]
  },
  {
   "cell_type": "markdown",
   "metadata": {},
   "source": [
    "----"
   ]
  }
 ],
 "metadata": {
  "kernelspec": {
   "display_name": "Python 3",
   "language": "python",
   "name": "python3"
  },
  "language_info": {
   "codemirror_mode": {
    "name": "ipython",
    "version": 3
   },
   "file_extension": ".py",
   "mimetype": "text/x-python",
   "name": "python",
   "nbconvert_exporter": "python",
   "pygments_lexer": "ipython3",
   "version": "3.7.3"
  }
 },
 "nbformat": 4,
 "nbformat_minor": 2
}
