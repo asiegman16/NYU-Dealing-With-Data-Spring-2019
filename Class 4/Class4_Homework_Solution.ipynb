{
 "cells": [
  {
   "cell_type": "markdown",
   "metadata": {},
   "source": [
    "## To submit this assignment, please solve the following problem. Then, save your notebook with the format [YOUR_NAME_HERE]\\_Class4_Homework and submit via NYU Classes. "
   ]
  },
  {
   "cell_type": "markdown",
   "metadata": {},
   "source": [
    "---"
   ]
  },
  {
   "cell_type": "markdown",
   "metadata": {},
   "source": [
    "### Problem 1 (5 points): \n",
    "\n",
    "Update your shopping list program from last week's homework to use a `while` statement, enabling users to add/remove as many items as they wish to their shopping list.\n",
    "\n",
    "> 3 points: The user must be able to add items to and remove items from the list. The program must display the updated list after each add/remove.\n",
    "\n",
    "> 1 point: the user must be able to tell the program to end\n",
    "\n",
    "> 1 point: the program must prevent program errors from occuring due to bad user input"
   ]
  },
  {
   "cell_type": "code",
   "execution_count": null,
   "metadata": {},
   "outputs": [],
   "source": [
    "shopping_list = [] # create an empty list\n",
    "\n",
    "print(\"Would you like to start shopping? (Yes/No)\") # prompt the user \n",
    "\n",
    "answer = input().lower() # make the user's answer lowercase and store the user's response as \"answer\"\n",
    "\n",
    "if answer == \"yes\": # if the user says yes...\n",
    "    print(\"If you want to add items, please type \\\"Add\\\". \\nIf you want to remove items, please type \\\"Remove\\\". \\nIf you want to check out and view your final list, please type \\\"Check Out\\\"\") # prompt the user again\n",
    "    option = input().lower() # make the user's answer lowercase and store the user's resonse as \"option\"\n",
    "        \n",
    "    while option != 'check out': # as long as the user doesn't want to check out...\n",
    "        if option == 'add': # and the user has asked to 'add' items to their cart...\n",
    "            print(\"\\nFeel free to add any number items to your cart, but please separate each item in your list with a comma (','). \\nIf you want to check out at any time, please type \\\"Check Out\\\".\") # print this prompt\n",
    "            items = input().lower().split(\",\") # then take each item from their comma separated list...\n",
    "            for item in items: # and for each of those items (each 'thing' separated by a comma)\n",
    "                if item not in shopping_list: # as long as that item isn't already in their shopping list...\n",
    "                    shopping_list.append(item) # ...add that item to their shopping list\n",
    "            print(\"\\nYour shopping list now includes: \" + str(shopping_list)) # then print the list so they can see what's in it\n",
    "        \n",
    "        elif option == 'remove': # if the user has asked to 'remove' items from their cart...\n",
    "            print(\"\\nFeel free to remove any number items to your cart, but please separate each item in your list with a comma (','). \\nIf you want to check out at any time, please type \\\"Check Out\\\".\") # print this prompt\n",
    "            items = input().lower().split(\",\") # take each item from their comma separated list...\n",
    "            for item in items: # and for each of those items...\n",
    "                if item in shopping_list: # if that item is in their shopping list...\n",
    "                    shopping_list.remove(item) # ...remove that item\n",
    "            print(\"\\nYour shopping list now includes: \" + str(shopping_list)) # then print the list so they can see what's in it\n",
    "\n",
    "\n",
    "        else:  # if the input is not \"add\", \"remove\",  or \"check out\"...\n",
    "            print(\"\\nWrong Input\") # print \"wrong input\"\n",
    "        \n",
    "        # restart the whole loop\n",
    "    \n",
    "        print(\"If you want to ADD items, please input 'Add'.\\nIf you want to REMOVE items, please input 'Remove'.\\nIf you want to CHECK OUT, please input 'Check Out'\")\n",
    "        option = input().lower()\n",
    "    \n",
    "    # if the user has typed \"check out\"...\n",
    "    \n",
    "    print(\"\\nThank you for shopping with us!\") # print this message\n",
    "    print(\"\\nYour shopping list: \", \", \".join(shopping_list)) # print their final list\n",
    "        \n",
    "else: # if they say \"no\" to the original prompt...\n",
    "    print(\"Look forward to serving you next time!\") # print this message"
   ]
  },
  {
   "cell_type": "markdown",
   "metadata": {},
   "source": [
    "---"
   ]
  },
  {
   "cell_type": "markdown",
   "metadata": {},
   "source": [
    "### Problem 2 (5 points):\n",
    "\n",
    "Create a program that randomly mutates a phrase that a user inputs by add/removing random words.\n",
    "\n",
    "> 2 points: enable a user to input a phrase\n",
    "\n",
    "> 1 point: print 10 variations that add and remove random words to change the phrase - each time the program is run, the variational changes must be different\n",
    "\n",
    "> 1 point: create a user-defined function to create at least one part of the random effect.\n",
    "\n",
    "> 1 point: use the `random` library: https://docs.python.org/3/library/random.html\n",
    "\n",
    "*An example with 2 iterations:*\n",
    "\n",
    "First run\n",
    "\n",
    "`user input` = \"some random phrase\"\n",
    "\n",
    "`first output` = \"some ran in phrase\"\n",
    "\n",
    "`second output` = \"summer in phrase\"\n",
    "\n",
    "Second run\n",
    "\n",
    "`user input` = \"some random phrase\"\n",
    "\n",
    "`first output` = \"some random freeze\"\n",
    "\n",
    "`second output` = \"summer freeze\"\n"
   ]
  },
  {
   "cell_type": "code",
   "execution_count": null,
   "metadata": {},
   "outputs": [],
   "source": [
    "import random # import the random library"
   ]
  },
  {
   "cell_type": "code",
   "execution_count": null,
   "metadata": {},
   "outputs": [],
   "source": [
    "print(\"Please input a random phrase consisting of at least two words below \") # prompt the user\n",
    "\n",
    "user_phrase_list = str(input()).split(' ') # a list of words from the user's input phrase\n",
    "\n",
    "random_words_list = [\"apple\",\"cup\",\"computer\",\"phone\",\"picture\",\"pencil\",\"desk\",\"airplane\",\"book\",\"coffee\"] # create our list of ten random words\n",
    "\n",
    "def random_words(): # begin our function\n",
    "    \n",
    "    user_list_length = len(user_phrase_list) # find the number of words in the user's input phrase\n",
    "    r = random.randint(1,user_list_length) # choose a random integer between 1 and the number of words in the user's input phrase\n",
    "        \n",
    "    # print(r) ; you can run this print statement to confirm you are getting the proper, random integer\n",
    "    \n",
    "    selected_random_words = random.sample(random_words_list,r) # choose r-number of random grouping of our random words to replace user-inputted words\n",
    "    \n",
    "    # print(selected_random_words) ; you can run this print statement to confirm you're getting the proper length list of random words as it relates to a pseudo-random 'r'\n",
    "    \n",
    "    random_indices = random.sample(range(0,r),r)\n",
    "    \n",
    "    # print(random_indices) ; you can run this print statement to confirm you're getting a pseudo-random list of indices that does not exceed the number of indices in the user list\n",
    "    \n",
    "    for i in random_indices: # for each of those random indices... \n",
    "        user_phrase_list[i] = selected_random_words[i] # replace the user-inputted word with the word randomly selected from our list...\n",
    "            \n",
    "    final_list = ' '.join(user_phrase_list)\n",
    "    \n",
    "    print(\"Your new pharse is: \")\n",
    "    print(final_list) \n",
    "        \n",
    "     \n",
    "if __name__ == \"__main__\":\n",
    "    random_words()"
   ]
  },
  {
   "cell_type": "markdown",
   "metadata": {},
   "source": [
    "---"
   ]
  }
 ],
 "metadata": {
  "kernelspec": {
   "display_name": "Python 3",
   "language": "python",
   "name": "python3"
  },
  "language_info": {
   "codemirror_mode": {
    "name": "ipython",
    "version": 3
   },
   "file_extension": ".py",
   "mimetype": "text/x-python",
   "name": "python",
   "nbconvert_exporter": "python",
   "pygments_lexer": "ipython3",
   "version": "3.7.3"
  }
 },
 "nbformat": 4,
 "nbformat_minor": 2
}
